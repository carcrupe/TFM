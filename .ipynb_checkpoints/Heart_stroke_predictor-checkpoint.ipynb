{
 "cells": [
  {
   "cell_type": "markdown",
   "metadata": {},
   "source": [
    "### Project - Predict heart attack based on phisiological and physical parameters of the patient"
   ]
  },
  {
   "cell_type": "markdown",
   "metadata": {},
   "source": [
    "https://www.kaggle.com/sulianova/cardiovascular-disease-dataset"
   ]
  },
  {
   "cell_type": "markdown",
   "metadata": {},
   "source": [
    "### Action plan"
   ]
  },
  {
   "cell_type": "markdown",
   "metadata": {},
   "source": [
    "1. Read, explore and clean all the data sets\n",
    "2. Create BoxPlot for each feature\n",
    "3. Plot main relations between variables to better understand the behaviour of the data.\n",
    "5. Run Machine learning algorithms to train and test. The target is 0 or 1, depending on having or not a stroke.\n",
    "6. Test all ML models and measure the error. Loop for different model parameters to get the optimal ones.\n",
    "7. Return best possible ML model to predict stroke with this data."
   ]
  },
  {
   "cell_type": "code",
   "execution_count": 1,
   "metadata": {},
   "outputs": [],
   "source": [
    "import pandas as pd\n",
    "import numpy as np\n",
    "import matplotlib.pyplot as plt\n",
    "import seaborn as sns\n",
    "from mpl_toolkits import mplot3d\n",
    "from sklearn.metrics import classification_report\n",
    "from sklearn.metrics import confusion_matrix\n",
    "from sklearn.model_selection import cross_val_score\n",
    "from sklearn.model_selection import GridSearchCV\n",
    "from scipy.stats import randint\n",
    "from sklearn.model_selection import RandomizedSearchCV\n",
    "\n",
    "%matplotlib inline"
   ]
  },
  {
   "cell_type": "code",
   "execution_count": 2,
   "metadata": {},
   "outputs": [],
   "source": [
    "import warnings\n",
    "warnings.filterwarnings('ignore')"
   ]
  },
  {
   "cell_type": "markdown",
   "metadata": {},
   "source": [
    "### Dataset analysis and cleaning\n",
    "1. Age | Objective Feature | age | int (days)\n",
    "2. Height | Objective Feature | height | int (cm) |\n",
    "3. Weight | Objective Feature | weight | float (kg) |\n",
    "4. Gender | Objective Feature | gender | categorical code | 1 woman, 2 man\n",
    "5. Systolic blood pressure | Examination Feature | ap_hi | int |\n",
    "6. Diastolic blood pressure | Examination Feature | ap_lo | int |\n",
    "7. Cholesterol | Examination Feature | cholesterol | 1: normal, 2: above normal, 3: well above normal |\n",
    "8. Glucose | Examination Feature | gluc | 1: normal, 2: above normal, 3: well above normal |\n",
    "9. Smoking | Subjective Feature | smoke | binary |\n",
    "10. Alcohol intake | Subjective Feature | alco | binary |\n",
    "11. Physical activity | Subjective Feature | active | binary |\n",
    "12. Presence or absence of cardiovascular disease | Target Variable | cardio | binary |"
   ]
  },
  {
   "cell_type": "code",
   "execution_count": 3,
   "metadata": {},
   "outputs": [
    {
     "data": {
      "text/plain": [
       "910000"
      ]
     },
     "execution_count": 3,
     "metadata": {},
     "output_type": "execute_result"
    }
   ],
   "source": [
    "df_stroke = pd.read_csv('stroke_predictorSet.csv', sep=';')\n",
    "df_stroke.dropna(inplace=True)\n",
    "original_size = df_stroke.size\n",
    "original_size"
   ]
  },
  {
   "cell_type": "code",
   "execution_count": 4,
   "metadata": {},
   "outputs": [],
   "source": [
    "#Set appropiate column names for second dataset, according to the data in df_stroke\n",
    "columns = ['Id','Age', 'Sex', 'Height', 'Weight','SystolicPressure', 'DiastolicPressure', 'Cholesterol', 'Diabetes', 'Smoker', 'Alcoholic',\n",
    "           'ActiveSport','Target']\n",
    "df_stroke.columns=columns\n",
    "\n",
    "#Age was given in days, transform to years and round to closest integer\n",
    "df_stroke['Age']=(df_stroke['Age']/365).astype(int) \n",
    "\n",
    "df_stroke.drop(axis=1, columns=['Id'], inplace=True)"
   ]
  },
  {
   "cell_type": "code",
   "execution_count": 5,
   "metadata": {},
   "outputs": [
    {
     "data": {
      "text/plain": [
       "38496"
      ]
     },
     "execution_count": 5,
     "metadata": {},
     "output_type": "execute_result"
    }
   ],
   "source": [
    "df_stroke[df_stroke.duplicated()==True].size"
   ]
  },
  {
   "cell_type": "code",
   "execution_count": 6,
   "metadata": {},
   "outputs": [
    {
     "data": {
      "text/plain": [
       "801504"
      ]
     },
     "execution_count": 6,
     "metadata": {},
     "output_type": "execute_result"
    }
   ],
   "source": [
    "df_stroke.drop_duplicates(inplace=True) \n",
    "cleaned_size = df_stroke.size\n",
    "cleaned_size"
   ]
  },
  {
   "cell_type": "code",
   "execution_count": 7,
   "metadata": {},
   "outputs": [
    {
     "name": "stdout",
     "output_type": "stream",
     "text": [
      "Number of lost samples after cleaning stroke_predictorSet.csv: 12%\n"
     ]
    },
    {
     "data": {
      "text/html": [
       "<div>\n",
       "<style scoped>\n",
       "    .dataframe tbody tr th:only-of-type {\n",
       "        vertical-align: middle;\n",
       "    }\n",
       "\n",
       "    .dataframe tbody tr th {\n",
       "        vertical-align: top;\n",
       "    }\n",
       "\n",
       "    .dataframe thead th {\n",
       "        text-align: right;\n",
       "    }\n",
       "</style>\n",
       "<table border=\"1\" class=\"dataframe\">\n",
       "  <thead>\n",
       "    <tr style=\"text-align: right;\">\n",
       "      <th></th>\n",
       "      <th>Age</th>\n",
       "      <th>Sex</th>\n",
       "      <th>Height</th>\n",
       "      <th>Weight</th>\n",
       "      <th>SystolicPressure</th>\n",
       "      <th>DiastolicPressure</th>\n",
       "      <th>Cholesterol</th>\n",
       "      <th>Diabetes</th>\n",
       "      <th>Smoker</th>\n",
       "      <th>Alcoholic</th>\n",
       "      <th>ActiveSport</th>\n",
       "      <th>Target</th>\n",
       "    </tr>\n",
       "  </thead>\n",
       "  <tbody>\n",
       "    <tr>\n",
       "      <td>0</td>\n",
       "      <td>50</td>\n",
       "      <td>2</td>\n",
       "      <td>168</td>\n",
       "      <td>62.0</td>\n",
       "      <td>110</td>\n",
       "      <td>80</td>\n",
       "      <td>1</td>\n",
       "      <td>1</td>\n",
       "      <td>0</td>\n",
       "      <td>0</td>\n",
       "      <td>1</td>\n",
       "      <td>0</td>\n",
       "    </tr>\n",
       "    <tr>\n",
       "      <td>1</td>\n",
       "      <td>55</td>\n",
       "      <td>1</td>\n",
       "      <td>156</td>\n",
       "      <td>85.0</td>\n",
       "      <td>140</td>\n",
       "      <td>90</td>\n",
       "      <td>3</td>\n",
       "      <td>1</td>\n",
       "      <td>0</td>\n",
       "      <td>0</td>\n",
       "      <td>1</td>\n",
       "      <td>1</td>\n",
       "    </tr>\n",
       "    <tr>\n",
       "      <td>2</td>\n",
       "      <td>51</td>\n",
       "      <td>1</td>\n",
       "      <td>165</td>\n",
       "      <td>64.0</td>\n",
       "      <td>130</td>\n",
       "      <td>70</td>\n",
       "      <td>3</td>\n",
       "      <td>1</td>\n",
       "      <td>0</td>\n",
       "      <td>0</td>\n",
       "      <td>0</td>\n",
       "      <td>1</td>\n",
       "    </tr>\n",
       "    <tr>\n",
       "      <td>3</td>\n",
       "      <td>48</td>\n",
       "      <td>2</td>\n",
       "      <td>169</td>\n",
       "      <td>82.0</td>\n",
       "      <td>150</td>\n",
       "      <td>100</td>\n",
       "      <td>1</td>\n",
       "      <td>1</td>\n",
       "      <td>0</td>\n",
       "      <td>0</td>\n",
       "      <td>1</td>\n",
       "      <td>1</td>\n",
       "    </tr>\n",
       "    <tr>\n",
       "      <td>4</td>\n",
       "      <td>47</td>\n",
       "      <td>1</td>\n",
       "      <td>156</td>\n",
       "      <td>56.0</td>\n",
       "      <td>100</td>\n",
       "      <td>60</td>\n",
       "      <td>1</td>\n",
       "      <td>1</td>\n",
       "      <td>0</td>\n",
       "      <td>0</td>\n",
       "      <td>0</td>\n",
       "      <td>0</td>\n",
       "    </tr>\n",
       "  </tbody>\n",
       "</table>\n",
       "</div>"
      ],
      "text/plain": [
       "   Age  Sex  Height  Weight  SystolicPressure  DiastolicPressure  Cholesterol  \\\n",
       "0   50    2     168    62.0               110                 80            1   \n",
       "1   55    1     156    85.0               140                 90            3   \n",
       "2   51    1     165    64.0               130                 70            3   \n",
       "3   48    2     169    82.0               150                100            1   \n",
       "4   47    1     156    56.0               100                 60            1   \n",
       "\n",
       "   Diabetes  Smoker  Alcoholic  ActiveSport  Target  \n",
       "0         1       0          0            1       0  \n",
       "1         1       0          0            1       1  \n",
       "2         1       0          0            0       1  \n",
       "3         1       0          0            1       1  \n",
       "4         1       0          0            0       0  "
      ]
     },
     "execution_count": 7,
     "metadata": {},
     "output_type": "execute_result"
    }
   ],
   "source": [
    "\n",
    "#Caterogize diabetes column in only two catergories, 0 means normal and 1 means above normal or patient with diabetes (>100mg/dl blood sugar)\n",
    "#df_stroke['Diabetes'] = pd.cut(df_stroke['Diabetes'], bins=[1,2,4],labels=[0,1], right=False)\n",
    "#df_stroke['Diabetes'].astype(int)\n",
    "\n",
    "print('Number of lost samples after cleaning stroke_predictorSet.csv: {:,.0f}%'.format((1- cleaned_size/original_size)*100))\n",
    "df_stroke.head(5)"
   ]
  },
  {
   "cell_type": "code",
   "execution_count": 8,
   "metadata": {},
   "outputs": [
    {
     "data": {
      "text/plain": [
       "<matplotlib.axes._subplots.AxesSubplot at 0x7f472aa80150>"
      ]
     },
     "execution_count": 8,
     "metadata": {},
     "output_type": "execute_result"
    },
    {
     "data": {
      "image/png": "[encoded data removed]",
      "text/plain": [
       "<Figure size 432x288 with 2 Axes>"
      ]
     },
     "metadata": {
      "needs_background": "light"
     },
     "output_type": "display_data"
    }
   ],
   "source": [
    "sns.heatmap(df_stroke.corr(), cmap='coolwarm', center=0,vmin=-1, vmax=1)"
   ]
  },
  {
   "cell_type": "code",
   "execution_count": 9,
   "metadata": {},
   "outputs": [
    {
     "data": {
      "image/png": "[encoded data removed]",
      "text/plain": [
       "<Figure size 402.375x360 with 1 Axes>"
      ]
     },
     "metadata": {
      "needs_background": "light"
     },
     "output_type": "display_data"
    }
   ],
   "source": [
    "#We see that the target is mainly correlated to Cholesterol, Weigth and Age\n",
    "sns.catplot(kind = 'count', data = df_stroke, x = 'Cholesterol', hue = 'Target');"
   ]
  },
  {
   "cell_type": "code",
   "execution_count": 10,
   "metadata": {},
   "outputs": [
    {
     "data": {
      "text/plain": [
       "<matplotlib.axes._subplots.AxesSubplot at 0x7f472a8aaad0>"
      ]
     },
     "execution_count": 10,
     "metadata": {},
     "output_type": "execute_result"
    },
    {
     "data": {
      "image/png": "[encoded data removed]",
      "text/plain": [
       "<Figure size 432x288 with 1 Axes>"
      ]
     },
     "metadata": {
      "needs_background": "light"
     },
     "output_type": "display_data"
    }
   ],
   "source": [
    "sns.boxplot(x='Target',y='Weight',data=df_stroke)"
   ]
  },
  {
   "cell_type": "code",
   "execution_count": 11,
   "metadata": {},
   "outputs": [
    {
     "data": {
      "image/png": "[encoded data removed]",
      "text/plain": [
       "<Figure size 402.375x360 with 1 Axes>"
      ]
     },
     "metadata": {
      "needs_background": "light"
     },
     "output_type": "display_data"
    }
   ],
   "source": [
    "# Plot the target depending on the Age\n",
    "sns.catplot(kind = 'count', data = df_stroke, x = 'Age', hue = 'Target', order = df_stroke['Age'].sort_values().unique());\n",
    "plt.title('Stroke distribution per Age');\n",
    "\n",
    "#The older, the higher the number of strokes."
   ]
  },
  {
   "cell_type": "markdown",
   "metadata": {},
   "source": [
    "### Machine learning models\n",
    "\n",
    "1. Train each model\n",
    "\n",
    "2. Error Measurements:\n",
    "   2.0 calculate score\n",
    "   2.1 confusion matrix - calculate and plot \n",
    "   2.2 RandomizedSearchCV - tune hyperparameters\n",
    "   2.3 cross validation score\n",
    "   \n",
    "3. Set a dictionary with name of ML models and each error\n",
    "4. After error evaluation, select the best model "
   ]
  },
  {
   "cell_type": "code",
   "execution_count": 12,
   "metadata": {},
   "outputs": [],
   "source": [
    "from sklearn.metrics import mean_squared_error\n",
    "from sklearn.model_selection import train_test_split\n",
    "\n",
    "# Create target object and call it y\n",
    "y = df_stroke['Target']\n",
    "# Create X\n",
    "#features = ['Age', 'Sex', 'SystolicPressure', 'Cholesterol', 'Diabetes']\n",
    "features = ['Age', 'Sex', 'Height', 'Weight','SystolicPressure', 'DiastolicPressure', 'Cholesterol', 'Diabetes', 'Smoker', 'Alcoholic',\n",
    "           'ActiveSport']\n",
    "X = df_stroke[features]\n",
    "\n",
    "# Split into validation and training data\n",
    "train_X, test_X, train_y, test_y = train_test_split(X, y, test_size=0.4, random_state=1)\n",
    "\n",
    "#Create a data frame which will store all the model scores\n",
    "model_score = pd.DataFrame(index = ['Model Score'])"
   ]
  },
  {
   "cell_type": "markdown",
   "metadata": {},
   "source": [
    "**Decision Tree Classifier**"
   ]
  },
  {
   "cell_type": "code",
   "execution_count": 13,
   "metadata": {},
   "outputs": [
    {
     "name": "stdout",
     "output_type": "stream",
     "text": [
      "Validation MSE: 0.381\n"
     ]
    }
   ],
   "source": [
    "from sklearn.tree import DecisionTreeClassifier\n",
    "\n",
    "# Specify Model\n",
    "tree_model = DecisionTreeClassifier(random_state=1)\n",
    "# Fit Model\n",
    "tree_model.fit(train_X, train_y)\n",
    "\n",
    "# Make validation predictions and calculate mean squared error\n",
    "val_predictions = tree_model.predict(test_X)\n",
    "val_mse = mean_squared_error(val_predictions, test_y)\n",
    "print(\"Validation MSE: {:,.3f}\".format(val_mse))\n"
   ]
  },
  {
   "cell_type": "code",
   "execution_count": 14,
   "metadata": {},
   "outputs": [],
   "source": [
    "#We define a function that returns the Mean square error of the decision tree\n",
    "def get_mse_tree(max_leaf_nodes, train_X, test_X, train_y, test_y):\n",
    "    model = DecisionTreeClassifier(max_leaf_nodes=max_leaf_nodes, random_state=0)\n",
    "    model.fit(train_X, train_y)\n",
    "    preds_val = model.predict(test_X)\n",
    "    mse = mean_squared_error(test_y, preds_val)\n",
    "    return(mse)"
   ]
  },
  {
   "cell_type": "code",
   "execution_count": 15,
   "metadata": {
    "scrolled": true
   },
   "outputs": [
    {
     "data": {
      "text/plain": [
       "<matplotlib.collections.PathCollection at 0x7f4725f7a8d0>"
      ]
     },
     "execution_count": 15,
     "metadata": {},
     "output_type": "execute_result"
    },
    {
     "data": {
      "image/png": "[encoded data removed]",
      "text/plain": [
       "<Figure size 432x288 with 1 Axes>"
      ]
     },
     "metadata": {
      "needs_background": "light"
     },
     "output_type": "display_data"
    }
   ],
   "source": [
    "#The error in the first approach is quite high. Let us iterate to find the optimal tree parameters\n",
    "\n",
    "candidate_max_leaf_nodes = [5, 25, 50,75, 100, 500,1000]\n",
    "# Write loop to find the ideal tree size from candidate_max_leaf_nodes\n",
    "mse=[]\n",
    "for x in candidate_max_leaf_nodes:\n",
    "    mse.append(get_mse_tree(x,train_X, test_X, train_y, test_y))\n",
    "\n",
    "# Store the best value of max_leaf_nodes \n",
    "best_tree_size = candidate_max_leaf_nodes[mse.index(min(mse))]\n",
    "\n",
    "#Show the minimum mse highlighted in red\n",
    "minMse = np.min(mse)\n",
    "mask = np.array(mse) == minMse\n",
    "color = np.where(mask, 'red', 'blue')\n",
    "plt.scatter(candidate_max_leaf_nodes,mse, color=color)\n"
   ]
  },
  {
   "cell_type": "code",
   "execution_count": 16,
   "metadata": {},
   "outputs": [
    {
     "name": "stdout",
     "output_type": "stream",
     "text": [
      "Validation MSE: 0.27043 - Best tree size: 50\n"
     ]
    }
   ],
   "source": [
    "#Create tree model with the best max_leaf_nodes\n",
    "improved_tree_model = DecisionTreeClassifier(max_leaf_nodes=best_tree_size, random_state=1)\n",
    "\n",
    "# fit the final model with the whole dataset and calculate error\n",
    "improved_tree_model.fit(train_X, train_y)\n",
    "val_predictions = improved_tree_model.predict(test_X)\n",
    "val_mse = mean_squared_error(val_predictions, test_y)\n",
    "print(\"Validation MSE: {:,.5f} - Best tree size: {:,.0f}\".format(val_mse,best_tree_size))"
   ]
  },
  {
   "cell_type": "code",
   "execution_count": 17,
   "metadata": {},
   "outputs": [
    {
     "data": {
      "text/plain": [
       "0.7295729310925628"
      ]
     },
     "execution_count": 17,
     "metadata": {},
     "output_type": "execute_result"
    }
   ],
   "source": [
    "#Print the score for the model with an improved leaf nodes size\n",
    "improved_tree_model.score(test_X,test_y)"
   ]
  },
  {
   "cell_type": "code",
   "execution_count": 18,
   "metadata": {},
   "outputs": [
    {
     "name": "stdout",
     "output_type": "stream",
     "text": [
      "Tuned Decision Tree Parameters: {'criterion': 'gini', 'max_depth': None, 'max_features': 7, 'max_leaf_nodes': 51, 'min_samples_leaf': 5}\n",
      "Best score is 0.7278602620087337\n"
     ]
    }
   ],
   "source": [
    "#Let us use Randomized Grid search to optimize several hyperparameters\n",
    "\n",
    "# Setup the parameters and distributions to sample from: param_dist\n",
    "param_dist = {\"max_leaf_nodes\" : randint(1,300),\n",
    "              \"max_depth\": [3, None],\n",
    "              \"max_features\": randint(1, 9),\n",
    "              \"min_samples_leaf\": randint(1, 9),\n",
    "              \"criterion\": [\"gini\", \"entropy\"]}\n",
    "\n",
    "# Instantiate the RandomizedSearchCV object: tree_cv\n",
    "tree_cv = RandomizedSearchCV(tree_model, param_dist, cv=5, random_state=1)\n",
    "\n",
    "# Fit it to the data\n",
    "tree_cv.fit(train_X,train_y)\n",
    "\n",
    "# Print the tuned parameters and score\n",
    "print(\"Tuned Decision Tree Parameters: {}\".format(tree_cv.best_params_))\n",
    "print(\"Best score is {}\".format(tree_cv.best_score_))\n"
   ]
  },
  {
   "cell_type": "code",
   "execution_count": 19,
   "metadata": {},
   "outputs": [
    {
     "name": "stdout",
     "output_type": "stream",
     "text": [
      "Validation MSE: 0.27372\n"
     ]
    }
   ],
   "source": [
    "#Create tree model with the best hyperparameters\n",
    "best_tree_model = DecisionTreeClassifier(max_leaf_nodes=51, criterion='gini', max_depth=None, max_features=7,\n",
    "                                         min_samples_leaf=7, random_state=0)\n",
    "\n",
    "# fit the final model with the whole dataset and calculate error\n",
    "best_tree_model.fit(train_X, train_y)\n",
    "val_predictions = best_tree_model.predict(test_X)\n",
    "val_mse = mean_squared_error(val_predictions, test_y)\n",
    "print(\"Validation MSE: {:,.5f}\".format(val_mse))"
   ]
  },
  {
   "cell_type": "code",
   "execution_count": 20,
   "metadata": {},
   "outputs": [
    {
     "name": "stdout",
     "output_type": "stream",
     "text": [
      "[[10118  2828]\n",
      " [ 4485  9286]]\n",
      "              precision    recall  f1-score   support\n",
      "\n",
      "           0       0.69      0.78      0.73     12946\n",
      "           1       0.77      0.67      0.72     13771\n",
      "\n",
      "    accuracy                           0.73     26717\n",
      "   macro avg       0.73      0.73      0.73     26717\n",
      "weighted avg       0.73      0.73      0.73     26717\n",
      "\n"
     ]
    }
   ],
   "source": [
    "print(confusion_matrix(test_y,val_predictions))\n",
    "print(classification_report(test_y,val_predictions))"
   ]
  },
  {
   "cell_type": "code",
   "execution_count": 21,
   "metadata": {},
   "outputs": [
    {
     "data": {
      "text/plain": [
       "array([0.72814371, 0.7255988 , 0.73263473, 0.73199581, 0.72615661,\n",
       "       0.7345411 , 0.72450966, 0.7345411 , 0.72361132, 0.72312069])"
      ]
     },
     "execution_count": 21,
     "metadata": {},
     "output_type": "execute_result"
    }
   ],
   "source": [
    "#Also check the model with cross validation and store the mean of the values as the score of the model\n",
    "cross_val_score(best_tree_model, X, y, cv=10)"
   ]
  },
  {
   "cell_type": "code",
   "execution_count": 22,
   "metadata": {},
   "outputs": [],
   "source": [
    "model_score['DecisionTree'] =  [np.mean(cross_val_score(best_tree_model, test_X, test_y, cv=10))]"
   ]
  },
  {
   "cell_type": "markdown",
   "metadata": {},
   "source": [
    "The result is the same as only tuning the max_leaf_nodes parameter. In this case we see that the number of leaf_nodes was 50, which is very close to the current value 51."
   ]
  },
  {
   "cell_type": "code",
   "execution_count": 23,
   "metadata": {},
   "outputs": [
    {
     "data": {
      "text/html": [
       "<div>\n",
       "<style scoped>\n",
       "    .dataframe tbody tr th:only-of-type {\n",
       "        vertical-align: middle;\n",
       "    }\n",
       "\n",
       "    .dataframe tbody tr th {\n",
       "        vertical-align: top;\n",
       "    }\n",
       "\n",
       "    .dataframe thead th {\n",
       "        text-align: right;\n",
       "    }\n",
       "</style>\n",
       "<table border=\"1\" class=\"dataframe\">\n",
       "  <thead>\n",
       "    <tr style=\"text-align: right;\">\n",
       "      <th></th>\n",
       "      <th>DecisionTree</th>\n",
       "    </tr>\n",
       "  </thead>\n",
       "  <tbody>\n",
       "    <tr>\n",
       "      <td>Model Score</td>\n",
       "      <td>0.726244</td>\n",
       "    </tr>\n",
       "  </tbody>\n",
       "</table>\n",
       "</div>"
      ],
      "text/plain": [
       "             DecisionTree\n",
       "Model Score      0.726244"
      ]
     },
     "execution_count": 23,
     "metadata": {},
     "output_type": "execute_result"
    }
   ],
   "source": [
    "model_score"
   ]
  },
  {
   "cell_type": "markdown",
   "metadata": {},
   "source": [
    "**Random Forest**"
   ]
  },
  {
   "cell_type": "code",
   "execution_count": 24,
   "metadata": {},
   "outputs": [],
   "source": [
    "# Create target object and call it y\n",
    "y = df_stroke['Target']\n",
    "# Create X\n",
    "#features = ['Age', 'Sex', 'SystolicPressure', 'Cholesterol', 'Diabetes']\n",
    "features = ['Age', 'Sex', 'Height', 'Weight','SystolicPressure', 'DiastolicPressure', 'Cholesterol', 'Diabetes', 'Smoker', 'Alcoholic',\n",
    "           'ActiveSport']\n",
    "X = df_stroke[features]"
   ]
  },
  {
   "cell_type": "code",
   "execution_count": 25,
   "metadata": {},
   "outputs": [
    {
     "name": "stdout",
     "output_type": "stream",
     "text": [
      "Validation MSE for Random Forest Model: 0.31511771531234795\n"
     ]
    }
   ],
   "source": [
    "from sklearn.ensemble import RandomForestClassifier\n",
    "\n",
    "# Define the model. Set random_state to 1\n",
    "rf_model = RandomForestClassifier(random_state=1)\n",
    "\n",
    "# fit the model\n",
    "rf_model.fit(train_X,train_y)\n",
    "\n",
    "# Calculate the mean squared error of your Random Forest model on the validation data\n",
    "predict_y=rf_model.predict(test_X)\n",
    "rf_val_mse = mean_squared_error(test_y,predict_y)\n",
    "\n",
    "print(\"Validation MSE for Random Forest Model: {}\".format(rf_val_mse))\n"
   ]
  },
  {
   "cell_type": "code",
   "execution_count": 26,
   "metadata": {},
   "outputs": [],
   "source": [
    "#We define a function that returns the Mean squared error of the Random Forest. We will check for this purpose\n",
    "# two parameters of the Random Forest regressor, the depth and the leaf nodes\n",
    "def get_mse_forest(max_depth, max_leaf_nodes, train_X, test_X, train_y, test_y):\n",
    "    model = RandomForestClassifier(max_depth=max_depth, max_leaf_nodes=max_leaf_nodes, random_state=0)\n",
    "    model.fit(train_X, train_y)\n",
    "    preds_val = model.predict(test_X)\n",
    "    mse = mean_squared_error(test_y, preds_val)\n",
    "    return(mse)"
   ]
  },
  {
   "cell_type": "code",
   "execution_count": 27,
   "metadata": {},
   "outputs": [
    {
     "data": {
      "image/png": "[encoded data removed]",
      "text/plain": [
       "<Figure size 432x288 with 1 Axes>"
      ]
     },
     "metadata": {
      "needs_background": "light"
     },
     "output_type": "display_data"
    }
   ],
   "source": [
    "#Let us iterate to find the optimal forest parameters\n",
    "\n",
    "step_leaf_nodes = 50\n",
    "step_depth = 5\n",
    "candidate_max_leaf_nodes = np.arange(10,(step_leaf_nodes*7)+10,step_leaf_nodes)\n",
    "candidate_max_depth = np.arange(10,(step_depth*7)+10,step_depth)\n",
    "\n",
    "# Write loop to find the ideal forest size from candidate_max_leaf_nodes and max_depth\n",
    "mse=[]\n",
    "depth_points=[]\n",
    "leaf_points=[]\n",
    "min_mse=1\n",
    "for i, x_i  in enumerate(candidate_max_depth):\n",
    "    for j, y_i  in enumerate(candidate_max_leaf_nodes):\n",
    "        depth_points.append(candidate_max_depth[i])\n",
    "        leaf_points.append(candidate_max_leaf_nodes[j])\n",
    "        mse.append(get_mse_forest(x_i, y_i, train_X, test_X, train_y, test_y))\n",
    "        if min(mse) < min_mse:\n",
    "            min_mse = min(mse)\n",
    "            # Store the best value of max_leaf_nodes and tree size\n",
    "            best_depth = candidate_max_depth[i]\n",
    "            best_forest_size = candidate_max_leaf_nodes[j]\n",
    "\n",
    "#Show the minimum mse highlighted in red and plot in 3D the mse corresponding to the leaf nodes and depth fo the Random Forest\n",
    "minmse = np.min(mse)\n",
    "mask = np.array(mse) == minmse\n",
    "color = np.where(mask, 'red', 'blue')\n",
    "fig = plt.figure()\n",
    "ax = plt.axes(projection='3d')\n",
    "ax.scatter3D(depth_points,leaf_points ,mse, color=color);\n",
    "ax.set_title('mse for RandomForest');\n",
    "ax.set_xlabel('Forest depth');\n",
    "ax.set_ylabel('Leaf nodes');\n",
    "#ax.set_zlim(zmin= 0.2, zmax=0.5)"
   ]
  },
  {
   "cell_type": "code",
   "execution_count": 28,
   "metadata": {},
   "outputs": [
    {
     "name": "stdout",
     "output_type": "stream",
     "text": [
      "Validation mse: 0.27043 - Best depth: 15 - Best forest size: 210\n"
     ]
    }
   ],
   "source": [
    "#Create optimal random forest model\n",
    "improved_forest_model = RandomForestClassifier(max_depth=best_depth, max_leaf_nodes=best_forest_size, random_state=0)\n",
    "\n",
    "# fit the final model with the whole dataset and calculate error\n",
    "improved_forest_model.fit(train_X, train_y)\n",
    "val_predictions = improved_forest_model.predict(test_X)\n",
    "val_mse = mean_squared_error(val_predictions, test_y)\n",
    "print(\"Validation mse: {:,.5f} - Best depth: {:,.0f} - Best forest size: {:,.0f}\".format(val_mse, best_depth,best_forest_size))"
   ]
  },
  {
   "cell_type": "code",
   "execution_count": 29,
   "metadata": {},
   "outputs": [
    {
     "name": "stdout",
     "output_type": "stream",
     "text": [
      "Tuned Decision Forest Parameters: {'criterion': 'gini', 'max_depth': 40, 'max_features': 4, 'max_leaf_nodes': 122, 'min_samples_leaf': 1}\n",
      "Best score is 0.7310293200249532\n"
     ]
    }
   ],
   "source": [
    "#Let us use Randomized Grid search to optimize several hyperparameters\n",
    "\n",
    "# Setup the parameters and distributions to sample from: param_dist\n",
    "param_dist = {\"max_leaf_nodes\" : randint(1,300),\n",
    "              \"max_depth\": [3, 40],\n",
    "              \"max_features\": randint(1, 9),\n",
    "              \"min_samples_leaf\": randint(1, 9),\n",
    "              \"criterion\": [\"gini\", \"entropy\"]}\n",
    "\n",
    "# Instantiate the RandomizedSearchCV object: forest_cv\n",
    "forest_cv = RandomizedSearchCV(improved_forest_model, param_dist, cv=5, random_state=1)\n",
    "\n",
    "# Fit it to the data\n",
    "forest_cv.fit(train_X,train_y)\n",
    "\n",
    "# Print the tuned parameters and score\n",
    "print(\"Tuned Decision Forest Parameters: {}\".format(forest_cv.best_params_))\n",
    "print(\"Best score is {}\".format(forest_cv.best_score_))"
   ]
  },
  {
   "cell_type": "code",
   "execution_count": 30,
   "metadata": {},
   "outputs": [
    {
     "name": "stdout",
     "output_type": "stream",
     "text": [
      "Validation MSE: 0.26972\n"
     ]
    }
   ],
   "source": [
    "#Create forest model with the best hyperparameters\n",
    "best_forest_model = RandomForestClassifier(max_leaf_nodes=122, criterion='gini', max_depth=40, max_features=4,\n",
    "                                         min_samples_leaf=1, random_state=0)\n",
    "\n",
    "# fit the final model with the whole dataset and calculate error\n",
    "best_forest_model.fit(train_X, train_y)\n",
    "val_predictions = best_forest_model.predict(test_X)\n",
    "val_mse = mean_squared_error(val_predictions, test_y)\n",
    "print(\"Validation MSE: {:,.5f}\".format(val_mse))"
   ]
  },
  {
   "cell_type": "code",
   "execution_count": 31,
   "metadata": {},
   "outputs": [
    {
     "name": "stdout",
     "output_type": "stream",
     "text": [
      "[[9833 3113]\n",
      " [4093 9678]]\n",
      "              precision    recall  f1-score   support\n",
      "\n",
      "           0       0.71      0.76      0.73     12946\n",
      "           1       0.76      0.70      0.73     13771\n",
      "\n",
      "    accuracy                           0.73     26717\n",
      "   macro avg       0.73      0.73      0.73     26717\n",
      "weighted avg       0.73      0.73      0.73     26717\n",
      "\n"
     ]
    }
   ],
   "source": [
    "print(confusion_matrix(test_y,val_predictions))\n",
    "print(classification_report(test_y,val_predictions))"
   ]
  },
  {
   "cell_type": "code",
   "execution_count": 32,
   "metadata": {},
   "outputs": [
    {
     "data": {
      "text/plain": [
       "array([0.72934132, 0.72919162, 0.73997006, 0.73499027, 0.72855218,\n",
       "       0.73499027, 0.72750412, 0.73858362, 0.72121575, 0.72641509])"
      ]
     },
     "execution_count": 32,
     "metadata": {},
     "output_type": "execute_result"
    }
   ],
   "source": [
    "#Also check the model with cross validation\n",
    "cross_val_score(best_forest_model, X, y, cv=10)"
   ]
  },
  {
   "cell_type": "code",
   "execution_count": 33,
   "metadata": {},
   "outputs": [],
   "source": [
    "model_score['RandomForest'] =  [np.mean(cross_val_score(best_forest_model, test_X, test_y, cv=10))]"
   ]
  },
  {
   "cell_type": "code",
   "execution_count": 34,
   "metadata": {},
   "outputs": [
    {
     "data": {
      "text/html": [
       "<div>\n",
       "<style scoped>\n",
       "    .dataframe tbody tr th:only-of-type {\n",
       "        vertical-align: middle;\n",
       "    }\n",
       "\n",
       "    .dataframe tbody tr th {\n",
       "        vertical-align: top;\n",
       "    }\n",
       "\n",
       "    .dataframe thead th {\n",
       "        text-align: right;\n",
       "    }\n",
       "</style>\n",
       "<table border=\"1\" class=\"dataframe\">\n",
       "  <thead>\n",
       "    <tr style=\"text-align: right;\">\n",
       "      <th></th>\n",
       "      <th>DecisionTree</th>\n",
       "      <th>RandomForest</th>\n",
       "    </tr>\n",
       "  </thead>\n",
       "  <tbody>\n",
       "    <tr>\n",
       "      <td>Model Score</td>\n",
       "      <td>0.726244</td>\n",
       "      <td>0.727253</td>\n",
       "    </tr>\n",
       "  </tbody>\n",
       "</table>\n",
       "</div>"
      ],
      "text/plain": [
       "             DecisionTree  RandomForest\n",
       "Model Score      0.726244      0.727253"
      ]
     },
     "execution_count": 34,
     "metadata": {},
     "output_type": "execute_result"
    }
   ],
   "source": [
    "model_score"
   ]
  },
  {
   "cell_type": "markdown",
   "metadata": {},
   "source": [
    "### Logistic regression"
   ]
  },
  {
   "cell_type": "code",
   "execution_count": 35,
   "metadata": {},
   "outputs": [
    {
     "name": "stdout",
     "output_type": "stream",
     "text": [
      "Validation MSE: 0.28076\n"
     ]
    }
   ],
   "source": [
    "from sklearn.linear_model import LogisticRegression\n",
    "log = LogisticRegression()\n",
    "log.fit(train_X, train_y)\n",
    "\n",
    "# Predicting the Test set results\n",
    "val_predictions = log.predict(test_X)\n",
    "\n",
    "val_mse = mean_squared_error(val_predictions, test_y)\n",
    "print(\"Validation MSE: {:,.5f}\".format(val_mse))"
   ]
  },
  {
   "cell_type": "code",
   "execution_count": 36,
   "metadata": {},
   "outputs": [
    {
     "data": {
      "text/plain": [
       "Text(0.5, 1.0, 'ROC Curve')"
      ]
     },
     "execution_count": 36,
     "metadata": {},
     "output_type": "execute_result"
    },
    {
     "data": {
      "image/png": "[encoded data removed]",
      "text/plain": [
       "<Figure size 432x288 with 1 Axes>"
      ]
     },
     "metadata": {
      "needs_background": "light"
     },
     "output_type": "display_data"
    }
   ],
   "source": [
    "from sklearn.metrics import roc_curve\n",
    "from sklearn.metrics import roc_auc_score\n",
    "\n",
    "# Compute predicted probabilities: y_pred_prob\n",
    "y_pred_prob = log.predict_proba(test_X)[:,1]\n",
    "\n",
    "# Generate ROC curve values: fpr, tpr, thresholds\n",
    "fpr, tpr, thresholds = roc_curve(test_y, y_pred_prob)\n",
    "\n",
    "# Plot ROC curve\n",
    "plt.plot([0, 1], [0, 1], 'k--')\n",
    "plt.plot(fpr, tpr)\n",
    "plt.xlabel('False Positive Rate')\n",
    "plt.ylabel('True Positive Rate')\n",
    "plt.title('ROC Curve')"
   ]
  },
  {
   "cell_type": "code",
   "execution_count": 37,
   "metadata": {},
   "outputs": [
    {
     "data": {
      "text/plain": [
       "0.7818791631780876"
      ]
     },
     "execution_count": 37,
     "metadata": {},
     "output_type": "execute_result"
    }
   ],
   "source": [
    "#We compute the area under the ROC\n",
    "roc_auc_score(test_y, y_pred_prob)"
   ]
  },
  {
   "cell_type": "code",
   "execution_count": 38,
   "metadata": {},
   "outputs": [
    {
     "name": "stdout",
     "output_type": "stream",
     "text": [
      "Tuned Logistic Regression Parameters: {'C': 2275.845926074791}\n",
      "Best score is 0.7217217716781036\n"
     ]
    }
   ],
   "source": [
    "#Let us check the best performance using a grid search\n",
    "# Setup the hyperparameter grid\n",
    "c_space = np.logspace(-5, 8, 15)\n",
    "param_grid = {'C': c_space}\n",
    "\n",
    "# Instantiate the GridSearchCV object: logreg_cv\n",
    "logreg_cv = GridSearchCV(log, param_grid, cv=5)\n",
    "\n",
    "# Fit it to the data\n",
    "logreg_cv.fit(train_X,train_y)\n",
    "\n",
    "# Print the tuned parameters and score\n",
    "print(\"Tuned Logistic Regression Parameters: {}\".format(logreg_cv.best_params_)) \n",
    "print(\"Best score is {}\".format(logreg_cv.best_score_))\n"
   ]
  },
  {
   "cell_type": "code",
   "execution_count": 39,
   "metadata": {},
   "outputs": [
    {
     "name": "stdout",
     "output_type": "stream",
     "text": [
      "Validation MSE: 0.28151\n"
     ]
    }
   ],
   "source": [
    "#Create logistic regression model with the best hyperparameters\n",
    "best_logistic_model = LogisticRegression(C=3.727593720314938, random_state=0)\n",
    "\n",
    "# fit the final model with the whole dataset and calculate error\n",
    "best_logistic_model.fit(train_X, train_y)\n",
    "val_predictions = best_logistic_model.predict(test_X)\n",
    "val_mse = mean_squared_error(val_predictions, test_y)\n",
    "print(\"Validation MSE: {:,.5f}\".format(val_mse))"
   ]
  },
  {
   "cell_type": "code",
   "execution_count": 40,
   "metadata": {},
   "outputs": [
    {
     "name": "stdout",
     "output_type": "stream",
     "text": [
      "[[9607 3339]\n",
      " [4182 9589]]\n",
      "              precision    recall  f1-score   support\n",
      "\n",
      "           0       0.70      0.74      0.72     12946\n",
      "           1       0.74      0.70      0.72     13771\n",
      "\n",
      "    accuracy                           0.72     26717\n",
      "   macro avg       0.72      0.72      0.72     26717\n",
      "weighted avg       0.72      0.72      0.72     26717\n",
      "\n"
     ]
    }
   ],
   "source": [
    "print(confusion_matrix(test_y,val_predictions))\n",
    "print(classification_report(test_y,val_predictions))"
   ]
  },
  {
   "cell_type": "code",
   "execution_count": 41,
   "metadata": {},
   "outputs": [],
   "source": [
    "#Also check the model with cross validation for the best logistic model\n",
    "log_scores = cross_val_score(best_logistic_model, X, y, cv=10)"
   ]
  },
  {
   "cell_type": "code",
   "execution_count": 42,
   "metadata": {},
   "outputs": [],
   "source": [
    "model_score['LogisticRegression'] =  [np.mean(log_scores)]"
   ]
  },
  {
   "cell_type": "code",
   "execution_count": 43,
   "metadata": {},
   "outputs": [
    {
     "data": {
      "text/html": [
       "<div>\n",
       "<style scoped>\n",
       "    .dataframe tbody tr th:only-of-type {\n",
       "        vertical-align: middle;\n",
       "    }\n",
       "\n",
       "    .dataframe tbody tr th {\n",
       "        vertical-align: top;\n",
       "    }\n",
       "\n",
       "    .dataframe thead th {\n",
       "        text-align: right;\n",
       "    }\n",
       "</style>\n",
       "<table border=\"1\" class=\"dataframe\">\n",
       "  <thead>\n",
       "    <tr style=\"text-align: right;\">\n",
       "      <th></th>\n",
       "      <th>DecisionTree</th>\n",
       "      <th>RandomForest</th>\n",
       "      <th>LogisticRegression</th>\n",
       "    </tr>\n",
       "  </thead>\n",
       "  <tbody>\n",
       "    <tr>\n",
       "      <td>Model Score</td>\n",
       "      <td>0.726244</td>\n",
       "      <td>0.727253</td>\n",
       "      <td>0.718095</td>\n",
       "    </tr>\n",
       "  </tbody>\n",
       "</table>\n",
       "</div>"
      ],
      "text/plain": [
       "             DecisionTree  RandomForest  LogisticRegression\n",
       "Model Score      0.726244      0.727253            0.718095"
      ]
     },
     "execution_count": 43,
     "metadata": {},
     "output_type": "execute_result"
    }
   ],
   "source": [
    " model_score"
   ]
  },
  {
   "cell_type": "markdown",
   "metadata": {},
   "source": [
    "### K-Neighbors"
   ]
  },
  {
   "cell_type": "code",
   "execution_count": 44,
   "metadata": {},
   "outputs": [
    {
     "name": "stdout",
     "output_type": "stream",
     "text": [
      "Accuracy with Scaling: 0.6300108545121084\n",
      "Accuracy without Scaling: 0.6622000973163155\n",
      "Validation mse: 0.36999\n"
     ]
    }
   ],
   "source": [
    "from sklearn.neighbors import KNeighborsClassifier\n",
    "from sklearn.preprocessing import StandardScaler\n",
    "from sklearn.pipeline import Pipeline\n",
    "\n",
    "#For this model we are scaling, since for the neighbor model having comparable values should be more accurate\n",
    "\n",
    "# Setup the pipeline steps: steps\n",
    "steps = [('scaler', StandardScaler()),\n",
    "        ('knn', KNeighborsClassifier(n_neighbors=3))]\n",
    "        \n",
    "# Create the pipeline: pipeline\n",
    "pipeline = Pipeline(steps)\n",
    "\n",
    "# Fit the pipeline to the training set: knn_scaled\n",
    "knn_scaled = pipeline.fit(train_X,train_y)\n",
    "\n",
    "# Instantiate and fit a k-NN classifier to the unscaled data\n",
    "knn_unscaled = KNeighborsClassifier(n_neighbors=3)\n",
    "knn_unscaled.fit(train_X, train_y)\n",
    "\n",
    "# Compute and print metrics\n",
    "print('Accuracy with Scaling: {}'.format(knn_scaled.score(test_X,test_y)))\n",
    "print('Accuracy without Scaling: {}'.format(knn_unscaled.score(test_X,test_y)))\n",
    "\n",
    "# Predicting the Test set results\n",
    "val_predictions = knn_scaled.predict(test_X)\n",
    "\n",
    "val_mse = mean_squared_error(val_predictions, test_y)\n",
    "print(\"Validation mse: {:,.5f}\".format(val_mse))"
   ]
  },
  {
   "cell_type": "code",
   "execution_count": 45,
   "metadata": {},
   "outputs": [
    {
     "data": {
      "image/png": "[encoded data removed]",
      "text/plain": [
       "<Figure size 432x288 with 1 Axes>"
      ]
     },
     "metadata": {
      "needs_background": "light"
     },
     "output_type": "display_data"
    }
   ],
   "source": [
    "\n",
    "scaler = StandardScaler()\n",
    "\n",
    "# Create X scaled\n",
    "features = ['Age', 'Sex', 'Height', 'Weight','SystolicPressure', 'DiastolicPressure', 'Cholesterol', 'Diabetes', 'Smoker', 'Alcoholic',\n",
    "           'ActiveSport']\n",
    "\n",
    "X_scaled = scaler.fit_transform(X[features])\n",
    "train_X, test_X, train_y, test_y = train_test_split(X_scaled, y, test_size=0.4, random_state=1)\n",
    "\n",
    "#Let us iterate to find the best number of neighbors for the model and check performance for both training and test sets\n",
    "\n",
    "neighbors = np.arange(2, 7)\n",
    "train_accuracy = []\n",
    "test_accuracy = []\n",
    "\n",
    "# Loop over different values of k\n",
    "for i, k in enumerate(neighbors):\n",
    "    knn = KNeighborsClassifier(n_neighbors=k)\n",
    "    # Fit the classifier to the training data\n",
    "    knn.fit(train_X,train_y)    \n",
    "    #Compute accuracy on the training set\n",
    "    train_accuracy.append(knn.score(train_X, train_y))\n",
    "    #Compute accuracy on the testing set\n",
    "    test_accuracy.append(knn.score(test_X, test_y))\n",
    "\n",
    "# Generate plot\n",
    "plt.title('k-NN: Varying Number of Neighbors');\n",
    "plt.plot(neighbors, test_accuracy, label = 'Testing Accuracy');\n",
    "plt.plot(neighbors, train_accuracy, label = 'Training Accuracy');\n",
    "plt.legend()\n",
    "plt.xlabel('Number of Neighbors');\n",
    "plt.ylabel('Accuracy');\n"
   ]
  },
  {
   "cell_type": "code",
   "execution_count": 51,
   "metadata": {},
   "outputs": [
    {
     "name": "stdout",
     "output_type": "stream",
     "text": [
      "Validation mse: 0.36475 - Best number of neighbors: 5\n"
     ]
    }
   ],
   "source": [
    "#We take the best number of neighbors based on the previous graph. We select a trade off between training and test accuracy\n",
    "best_neighbors = 5\n",
    "\n",
    "#Create optimal random forest model\n",
    "best_neighbor_model = KNeighborsClassifier(n_neighbors=best_neighbors)\n",
    "\n",
    "# fit the final model with the whole dataset and calculate error\n",
    "best_neighbor_model.fit(train_X, train_y)\n",
    "val_predictions = best_neighbor_model.predict(test_X)\n",
    "val_mse = mean_squared_error(val_predictions, test_y)\n",
    "print(\"Validation mse: {:,.5f} - Best number of neighbors: {:,.0f}\".format(val_mse, best_neighbors))"
   ]
  },
  {
   "cell_type": "code",
   "execution_count": 52,
   "metadata": {},
   "outputs": [
    {
     "name": "stdout",
     "output_type": "stream",
     "text": [
      "[[8329 4617]\n",
      " [5128 8643]]\n",
      "              precision    recall  f1-score   support\n",
      "\n",
      "           0       0.62      0.64      0.63     12946\n",
      "           1       0.65      0.63      0.64     13771\n",
      "\n",
      "    accuracy                           0.64     26717\n",
      "   macro avg       0.64      0.64      0.64     26717\n",
      "weighted avg       0.64      0.64      0.64     26717\n",
      "\n"
     ]
    }
   ],
   "source": [
    "print(confusion_matrix(test_y,val_predictions))\n",
    "print(classification_report(test_y,val_predictions))"
   ]
  },
  {
   "cell_type": "code",
   "execution_count": 48,
   "metadata": {},
   "outputs": [],
   "source": [
    "#Also check the model with cross validation\n",
    "score_KNeighbors = cross_val_score(best_neighbor_model, X_scaled, y, cv=10)"
   ]
  },
  {
   "cell_type": "code",
   "execution_count": 49,
   "metadata": {},
   "outputs": [],
   "source": [
    "model_score['K-Neighbors'] =  [np.mean(score_KNeighbors)]"
   ]
  },
  {
   "cell_type": "code",
   "execution_count": 50,
   "metadata": {},
   "outputs": [
    {
     "data": {
      "text/html": [
       "<div>\n",
       "<style scoped>\n",
       "    .dataframe tbody tr th:only-of-type {\n",
       "        vertical-align: middle;\n",
       "    }\n",
       "\n",
       "    .dataframe tbody tr th {\n",
       "        vertical-align: top;\n",
       "    }\n",
       "\n",
       "    .dataframe thead th {\n",
       "        text-align: right;\n",
       "    }\n",
       "</style>\n",
       "<table border=\"1\" class=\"dataframe\">\n",
       "  <thead>\n",
       "    <tr style=\"text-align: right;\">\n",
       "      <th></th>\n",
       "      <th>DecisionTree</th>\n",
       "      <th>RandomForest</th>\n",
       "      <th>LogisticRegression</th>\n",
       "      <th>K-Neighbors</th>\n",
       "    </tr>\n",
       "  </thead>\n",
       "  <tbody>\n",
       "    <tr>\n",
       "      <td>Model Score</td>\n",
       "      <td>0.726244</td>\n",
       "      <td>0.727253</td>\n",
       "      <td>0.718095</td>\n",
       "      <td>0.641754</td>\n",
       "    </tr>\n",
       "  </tbody>\n",
       "</table>\n",
       "</div>"
      ],
      "text/plain": [
       "             DecisionTree  RandomForest  LogisticRegression  K-Neighbors\n",
       "Model Score      0.726244      0.727253            0.718095     0.641754"
      ]
     },
     "execution_count": 50,
     "metadata": {},
     "output_type": "execute_result"
    }
   ],
   "source": [
    "model_score"
   ]
  },
  {
   "cell_type": "markdown",
   "metadata": {},
   "source": [
    "### Support Vector Machine (SVC)"
   ]
  },
  {
   "cell_type": "code",
   "execution_count": 84,
   "metadata": {},
   "outputs": [
    {
     "name": "stdout",
     "output_type": "stream",
     "text": [
      "Validation mse: 0.280\n"
     ]
    }
   ],
   "source": [
    "from sklearn.svm import SVC\n",
    "svc = SVC(kernel = 'rbf')\n",
    "svc.fit(train_X, train_y)\n",
    "\n",
    "# Predicting the Test set results\n",
    "val_predictions = svc.predict(test_X)\n",
    "\n",
    "val_mse = mean_squared_error(val_predictions, test_y)\n",
    "print(\"Validation mse: {:,.3f}\".format(val_mse))\n"
   ]
  },
  {
   "cell_type": "markdown",
   "metadata": {},
   "source": [
    "### Voting ensemble\n",
    "We  combine the models to obtain a more accurate classifier"
   ]
  },
  {
   "cell_type": "code",
   "execution_count": 86,
   "metadata": {},
   "outputs": [
    {
     "data": {
      "text/html": [
       "<div>\n",
       "<style scoped>\n",
       "    .dataframe tbody tr th:only-of-type {\n",
       "        vertical-align: middle;\n",
       "    }\n",
       "\n",
       "    .dataframe tbody tr th {\n",
       "        vertical-align: top;\n",
       "    }\n",
       "\n",
       "    .dataframe thead th {\n",
       "        text-align: right;\n",
       "    }\n",
       "</style>\n",
       "<table border=\"1\" class=\"dataframe\">\n",
       "  <thead>\n",
       "    <tr style=\"text-align: right;\">\n",
       "      <th></th>\n",
       "      <th>DecisionTree</th>\n",
       "      <th>RandomForest</th>\n",
       "      <th>LogisticRegression</th>\n",
       "      <th>K-Neighbors</th>\n",
       "      <th>Ensembled_models</th>\n",
       "      <th>EnsembledModels</th>\n",
       "    </tr>\n",
       "  </thead>\n",
       "  <tbody>\n",
       "    <tr>\n",
       "      <td>Model Score</td>\n",
       "      <td>0.726244</td>\n",
       "      <td>0.727253</td>\n",
       "      <td>0.718095</td>\n",
       "      <td>0.641754</td>\n",
       "      <td>0.729399</td>\n",
       "      <td>0.73121</td>\n",
       "    </tr>\n",
       "  </tbody>\n",
       "</table>\n",
       "</div>"
      ],
      "text/plain": [
       "             DecisionTree  RandomForest  LogisticRegression  K-Neighbors  \\\n",
       "Model Score      0.726244      0.727253            0.718095     0.641754   \n",
       "\n",
       "             Ensembled_models  EnsembledModels  \n",
       "Model Score          0.729399          0.73121  "
      ]
     },
     "execution_count": 86,
     "metadata": {},
     "output_type": "execute_result"
    }
   ],
   "source": [
    "from sklearn.ensemble import VotingClassifier\n",
    "# create the sub models, we select the three that perform better\n",
    "\n",
    "estimators = []\n",
    "estimators.append(('DecisionTree', best_tree_model))\n",
    "estimators.append(('RandomForest', best_forest_model))\n",
    "estimators.append(('LogisticRegression', best_logistic_model))\n",
    "\n",
    "# create the ensemble model\n",
    "ensemble = VotingClassifier(estimators)\n",
    "ensembled_scores = cross_val_score(ensemble, X,y, cv=10)\n",
    "model_score['EnsembledModels'] =  [np.mean(ensembled_scores)]\n",
    "model_score"
   ]
  },
  {
   "cell_type": "code",
   "execution_count": 79,
   "metadata": {},
   "outputs": [],
   "source": [
    "final_scores = pd.DataFrame(model_score).transpose()"
   ]
  },
  {
   "cell_type": "code",
   "execution_count": 80,
   "metadata": {},
   "outputs": [
    {
     "data": {
      "text/html": [
       "<div>\n",
       "<style scoped>\n",
       "    .dataframe tbody tr th:only-of-type {\n",
       "        vertical-align: middle;\n",
       "    }\n",
       "\n",
       "    .dataframe tbody tr th {\n",
       "        vertical-align: top;\n",
       "    }\n",
       "\n",
       "    .dataframe thead th {\n",
       "        text-align: right;\n",
       "    }\n",
       "</style>\n",
       "<table border=\"1\" class=\"dataframe\">\n",
       "  <thead>\n",
       "    <tr style=\"text-align: right;\">\n",
       "      <th></th>\n",
       "      <th>Model Score</th>\n",
       "    </tr>\n",
       "  </thead>\n",
       "  <tbody>\n",
       "    <tr>\n",
       "      <td>Ensembled_models</td>\n",
       "      <td>0.729399</td>\n",
       "    </tr>\n",
       "    <tr>\n",
       "      <td>RandomForest</td>\n",
       "      <td>0.727253</td>\n",
       "    </tr>\n",
       "    <tr>\n",
       "      <td>DecisionTree</td>\n",
       "      <td>0.726244</td>\n",
       "    </tr>\n",
       "    <tr>\n",
       "      <td>LogisticRegression</td>\n",
       "      <td>0.718095</td>\n",
       "    </tr>\n",
       "    <tr>\n",
       "      <td>K-Neighbors</td>\n",
       "      <td>0.641754</td>\n",
       "    </tr>\n",
       "  </tbody>\n",
       "</table>\n",
       "</div>"
      ],
      "text/plain": [
       "                    Model Score\n",
       "Ensembled_models       0.729399\n",
       "RandomForest           0.727253\n",
       "DecisionTree           0.726244\n",
       "LogisticRegression     0.718095\n",
       "K-Neighbors            0.641754"
      ]
     },
     "execution_count": 80,
     "metadata": {},
     "output_type": "execute_result"
    }
   ],
   "source": [
    "final_scores.sort_values(by='Model Score' ,ascending=False, inplace=True)\n",
    "final_scores"
   ]
  },
  {
   "cell_type": "markdown",
   "metadata": {},
   "source": [
    "### Light GBM"
   ]
  },
  {
   "cell_type": "code",
   "execution_count": 108,
   "metadata": {},
   "outputs": [
    {
     "name": "stdout",
     "output_type": "stream",
     "text": [
      "Validation MAE: 0.359\n"
     ]
    }
   ],
   "source": [
    "import lightgbm as lgb\n",
    "\n",
    "d_train = lgb.Dataset(train_X, label = train_y)\n",
    "params = {}\n",
    "\n",
    "clf = lgb.train(params, d_train, 100)\n",
    "#Prediction\n",
    "val_predictions = clf.predict(test_X)\n",
    "\n",
    "val_mse = mean_squared_error(val_predictions, test_y)\n",
    "print(\"Validation mse: {:,.3f}\".format(val_mse))"
   ]
  },
  {
   "cell_type": "markdown",
   "metadata": {},
   "source": [
    "### Naive Bayes"
   ]
  },
  {
   "cell_type": "code",
   "execution_count": 12,
   "metadata": {},
   "outputs": [
    {
     "name": "stdout",
     "output_type": "stream",
     "text": [
      "Validation MAE: 0.463\n"
     ]
    }
   ],
   "source": [
    "\n",
    "from sklearn.naive_bayes import GaussianNB\n",
    "gaussModel = GaussianNB()\n",
    "gaussModel.fit(train_X, train_y)\n",
    "\n",
    "# Predicting the Test set results\n",
    "val_predictions = gaussModel.predict(test_X)\n",
    "\n",
    "val_mse = mean_squared_error(val_predictions, test_y)\n",
    "print(\"Validation mse: {:,.3f}\".format(val_mse))\n"
   ]
  },
  {
   "cell_type": "markdown",
   "metadata": {},
   "source": [
    "### XGBoost model"
   ]
  },
  {
   "cell_type": "code",
   "execution_count": 23,
   "metadata": {},
   "outputs": [],
   "source": [
    "import xgboost as xgb\n",
    "from xgboost import XGBRegressor\n",
    "\n",
    "features = ['Id','Age', 'Sex', 'Height', 'Weight','SystolicPressure', 'DiastolicPressure', 'Cholesterol', 'Smoker', 'Alcoholic',\n",
    "           'ActiveSport']\n",
    "X = df_stroke2[features]\n",
    "\n",
    "# Split into validation and training data\n",
    "train_X, test_X, train_y, test_y = train_test_split(X, y, random_state=1)"
   ]
  },
  {
   "cell_type": "code",
   "execution_count": 26,
   "metadata": {
    "scrolled": true
   },
   "outputs": [
    {
     "name": "stdout",
     "output_type": "stream",
     "text": [
      "[19:59:43] WARNING: src/objective/regression_obj.cu:152: reg:linear is now deprecated in favor of reg:squarederror.\n"
     ]
    },
    {
     "data": {
      "text/plain": [
       "XGBRegressor(base_score=0.5, booster='gbtree', colsample_bylevel=1,\n",
       "             colsample_bynode=1, colsample_bytree=1, gamma=0,\n",
       "             importance_type='gain', learning_rate=0.1, max_delta_step=0,\n",
       "             max_depth=3, min_child_weight=1, missing=None, n_estimators=1000,\n",
       "             n_jobs=1, nthread=None, objective='reg:linear', random_state=0,\n",
       "             reg_alpha=0, reg_lambda=1, scale_pos_weight=1, seed=None,\n",
       "             silent=None, subsample=1, verbosity=1)"
      ]
     },
     "execution_count": 26,
     "metadata": {},
     "output_type": "execute_result"
    }
   ],
   "source": [
    "xgbModel = XGBRegressor(random_state=0, n_estimators=1000, learning_rate=0.1)\n",
    "\n",
    "xgbModel.fit(train_X,train_y)"
   ]
  },
  {
   "cell_type": "code",
   "execution_count": 27,
   "metadata": {},
   "outputs": [
    {
     "name": "stdout",
     "output_type": "stream",
     "text": [
      "Validation MAE: 0.361\n"
     ]
    }
   ],
   "source": [
    "val_predictions = xgbModel.predict(test_X)\n",
    "val_mse = mean_squared_error(val_predictions, test_y)\n",
    "print(\"Validation mse: {:,.3f}\".format(val_mse))"
   ]
  },
  {
   "cell_type": "code",
   "execution_count": null,
   "metadata": {},
   "outputs": [],
   "source": []
  }
 ],
 "metadata": {
  "kernelspec": {
   "display_name": "Python 3",
   "language": "python",
   "name": "python3"
  },
  "language_info": {
   "codemirror_mode": {
    "name": "ipython",
    "version": 3
   },
   "file_extension": ".py",
   "mimetype": "text/x-python",
   "name": "python",
   "nbconvert_exporter": "python",
   "pygments_lexer": "ipython3",
   "version": "3.7.4"
  }
 },
 "nbformat": 4,
 "nbformat_minor": 2
}
