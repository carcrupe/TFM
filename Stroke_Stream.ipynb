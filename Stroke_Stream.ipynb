{
  "nbformat": 4,
  "nbformat_minor": 0,
  "metadata": {
    "colab": {
      "name": "Stroke_Stream.ipynb",
      "provenance": [],
      "toc_visible": true
    },
    "kernelspec": {
      "name": "python3",
      "display_name": "Python 3"
    }
  },
  "cells": [
    {
      "cell_type": "markdown",
      "metadata": {
        "id": "u06l3RwF3Avp",
        "colab_type": "text"
      },
      "source": [
        "# Model in action with Streamlit"
      ]
    },
    {
      "cell_type": "code",
      "metadata": {
        "id": "81RK5Q5S94Hn",
        "colab_type": "code",
        "colab": {
          "base_uri": "https://localhost:8080/",
          "height": 281
        },
        "outputId": "214e6c50-7b5f-46d1-edcd-2aa31b2a28f8"
      },
      "source": [
        "# Get libraries and install them, just in case some of them are missing\n",
        "!wget https://raw.githubusercontent.com/carcrupe/TFM/master/requirements.txt\n",
        "!pip install -r requirements.txt"
      ],
      "execution_count": 1,
      "outputs": [
        {
          "output_type": "stream",
          "text": [
            "      Successfully uninstalled scikit-learn-0.22.2.post1\n",
            "  Found existing installation: xgboost 0.90\n",
            "    Uninstalling xgboost-0.90:\n",
            "      Successfully uninstalled xgboost-0.90\n",
            "Successfully installed base58-2.0.1 blinker-1.4 enum-compat-0.0.3 ipykernel-5.3.4 pandas-1.0.3 pathtools-0.1.2 pydeck-0.4.0 scikit-learn-0.22.1 streamlit-0.61.0 validators-0.17.0 watchdog-0.10.3 xgboost-1.1.0\n"
          ],
          "name": "stdout"
        },
        {
          "output_type": "display_data",
          "data": {
            "application/vnd.colab-display-data+json": {
              "pip_warning": {
                "packages": [
                  "ipykernel",
                  "pandas"
                ]
              }
            }
          },
          "metadata": {
            "tags": []
          }
        }
      ]
    },
    {
      "cell_type": "code",
      "metadata": {
        "id": "2ZQ6vzddtfym",
        "colab_type": "code",
        "colab": {
          "base_uri": "https://localhost:8080/",
          "height": 419
        },
        "outputId": "aa11eeb9-c87b-4de8-d7fa-e87f64b6b8cc"
      },
      "source": [
        "!wget https://raw.githubusercontent.com/carcrupe/TFM/master/stroke_visualization.py\n",
        "!wget https://raw.githubusercontent.com/carcrupe/TFM/master/best.model"
      ],
      "execution_count": 1,
      "outputs": [
        {
          "output_type": "stream",
          "text": [
            "--2020-08-02 16:19:32--  https://raw.githubusercontent.com/carcrupe/TFM/master/stroke_visualization.py\n",
            "Resolving raw.githubusercontent.com (raw.githubusercontent.com)... 151.101.0.133, 151.101.64.133, 151.101.128.133, ...\n",
            "Connecting to raw.githubusercontent.com (raw.githubusercontent.com)|151.101.0.133|:443... connected.\n",
            "HTTP request sent, awaiting response... 200 OK\n",
            "Length: 1783 (1.7K) [text/plain]\n",
            "Saving to: ‘stroke_visualization.py’\n",
            "\n",
            "\rstroke_visualizatio   0%[                    ]       0  --.-KB/s               \rstroke_visualizatio 100%[===================>]   1.74K  --.-KB/s    in 0s      \n",
            "\n",
            "2020-08-02 16:19:33 (29.5 MB/s) - ‘stroke_visualization.py’ saved [1783/1783]\n",
            "\n",
            "--2020-08-02 16:19:34--  https://raw.githubusercontent.com/carcrupe/TFM/master/best.model\n",
            "Resolving raw.githubusercontent.com (raw.githubusercontent.com)... 151.101.0.133, 151.101.64.133, 151.101.128.133, ...\n",
            "Connecting to raw.githubusercontent.com (raw.githubusercontent.com)|151.101.0.133|:443... connected.\n",
            "HTTP request sent, awaiting response... 200 OK\n",
            "Length: 930435 (909K) [application/octet-stream]\n",
            "Saving to: ‘best.model’\n",
            "\n",
            "best.model          100%[===================>] 908.63K  --.-KB/s    in 0.09s   \n",
            "\n",
            "2020-08-02 16:19:34 (9.64 MB/s) - ‘best.model’ saved [930435/930435]\n",
            "\n"
          ],
          "name": "stdout"
        }
      ]
    },
    {
      "cell_type": "code",
      "metadata": {
        "id": "E9q5-ZI7vNJI",
        "colab_type": "code",
        "colab": {
          "base_uri": "https://localhost:8080/",
          "height": 208
        },
        "outputId": "10bc61ee-c15f-4c72-8017-31453c8e6c01"
      },
      "source": [
        "!wget https://bin.equinox.io/c/4VmDzA7iaHb/ngrok-stable-linux-amd64.zip\n",
        "!unzip -qq ngrok-stable-linux-amd64.zip"
      ],
      "execution_count": 2,
      "outputs": [
        {
          "output_type": "stream",
          "text": [
            "--2020-08-02 16:19:37--  https://bin.equinox.io/c/4VmDzA7iaHb/ngrok-stable-linux-amd64.zip\n",
            "Resolving bin.equinox.io (bin.equinox.io)... 3.229.211.71, 3.223.118.45, 54.236.74.205, ...\n",
            "Connecting to bin.equinox.io (bin.equinox.io)|3.229.211.71|:443... connected.\n",
            "HTTP request sent, awaiting response... 200 OK\n",
            "Length: 13773305 (13M) [application/octet-stream]\n",
            "Saving to: ‘ngrok-stable-linux-amd64.zip’\n",
            "\n",
            "\r          ngrok-sta   0%[                    ]       0  --.-KB/s               \rngrok-stable-linux- 100%[===================>]  13.13M  74.8MB/s    in 0.2s    \n",
            "\n",
            "2020-08-02 16:19:38 (74.8 MB/s) - ‘ngrok-stable-linux-amd64.zip’ saved [13773305/13773305]\n",
            "\n"
          ],
          "name": "stdout"
        }
      ]
    },
    {
      "cell_type": "code",
      "metadata": {
        "id": "uuEVLgPVWaDv",
        "colab_type": "code",
        "colab": {
          "base_uri": "https://localhost:8080/",
          "height": 156
        },
        "outputId": "8a22fe55-dcb5-46c9-a475-3f24fb6341e2"
      },
      "source": [
        "#Run this cell to start the server with the classifier. Click on the first link xxx.ngrok.io\n",
        "\n",
        "get_ipython().system_raw('./ngrok http 8501 &')\n",
        "! curl -s http://localhost:4040/api/tunnels | python3 -c \\\n",
        "    \"import sys, json; print(json.load(sys.stdin)['tunnels'][0]['public_url'])\"\n",
        "\n",
        "!streamlit run stroke_visualization.py"
      ],
      "execution_count": 6,
      "outputs": [
        {
          "output_type": "stream",
          "text": [
            "https://454f79d9c56d.ngrok.io\n",
            "\u001b[0m\n",
            "\u001b[34m\u001b[1m  You can now view your Streamlit app in your browser.\u001b[0m\n",
            "\u001b[0m\n",
            "\u001b[34m  Network URL: \u001b[0m\u001b[1mhttp://172.28.0.2:8501\u001b[0m\n",
            "\u001b[34m  External URL: \u001b[0m\u001b[1mhttp://35.243.141.138:8501\u001b[0m\n",
            "\u001b[0m\n",
            "\u001b[34m  Stopping...\u001b[0m\n"
          ],
          "name": "stdout"
        }
      ]
    },
    {
      "cell_type": "code",
      "metadata": {
        "id": "bwctkYcY-N82",
        "colab_type": "code",
        "colab": {}
      },
      "source": [
        ""
      ],
      "execution_count": null,
      "outputs": []
    }
  ]
}