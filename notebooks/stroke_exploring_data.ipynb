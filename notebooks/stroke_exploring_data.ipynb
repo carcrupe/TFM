{
 "cells": [
  {
   "cell_type": "markdown",
   "metadata": {
    "colab_type": "text",
    "id": "l56EKdE3Efd4"
   },
   "source": [
    "### Project - Predict heart attack based on phisiological and physical parameters of the patient"
   ]
  },
  {
   "cell_type": "markdown",
   "metadata": {
    "colab_type": "text",
    "id": "kStETHH0Efd6"
   },
   "source": [
    "https://www.kaggle.com/sulianova/cardiovascular-disease-dataset"
   ]
  },
  {
   "cell_type": "code",
   "execution_count": 1,
   "metadata": {
    "colab": {
     "base_uri": "https://localhost:8080/",
     "height": 228
    },
    "colab_type": "code",
    "id": "8FDOCuZDIygO",
    "outputId": "52c9ed09-5fde-41c4-d826-a9123f821280"
   },
   "outputs": [
    {
     "name": "stdout",
     "output_type": "stream",
     "text": [
      "Will not apply HSTS. The HSTS database must be a regular and non-world-writable file.\n",
      "ERROR: could not open HSTS store at '/home/carcrupe/.wget-hsts'. HSTS will be disabled.\n",
      "--2020-08-11 11:34:08--  https://raw.githubusercontent.com/carcrupe/TFM/master/data/heart_parameters_data.csv\n",
      "Resolving raw.githubusercontent.com (raw.githubusercontent.com)... 151.101.132.133\n",
      "Connecting to raw.githubusercontent.com (raw.githubusercontent.com)|151.101.132.133|:443... connected.\n",
      "HTTP request sent, awaiting response... 200 OK\n",
      "Length: 2941524 (2.8M) [text/plain]\n",
      "Saving to: ‘../data/heart_parameters_data.csv’\n",
      "\n",
      "heart_parameters_da 100%[===================>]   2.80M  16.8MB/s    in 0.2s    \n",
      "\n",
      "Last-modified header missing -- time-stamps turned off.\n",
      "2020-08-11 11:34:09 (16.8 MB/s) - ‘../data/heart_parameters_data.csv’ saved [2941524/2941524]\n",
      "\n"
     ]
    }
   ],
   "source": [
    "!wget -N https://raw.githubusercontent.com/carcrupe/TFM/master/data/heart_parameters_data.csv -P ../data"
   ]
  },
  {
   "cell_type": "code",
   "execution_count": 2,
   "metadata": {
    "colab": {
     "base_uri": "https://localhost:8080/",
     "height": 228
    },
    "colab_type": "code",
    "id": "MqVW0JQlEmJW",
    "outputId": "b9d33a4d-ef35-4562-c7ef-b697c0d51a8c"
   },
   "outputs": [
    {
     "name": "stdout",
     "output_type": "stream",
     "text": [
      "Will not apply HSTS. The HSTS database must be a regular and non-world-writable file.\n",
      "ERROR: could not open HSTS store at '/home/carcrupe/.wget-hsts'. HSTS will be disabled.\n",
      "--2020-08-11 11:34:14--  https://raw.githubusercontent.com/carcrupe/TFM/master/requirements/requirements_exploring.txt\n",
      "Resolving raw.githubusercontent.com (raw.githubusercontent.com)... 151.101.132.133\n",
      "Connecting to raw.githubusercontent.com (raw.githubusercontent.com)|151.101.132.133|:443... connected.\n",
      "HTTP request sent, awaiting response... 200 OK\n",
      "Length: 30 [text/plain]\n",
      "Saving to: ‘../requirements/requirements_exploring.txt’\n",
      "\n",
      "requirements_explor 100%[===================>]      30  --.-KB/s    in 0s      \n",
      "\n",
      "Last-modified header missing -- time-stamps turned off.\n",
      "2020-08-11 11:34:14 (584 KB/s) - ‘../requirements/requirements_exploring.txt’ saved [30/30]\n",
      "\n"
     ]
    }
   ],
   "source": [
    "# Get requirements for this notebook from repository\n",
    "!wget -N https://raw.githubusercontent.com/carcrupe/TFM/master/requirements/requirements_exploring.txt -P ../requirements"
   ]
  },
  {
   "cell_type": "code",
   "execution_count": 3,
   "metadata": {
    "colab": {
     "base_uri": "https://localhost:8080/",
     "height": 124
    },
    "colab_type": "code",
    "id": "M9NEaYkTE2du",
    "outputId": "4cfb42a2-4c0c-4d4a-e5e0-2d0348a8b1a4"
   },
   "outputs": [
    {
     "name": "stdout",
     "output_type": "stream",
     "text": [
      "Requirement already satisfied: numpy==1.18.5 in /home/carcrupe/anaconda3/lib/python3.7/site-packages (from -r ../requirements/requirements_exploring.txt (line 1)) (1.18.5)\r\n",
      "Requirement already satisfied: pandas==1.0.3 in /home/carcrupe/anaconda3/lib/python3.7/site-packages (from -r ../requirements/requirements_exploring.txt (line 2)) (1.0.3)\r\n",
      "Requirement already satisfied: pytz>=2017.2 in /home/carcrupe/anaconda3/lib/python3.7/site-packages (from pandas==1.0.3->-r ../requirements/requirements_exploring.txt (line 2)) (2019.3)\r\n",
      "Requirement already satisfied: python-dateutil>=2.6.1 in /home/carcrupe/anaconda3/lib/python3.7/site-packages (from pandas==1.0.3->-r ../requirements/requirements_exploring.txt (line 2)) (2.8.0)\r\n",
      "Requirement already satisfied: six>=1.5 in /home/carcrupe/anaconda3/lib/python3.7/site-packages (from python-dateutil>=2.6.1->pandas==1.0.3->-r ../requirements/requirements_exploring.txt (line 2)) (1.12.0)\r\n"
     ]
    }
   ],
   "source": [
    "!pip install -r ../requirements/requirements_exploring.txt"
   ]
  },
  {
   "cell_type": "markdown",
   "metadata": {
    "colab_type": "text",
    "id": "tWfm8WSoEfd8"
   },
   "source": [
    "### Action plan - Explore and Analyze"
   ]
  },
  {
   "cell_type": "markdown",
   "metadata": {
    "colab_type": "text",
    "id": "fzzmzB2bEfd_"
   },
   "source": [
    "1. Read, explore and clean the dataset. Evaluate missing & duplicate Values\n",
    "2. Evaluate continuous features, distributions and outliers\n",
    "3. Plot target relations between categorical features to better understand the behaviour of the data.\n",
    "4. Feature engineering with continuous features\n",
    "5. Save organized and cleaned data for posterior machine learning modeling"
   ]
  },
  {
   "cell_type": "code",
   "execution_count": 5,
   "metadata": {
    "colab": {},
    "colab_type": "code",
    "id": "ZVHpcmtUEfeB"
   },
   "outputs": [
    {
     "name": "stderr",
     "output_type": "stream",
     "text": [
      "/home/carcrupe/anaconda3/lib/python3.7/site-packages/statsmodels/tools/_testing.py:19: FutureWarning: pandas.util.testing is deprecated. Use the functions in the public API at pandas.testing instead.\n",
      "  import pandas.util.testing as tm\n"
     ]
    }
   ],
   "source": [
    "import pandas as pd\n",
    "import numpy as np\n",
    "import matplotlib.pyplot as plt\n",
    "import seaborn as sns\n",
    "%matplotlib inline"
   ]
  },
  {
   "cell_type": "code",
   "execution_count": 6,
   "metadata": {
    "colab": {},
    "colab_type": "code",
    "id": "BW4CLO_eEfeL"
   },
   "outputs": [],
   "source": [
    "import warnings\n",
    "warnings.filterwarnings('ignore')"
   ]
  },
  {
   "cell_type": "code",
   "execution_count": 7,
   "metadata": {
    "colab": {
     "base_uri": "https://localhost:8080/",
     "height": 72
    },
    "colab_type": "code",
    "id": "DfJyEvoOEfeT",
    "outputId": "c053b86a-6be7-414d-b31f-0adfdb65ddb9"
   },
   "outputs": [
    {
     "name": "stdout",
     "output_type": "stream",
     "text": [
      "There are 70000 datapoints in the dataset with 13 features listed as ['id' 'age' 'gender' 'height' 'weight' 'ap_hi' 'ap_lo' 'cholesterol'\n",
      " 'gluc' 'smoke' 'alco' 'active' 'cardio']:\n"
     ]
    }
   ],
   "source": [
    "df_stroke = pd.read_csv('../data/heart_parameters_data.csv', sep=';')\n",
    "df_stroke.dropna(inplace=True)\n",
    "print('There are {} datapoints in the dataset with {} features listed as {}:'\n",
    "          .format(df_stroke.shape[0], df_stroke.shape[1], df_stroke.columns.values))\n",
    "original_size=df_stroke.shape[0]"
   ]
  },
  {
   "cell_type": "code",
   "execution_count": 47,
   "metadata": {
    "colab": {},
    "colab_type": "code",
    "id": "h5qKdMVcJr8K"
   },
   "outputs": [],
   "source": [
    "#Set appropiate column names for second dataset, according to the data in df_stroke\n",
    "columns = ['Id','Age', 'Sex', 'Height', 'Weight','SystolicPressure', 'DiastolicPressure', 'Cholesterol', 'Diabetes', 'Smoker', 'Alcoholic',\n",
    "           'ActiveSport','Target']\n",
    "df_stroke.columns=columns"
   ]
  },
  {
   "cell_type": "code",
   "execution_count": 48,
   "metadata": {
    "colab": {
     "base_uri": "https://localhost:8080/",
     "height": 226
    },
    "colab_type": "code",
    "id": "6vWJRG1HKk5f",
    "outputId": "6ad60d08-eeba-4bc7-e82d-68d56ba10197"
   },
   "outputs": [
    {
     "data": {
      "text/html": [
       "<div>\n",
       "<style scoped>\n",
       "    .dataframe tbody tr th:only-of-type {\n",
       "        vertical-align: middle;\n",
       "    }\n",
       "\n",
       "    .dataframe tbody tr th {\n",
       "        vertical-align: top;\n",
       "    }\n",
       "\n",
       "    .dataframe thead th {\n",
       "        text-align: right;\n",
       "    }\n",
       "</style>\n",
       "<table border=\"1\" class=\"dataframe\">\n",
       "  <thead>\n",
       "    <tr style=\"text-align: right;\">\n",
       "      <th></th>\n",
       "      <th>Id</th>\n",
       "      <th>Age</th>\n",
       "      <th>Sex</th>\n",
       "      <th>Height</th>\n",
       "      <th>Weight</th>\n",
       "      <th>SystolicPressure</th>\n",
       "      <th>DiastolicPressure</th>\n",
       "      <th>Cholesterol</th>\n",
       "      <th>Diabetes</th>\n",
       "      <th>Smoker</th>\n",
       "      <th>Alcoholic</th>\n",
       "      <th>ActiveSport</th>\n",
       "      <th>Target</th>\n",
       "    </tr>\n",
       "  </thead>\n",
       "  <tbody>\n",
       "    <tr>\n",
       "      <th>0</th>\n",
       "      <td>0</td>\n",
       "      <td>18393</td>\n",
       "      <td>2</td>\n",
       "      <td>168</td>\n",
       "      <td>62.0</td>\n",
       "      <td>110</td>\n",
       "      <td>80</td>\n",
       "      <td>1</td>\n",
       "      <td>1</td>\n",
       "      <td>0</td>\n",
       "      <td>0</td>\n",
       "      <td>1</td>\n",
       "      <td>0</td>\n",
       "    </tr>\n",
       "    <tr>\n",
       "      <th>1</th>\n",
       "      <td>1</td>\n",
       "      <td>20228</td>\n",
       "      <td>1</td>\n",
       "      <td>156</td>\n",
       "      <td>85.0</td>\n",
       "      <td>140</td>\n",
       "      <td>90</td>\n",
       "      <td>3</td>\n",
       "      <td>1</td>\n",
       "      <td>0</td>\n",
       "      <td>0</td>\n",
       "      <td>1</td>\n",
       "      <td>1</td>\n",
       "    </tr>\n",
       "    <tr>\n",
       "      <th>2</th>\n",
       "      <td>2</td>\n",
       "      <td>18857</td>\n",
       "      <td>1</td>\n",
       "      <td>165</td>\n",
       "      <td>64.0</td>\n",
       "      <td>130</td>\n",
       "      <td>70</td>\n",
       "      <td>3</td>\n",
       "      <td>1</td>\n",
       "      <td>0</td>\n",
       "      <td>0</td>\n",
       "      <td>0</td>\n",
       "      <td>1</td>\n",
       "    </tr>\n",
       "    <tr>\n",
       "      <th>3</th>\n",
       "      <td>3</td>\n",
       "      <td>17623</td>\n",
       "      <td>2</td>\n",
       "      <td>169</td>\n",
       "      <td>82.0</td>\n",
       "      <td>150</td>\n",
       "      <td>100</td>\n",
       "      <td>1</td>\n",
       "      <td>1</td>\n",
       "      <td>0</td>\n",
       "      <td>0</td>\n",
       "      <td>1</td>\n",
       "      <td>1</td>\n",
       "    </tr>\n",
       "    <tr>\n",
       "      <th>4</th>\n",
       "      <td>4</td>\n",
       "      <td>17474</td>\n",
       "      <td>1</td>\n",
       "      <td>156</td>\n",
       "      <td>56.0</td>\n",
       "      <td>100</td>\n",
       "      <td>60</td>\n",
       "      <td>1</td>\n",
       "      <td>1</td>\n",
       "      <td>0</td>\n",
       "      <td>0</td>\n",
       "      <td>0</td>\n",
       "      <td>0</td>\n",
       "    </tr>\n",
       "  </tbody>\n",
       "</table>\n",
       "</div>"
      ],
      "text/plain": [
       "   Id    Age  Sex  Height  Weight  SystolicPressure  DiastolicPressure  \\\n",
       "0   0  18393    2     168    62.0               110                 80   \n",
       "1   1  20228    1     156    85.0               140                 90   \n",
       "2   2  18857    1     165    64.0               130                 70   \n",
       "3   3  17623    2     169    82.0               150                100   \n",
       "4   4  17474    1     156    56.0               100                 60   \n",
       "\n",
       "   Cholesterol  Diabetes  Smoker  Alcoholic  ActiveSport  Target  \n",
       "0            1         1       0          0            1       0  \n",
       "1            3         1       0          0            1       1  \n",
       "2            3         1       0          0            0       1  \n",
       "3            1         1       0          0            1       1  \n",
       "4            1         1       0          0            0       0  "
      ]
     },
     "execution_count": 48,
     "metadata": {},
     "output_type": "execute_result"
    }
   ],
   "source": [
    "df_stroke.head()"
   ]
  },
  {
   "cell_type": "code",
   "execution_count": 49,
   "metadata": {
    "colab": {
     "base_uri": "https://localhost:8080/",
     "height": 364
    },
    "colab_type": "code",
    "id": "9ks5RAd_Kv7T",
    "outputId": "e2382398-96c8-4a5f-c401-4f4858e16f6f"
   },
   "outputs": [
    {
     "name": "stdout",
     "output_type": "stream",
     "text": [
      "<class 'pandas.core.frame.DataFrame'>\n",
      "Int64Index: 70000 entries, 0 to 69999\n",
      "Data columns (total 13 columns):\n",
      " #   Column             Non-Null Count  Dtype  \n",
      "---  ------             --------------  -----  \n",
      " 0   Id                 70000 non-null  int64  \n",
      " 1   Age                70000 non-null  int64  \n",
      " 2   Sex                70000 non-null  int64  \n",
      " 3   Height             70000 non-null  int64  \n",
      " 4   Weight             70000 non-null  float64\n",
      " 5   SystolicPressure   70000 non-null  int64  \n",
      " 6   DiastolicPressure  70000 non-null  int64  \n",
      " 7   Cholesterol        70000 non-null  int64  \n",
      " 8   Diabetes           70000 non-null  int64  \n",
      " 9   Smoker             70000 non-null  int64  \n",
      " 10  Alcoholic          70000 non-null  int64  \n",
      " 11  ActiveSport        70000 non-null  int64  \n",
      " 12  Target             70000 non-null  int64  \n",
      "dtypes: float64(1), int64(12)\n",
      "memory usage: 7.5 MB\n"
     ]
    }
   ],
   "source": [
    "# We can see the type of each feature and that there are no null values.\n",
    "df_stroke.info()"
   ]
  },
  {
   "cell_type": "code",
   "execution_count": 50,
   "metadata": {
    "colab": {},
    "colab_type": "code",
    "id": "VvyO9tF4EfeZ"
   },
   "outputs": [],
   "source": [
    "#Age was given in days, transform to years and round to closest integer\n",
    "df_stroke['Age']=(df_stroke['Age']/365).astype(int) \n",
    "\n",
    "# Column ID is not useful for data modeling, we can just remove it\n",
    "df_stroke.drop(axis=1, columns=['Id'], inplace=True)"
   ]
  },
  {
   "cell_type": "code",
   "execution_count": 51,
   "metadata": {
    "colab": {
     "base_uri": "https://localhost:8080/",
     "height": 34
    },
    "colab_type": "code",
    "id": "iTqWMhL_Efef",
    "outputId": "c0b4d50f-1403-4df5-a41a-bb49613a2d13"
   },
   "outputs": [
    {
     "data": {
      "text/plain": [
       "(3208, 12)"
      ]
     },
     "execution_count": 51,
     "metadata": {},
     "output_type": "execute_result"
    }
   ],
   "source": [
    "# After removing column Id and converting days to years, I have generated 3208 duplicated observations.\n",
    "df_stroke[df_stroke.duplicated()==True].shape"
   ]
  },
  {
   "cell_type": "code",
   "execution_count": 52,
   "metadata": {
    "colab": {
     "base_uri": "https://localhost:8080/",
     "height": 34
    },
    "colab_type": "code",
    "id": "IFEuzGwtEfel",
    "outputId": "a12bf241-d1da-4c01-d611-1c1e0cef3bae"
   },
   "outputs": [
    {
     "data": {
      "text/plain": [
       "(66792, 12)"
      ]
     },
     "execution_count": 52,
     "metadata": {},
     "output_type": "execute_result"
    }
   ],
   "source": [
    "# Remove duplicates and check size of the data set again\n",
    "df_stroke.drop_duplicates(inplace=True) \n",
    "cleaned_size = df_stroke.shape\n",
    "cleaned_size"
   ]
  },
  {
   "cell_type": "code",
   "execution_count": 53,
   "metadata": {
    "colab": {
     "base_uri": "https://localhost:8080/",
     "height": 34
    },
    "colab_type": "code",
    "id": "oFpqGyr1Efer",
    "outputId": "966ca96d-c271-4001-b277-e944ebb032d6"
   },
   "outputs": [
    {
     "name": "stdout",
     "output_type": "stream",
     "text": [
      "Number of lost samples after cleaning null and duplicated observations in heart_parameters_data.csv: 5%\n"
     ]
    }
   ],
   "source": [
    "# Print the number of lost samples after cleaning the data set. 5% seems to be a reasonable loss.\n",
    "print ('Number of lost samples after cleaning null and duplicated observations in heart_parameters_data.csv: {:,.0f}%'.format((1- cleaned_size[0]/original_size)*100))"
   ]
  },
  {
   "cell_type": "code",
   "execution_count": 54,
   "metadata": {
    "colab": {},
    "colab_type": "code",
    "id": "K6PCV9W9Efev"
   },
   "outputs": [],
   "source": [
    "target = df_stroke.groupby(['Target'])"
   ]
  },
  {
   "cell_type": "code",
   "execution_count": 55,
   "metadata": {
    "colab": {
     "base_uri": "https://localhost:8080/",
     "height": 163
    },
    "colab_type": "code",
    "id": "4DMwCNGEEfe0",
    "outputId": "299352e9-2964-4a11-ad4a-5c2619ae1d25"
   },
   "outputs": [
    {
     "data": {
      "text/html": [
       "<div>\n",
       "<style scoped>\n",
       "    .dataframe tbody tr th:only-of-type {\n",
       "        vertical-align: middle;\n",
       "    }\n",
       "\n",
       "    .dataframe tbody tr th {\n",
       "        vertical-align: top;\n",
       "    }\n",
       "\n",
       "    .dataframe thead th {\n",
       "        text-align: right;\n",
       "    }\n",
       "</style>\n",
       "<table border=\"1\" class=\"dataframe\">\n",
       "  <thead>\n",
       "    <tr style=\"text-align: right;\">\n",
       "      <th></th>\n",
       "      <th>Age</th>\n",
       "      <th>Sex</th>\n",
       "      <th>Height</th>\n",
       "      <th>Weight</th>\n",
       "      <th>SystolicPressure</th>\n",
       "      <th>DiastolicPressure</th>\n",
       "      <th>Cholesterol</th>\n",
       "      <th>Diabetes</th>\n",
       "      <th>Smoker</th>\n",
       "      <th>Alcoholic</th>\n",
       "      <th>ActiveSport</th>\n",
       "    </tr>\n",
       "    <tr>\n",
       "      <th>Target</th>\n",
       "      <th></th>\n",
       "      <th></th>\n",
       "      <th></th>\n",
       "      <th></th>\n",
       "      <th></th>\n",
       "      <th></th>\n",
       "      <th></th>\n",
       "      <th></th>\n",
       "      <th></th>\n",
       "      <th></th>\n",
       "      <th></th>\n",
       "    </tr>\n",
       "  </thead>\n",
       "  <tbody>\n",
       "    <tr>\n",
       "      <th>0</th>\n",
       "      <td>51.220191</td>\n",
       "      <td>1.355471</td>\n",
       "      <td>164.424123</td>\n",
       "      <td>71.901184</td>\n",
       "      <td>120.528728</td>\n",
       "      <td>84.634743</td>\n",
       "      <td>1.231479</td>\n",
       "      <td>1.187429</td>\n",
       "      <td>0.098960</td>\n",
       "      <td>0.059419</td>\n",
       "      <td>0.810025</td>\n",
       "    </tr>\n",
       "    <tr>\n",
       "      <th>1</th>\n",
       "      <td>54.422835</td>\n",
       "      <td>1.356915</td>\n",
       "      <td>164.263212</td>\n",
       "      <td>77.018998</td>\n",
       "      <td>137.528734</td>\n",
       "      <td>109.660457</td>\n",
       "      <td>1.526921</td>\n",
       "      <td>1.282514</td>\n",
       "      <td>0.085632</td>\n",
       "      <td>0.053315</td>\n",
       "      <td>0.787588</td>\n",
       "    </tr>\n",
       "  </tbody>\n",
       "</table>\n",
       "</div>"
      ],
      "text/plain": [
       "              Age       Sex      Height     Weight  SystolicPressure  \\\n",
       "Target                                                                 \n",
       "0       51.220191  1.355471  164.424123  71.901184        120.528728   \n",
       "1       54.422835  1.356915  164.263212  77.018998        137.528734   \n",
       "\n",
       "        DiastolicPressure  Cholesterol  Diabetes    Smoker  Alcoholic  \\\n",
       "Target                                                                  \n",
       "0               84.634743     1.231479  1.187429  0.098960   0.059419   \n",
       "1              109.660457     1.526921  1.282514  0.085632   0.053315   \n",
       "\n",
       "        ActiveSport  \n",
       "Target               \n",
       "0          0.810025  \n",
       "1          0.787588  "
      ]
     },
     "execution_count": 55,
     "metadata": {},
     "output_type": "execute_result"
    }
   ],
   "source": [
    "#We see that there are three parameters which are quite higher in mean when there is a stroke - SystolicPressure, DiastolicPressure \n",
    "# and Cholesterol\n",
    "target.mean()"
   ]
  },
  {
   "cell_type": "code",
   "execution_count": 56,
   "metadata": {
    "colab": {
     "base_uri": "https://localhost:8080/",
     "height": 300
    },
    "colab_type": "code",
    "id": "xI0sa03zNO-2",
    "outputId": "9c4fefe2-0ba8-4ee1-b9a4-7038e6e25c36"
   },
   "outputs": [
    {
     "data": {
      "text/html": [
       "<div>\n",
       "<style scoped>\n",
       "    .dataframe tbody tr th:only-of-type {\n",
       "        vertical-align: middle;\n",
       "    }\n",
       "\n",
       "    .dataframe tbody tr th {\n",
       "        vertical-align: top;\n",
       "    }\n",
       "\n",
       "    .dataframe thead th {\n",
       "        text-align: right;\n",
       "    }\n",
       "</style>\n",
       "<table border=\"1\" class=\"dataframe\">\n",
       "  <thead>\n",
       "    <tr style=\"text-align: right;\">\n",
       "      <th></th>\n",
       "      <th>Age</th>\n",
       "      <th>Height</th>\n",
       "      <th>Weight</th>\n",
       "      <th>SystolicPressure</th>\n",
       "      <th>DiastolicPressure</th>\n",
       "    </tr>\n",
       "  </thead>\n",
       "  <tbody>\n",
       "    <tr>\n",
       "      <th>count</th>\n",
       "      <td>66792.000000</td>\n",
       "      <td>66792.000000</td>\n",
       "      <td>66792.000000</td>\n",
       "      <td>66792.000000</td>\n",
       "      <td>66792.000000</td>\n",
       "    </tr>\n",
       "    <tr>\n",
       "      <th>mean</th>\n",
       "      <td>52.859729</td>\n",
       "      <td>164.341748</td>\n",
       "      <td>74.521160</td>\n",
       "      <td>129.231585</td>\n",
       "      <td>97.446221</td>\n",
       "    </tr>\n",
       "    <tr>\n",
       "      <th>std</th>\n",
       "      <td>6.803670</td>\n",
       "      <td>8.333904</td>\n",
       "      <td>14.580675</td>\n",
       "      <td>157.649354</td>\n",
       "      <td>192.906434</td>\n",
       "    </tr>\n",
       "    <tr>\n",
       "      <th>min</th>\n",
       "      <td>29.000000</td>\n",
       "      <td>55.000000</td>\n",
       "      <td>10.000000</td>\n",
       "      <td>-150.000000</td>\n",
       "      <td>-70.000000</td>\n",
       "    </tr>\n",
       "    <tr>\n",
       "      <th>25%</th>\n",
       "      <td>48.000000</td>\n",
       "      <td>159.000000</td>\n",
       "      <td>65.000000</td>\n",
       "      <td>120.000000</td>\n",
       "      <td>80.000000</td>\n",
       "    </tr>\n",
       "    <tr>\n",
       "      <th>50%</th>\n",
       "      <td>53.000000</td>\n",
       "      <td>165.000000</td>\n",
       "      <td>72.000000</td>\n",
       "      <td>120.000000</td>\n",
       "      <td>80.000000</td>\n",
       "    </tr>\n",
       "    <tr>\n",
       "      <th>75%</th>\n",
       "      <td>58.000000</td>\n",
       "      <td>170.000000</td>\n",
       "      <td>83.000000</td>\n",
       "      <td>140.000000</td>\n",
       "      <td>90.000000</td>\n",
       "    </tr>\n",
       "    <tr>\n",
       "      <th>max</th>\n",
       "      <td>64.000000</td>\n",
       "      <td>250.000000</td>\n",
       "      <td>200.000000</td>\n",
       "      <td>16020.000000</td>\n",
       "      <td>11000.000000</td>\n",
       "    </tr>\n",
       "  </tbody>\n",
       "</table>\n",
       "</div>"
      ],
      "text/plain": [
       "                Age        Height        Weight  SystolicPressure  \\\n",
       "count  66792.000000  66792.000000  66792.000000      66792.000000   \n",
       "mean      52.859729    164.341748     74.521160        129.231585   \n",
       "std        6.803670      8.333904     14.580675        157.649354   \n",
       "min       29.000000     55.000000     10.000000       -150.000000   \n",
       "25%       48.000000    159.000000     65.000000        120.000000   \n",
       "50%       53.000000    165.000000     72.000000        120.000000   \n",
       "75%       58.000000    170.000000     83.000000        140.000000   \n",
       "max       64.000000    250.000000    200.000000      16020.000000   \n",
       "\n",
       "       DiastolicPressure  \n",
       "count       66792.000000  \n",
       "mean           97.446221  \n",
       "std           192.906434  \n",
       "min           -70.000000  \n",
       "25%            80.000000  \n",
       "50%            80.000000  \n",
       "75%            90.000000  \n",
       "max         11000.000000  "
      ]
     },
     "execution_count": 56,
     "metadata": {},
     "output_type": "execute_result"
    }
   ],
   "source": [
    "# Let us evaluate continuous values to see if we have outliers.\n",
    "continuous = ['Age', 'Height', 'Weight','SystolicPressure', 'DiastolicPressure']\n",
    "df_stroke[continuous].describe()"
   ]
  },
  {
   "cell_type": "markdown",
   "metadata": {
    "colab_type": "text",
    "id": "yQfnapRqJpC7"
   },
   "source": [
    "We can see that there are some values that do not correspond to a real situation. We have negative systolic and diastolic pressures, weigth of 10Kg for a 29 year old person or maximum systolic pressure of 16.020. These values should be considered not only outliers but also measurement errors, since they could never be true for a patient. Therefore, I will deal with them in the cells below."
   ]
  },
  {
   "cell_type": "code",
   "execution_count": 57,
   "metadata": {
    "colab": {
     "base_uri": "https://localhost:8080/",
     "height": 279
    },
    "colab_type": "code",
    "id": "TSNZLTWsK0gb",
    "outputId": "be8c6d08-77b1-42cb-cd4f-e0432a616fbf"
   },
   "outputs": [
    {
     "data": {
      "image/png": "[encoded data removed]",
      "text/plain": [
       "<Figure size 432x288 with 1 Axes>"
      ]
     },
     "metadata": {
      "needs_background": "light"
     },
     "output_type": "display_data"
    }
   ],
   "source": [
    "# We can see there are a lot of outliers for the weigth feature. \n",
    "sns.boxplot(x='Target',y='Weight',data=df_stroke);"
   ]
  },
  {
   "cell_type": "code",
   "execution_count": 58,
   "metadata": {
    "colab": {
     "base_uri": "https://localhost:8080/",
     "height": 279
    },
    "colab_type": "code",
    "id": "1XQPBZ3cK0Sl",
    "outputId": "db994de9-313b-452f-8705-f038cd6ca300"
   },
   "outputs": [
    {
     "data": {
      "image/png": "[encoded data removed]",
      "text/plain": [
       "<Figure size 432x288 with 1 Axes>"
      ]
     },
     "metadata": {
      "needs_background": "light"
     },
     "output_type": "display_data"
    }
   ],
   "source": [
    "# The same happens with height, having many inferior outliers\n",
    "sns.boxplot(x='Target',y='Height',data=df_stroke);"
   ]
  },
  {
   "cell_type": "code",
   "execution_count": 59,
   "metadata": {
    "colab": {
     "base_uri": "https://localhost:8080/",
     "height": 585
    },
    "colab_type": "code",
    "id": "akks4OSCK0CR",
    "outputId": "73a69c32-584f-4a3d-9657-1df753e3e3cd"
   },
   "outputs": [
    {
     "data": {
      "image/png": "[encoded data removed]",
      "text/plain": [
       "<Figure size 864x576 with 4 Axes>"
      ]
     },
     "metadata": {
      "needs_background": "light"
     },
     "output_type": "display_data"
    }
   ],
   "source": [
    "# I will represent histrograms for all continous values but age\n",
    "figure, axes = plt.subplots(nrows=2, ncols=2, figsize=(12,8))\n",
    "\n",
    "axes[0,0].hist(df_stroke['Weight'], bins=50);\n",
    "axes[0,0].set_title('Weight histogram')\n",
    "\n",
    "axes[0,1].hist(df_stroke['Height'], bins=50, color='r');\n",
    "axes[0,1].set_title('Height histogram')\n",
    "\n",
    "axes[1,0].hist(df_stroke['SystolicPressure'], bins=2000, color='g');\n",
    "axes[1,0].set_xlim([50,250])\n",
    "axes[1,0].set_title('Systolic pressure histogram')\n",
    "\n",
    "axes[1,1].hist(df_stroke['DiastolicPressure'], bins=2000, color='k');\n",
    "axes[1,1].set_xlim([20,150])\n",
    "axes[1,1].set_title('Diastolic pressure histogram')\n",
    "\n",
    "\n",
    "figure.tight_layout()\n"
   ]
  },
  {
   "cell_type": "markdown",
   "metadata": {
    "colab_type": "text",
    "id": "J3Kk8LAQQ38L"
   },
   "source": [
    "As a next step, I will delete all observations that are considered outliers. By convention, this means all observations that are below Q1-1.5 IQR or above Q3+1.5 IQR. I will define a function to calculate IQR and number of outliers for a given feature."
   ]
  },
  {
   "cell_type": "code",
   "execution_count": 60,
   "metadata": {
    "colab": {},
    "colab_type": "code",
    "id": "q7KOboPsR8ns"
   },
   "outputs": [],
   "source": [
    "\n",
    "def quantify_outliers(df):\n",
    "    #I will create a data frame with each feature and only the values Q1-1.5*IQR and Q3+1.5*IQR, \n",
    "    #for further filtering and cleaning\n",
    "    feature_dist_limits = pd.DataFrame(columns=df.columns, index=['Q1-1.5*IQR', 'Q3+1.5*IQR'])\n",
    "    for feature in df.columns:\n",
    "        feature_data = df[feature]        \n",
    "        # 25th percentile of the data of the given feature\n",
    "        Q1 = np.percentile(feature_data, 25.)\n",
    "        # 75th percentile of the data of the given feature \n",
    "        Q3 = np.percentile(feature_data, 75.) \n",
    "        IQR = Q3-Q1 #Interquartile Range\n",
    "        outlier_step = IQR * 1.5 # As defined previously\n",
    "        inf_outlier = Q1 - outlier_step\n",
    "        sup_outlier = Q3 + outlier_step\n",
    "        feature_dist_limits[feature] = ([inf_outlier,sup_outlier])\n",
    "        meaningful_data = ((feature_data >= inf_outlier) & (feature_data <= sup_outlier))\n",
    "        outliers = feature_data[~meaningful_data].index.tolist()        \n",
    "        print('The number of outliers for feature {} is {}'.format(feature, len(outliers)))\n",
    "    return feature_dist_limits"
   ]
  },
  {
   "cell_type": "code",
   "execution_count": 61,
   "metadata": {
    "colab": {
     "base_uri": "https://localhost:8080/",
     "height": 86
    },
    "colab_type": "code",
    "id": "JAlHP_a7TKs-",
    "outputId": "8ceed49c-1f8b-4dbe-d6e8-5b4d7cc23f6d"
   },
   "outputs": [
    {
     "name": "stdout",
     "output_type": "stream",
     "text": [
      "The number of outliers for feature Height is 519\n",
      "The number of outliers for feature Weight is 1282\n",
      "The number of outliers for feature SystolicPressure is 1433\n",
      "The number of outliers for feature DiastolicPressure is 4617\n"
     ]
    }
   ],
   "source": [
    "outliers = quantify_outliers(df_stroke[['Height', 'Weight', 'SystolicPressure', 'DiastolicPressure']])"
   ]
  },
  {
   "cell_type": "code",
   "execution_count": 62,
   "metadata": {
    "colab": {
     "base_uri": "https://localhost:8080/",
     "height": 112
    },
    "colab_type": "code",
    "id": "9DlmqQmcavOM",
    "outputId": "1f5a1c71-c4a2-4b81-89a3-ff5134b9039a"
   },
   "outputs": [
    {
     "data": {
      "text/html": [
       "<div>\n",
       "<style scoped>\n",
       "    .dataframe tbody tr th:only-of-type {\n",
       "        vertical-align: middle;\n",
       "    }\n",
       "\n",
       "    .dataframe tbody tr th {\n",
       "        vertical-align: top;\n",
       "    }\n",
       "\n",
       "    .dataframe thead th {\n",
       "        text-align: right;\n",
       "    }\n",
       "</style>\n",
       "<table border=\"1\" class=\"dataframe\">\n",
       "  <thead>\n",
       "    <tr style=\"text-align: right;\">\n",
       "      <th></th>\n",
       "      <th>Height</th>\n",
       "      <th>Weight</th>\n",
       "      <th>SystolicPressure</th>\n",
       "      <th>DiastolicPressure</th>\n",
       "    </tr>\n",
       "  </thead>\n",
       "  <tbody>\n",
       "    <tr>\n",
       "      <th>Q1-1.5*IQR</th>\n",
       "      <td>142.5</td>\n",
       "      <td>38.0</td>\n",
       "      <td>90.0</td>\n",
       "      <td>65.0</td>\n",
       "    </tr>\n",
       "    <tr>\n",
       "      <th>Q3+1.5*IQR</th>\n",
       "      <td>186.5</td>\n",
       "      <td>110.0</td>\n",
       "      <td>170.0</td>\n",
       "      <td>105.0</td>\n",
       "    </tr>\n",
       "  </tbody>\n",
       "</table>\n",
       "</div>"
      ],
      "text/plain": [
       "            Height  Weight  SystolicPressure  DiastolicPressure\n",
       "Q1-1.5*IQR   142.5    38.0              90.0               65.0\n",
       "Q3+1.5*IQR   186.5   110.0             170.0              105.0"
      ]
     },
     "execution_count": 62,
     "metadata": {},
     "output_type": "execute_result"
    }
   ],
   "source": [
    "outliers"
   ]
  },
  {
   "cell_type": "code",
   "execution_count": 63,
   "metadata": {
    "colab": {
     "base_uri": "https://localhost:8080/",
     "height": 34
    },
    "colab_type": "code",
    "id": "b4zbaGKRTKc6",
    "outputId": "85840bdb-feb8-44f8-c61e-eff684620d9d"
   },
   "outputs": [
    {
     "data": {
      "text/plain": [
       "59772"
      ]
     },
     "execution_count": 63,
     "metadata": {},
     "output_type": "execute_result"
    }
   ],
   "source": [
    "# We have the limits of each feature taking into account the inter quartile range\n",
    "# I will delete all of them to have a more realistic dataset for modeling\n",
    "\n",
    "#Delete diastolic pressures out of range\n",
    "df_stroke = df_stroke[df_stroke['DiastolicPressure'] >= outliers['DiastolicPressure'][0]]\n",
    "df_stroke = df_stroke[df_stroke['DiastolicPressure'] <= outliers['DiastolicPressure'][1]]\n",
    "\n",
    "#Delete systolic pressures out of range and the ones lower than diastolic pressure, since this cannot happen\n",
    "df_stroke = df_stroke[df_stroke['SystolicPressure']>= outliers['SystolicPressure'][0]]\n",
    "df_stroke = df_stroke[df_stroke['SystolicPressure']<= outliers['SystolicPressure'][1]]\n",
    "df_stroke = df_stroke[df_stroke['SystolicPressure']>df_stroke['DiastolicPressure']]\n",
    "\n",
    "#Delete weight out of range\n",
    "df_stroke = df_stroke[df_stroke['Weight'] >= outliers['Weight'][0]]\n",
    "df_stroke = df_stroke[df_stroke['Weight'] <= outliers['Weight'][1]]\n",
    "\n",
    "#Delete height out of range\n",
    "df_stroke = df_stroke[df_stroke['Height'] >= outliers['Height'][0]]\n",
    "df_stroke = df_stroke[df_stroke['Height'] <= outliers['Height'][1]]\n",
    "\n",
    "cleaned_data = df_stroke.shape[0]\n",
    "cleaned_data"
   ]
  },
  {
   "cell_type": "code",
   "execution_count": 64,
   "metadata": {
    "colab": {
     "base_uri": "https://localhost:8080/",
     "height": 34
    },
    "colab_type": "code",
    "id": "P6QlmFPXhIUv",
    "outputId": "adf7437a-7027-4bd9-a8af-de4c95e9762f"
   },
   "outputs": [
    {
     "name": "stdout",
     "output_type": "stream",
     "text": [
      "Number of lost samples after cleaning nulls, duplicates and removing outliers in heart_parameters_data.csv: 15%\n"
     ]
    }
   ],
   "source": [
    "print ('Number of lost samples after cleaning nulls, duplicates and removing outliers in heart_parameters_data.csv: {:,.0f}%'.format((1- cleaned_data/original_size)*100))"
   ]
  },
  {
   "cell_type": "code",
   "execution_count": 65,
   "metadata": {
    "colab": {
     "base_uri": "https://localhost:8080/",
     "height": 320
    },
    "colab_type": "code",
    "id": "JI8qYDo9hkb4",
    "outputId": "ab2d8a22-01f9-45f7-a9f1-5bc606c936a5"
   },
   "outputs": [
    {
     "data": {
      "text/html": [
       "<div>\n",
       "<style scoped>\n",
       "    .dataframe tbody tr th:only-of-type {\n",
       "        vertical-align: middle;\n",
       "    }\n",
       "\n",
       "    .dataframe tbody tr th {\n",
       "        vertical-align: top;\n",
       "    }\n",
       "\n",
       "    .dataframe thead th {\n",
       "        text-align: right;\n",
       "    }\n",
       "</style>\n",
       "<table border=\"1\" class=\"dataframe\">\n",
       "  <thead>\n",
       "    <tr style=\"text-align: right;\">\n",
       "      <th></th>\n",
       "      <th>Age</th>\n",
       "      <th>Sex</th>\n",
       "      <th>Height</th>\n",
       "      <th>Weight</th>\n",
       "      <th>SystolicPressure</th>\n",
       "      <th>DiastolicPressure</th>\n",
       "      <th>Cholesterol</th>\n",
       "      <th>Diabetes</th>\n",
       "      <th>Smoker</th>\n",
       "      <th>Alcoholic</th>\n",
       "      <th>ActiveSport</th>\n",
       "      <th>Target</th>\n",
       "    </tr>\n",
       "  </thead>\n",
       "  <tbody>\n",
       "    <tr>\n",
       "      <th>count</th>\n",
       "      <td>59772.000000</td>\n",
       "      <td>59772.000000</td>\n",
       "      <td>59772.000000</td>\n",
       "      <td>59772.000000</td>\n",
       "      <td>59772.000000</td>\n",
       "      <td>59772.000000</td>\n",
       "      <td>59772.000000</td>\n",
       "      <td>59772.000000</td>\n",
       "      <td>59772.000000</td>\n",
       "      <td>59772.000000</td>\n",
       "      <td>59772.000000</td>\n",
       "      <td>59772.000000</td>\n",
       "    </tr>\n",
       "    <tr>\n",
       "      <th>mean</th>\n",
       "      <td>52.936291</td>\n",
       "      <td>1.356321</td>\n",
       "      <td>164.411095</td>\n",
       "      <td>73.737094</td>\n",
       "      <td>126.797163</td>\n",
       "      <td>81.826625</td>\n",
       "      <td>1.377652</td>\n",
       "      <td>1.232785</td>\n",
       "      <td>0.091013</td>\n",
       "      <td>0.055126</td>\n",
       "      <td>0.798468</td>\n",
       "      <td>0.508298</td>\n",
       "    </tr>\n",
       "    <tr>\n",
       "      <th>std</th>\n",
       "      <td>6.781883</td>\n",
       "      <td>0.478916</td>\n",
       "      <td>7.660220</td>\n",
       "      <td>12.760719</td>\n",
       "      <td>14.562676</td>\n",
       "      <td>7.834424</td>\n",
       "      <td>0.688535</td>\n",
       "      <td>0.580232</td>\n",
       "      <td>0.287629</td>\n",
       "      <td>0.228228</td>\n",
       "      <td>0.401148</td>\n",
       "      <td>0.499935</td>\n",
       "    </tr>\n",
       "    <tr>\n",
       "      <th>min</th>\n",
       "      <td>29.000000</td>\n",
       "      <td>1.000000</td>\n",
       "      <td>143.000000</td>\n",
       "      <td>38.000000</td>\n",
       "      <td>90.000000</td>\n",
       "      <td>65.000000</td>\n",
       "      <td>1.000000</td>\n",
       "      <td>1.000000</td>\n",
       "      <td>0.000000</td>\n",
       "      <td>0.000000</td>\n",
       "      <td>0.000000</td>\n",
       "      <td>0.000000</td>\n",
       "    </tr>\n",
       "    <tr>\n",
       "      <th>25%</th>\n",
       "      <td>48.000000</td>\n",
       "      <td>1.000000</td>\n",
       "      <td>159.000000</td>\n",
       "      <td>65.000000</td>\n",
       "      <td>120.000000</td>\n",
       "      <td>80.000000</td>\n",
       "      <td>1.000000</td>\n",
       "      <td>1.000000</td>\n",
       "      <td>0.000000</td>\n",
       "      <td>0.000000</td>\n",
       "      <td>1.000000</td>\n",
       "      <td>0.000000</td>\n",
       "    </tr>\n",
       "    <tr>\n",
       "      <th>50%</th>\n",
       "      <td>54.000000</td>\n",
       "      <td>1.000000</td>\n",
       "      <td>165.000000</td>\n",
       "      <td>72.000000</td>\n",
       "      <td>120.000000</td>\n",
       "      <td>80.000000</td>\n",
       "      <td>1.000000</td>\n",
       "      <td>1.000000</td>\n",
       "      <td>0.000000</td>\n",
       "      <td>0.000000</td>\n",
       "      <td>1.000000</td>\n",
       "      <td>1.000000</td>\n",
       "    </tr>\n",
       "    <tr>\n",
       "      <th>75%</th>\n",
       "      <td>58.000000</td>\n",
       "      <td>2.000000</td>\n",
       "      <td>170.000000</td>\n",
       "      <td>82.000000</td>\n",
       "      <td>140.000000</td>\n",
       "      <td>90.000000</td>\n",
       "      <td>2.000000</td>\n",
       "      <td>1.000000</td>\n",
       "      <td>0.000000</td>\n",
       "      <td>0.000000</td>\n",
       "      <td>1.000000</td>\n",
       "      <td>1.000000</td>\n",
       "    </tr>\n",
       "    <tr>\n",
       "      <th>max</th>\n",
       "      <td>64.000000</td>\n",
       "      <td>2.000000</td>\n",
       "      <td>186.000000</td>\n",
       "      <td>110.000000</td>\n",
       "      <td>170.000000</td>\n",
       "      <td>105.000000</td>\n",
       "      <td>3.000000</td>\n",
       "      <td>3.000000</td>\n",
       "      <td>1.000000</td>\n",
       "      <td>1.000000</td>\n",
       "      <td>1.000000</td>\n",
       "      <td>1.000000</td>\n",
       "    </tr>\n",
       "  </tbody>\n",
       "</table>\n",
       "</div>"
      ],
      "text/plain": [
       "                Age           Sex        Height        Weight  \\\n",
       "count  59772.000000  59772.000000  59772.000000  59772.000000   \n",
       "mean      52.936291      1.356321    164.411095     73.737094   \n",
       "std        6.781883      0.478916      7.660220     12.760719   \n",
       "min       29.000000      1.000000    143.000000     38.000000   \n",
       "25%       48.000000      1.000000    159.000000     65.000000   \n",
       "50%       54.000000      1.000000    165.000000     72.000000   \n",
       "75%       58.000000      2.000000    170.000000     82.000000   \n",
       "max       64.000000      2.000000    186.000000    110.000000   \n",
       "\n",
       "       SystolicPressure  DiastolicPressure   Cholesterol      Diabetes  \\\n",
       "count      59772.000000       59772.000000  59772.000000  59772.000000   \n",
       "mean         126.797163          81.826625      1.377652      1.232785   \n",
       "std           14.562676           7.834424      0.688535      0.580232   \n",
       "min           90.000000          65.000000      1.000000      1.000000   \n",
       "25%          120.000000          80.000000      1.000000      1.000000   \n",
       "50%          120.000000          80.000000      1.000000      1.000000   \n",
       "75%          140.000000          90.000000      2.000000      1.000000   \n",
       "max          170.000000         105.000000      3.000000      3.000000   \n",
       "\n",
       "             Smoker     Alcoholic   ActiveSport        Target  \n",
       "count  59772.000000  59772.000000  59772.000000  59772.000000  \n",
       "mean       0.091013      0.055126      0.798468      0.508298  \n",
       "std        0.287629      0.228228      0.401148      0.499935  \n",
       "min        0.000000      0.000000      0.000000      0.000000  \n",
       "25%        0.000000      0.000000      1.000000      0.000000  \n",
       "50%        0.000000      0.000000      1.000000      1.000000  \n",
       "75%        0.000000      0.000000      1.000000      1.000000  \n",
       "max        1.000000      1.000000      1.000000      1.000000  "
      ]
     },
     "execution_count": 65,
     "metadata": {},
     "output_type": "execute_result"
    }
   ],
   "source": [
    "# Data is finally clean and ready for modeling. I will evaluate correlation between features and \n",
    "# relationships of the target with the categorical columns\n",
    "df_stroke.describe()"
   ]
  },
  {
   "cell_type": "markdown",
   "metadata": {
    "colab_type": "text",
    "id": "8NCgXWYun7lM"
   },
   "source": [
    "Let us plot categorical features to see the dependency with the target"
   ]
  },
  {
   "cell_type": "code",
   "execution_count": 66,
   "metadata": {},
   "outputs": [
    {
     "data": {
      "image/png": "[encoded data removed]",
      "text/plain": [
       "<Figure size 360x360 with 1 Axes>"
      ]
     },
     "metadata": {
      "needs_background": "light"
     },
     "output_type": "display_data"
    }
   ],
   "source": [
    "# Plot distribution of the target, to confirm that we have roughly the same amount of classified elements.\n",
    "sns.catplot(kind = 'count', data = df_stroke, x = 'Target');"
   ]
  },
  {
   "cell_type": "code",
   "execution_count": 67,
   "metadata": {
    "colab": {
     "base_uri": "https://localhost:8080/",
     "height": 369
    },
    "colab_type": "code",
    "id": "s_q300_BixnM",
    "outputId": "31d94d8e-a3af-4253-ab5d-6936e9436daf"
   },
   "outputs": [
    {
     "data": {
      "image/png": "[encoded data removed]",
      "text/plain": [
       "<Figure size 402.375x360 with 1 Axes>"
      ]
     },
     "metadata": {
      "needs_background": "light"
     },
     "output_type": "display_data"
    }
   ],
   "source": [
    "# Sex feature does not seem to be relevant for detecting a stroke\n",
    "sns.catplot(kind = 'count', data = df_stroke, x = 'Sex', hue = 'Target');"
   ]
  },
  {
   "cell_type": "code",
   "execution_count": 68,
   "metadata": {
    "colab": {
     "base_uri": "https://localhost:8080/",
     "height": 369
    },
    "colab_type": "code",
    "id": "9od2BD48il3e",
    "outputId": "9e973817-5a3f-4503-d7d3-72f38bb13798"
   },
   "outputs": [
    {
     "data": {
      "image/png": "[encoded data removed]",
      "text/plain": [
       "<Figure size 402.375x360 with 1 Axes>"
      ]
     },
     "metadata": {
      "needs_background": "light"
     },
     "output_type": "display_data"
    }
   ],
   "source": [
    "# Smoker feature does not seem to be relevant for detecting a stroke\n",
    "sns.catplot(kind = 'count', data = df_stroke, x = 'Smoker', hue = 'Target');"
   ]
  },
  {
   "cell_type": "code",
   "execution_count": 69,
   "metadata": {
    "colab": {
     "base_uri": "https://localhost:8080/",
     "height": 369
    },
    "colab_type": "code",
    "id": "lNfD--YCkVfM",
    "outputId": "31dee04f-a28c-44dc-b89b-e36441073035"
   },
   "outputs": [
    {
     "data": {
      "image/png": "[encoded data removed]",
      "text/plain": [
       "<Figure size 402.375x360 with 1 Axes>"
      ]
     },
     "metadata": {
      "needs_background": "light"
     },
     "output_type": "display_data"
    }
   ],
   "source": [
    "# Patients with higher glucosel levels seem to be more likely to have a stroke\n",
    "sns.catplot(kind = 'count', data = df_stroke, x = 'Diabetes', hue = 'Target');"
   ]
  },
  {
   "cell_type": "code",
   "execution_count": 70,
   "metadata": {
    "colab": {
     "base_uri": "https://localhost:8080/",
     "height": 369
    },
    "colab_type": "code",
    "id": "YiCYE5tsEfe9",
    "outputId": "167f2b5e-519a-47a7-d777-803272e58e1d"
   },
   "outputs": [
    {
     "data": {
      "image/png": "[encoded data removed]",
      "text/plain": [
       "<Figure size 402.375x360 with 1 Axes>"
      ]
     },
     "metadata": {
      "needs_background": "light"
     },
     "output_type": "display_data"
    }
   ],
   "source": [
    "# For above normal cholesterol values, we have higher amount of strokes compared to healthy patients, as expected.\n",
    "sns.catplot(kind = 'count', data = df_stroke, x = 'Cholesterol', hue = 'Target');"
   ]
  },
  {
   "cell_type": "code",
   "execution_count": 71,
   "metadata": {
    "colab": {
     "base_uri": "https://localhost:8080/",
     "height": 385
    },
    "colab_type": "code",
    "id": "EQ50oYdkEffH",
    "outputId": "262e2911-901c-4d80-d8e3-d8b99ecbce8d"
   },
   "outputs": [
    {
     "data": {
      "image/png": "[encoded data removed]",
      "text/plain": [
       "<Figure size 402.375x360 with 1 Axes>"
      ]
     },
     "metadata": {
      "needs_background": "light"
     },
     "output_type": "display_data"
    }
   ],
   "source": [
    "# Plot the target depending on the Age. As we could also expect, the older the patient, the higher the number of strokes.\n",
    "sns.catplot(kind = 'count', data = df_stroke, x = 'Age', hue = 'Target', order = df_stroke['Age'].sort_values().unique());\n",
    "plt.title('Stroke distribution per Age');"
   ]
  },
  {
   "cell_type": "markdown",
   "metadata": {
    "colab_type": "text",
    "id": "0GBETLR_qcF-"
   },
   "source": [
    "## Feature engineering\n",
    "\n",
    "I will calculate the body mass index (BMI) and the pulse derived from the pressures. Hopefully, we can get better insights."
   ]
  },
  {
   "cell_type": "code",
   "execution_count": 72,
   "metadata": {
    "colab": {},
    "colab_type": "code",
    "id": "GqxEzmDjqa5s"
   },
   "outputs": [],
   "source": [
    "df_stroke['BMI']= (df_stroke['Weight']) / (df_stroke['Height']/100)**2 "
   ]
  },
  {
   "cell_type": "code",
   "execution_count": 73,
   "metadata": {
    "colab": {},
    "colab_type": "code",
    "id": "CxYx5CCnqatZ"
   },
   "outputs": [],
   "source": [
    "df_stroke['Pulse']= np.subtract(df_stroke['SystolicPressure'], df_stroke['DiastolicPressure'])"
   ]
  },
  {
   "cell_type": "code",
   "execution_count": 74,
   "metadata": {
    "colab": {
     "base_uri": "https://localhost:8080/",
     "height": 226
    },
    "colab_type": "code",
    "id": "YGaVCQ0fqaeJ",
    "outputId": "7624afce-6f56-48b2-a268-487e64be1cf1"
   },
   "outputs": [
    {
     "data": {
      "text/html": [
       "<div>\n",
       "<style scoped>\n",
       "    .dataframe tbody tr th:only-of-type {\n",
       "        vertical-align: middle;\n",
       "    }\n",
       "\n",
       "    .dataframe tbody tr th {\n",
       "        vertical-align: top;\n",
       "    }\n",
       "\n",
       "    .dataframe thead th {\n",
       "        text-align: right;\n",
       "    }\n",
       "</style>\n",
       "<table border=\"1\" class=\"dataframe\">\n",
       "  <thead>\n",
       "    <tr style=\"text-align: right;\">\n",
       "      <th></th>\n",
       "      <th>Age</th>\n",
       "      <th>Sex</th>\n",
       "      <th>Height</th>\n",
       "      <th>Weight</th>\n",
       "      <th>SystolicPressure</th>\n",
       "      <th>DiastolicPressure</th>\n",
       "      <th>Cholesterol</th>\n",
       "      <th>Diabetes</th>\n",
       "      <th>Smoker</th>\n",
       "      <th>Alcoholic</th>\n",
       "      <th>ActiveSport</th>\n",
       "      <th>Target</th>\n",
       "      <th>BMI</th>\n",
       "      <th>Pulse</th>\n",
       "    </tr>\n",
       "  </thead>\n",
       "  <tbody>\n",
       "    <tr>\n",
       "      <th>0</th>\n",
       "      <td>50</td>\n",
       "      <td>2</td>\n",
       "      <td>168</td>\n",
       "      <td>62.0</td>\n",
       "      <td>110</td>\n",
       "      <td>80</td>\n",
       "      <td>1</td>\n",
       "      <td>1</td>\n",
       "      <td>0</td>\n",
       "      <td>0</td>\n",
       "      <td>1</td>\n",
       "      <td>0</td>\n",
       "      <td>21.967120</td>\n",
       "      <td>30</td>\n",
       "    </tr>\n",
       "    <tr>\n",
       "      <th>1</th>\n",
       "      <td>55</td>\n",
       "      <td>1</td>\n",
       "      <td>156</td>\n",
       "      <td>85.0</td>\n",
       "      <td>140</td>\n",
       "      <td>90</td>\n",
       "      <td>3</td>\n",
       "      <td>1</td>\n",
       "      <td>0</td>\n",
       "      <td>0</td>\n",
       "      <td>1</td>\n",
       "      <td>1</td>\n",
       "      <td>34.927679</td>\n",
       "      <td>50</td>\n",
       "    </tr>\n",
       "    <tr>\n",
       "      <th>2</th>\n",
       "      <td>51</td>\n",
       "      <td>1</td>\n",
       "      <td>165</td>\n",
       "      <td>64.0</td>\n",
       "      <td>130</td>\n",
       "      <td>70</td>\n",
       "      <td>3</td>\n",
       "      <td>1</td>\n",
       "      <td>0</td>\n",
       "      <td>0</td>\n",
       "      <td>0</td>\n",
       "      <td>1</td>\n",
       "      <td>23.507805</td>\n",
       "      <td>60</td>\n",
       "    </tr>\n",
       "    <tr>\n",
       "      <th>3</th>\n",
       "      <td>48</td>\n",
       "      <td>2</td>\n",
       "      <td>169</td>\n",
       "      <td>82.0</td>\n",
       "      <td>150</td>\n",
       "      <td>100</td>\n",
       "      <td>1</td>\n",
       "      <td>1</td>\n",
       "      <td>0</td>\n",
       "      <td>0</td>\n",
       "      <td>1</td>\n",
       "      <td>1</td>\n",
       "      <td>28.710479</td>\n",
       "      <td>50</td>\n",
       "    </tr>\n",
       "    <tr>\n",
       "      <th>5</th>\n",
       "      <td>60</td>\n",
       "      <td>1</td>\n",
       "      <td>151</td>\n",
       "      <td>67.0</td>\n",
       "      <td>120</td>\n",
       "      <td>80</td>\n",
       "      <td>2</td>\n",
       "      <td>2</td>\n",
       "      <td>0</td>\n",
       "      <td>0</td>\n",
       "      <td>0</td>\n",
       "      <td>0</td>\n",
       "      <td>29.384676</td>\n",
       "      <td>40</td>\n",
       "    </tr>\n",
       "  </tbody>\n",
       "</table>\n",
       "</div>"
      ],
      "text/plain": [
       "   Age  Sex  Height  Weight  SystolicPressure  DiastolicPressure  Cholesterol  \\\n",
       "0   50    2     168    62.0               110                 80            1   \n",
       "1   55    1     156    85.0               140                 90            3   \n",
       "2   51    1     165    64.0               130                 70            3   \n",
       "3   48    2     169    82.0               150                100            1   \n",
       "5   60    1     151    67.0               120                 80            2   \n",
       "\n",
       "   Diabetes  Smoker  Alcoholic  ActiveSport  Target        BMI  Pulse  \n",
       "0         1       0          0            1       0  21.967120     30  \n",
       "1         1       0          0            1       1  34.927679     50  \n",
       "2         1       0          0            0       1  23.507805     60  \n",
       "3         1       0          0            1       1  28.710479     50  \n",
       "5         2       0          0            0       0  29.384676     40  "
      ]
     },
     "execution_count": 74,
     "metadata": {},
     "output_type": "execute_result"
    }
   ],
   "source": [
    "df_stroke.head()"
   ]
  },
  {
   "cell_type": "markdown",
   "metadata": {
    "colab_type": "text",
    "id": "aPg0m--SJpvE"
   },
   "source": [
    "# Feature Selection"
   ]
  },
  {
   "cell_type": "code",
   "execution_count": 75,
   "metadata": {
    "colab": {
     "base_uri": "https://localhost:8080/",
     "height": 345
    },
    "colab_type": "code",
    "id": "EmDFiPiVqZsk",
    "outputId": "e1c63f04-736d-43cf-b0a6-6cfd23a98a02"
   },
   "outputs": [
    {
     "data": {
      "image/png": "[encoded data removed]",
      "text/plain": [
       "<Figure size 432x288 with 2 Axes>"
      ]
     },
     "metadata": {
      "needs_background": "light"
     },
     "output_type": "display_data"
    }
   ],
   "source": [
    "sns.heatmap(df_stroke.corr(), cmap='inferno', center=0,vmin=-1, vmax=1);"
   ]
  },
  {
   "cell_type": "markdown",
   "metadata": {
    "colab_type": "text",
    "id": "-5IeV-9Eq58P"
   },
   "source": [
    "From the correlation matrix, we can see that the target is more correlated to Cholesterol, Systolic and diastolic pressures and Age. However, the new feature created BMI does not seem to add any relevant information.\n",
    "\n",
    "Having irrelevant features in data can decrease the accuracy of the models and make the model learn based on irrelevant features. High correlation within independent features means that they represent the same thing and when you drop one of them, you do not lose much quality data.\n",
    "\n",
    "I will do feature selection before storing the cleaned dataset.\n",
    "\n",
    "Again, the goal is to have features with good correlation with the target and low correlation with any independent feature. Attending to this explanation and the above correlation matrix I will discard 'BMI', 'Weight', 'Diabetes', 'Sex', 'Height', 'Smoker', 'Alcoholic', 'ActiveSport'"
   ]
  },
  {
   "cell_type": "code",
   "execution_count": 76,
   "metadata": {
    "colab": {},
    "colab_type": "code",
    "id": "-VuPjlz4t-1A"
   },
   "outputs": [],
   "source": [
    "df_stroke = df_stroke.drop(['Sex', 'Height', 'Weight', 'Diabetes', 'Smoker', 'Alcoholic',\n",
    "       'ActiveSport', 'BMI'], axis=1)"
   ]
  },
  {
   "cell_type": "code",
   "execution_count": 77,
   "metadata": {
    "colab": {},
    "colab_type": "code",
    "id": "-ZutqunmEffK"
   },
   "outputs": [],
   "source": [
    "# After cleaning, exploring and analyzing the dataset, I save if for modeling the stroke classifier\n",
    "df_stroke.to_csv('../data/stroke_data_for_modeling.csv', sep=';', index=False)"
   ]
  }
 ],
 "metadata": {
  "colab": {
   "collapsed_sections": [],
   "name": "stroke_exploring_data.ipynb",
   "provenance": [],
   "toc_visible": true
  },
  "kernelspec": {
   "display_name": "Python 3",
   "language": "python",
   "name": "python3"
  },
  "language_info": {
   "codemirror_mode": {
    "name": "ipython",
    "version": 3
   },
   "file_extension": ".py",
   "mimetype": "text/x-python",
   "name": "python",
   "nbconvert_exporter": "python",
   "pygments_lexer": "ipython3",
   "version": "3.7.4"
  }
 },
 "nbformat": 4,
 "nbformat_minor": 1
}
