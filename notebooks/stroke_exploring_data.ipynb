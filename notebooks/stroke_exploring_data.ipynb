{
  "nbformat": 4,
  "nbformat_minor": 0,
  "metadata": {
    "colab": {
      "name": "stroke_exploring_data.ipynb",
      "provenance": [],
      "collapsed_sections": [],
      "toc_visible": true
    },
    "kernelspec": {
      "display_name": "Python 3",
      "language": "python",
      "name": "python3"
    },
    "language_info": {
      "codemirror_mode": {
        "name": "ipython",
        "version": 3
      },
      "file_extension": ".py",
      "mimetype": "text/x-python",
      "name": "python",
      "nbconvert_exporter": "python",
      "pygments_lexer": "ipython3",
      "version": "3.7.4"
    }
  },
  "cells": [
    {
      "cell_type": "markdown",
      "metadata": {
        "colab_type": "text",
        "id": "l56EKdE3Efd4"
      },
      "source": [
        "### Project - Predict heart attack based on phisiological and physical parameters of the patient"
      ]
    },
    {
      "cell_type": "markdown",
      "metadata": {
        "colab_type": "text",
        "id": "kStETHH0Efd6"
      },
      "source": [
        "https://www.kaggle.com/sulianova/cardiovascular-disease-dataset"
      ]
    },
    {
      "cell_type": "code",
      "metadata": {
        "colab_type": "code",
        "id": "8FDOCuZDIygO",
        "colab": {
          "base_uri": "https://localhost:8080/",
          "height": 221
        },
        "outputId": "87a53fa1-099b-4418-a6e3-b4102cee90c7"
      },
      "source": [
        "!wget -N https://raw.githubusercontent.com/carcrupe/TFM/master/data/heart_parameters_data.csv -P ../data"
      ],
      "execution_count": null,
      "outputs": [
        {
          "output_type": "stream",
          "text": [
            "--2020-08-12 09:01:13--  https://raw.githubusercontent.com/carcrupe/TFM/master/data/heart_parameters_data.csv\n",
            "Resolving raw.githubusercontent.com (raw.githubusercontent.com)... 151.101.0.133, 151.101.64.133, 151.101.128.133, ...\n",
            "Connecting to raw.githubusercontent.com (raw.githubusercontent.com)|151.101.0.133|:443... connected.\n",
            "HTTP request sent, awaiting response... 200 OK\n",
            "Length: 2941524 (2.8M) [text/plain]\n",
            "Saving to: ‘../data/heart_parameters_data.csv’\n",
            "\n",
            "heart_parameters_da 100%[===================>]   2.80M  10.5MB/s    in 0.3s    \n",
            "\n",
            "Last-modified header missing -- time-stamps turned off.\n",
            "2020-08-12 09:01:13 (10.5 MB/s) - ‘../data/heart_parameters_data.csv’ saved [2941524/2941524]\n",
            "\n"
          ],
          "name": "stdout"
        }
      ]
    },
    {
      "cell_type": "code",
      "metadata": {
        "colab_type": "code",
        "id": "MqVW0JQlEmJW",
        "colab": {
          "base_uri": "https://localhost:8080/",
          "height": 221
        },
        "outputId": "83c6b901-b7d6-4b5a-d659-c2d62d2ac6f0"
      },
      "source": [
        "# Get requirements for this notebook from repository\n",
        "!wget -N https://raw.githubusercontent.com/carcrupe/TFM/master/requirements/requirements_exploring.txt -P ../requirements"
      ],
      "execution_count": null,
      "outputs": [
        {
          "output_type": "stream",
          "text": [
            "--2020-08-12 09:01:18--  https://raw.githubusercontent.com/carcrupe/TFM/master/requirements/requirements_exploring.txt\n",
            "Resolving raw.githubusercontent.com (raw.githubusercontent.com)... 151.101.0.133, 151.101.64.133, 151.101.128.133, ...\n",
            "Connecting to raw.githubusercontent.com (raw.githubusercontent.com)|151.101.0.133|:443... connected.\n",
            "HTTP request sent, awaiting response... 200 OK\n",
            "Length: 30 [text/plain]\n",
            "Saving to: ‘../requirements/requirements_exploring.txt’\n",
            "\n",
            "\r          requireme   0%[                    ]       0  --.-KB/s               \rrequirements_explor 100%[===================>]      30  --.-KB/s    in 0s      \n",
            "\n",
            "Last-modified header missing -- time-stamps turned off.\n",
            "2020-08-12 09:01:18 (1.15 MB/s) - ‘../requirements/requirements_exploring.txt’ saved [30/30]\n",
            "\n"
          ],
          "name": "stdout"
        }
      ]
    },
    {
      "cell_type": "code",
      "metadata": {
        "colab_type": "code",
        "id": "M9NEaYkTE2du",
        "colab": {
          "base_uri": "https://localhost:8080/",
          "height": 326
        },
        "outputId": "e12681e1-273f-4c34-c67b-6579a42c13d5"
      },
      "source": [
        "!pip install -r ../requirements/requirements_exploring.txt"
      ],
      "execution_count": null,
      "outputs": [
        {
          "output_type": "stream",
          "text": [
            "Requirement already satisfied: numpy==1.18.5 in /usr/local/lib/python3.6/dist-packages (from -r ../requirements/requirements_exploring.txt (line 1)) (1.18.5)\n",
            "Collecting pandas==1.0.3\n",
            "\u001b[?25l  Downloading https://files.pythonhosted.org/packages/bb/71/8f53bdbcbc67c912b888b40def255767e475402e9df64050019149b1a943/pandas-1.0.3-cp36-cp36m-manylinux1_x86_64.whl (10.0MB)\n",
            "\u001b[K     |████████████████████████████████| 10.0MB 2.7MB/s \n",
            "\u001b[?25hRequirement already satisfied: python-dateutil>=2.6.1 in /usr/local/lib/python3.6/dist-packages (from pandas==1.0.3->-r ../requirements/requirements_exploring.txt (line 2)) (2.8.1)\n",
            "Requirement already satisfied: pytz>=2017.2 in /usr/local/lib/python3.6/dist-packages (from pandas==1.0.3->-r ../requirements/requirements_exploring.txt (line 2)) (2018.9)\n",
            "Requirement already satisfied: six>=1.5 in /usr/local/lib/python3.6/dist-packages (from python-dateutil>=2.6.1->pandas==1.0.3->-r ../requirements/requirements_exploring.txt (line 2)) (1.15.0)\n",
            "Installing collected packages: pandas\n",
            "  Found existing installation: pandas 1.0.5\n",
            "    Uninstalling pandas-1.0.5:\n",
            "      Successfully uninstalled pandas-1.0.5\n",
            "Successfully installed pandas-1.0.3\n"
          ],
          "name": "stdout"
        },
        {
          "output_type": "display_data",
          "data": {
            "application/vnd.colab-display-data+json": {
              "pip_warning": {
                "packages": [
                  "pandas"
                ]
              }
            }
          },
          "metadata": {
            "tags": []
          }
        }
      ]
    },
    {
      "cell_type": "markdown",
      "metadata": {
        "colab_type": "text",
        "id": "tWfm8WSoEfd8"
      },
      "source": [
        "### Action plan - Explore and Analyze"
      ]
    },
    {
      "cell_type": "markdown",
      "metadata": {
        "colab_type": "text",
        "id": "fzzmzB2bEfd_"
      },
      "source": [
        "1. Read, explore and clean the dataset. Evaluate missing & duplicate Values\n",
        "2. Evaluate continuous features, distributions and outliers\n",
        "3. Plot target relations between categorical features to better understand the behaviour of the data.\n",
        "4. Feature engineering with continuous features\n",
        "5. Save organized and cleaned data for posterior machine learning modeling"
      ]
    },
    {
      "cell_type": "code",
      "metadata": {
        "colab_type": "code",
        "id": "ZVHpcmtUEfeB",
        "colab": {
          "base_uri": "https://localhost:8080/",
          "height": 71
        },
        "outputId": "bf0b9158-0226-4362-a1b3-89dcaebd1dc1"
      },
      "source": [
        "import pandas as pd\n",
        "import numpy as np\n",
        "import matplotlib.pyplot as plt\n",
        "import seaborn as sns\n",
        "%matplotlib inline"
      ],
      "execution_count": null,
      "outputs": [
        {
          "output_type": "stream",
          "text": [
            "/usr/local/lib/python3.6/dist-packages/statsmodels/tools/_testing.py:19: FutureWarning: pandas.util.testing is deprecated. Use the functions in the public API at pandas.testing instead.\n",
            "  import pandas.util.testing as tm\n"
          ],
          "name": "stderr"
        }
      ]
    },
    {
      "cell_type": "code",
      "metadata": {
        "colab_type": "code",
        "id": "BW4CLO_eEfeL",
        "colab": {}
      },
      "source": [
        "import warnings\n",
        "warnings.filterwarnings('ignore')"
      ],
      "execution_count": null,
      "outputs": []
    },
    {
      "cell_type": "code",
      "metadata": {
        "colab_type": "code",
        "id": "DfJyEvoOEfeT",
        "colab": {
          "base_uri": "https://localhost:8080/",
          "height": 71
        },
        "outputId": "8927d4d8-a1f5-4fca-821f-33d132344c1b"
      },
      "source": [
        "df_stroke = pd.read_csv('../data/heart_parameters_data.csv', sep=';')\n",
        "df_stroke.dropna(inplace=True)\n",
        "print('There are {} datapoints in the dataset with {} features listed as {}:'\n",
        "          .format(df_stroke.shape[0], df_stroke.shape[1], df_stroke.columns.values))\n",
        "original_size=df_stroke.shape[0]"
      ],
      "execution_count": null,
      "outputs": [
        {
          "output_type": "stream",
          "text": [
            "There are 70000 datapoints in the dataset with 13 features listed as ['id' 'age' 'gender' 'height' 'weight' 'ap_hi' 'ap_lo' 'cholesterol'\n",
            " 'gluc' 'smoke' 'alco' 'active' 'cardio']:\n"
          ],
          "name": "stdout"
        }
      ]
    },
    {
      "cell_type": "code",
      "metadata": {
        "colab_type": "code",
        "id": "h5qKdMVcJr8K",
        "colab": {}
      },
      "source": [
        "#Set appropiate column names for second dataset, according to the data in df_stroke\n",
        "columns = ['Id','Age', 'Sex', 'Height', 'Weight','SystolicPressure', 'DiastolicPressure', 'Cholesterol', 'Diabetes', 'Smoker', 'Alcoholic',\n",
        "           'ActiveSport','Target']\n",
        "df_stroke.columns=columns"
      ],
      "execution_count": null,
      "outputs": []
    },
    {
      "cell_type": "code",
      "metadata": {
        "colab_type": "code",
        "id": "6vWJRG1HKk5f",
        "colab": {
          "base_uri": "https://localhost:8080/",
          "height": 224
        },
        "outputId": "09d41b31-95bc-4694-8b0e-da71ab34c63a"
      },
      "source": [
        "df_stroke.head()"
      ],
      "execution_count": null,
      "outputs": [
        {
          "output_type": "execute_result",
          "data": {
            "text/html": [
              "<div>\n",
              "<style scoped>\n",
              "    .dataframe tbody tr th:only-of-type {\n",
              "        vertical-align: middle;\n",
              "    }\n",
              "\n",
              "    .dataframe tbody tr th {\n",
              "        vertical-align: top;\n",
              "    }\n",
              "\n",
              "    .dataframe thead th {\n",
              "        text-align: right;\n",
              "    }\n",
              "</style>\n",
              "<table border=\"1\" class=\"dataframe\">\n",
              "  <thead>\n",
              "    <tr style=\"text-align: right;\">\n",
              "      <th></th>\n",
              "      <th>Id</th>\n",
              "      <th>Age</th>\n",
              "      <th>Sex</th>\n",
              "      <th>Height</th>\n",
              "      <th>Weight</th>\n",
              "      <th>SystolicPressure</th>\n",
              "      <th>DiastolicPressure</th>\n",
              "      <th>Cholesterol</th>\n",
              "      <th>Diabetes</th>\n",
              "      <th>Smoker</th>\n",
              "      <th>Alcoholic</th>\n",
              "      <th>ActiveSport</th>\n",
              "      <th>Target</th>\n",
              "    </tr>\n",
              "  </thead>\n",
              "  <tbody>\n",
              "    <tr>\n",
              "      <th>0</th>\n",
              "      <td>0</td>\n",
              "      <td>18393</td>\n",
              "      <td>2</td>\n",
              "      <td>168</td>\n",
              "      <td>62.0</td>\n",
              "      <td>110</td>\n",
              "      <td>80</td>\n",
              "      <td>1</td>\n",
              "      <td>1</td>\n",
              "      <td>0</td>\n",
              "      <td>0</td>\n",
              "      <td>1</td>\n",
              "      <td>0</td>\n",
              "    </tr>\n",
              "    <tr>\n",
              "      <th>1</th>\n",
              "      <td>1</td>\n",
              "      <td>20228</td>\n",
              "      <td>1</td>\n",
              "      <td>156</td>\n",
              "      <td>85.0</td>\n",
              "      <td>140</td>\n",
              "      <td>90</td>\n",
              "      <td>3</td>\n",
              "      <td>1</td>\n",
              "      <td>0</td>\n",
              "      <td>0</td>\n",
              "      <td>1</td>\n",
              "      <td>1</td>\n",
              "    </tr>\n",
              "    <tr>\n",
              "      <th>2</th>\n",
              "      <td>2</td>\n",
              "      <td>18857</td>\n",
              "      <td>1</td>\n",
              "      <td>165</td>\n",
              "      <td>64.0</td>\n",
              "      <td>130</td>\n",
              "      <td>70</td>\n",
              "      <td>3</td>\n",
              "      <td>1</td>\n",
              "      <td>0</td>\n",
              "      <td>0</td>\n",
              "      <td>0</td>\n",
              "      <td>1</td>\n",
              "    </tr>\n",
              "    <tr>\n",
              "      <th>3</th>\n",
              "      <td>3</td>\n",
              "      <td>17623</td>\n",
              "      <td>2</td>\n",
              "      <td>169</td>\n",
              "      <td>82.0</td>\n",
              "      <td>150</td>\n",
              "      <td>100</td>\n",
              "      <td>1</td>\n",
              "      <td>1</td>\n",
              "      <td>0</td>\n",
              "      <td>0</td>\n",
              "      <td>1</td>\n",
              "      <td>1</td>\n",
              "    </tr>\n",
              "    <tr>\n",
              "      <th>4</th>\n",
              "      <td>4</td>\n",
              "      <td>17474</td>\n",
              "      <td>1</td>\n",
              "      <td>156</td>\n",
              "      <td>56.0</td>\n",
              "      <td>100</td>\n",
              "      <td>60</td>\n",
              "      <td>1</td>\n",
              "      <td>1</td>\n",
              "      <td>0</td>\n",
              "      <td>0</td>\n",
              "      <td>0</td>\n",
              "      <td>0</td>\n",
              "    </tr>\n",
              "  </tbody>\n",
              "</table>\n",
              "</div>"
            ],
            "text/plain": [
              "   Id    Age  Sex  Height  ...  Smoker  Alcoholic  ActiveSport  Target\n",
              "0   0  18393    2     168  ...       0          0            1       0\n",
              "1   1  20228    1     156  ...       0          0            1       1\n",
              "2   2  18857    1     165  ...       0          0            0       1\n",
              "3   3  17623    2     169  ...       0          0            1       1\n",
              "4   4  17474    1     156  ...       0          0            0       0\n",
              "\n",
              "[5 rows x 13 columns]"
            ]
          },
          "metadata": {
            "tags": []
          },
          "execution_count": 8
        }
      ]
    },
    {
      "cell_type": "code",
      "metadata": {
        "colab_type": "code",
        "id": "9ks5RAd_Kv7T",
        "colab": {
          "base_uri": "https://localhost:8080/",
          "height": 357
        },
        "outputId": "e9355651-d6db-4cdb-f2cd-18165b930d02"
      },
      "source": [
        "# We can see the type of each feature and that there are no null values.\n",
        "df_stroke.info()"
      ],
      "execution_count": null,
      "outputs": [
        {
          "output_type": "stream",
          "text": [
            "<class 'pandas.core.frame.DataFrame'>\n",
            "Int64Index: 70000 entries, 0 to 69999\n",
            "Data columns (total 13 columns):\n",
            " #   Column             Non-Null Count  Dtype  \n",
            "---  ------             --------------  -----  \n",
            " 0   Id                 70000 non-null  int64  \n",
            " 1   Age                70000 non-null  int64  \n",
            " 2   Sex                70000 non-null  int64  \n",
            " 3   Height             70000 non-null  int64  \n",
            " 4   Weight             70000 non-null  float64\n",
            " 5   SystolicPressure   70000 non-null  int64  \n",
            " 6   DiastolicPressure  70000 non-null  int64  \n",
            " 7   Cholesterol        70000 non-null  int64  \n",
            " 8   Diabetes           70000 non-null  int64  \n",
            " 9   Smoker             70000 non-null  int64  \n",
            " 10  Alcoholic          70000 non-null  int64  \n",
            " 11  ActiveSport        70000 non-null  int64  \n",
            " 12  Target             70000 non-null  int64  \n",
            "dtypes: float64(1), int64(12)\n",
            "memory usage: 7.5 MB\n"
          ],
          "name": "stdout"
        }
      ]
    },
    {
      "cell_type": "code",
      "metadata": {
        "colab_type": "code",
        "id": "VvyO9tF4EfeZ",
        "colab": {}
      },
      "source": [
        "#Age was given in days, transform to years and round to closest integer\n",
        "df_stroke['Age']=(df_stroke['Age']/365).astype(int) \n",
        "\n",
        "# Column ID is not useful for data modeling, we can just remove it\n",
        "df_stroke.drop(axis=1, columns=['Id'], inplace=True)"
      ],
      "execution_count": null,
      "outputs": []
    },
    {
      "cell_type": "code",
      "metadata": {
        "colab_type": "code",
        "id": "iTqWMhL_Efef",
        "colab": {
          "base_uri": "https://localhost:8080/",
          "height": 34
        },
        "outputId": "f6f6a2d4-a311-45d7-a155-a9ed46b9b823"
      },
      "source": [
        "# After removing column Id and converting days to years, I have generated 3208 duplicated observations.\n",
        "df_stroke[df_stroke.duplicated()==True].shape"
      ],
      "execution_count": null,
      "outputs": [
        {
          "output_type": "execute_result",
          "data": {
            "text/plain": [
              "(3208, 12)"
            ]
          },
          "metadata": {
            "tags": []
          },
          "execution_count": 11
        }
      ]
    },
    {
      "cell_type": "code",
      "metadata": {
        "colab_type": "code",
        "id": "IFEuzGwtEfel",
        "colab": {
          "base_uri": "https://localhost:8080/",
          "height": 34
        },
        "outputId": "2cbaa5c5-2772-4f5a-9eec-c1691a156798"
      },
      "source": [
        "# Remove duplicates and check size of the data set again\n",
        "df_stroke.drop_duplicates(inplace=True) \n",
        "cleaned_size = df_stroke.shape\n",
        "cleaned_size"
      ],
      "execution_count": null,
      "outputs": [
        {
          "output_type": "execute_result",
          "data": {
            "text/plain": [
              "(66792, 12)"
            ]
          },
          "metadata": {
            "tags": []
          },
          "execution_count": 12
        }
      ]
    },
    {
      "cell_type": "code",
      "metadata": {
        "colab_type": "code",
        "id": "oFpqGyr1Efer",
        "colab": {
          "base_uri": "https://localhost:8080/",
          "height": 34
        },
        "outputId": "51a8d7fa-0046-4fde-ecd8-6883fa68dee8"
      },
      "source": [
        "# Print the number of lost samples after cleaning the data set. 5% seems to be a reasonable loss.\n",
        "print ('Number of lost samples after cleaning null and duplicated observations in heart_parameters_data.csv: {:,.0f}%'.format((1- cleaned_size[0]/original_size)*100))"
      ],
      "execution_count": null,
      "outputs": [
        {
          "output_type": "stream",
          "text": [
            "Number of lost samples after cleaning null and duplicated observations in heart_parameters_data.csv: 5%\n"
          ],
          "name": "stdout"
        }
      ]
    },
    {
      "cell_type": "code",
      "metadata": {
        "colab_type": "code",
        "id": "K6PCV9W9Efev",
        "colab": {}
      },
      "source": [
        "target = df_stroke.groupby(['Target'])"
      ],
      "execution_count": null,
      "outputs": []
    },
    {
      "cell_type": "code",
      "metadata": {
        "colab_type": "code",
        "id": "4DMwCNGEEfe0",
        "colab": {
          "base_uri": "https://localhost:8080/",
          "height": 162
        },
        "outputId": "816b205c-2072-4f50-babe-d214a81a07f1"
      },
      "source": [
        "#We see that there are three parameters which are quite higher in mean when there is a stroke - SystolicPressure, DiastolicPressure \n",
        "# and Cholesterol\n",
        "target.mean()"
      ],
      "execution_count": null,
      "outputs": [
        {
          "output_type": "execute_result",
          "data": {
            "text/html": [
              "<div>\n",
              "<style scoped>\n",
              "    .dataframe tbody tr th:only-of-type {\n",
              "        vertical-align: middle;\n",
              "    }\n",
              "\n",
              "    .dataframe tbody tr th {\n",
              "        vertical-align: top;\n",
              "    }\n",
              "\n",
              "    .dataframe thead th {\n",
              "        text-align: right;\n",
              "    }\n",
              "</style>\n",
              "<table border=\"1\" class=\"dataframe\">\n",
              "  <thead>\n",
              "    <tr style=\"text-align: right;\">\n",
              "      <th></th>\n",
              "      <th>Age</th>\n",
              "      <th>Sex</th>\n",
              "      <th>Height</th>\n",
              "      <th>Weight</th>\n",
              "      <th>SystolicPressure</th>\n",
              "      <th>DiastolicPressure</th>\n",
              "      <th>Cholesterol</th>\n",
              "      <th>Diabetes</th>\n",
              "      <th>Smoker</th>\n",
              "      <th>Alcoholic</th>\n",
              "      <th>ActiveSport</th>\n",
              "    </tr>\n",
              "    <tr>\n",
              "      <th>Target</th>\n",
              "      <th></th>\n",
              "      <th></th>\n",
              "      <th></th>\n",
              "      <th></th>\n",
              "      <th></th>\n",
              "      <th></th>\n",
              "      <th></th>\n",
              "      <th></th>\n",
              "      <th></th>\n",
              "      <th></th>\n",
              "      <th></th>\n",
              "    </tr>\n",
              "  </thead>\n",
              "  <tbody>\n",
              "    <tr>\n",
              "      <th>0</th>\n",
              "      <td>51.220191</td>\n",
              "      <td>1.355471</td>\n",
              "      <td>164.424123</td>\n",
              "      <td>71.901184</td>\n",
              "      <td>120.528728</td>\n",
              "      <td>84.634743</td>\n",
              "      <td>1.231479</td>\n",
              "      <td>1.187429</td>\n",
              "      <td>0.098960</td>\n",
              "      <td>0.059419</td>\n",
              "      <td>0.810025</td>\n",
              "    </tr>\n",
              "    <tr>\n",
              "      <th>1</th>\n",
              "      <td>54.422835</td>\n",
              "      <td>1.356915</td>\n",
              "      <td>164.263212</td>\n",
              "      <td>77.018998</td>\n",
              "      <td>137.528734</td>\n",
              "      <td>109.660457</td>\n",
              "      <td>1.526921</td>\n",
              "      <td>1.282514</td>\n",
              "      <td>0.085632</td>\n",
              "      <td>0.053315</td>\n",
              "      <td>0.787588</td>\n",
              "    </tr>\n",
              "  </tbody>\n",
              "</table>\n",
              "</div>"
            ],
            "text/plain": [
              "              Age       Sex      Height  ...    Smoker  Alcoholic  ActiveSport\n",
              "Target                                   ...                                  \n",
              "0       51.220191  1.355471  164.424123  ...  0.098960   0.059419     0.810025\n",
              "1       54.422835  1.356915  164.263212  ...  0.085632   0.053315     0.787588\n",
              "\n",
              "[2 rows x 11 columns]"
            ]
          },
          "metadata": {
            "tags": []
          },
          "execution_count": 15
        }
      ]
    },
    {
      "cell_type": "code",
      "metadata": {
        "colab_type": "code",
        "id": "xI0sa03zNO-2",
        "colab": {
          "base_uri": "https://localhost:8080/",
          "height": 297
        },
        "outputId": "5fb8572e-954c-4c9e-d3df-ea28e308af8b"
      },
      "source": [
        "# Let us evaluate continuous values to see if we have outliers.\n",
        "continuous = ['Age', 'Height', 'Weight','SystolicPressure', 'DiastolicPressure']\n",
        "df_stroke[continuous].describe()"
      ],
      "execution_count": null,
      "outputs": [
        {
          "output_type": "execute_result",
          "data": {
            "text/html": [
              "<div>\n",
              "<style scoped>\n",
              "    .dataframe tbody tr th:only-of-type {\n",
              "        vertical-align: middle;\n",
              "    }\n",
              "\n",
              "    .dataframe tbody tr th {\n",
              "        vertical-align: top;\n",
              "    }\n",
              "\n",
              "    .dataframe thead th {\n",
              "        text-align: right;\n",
              "    }\n",
              "</style>\n",
              "<table border=\"1\" class=\"dataframe\">\n",
              "  <thead>\n",
              "    <tr style=\"text-align: right;\">\n",
              "      <th></th>\n",
              "      <th>Age</th>\n",
              "      <th>Height</th>\n",
              "      <th>Weight</th>\n",
              "      <th>SystolicPressure</th>\n",
              "      <th>DiastolicPressure</th>\n",
              "    </tr>\n",
              "  </thead>\n",
              "  <tbody>\n",
              "    <tr>\n",
              "      <th>count</th>\n",
              "      <td>66792.000000</td>\n",
              "      <td>66792.000000</td>\n",
              "      <td>66792.000000</td>\n",
              "      <td>66792.000000</td>\n",
              "      <td>66792.000000</td>\n",
              "    </tr>\n",
              "    <tr>\n",
              "      <th>mean</th>\n",
              "      <td>52.859729</td>\n",
              "      <td>164.341748</td>\n",
              "      <td>74.521160</td>\n",
              "      <td>129.231585</td>\n",
              "      <td>97.446221</td>\n",
              "    </tr>\n",
              "    <tr>\n",
              "      <th>std</th>\n",
              "      <td>6.803670</td>\n",
              "      <td>8.333904</td>\n",
              "      <td>14.580675</td>\n",
              "      <td>157.649354</td>\n",
              "      <td>192.906434</td>\n",
              "    </tr>\n",
              "    <tr>\n",
              "      <th>min</th>\n",
              "      <td>29.000000</td>\n",
              "      <td>55.000000</td>\n",
              "      <td>10.000000</td>\n",
              "      <td>-150.000000</td>\n",
              "      <td>-70.000000</td>\n",
              "    </tr>\n",
              "    <tr>\n",
              "      <th>25%</th>\n",
              "      <td>48.000000</td>\n",
              "      <td>159.000000</td>\n",
              "      <td>65.000000</td>\n",
              "      <td>120.000000</td>\n",
              "      <td>80.000000</td>\n",
              "    </tr>\n",
              "    <tr>\n",
              "      <th>50%</th>\n",
              "      <td>53.000000</td>\n",
              "      <td>165.000000</td>\n",
              "      <td>72.000000</td>\n",
              "      <td>120.000000</td>\n",
              "      <td>80.000000</td>\n",
              "    </tr>\n",
              "    <tr>\n",
              "      <th>75%</th>\n",
              "      <td>58.000000</td>\n",
              "      <td>170.000000</td>\n",
              "      <td>83.000000</td>\n",
              "      <td>140.000000</td>\n",
              "      <td>90.000000</td>\n",
              "    </tr>\n",
              "    <tr>\n",
              "      <th>max</th>\n",
              "      <td>64.000000</td>\n",
              "      <td>250.000000</td>\n",
              "      <td>200.000000</td>\n",
              "      <td>16020.000000</td>\n",
              "      <td>11000.000000</td>\n",
              "    </tr>\n",
              "  </tbody>\n",
              "</table>\n",
              "</div>"
            ],
            "text/plain": [
              "                Age        Height  ...  SystolicPressure  DiastolicPressure\n",
              "count  66792.000000  66792.000000  ...      66792.000000       66792.000000\n",
              "mean      52.859729    164.341748  ...        129.231585          97.446221\n",
              "std        6.803670      8.333904  ...        157.649354         192.906434\n",
              "min       29.000000     55.000000  ...       -150.000000         -70.000000\n",
              "25%       48.000000    159.000000  ...        120.000000          80.000000\n",
              "50%       53.000000    165.000000  ...        120.000000          80.000000\n",
              "75%       58.000000    170.000000  ...        140.000000          90.000000\n",
              "max       64.000000    250.000000  ...      16020.000000       11000.000000\n",
              "\n",
              "[8 rows x 5 columns]"
            ]
          },
          "metadata": {
            "tags": []
          },
          "execution_count": 16
        }
      ]
    },
    {
      "cell_type": "markdown",
      "metadata": {
        "colab_type": "text",
        "id": "yQfnapRqJpC7"
      },
      "source": [
        "We can see that there are some values that do not correspond to a real situation. We have negative systolic and diastolic pressures, weigth of 10Kg for a 29 year old person or maximum systolic pressure of 16.020. These values should be considered not only outliers but also measurement errors, since they could never be true for a patient. Therefore, I will deal with them in the cells below."
      ]
    },
    {
      "cell_type": "code",
      "metadata": {
        "colab_type": "code",
        "id": "TSNZLTWsK0gb",
        "colab": {
          "base_uri": "https://localhost:8080/",
          "height": 279
        },
        "outputId": "dc2ae2e1-01ac-4472-cebe-c9c43d45d748"
      },
      "source": [
        "# We can see there are a lot of outliers for the weigth feature. \n",
        "sns.boxplot(x='Target',y='Weight',data=df_stroke);"
      ],
      "execution_count": null,
      "outputs": [
        {
          "output_type": "display_data",
          "data": {
            "image/png": "[encoded data removed]",
            "text/plain": [
              "<Figure size 432x288 with 1 Axes>"
            ]
          },
          "metadata": {
            "tags": [],
            "needs_background": "light"
          }
        }
      ]
    },
    {
      "cell_type": "code",
      "metadata": {
        "colab_type": "code",
        "id": "1XQPBZ3cK0Sl",
        "colab": {
          "base_uri": "https://localhost:8080/",
          "height": 279
        },
        "outputId": "5dfff4ff-7fc7-4fc6-dfc9-6fc3261b0307"
      },
      "source": [
        "# The same happens with height, having many inferior outliers\n",
        "sns.boxplot(x='Target',y='Height',data=df_stroke);"
      ],
      "execution_count": null,
      "outputs": [
        {
          "output_type": "display_data",
          "data": {
            "image/png": "[encoded data removed]",
            "text/plain": [
              "<Figure size 432x288 with 1 Axes>"
            ]
          },
          "metadata": {
            "tags": [],
            "needs_background": "light"
          }
        }
      ]
    },
    {
      "cell_type": "code",
      "metadata": {
        "colab_type": "code",
        "id": "akks4OSCK0CR",
        "colab": {
          "base_uri": "https://localhost:8080/",
          "height": 585
        },
        "outputId": "9a993f13-c9cf-4b02-bfe8-f7fc20750ce1"
      },
      "source": [
        "# I will represent histrograms for all continous values but age\n",
        "figure, axes = plt.subplots(nrows=2, ncols=2, figsize=(12,8))\n",
        "\n",
        "axes[0,0].hist(df_stroke['Weight'], bins=200);\n",
        "axes[0,0].set_title('Weight histogram')\n",
        "\n",
        "axes[0,1].hist(df_stroke['Height'], bins=200, color='r');\n",
        "axes[0,1].set_title('Height histogram')\n",
        "\n",
        "axes[1,0].hist(df_stroke['SystolicPressure'], bins=2000, color='g');\n",
        "axes[1,0].set_xlim([50,250])\n",
        "axes[1,0].set_title('Systolic pressure histogram')\n",
        "\n",
        "axes[1,1].hist(df_stroke['DiastolicPressure'], bins=2000, color='k');\n",
        "axes[1,1].set_xlim([20,150])\n",
        "axes[1,1].set_title('Diastolic pressure histogram')\n",
        "\n",
        "\n",
        "figure.tight_layout()\n"
      ],
      "execution_count": null,
      "outputs": [
        {
          "output_type": "display_data",
          "data": {
            "image/png": "[encoded data removed]",
            "text/plain": [
              "<Figure size 864x576 with 4 Axes>"
            ]
          },
          "metadata": {
            "tags": [],
            "needs_background": "light"
          }
        }
      ]
    },
    {
      "cell_type": "markdown",
      "metadata": {
        "colab_type": "text",
        "id": "J3Kk8LAQQ38L"
      },
      "source": [
        "As a next step, after checking the histograms and boxplot, I will delete all observations that are considered outliers. By convention, this means all observations that are below Q1-1.5 IQR or above Q3+1.5 IQR. I will define a function to calculate IQR and number of outliers for a given feature."
      ]
    },
    {
      "cell_type": "code",
      "metadata": {
        "colab_type": "code",
        "id": "q7KOboPsR8ns",
        "colab": {}
      },
      "source": [
        "\n",
        "def quantify_outliers(df):\n",
        "    #I will create a data frame with each feature and only the values Q1-1.5*IQR and Q3+1.5*IQR, \n",
        "    #for further filtering and cleaning\n",
        "    feature_dist_limits = pd.DataFrame(columns=df.columns, index=['Q1-1.5*IQR', 'Q3+1.5*IQR'])\n",
        "    for feature in df.columns:\n",
        "        feature_data = df[feature]        \n",
        "        # 25th percentile of the data of the given feature\n",
        "        Q1 = np.percentile(feature_data, 25.)\n",
        "        # 75th percentile of the data of the given feature \n",
        "        Q3 = np.percentile(feature_data, 75.) \n",
        "        IQR = Q3-Q1 #Interquartile Range\n",
        "        outlier_step = IQR * 1.5 # As defined previously\n",
        "        inf_outlier = Q1 - outlier_step\n",
        "        sup_outlier = Q3 + outlier_step\n",
        "        feature_dist_limits[feature] = ([inf_outlier,sup_outlier])\n",
        "        meaningful_data = ((feature_data >= inf_outlier) & (feature_data <= sup_outlier))\n",
        "        outliers = feature_data[~meaningful_data].index.tolist()        \n",
        "        print('The number of outliers for feature {} is {}'.format(feature, len(outliers)))\n",
        "    return feature_dist_limits"
      ],
      "execution_count": null,
      "outputs": []
    },
    {
      "cell_type": "code",
      "metadata": {
        "colab_type": "code",
        "id": "JAlHP_a7TKs-",
        "colab": {
          "base_uri": "https://localhost:8080/",
          "height": 85
        },
        "outputId": "91927466-9b7c-433b-efaa-90399e93401b"
      },
      "source": [
        "outliers = quantify_outliers(df_stroke[['Height', 'Weight', 'SystolicPressure', 'DiastolicPressure']])"
      ],
      "execution_count": null,
      "outputs": [
        {
          "output_type": "stream",
          "text": [
            "The number of outliers for feature Height is 519\n",
            "The number of outliers for feature Weight is 1282\n",
            "The number of outliers for feature SystolicPressure is 1433\n",
            "The number of outliers for feature DiastolicPressure is 4617\n"
          ],
          "name": "stdout"
        }
      ]
    },
    {
      "cell_type": "code",
      "metadata": {
        "colab_type": "code",
        "id": "9DlmqQmcavOM",
        "colab": {
          "base_uri": "https://localhost:8080/",
          "height": 111
        },
        "outputId": "74c9c530-40d4-4900-ae2c-5300c0637773"
      },
      "source": [
        "outliers"
      ],
      "execution_count": null,
      "outputs": [
        {
          "output_type": "execute_result",
          "data": {
            "text/html": [
              "<div>\n",
              "<style scoped>\n",
              "    .dataframe tbody tr th:only-of-type {\n",
              "        vertical-align: middle;\n",
              "    }\n",
              "\n",
              "    .dataframe tbody tr th {\n",
              "        vertical-align: top;\n",
              "    }\n",
              "\n",
              "    .dataframe thead th {\n",
              "        text-align: right;\n",
              "    }\n",
              "</style>\n",
              "<table border=\"1\" class=\"dataframe\">\n",
              "  <thead>\n",
              "    <tr style=\"text-align: right;\">\n",
              "      <th></th>\n",
              "      <th>Height</th>\n",
              "      <th>Weight</th>\n",
              "      <th>SystolicPressure</th>\n",
              "      <th>DiastolicPressure</th>\n",
              "    </tr>\n",
              "  </thead>\n",
              "  <tbody>\n",
              "    <tr>\n",
              "      <th>Q1-1.5*IQR</th>\n",
              "      <td>142.5</td>\n",
              "      <td>38.0</td>\n",
              "      <td>90.0</td>\n",
              "      <td>65.0</td>\n",
              "    </tr>\n",
              "    <tr>\n",
              "      <th>Q3+1.5*IQR</th>\n",
              "      <td>186.5</td>\n",
              "      <td>110.0</td>\n",
              "      <td>170.0</td>\n",
              "      <td>105.0</td>\n",
              "    </tr>\n",
              "  </tbody>\n",
              "</table>\n",
              "</div>"
            ],
            "text/plain": [
              "            Height  Weight  SystolicPressure  DiastolicPressure\n",
              "Q1-1.5*IQR   142.5    38.0              90.0               65.0\n",
              "Q3+1.5*IQR   186.5   110.0             170.0              105.0"
            ]
          },
          "metadata": {
            "tags": []
          },
          "execution_count": 27
        }
      ]
    },
    {
      "cell_type": "code",
      "metadata": {
        "colab_type": "code",
        "id": "b4zbaGKRTKc6",
        "colab": {
          "base_uri": "https://localhost:8080/",
          "height": 34
        },
        "outputId": "f8fe08a0-778c-4c88-9731-bef884a2111d"
      },
      "source": [
        "# We have the limits of each feature taking into account the inter quartile range\n",
        "# I will delete all of them to have a more realistic dataset for modeling\n",
        "\n",
        "#Delete diastolic pressures out of range\n",
        "df_stroke = df_stroke[df_stroke['DiastolicPressure'] >= outliers['DiastolicPressure'][0]]\n",
        "df_stroke = df_stroke[df_stroke['DiastolicPressure'] <= outliers['DiastolicPressure'][1]]\n",
        "\n",
        "#Delete systolic pressures out of range and the ones lower than diastolic pressure, since this cannot happen\n",
        "df_stroke = df_stroke[df_stroke['SystolicPressure']>= outliers['SystolicPressure'][0]]\n",
        "df_stroke = df_stroke[df_stroke['SystolicPressure']<= outliers['SystolicPressure'][1]]\n",
        "df_stroke = df_stroke[df_stroke['SystolicPressure']>df_stroke['DiastolicPressure']]\n",
        "\n",
        "#Delete weight out of range\n",
        "df_stroke = df_stroke[df_stroke['Weight'] >= outliers['Weight'][0]]\n",
        "df_stroke = df_stroke[df_stroke['Weight'] <= outliers['Weight'][1]]\n",
        "\n",
        "#Delete height out of range\n",
        "df_stroke = df_stroke[df_stroke['Height'] >= outliers['Height'][0]]\n",
        "df_stroke = df_stroke[df_stroke['Height'] <= outliers['Height'][1]]\n",
        "\n",
        "cleaned_data = df_stroke.shape[0]\n",
        "cleaned_data"
      ],
      "execution_count": null,
      "outputs": [
        {
          "output_type": "execute_result",
          "data": {
            "text/plain": [
              "59772"
            ]
          },
          "metadata": {
            "tags": []
          },
          "execution_count": 28
        }
      ]
    },
    {
      "cell_type": "code",
      "metadata": {
        "colab_type": "code",
        "id": "P6QlmFPXhIUv",
        "colab": {
          "base_uri": "https://localhost:8080/",
          "height": 34
        },
        "outputId": "a04d7609-7ba0-4410-b13e-a6b765e9415b"
      },
      "source": [
        "print ('Number of lost samples after cleaning nulls, duplicates and removing outliers in heart_parameters_data.csv: {:,.0f}%'.format((1- cleaned_data/original_size)*100))"
      ],
      "execution_count": null,
      "outputs": [
        {
          "output_type": "stream",
          "text": [
            "Number of lost samples after cleaning nulls, duplicates and removing outliers in heart_parameters_data.csv: 15%\n"
          ],
          "name": "stdout"
        }
      ]
    },
    {
      "cell_type": "code",
      "metadata": {
        "colab_type": "code",
        "id": "JI8qYDo9hkb4",
        "colab": {
          "base_uri": "https://localhost:8080/",
          "height": 317
        },
        "outputId": "6c586377-935c-499f-8a44-96f4acb7d9f6"
      },
      "source": [
        "# Data is finally clean and ready for modeling. I will evaluate correlation between features and \n",
        "# relationships of the target with the categorical columns\n",
        "df_stroke.describe()"
      ],
      "execution_count": null,
      "outputs": [
        {
          "output_type": "execute_result",
          "data": {
            "text/html": [
              "<div>\n",
              "<style scoped>\n",
              "    .dataframe tbody tr th:only-of-type {\n",
              "        vertical-align: middle;\n",
              "    }\n",
              "\n",
              "    .dataframe tbody tr th {\n",
              "        vertical-align: top;\n",
              "    }\n",
              "\n",
              "    .dataframe thead th {\n",
              "        text-align: right;\n",
              "    }\n",
              "</style>\n",
              "<table border=\"1\" class=\"dataframe\">\n",
              "  <thead>\n",
              "    <tr style=\"text-align: right;\">\n",
              "      <th></th>\n",
              "      <th>Age</th>\n",
              "      <th>Sex</th>\n",
              "      <th>Height</th>\n",
              "      <th>Weight</th>\n",
              "      <th>SystolicPressure</th>\n",
              "      <th>DiastolicPressure</th>\n",
              "      <th>Cholesterol</th>\n",
              "      <th>Diabetes</th>\n",
              "      <th>Smoker</th>\n",
              "      <th>Alcoholic</th>\n",
              "      <th>ActiveSport</th>\n",
              "      <th>Target</th>\n",
              "    </tr>\n",
              "  </thead>\n",
              "  <tbody>\n",
              "    <tr>\n",
              "      <th>count</th>\n",
              "      <td>59772.000000</td>\n",
              "      <td>59772.000000</td>\n",
              "      <td>59772.000000</td>\n",
              "      <td>59772.000000</td>\n",
              "      <td>59772.000000</td>\n",
              "      <td>59772.000000</td>\n",
              "      <td>59772.000000</td>\n",
              "      <td>59772.000000</td>\n",
              "      <td>59772.000000</td>\n",
              "      <td>59772.000000</td>\n",
              "      <td>59772.000000</td>\n",
              "      <td>59772.000000</td>\n",
              "    </tr>\n",
              "    <tr>\n",
              "      <th>mean</th>\n",
              "      <td>52.936291</td>\n",
              "      <td>1.356321</td>\n",
              "      <td>164.411095</td>\n",
              "      <td>73.737094</td>\n",
              "      <td>126.797163</td>\n",
              "      <td>81.826625</td>\n",
              "      <td>1.377652</td>\n",
              "      <td>1.232785</td>\n",
              "      <td>0.091013</td>\n",
              "      <td>0.055126</td>\n",
              "      <td>0.798468</td>\n",
              "      <td>0.508298</td>\n",
              "    </tr>\n",
              "    <tr>\n",
              "      <th>std</th>\n",
              "      <td>6.781883</td>\n",
              "      <td>0.478916</td>\n",
              "      <td>7.660220</td>\n",
              "      <td>12.760719</td>\n",
              "      <td>14.562676</td>\n",
              "      <td>7.834424</td>\n",
              "      <td>0.688535</td>\n",
              "      <td>0.580232</td>\n",
              "      <td>0.287629</td>\n",
              "      <td>0.228228</td>\n",
              "      <td>0.401148</td>\n",
              "      <td>0.499935</td>\n",
              "    </tr>\n",
              "    <tr>\n",
              "      <th>min</th>\n",
              "      <td>29.000000</td>\n",
              "      <td>1.000000</td>\n",
              "      <td>143.000000</td>\n",
              "      <td>38.000000</td>\n",
              "      <td>90.000000</td>\n",
              "      <td>65.000000</td>\n",
              "      <td>1.000000</td>\n",
              "      <td>1.000000</td>\n",
              "      <td>0.000000</td>\n",
              "      <td>0.000000</td>\n",
              "      <td>0.000000</td>\n",
              "      <td>0.000000</td>\n",
              "    </tr>\n",
              "    <tr>\n",
              "      <th>25%</th>\n",
              "      <td>48.000000</td>\n",
              "      <td>1.000000</td>\n",
              "      <td>159.000000</td>\n",
              "      <td>65.000000</td>\n",
              "      <td>120.000000</td>\n",
              "      <td>80.000000</td>\n",
              "      <td>1.000000</td>\n",
              "      <td>1.000000</td>\n",
              "      <td>0.000000</td>\n",
              "      <td>0.000000</td>\n",
              "      <td>1.000000</td>\n",
              "      <td>0.000000</td>\n",
              "    </tr>\n",
              "    <tr>\n",
              "      <th>50%</th>\n",
              "      <td>54.000000</td>\n",
              "      <td>1.000000</td>\n",
              "      <td>165.000000</td>\n",
              "      <td>72.000000</td>\n",
              "      <td>120.000000</td>\n",
              "      <td>80.000000</td>\n",
              "      <td>1.000000</td>\n",
              "      <td>1.000000</td>\n",
              "      <td>0.000000</td>\n",
              "      <td>0.000000</td>\n",
              "      <td>1.000000</td>\n",
              "      <td>1.000000</td>\n",
              "    </tr>\n",
              "    <tr>\n",
              "      <th>75%</th>\n",
              "      <td>58.000000</td>\n",
              "      <td>2.000000</td>\n",
              "      <td>170.000000</td>\n",
              "      <td>82.000000</td>\n",
              "      <td>140.000000</td>\n",
              "      <td>90.000000</td>\n",
              "      <td>2.000000</td>\n",
              "      <td>1.000000</td>\n",
              "      <td>0.000000</td>\n",
              "      <td>0.000000</td>\n",
              "      <td>1.000000</td>\n",
              "      <td>1.000000</td>\n",
              "    </tr>\n",
              "    <tr>\n",
              "      <th>max</th>\n",
              "      <td>64.000000</td>\n",
              "      <td>2.000000</td>\n",
              "      <td>186.000000</td>\n",
              "      <td>110.000000</td>\n",
              "      <td>170.000000</td>\n",
              "      <td>105.000000</td>\n",
              "      <td>3.000000</td>\n",
              "      <td>3.000000</td>\n",
              "      <td>1.000000</td>\n",
              "      <td>1.000000</td>\n",
              "      <td>1.000000</td>\n",
              "      <td>1.000000</td>\n",
              "    </tr>\n",
              "  </tbody>\n",
              "</table>\n",
              "</div>"
            ],
            "text/plain": [
              "                Age           Sex  ...   ActiveSport        Target\n",
              "count  59772.000000  59772.000000  ...  59772.000000  59772.000000\n",
              "mean      52.936291      1.356321  ...      0.798468      0.508298\n",
              "std        6.781883      0.478916  ...      0.401148      0.499935\n",
              "min       29.000000      1.000000  ...      0.000000      0.000000\n",
              "25%       48.000000      1.000000  ...      1.000000      0.000000\n",
              "50%       54.000000      1.000000  ...      1.000000      1.000000\n",
              "75%       58.000000      2.000000  ...      1.000000      1.000000\n",
              "max       64.000000      2.000000  ...      1.000000      1.000000\n",
              "\n",
              "[8 rows x 12 columns]"
            ]
          },
          "metadata": {
            "tags": []
          },
          "execution_count": 30
        }
      ]
    },
    {
      "cell_type": "markdown",
      "metadata": {
        "colab_type": "text",
        "id": "8NCgXWYun7lM"
      },
      "source": [
        "Let us plot categorical features to see the dependency with the target"
      ]
    },
    {
      "cell_type": "code",
      "metadata": {
        "id": "CkIyGZf0d429",
        "colab_type": "code",
        "colab": {
          "base_uri": "https://localhost:8080/",
          "height": 369
        },
        "outputId": "6fa640eb-d9ef-425f-bf0f-2375916ee421"
      },
      "source": [
        "# Plot distribution of the target, to confirm that we have roughly the same amount of classified elements.\n",
        "sns.catplot(kind = 'count', data = df_stroke, x = 'Target');"
      ],
      "execution_count": null,
      "outputs": [
        {
          "output_type": "display_data",
          "data": {
            "image/png": "[encoded data removed]",
            "text/plain": [
              "<Figure size 360x360 with 1 Axes>"
            ]
          },
          "metadata": {
            "tags": [],
            "needs_background": "light"
          }
        }
      ]
    },
    {
      "cell_type": "code",
      "metadata": {
        "colab_type": "code",
        "id": "s_q300_BixnM",
        "colab": {
          "base_uri": "https://localhost:8080/",
          "height": 369
        },
        "outputId": "79ac78da-d2af-4ce6-d19d-53a711cb717e"
      },
      "source": [
        "# Sex feature does not seem to be relevant for detecting a stroke\n",
        "sns.catplot(kind = 'count', data = df_stroke, x = 'Sex', hue = 'Target');"
      ],
      "execution_count": null,
      "outputs": [
        {
          "output_type": "display_data",
          "data": {
            "image/png": "[encoded data removed]",
            "text/plain": [
              "<Figure size 402.375x360 with 1 Axes>"
            ]
          },
          "metadata": {
            "tags": [],
            "needs_background": "light"
          }
        }
      ]
    },
    {
      "cell_type": "code",
      "metadata": {
        "colab_type": "code",
        "id": "9od2BD48il3e",
        "colab": {
          "base_uri": "https://localhost:8080/",
          "height": 369
        },
        "outputId": "723d4a55-17f0-499e-c094-89a59eadad48"
      },
      "source": [
        "# Smoker feature does not seem to be relevant for detecting a stroke\n",
        "sns.catplot(kind = 'count', data = df_stroke, x = 'Smoker', hue = 'Target');"
      ],
      "execution_count": null,
      "outputs": [
        {
          "output_type": "display_data",
          "data": {
            "image/png": "[encoded data removed]",
            "text/plain": [
              "<Figure size 402.375x360 with 1 Axes>"
            ]
          },
          "metadata": {
            "tags": [],
            "needs_background": "light"
          }
        }
      ]
    },
    {
      "cell_type": "code",
      "metadata": {
        "colab_type": "code",
        "id": "lNfD--YCkVfM",
        "colab": {
          "base_uri": "https://localhost:8080/",
          "height": 369
        },
        "outputId": "e161a433-435d-4849-9f2e-b35d544b4678"
      },
      "source": [
        "# Patients with higher glucosel levels seem to be more likely to have a stroke\n",
        "sns.catplot(kind = 'count', data = df_stroke, x = 'Diabetes', hue = 'Target');"
      ],
      "execution_count": null,
      "outputs": [
        {
          "output_type": "display_data",
          "data": {
            "image/png": "[encoded data removed]",
            "text/plain": [
              "<Figure size 402.375x360 with 1 Axes>"
            ]
          },
          "metadata": {
            "tags": [],
            "needs_background": "light"
          }
        }
      ]
    },
    {
      "cell_type": "code",
      "metadata": {
        "colab_type": "code",
        "id": "YiCYE5tsEfe9",
        "colab": {
          "base_uri": "https://localhost:8080/",
          "height": 369
        },
        "outputId": "5f51d5d8-9d7c-479c-905b-eb83f0c2686b"
      },
      "source": [
        "# For above normal cholesterol values, we have higher amount of strokes compared to healthy patients, as expected.\n",
        "sns.catplot(kind = 'count', data = df_stroke, x = 'Cholesterol', hue = 'Target');"
      ],
      "execution_count": null,
      "outputs": [
        {
          "output_type": "display_data",
          "data": {
            "image/png": "[encoded data removed]",
            "text/plain": [
              "<Figure size 402.375x360 with 1 Axes>"
            ]
          },
          "metadata": {
            "tags": [],
            "needs_background": "light"
          }
        }
      ]
    },
    {
      "cell_type": "code",
      "metadata": {
        "colab_type": "code",
        "id": "EQ50oYdkEffH",
        "colab": {
          "base_uri": "https://localhost:8080/",
          "height": 385
        },
        "outputId": "83201889-0bb2-41d9-e708-e8e3c75b58b1"
      },
      "source": [
        "# Plot the target depending on the Age. As we could also expect, the older the patient, the higher the number of strokes.\n",
        "sns.catplot(kind = 'count', data = df_stroke, x = 'Age', hue = 'Target', order = df_stroke['Age'].sort_values().unique());\n",
        "plt.title('Stroke distribution per Age');"
      ],
      "execution_count": null,
      "outputs": [
        {
          "output_type": "display_data",
          "data": {
            "image/png": "[encoded data removed]",
            "text/plain": [
              "<Figure size 402.375x360 with 1 Axes>"
            ]
          },
          "metadata": {
            "tags": [],
            "needs_background": "light"
          }
        }
      ]
    },
    {
      "cell_type": "markdown",
      "metadata": {
        "colab_type": "text",
        "id": "0GBETLR_qcF-"
      },
      "source": [
        "## Feature engineering\n",
        "\n",
        "I will calculate the body mass index (BMI) and the pulse derived from the pressures. Hopefully, we can get better insights."
      ]
    },
    {
      "cell_type": "code",
      "metadata": {
        "colab_type": "code",
        "id": "GqxEzmDjqa5s",
        "colab": {}
      },
      "source": [
        "df_stroke['BMI']= (df_stroke['Weight']) / (df_stroke['Height']/100)**2 "
      ],
      "execution_count": null,
      "outputs": []
    },
    {
      "cell_type": "code",
      "metadata": {
        "colab_type": "code",
        "id": "CxYx5CCnqatZ",
        "colab": {}
      },
      "source": [
        "df_stroke['Pulse']= np.subtract(df_stroke['SystolicPressure'], df_stroke['DiastolicPressure'])"
      ],
      "execution_count": null,
      "outputs": []
    },
    {
      "cell_type": "code",
      "metadata": {
        "colab_type": "code",
        "id": "YGaVCQ0fqaeJ",
        "colab": {
          "base_uri": "https://localhost:8080/",
          "height": 224
        },
        "outputId": "b297dfd3-f416-4e56-e224-44177140f340"
      },
      "source": [
        "df_stroke.head()"
      ],
      "execution_count": null,
      "outputs": [
        {
          "output_type": "execute_result",
          "data": {
            "text/html": [
              "<div>\n",
              "<style scoped>\n",
              "    .dataframe tbody tr th:only-of-type {\n",
              "        vertical-align: middle;\n",
              "    }\n",
              "\n",
              "    .dataframe tbody tr th {\n",
              "        vertical-align: top;\n",
              "    }\n",
              "\n",
              "    .dataframe thead th {\n",
              "        text-align: right;\n",
              "    }\n",
              "</style>\n",
              "<table border=\"1\" class=\"dataframe\">\n",
              "  <thead>\n",
              "    <tr style=\"text-align: right;\">\n",
              "      <th></th>\n",
              "      <th>Age</th>\n",
              "      <th>Sex</th>\n",
              "      <th>Height</th>\n",
              "      <th>Weight</th>\n",
              "      <th>SystolicPressure</th>\n",
              "      <th>DiastolicPressure</th>\n",
              "      <th>Cholesterol</th>\n",
              "      <th>Diabetes</th>\n",
              "      <th>Smoker</th>\n",
              "      <th>Alcoholic</th>\n",
              "      <th>ActiveSport</th>\n",
              "      <th>Target</th>\n",
              "      <th>BMI</th>\n",
              "      <th>Pulse</th>\n",
              "    </tr>\n",
              "  </thead>\n",
              "  <tbody>\n",
              "    <tr>\n",
              "      <th>0</th>\n",
              "      <td>50</td>\n",
              "      <td>2</td>\n",
              "      <td>168</td>\n",
              "      <td>62.0</td>\n",
              "      <td>110</td>\n",
              "      <td>80</td>\n",
              "      <td>1</td>\n",
              "      <td>1</td>\n",
              "      <td>0</td>\n",
              "      <td>0</td>\n",
              "      <td>1</td>\n",
              "      <td>0</td>\n",
              "      <td>21.967120</td>\n",
              "      <td>30</td>\n",
              "    </tr>\n",
              "    <tr>\n",
              "      <th>1</th>\n",
              "      <td>55</td>\n",
              "      <td>1</td>\n",
              "      <td>156</td>\n",
              "      <td>85.0</td>\n",
              "      <td>140</td>\n",
              "      <td>90</td>\n",
              "      <td>3</td>\n",
              "      <td>1</td>\n",
              "      <td>0</td>\n",
              "      <td>0</td>\n",
              "      <td>1</td>\n",
              "      <td>1</td>\n",
              "      <td>34.927679</td>\n",
              "      <td>50</td>\n",
              "    </tr>\n",
              "    <tr>\n",
              "      <th>2</th>\n",
              "      <td>51</td>\n",
              "      <td>1</td>\n",
              "      <td>165</td>\n",
              "      <td>64.0</td>\n",
              "      <td>130</td>\n",
              "      <td>70</td>\n",
              "      <td>3</td>\n",
              "      <td>1</td>\n",
              "      <td>0</td>\n",
              "      <td>0</td>\n",
              "      <td>0</td>\n",
              "      <td>1</td>\n",
              "      <td>23.507805</td>\n",
              "      <td>60</td>\n",
              "    </tr>\n",
              "    <tr>\n",
              "      <th>3</th>\n",
              "      <td>48</td>\n",
              "      <td>2</td>\n",
              "      <td>169</td>\n",
              "      <td>82.0</td>\n",
              "      <td>150</td>\n",
              "      <td>100</td>\n",
              "      <td>1</td>\n",
              "      <td>1</td>\n",
              "      <td>0</td>\n",
              "      <td>0</td>\n",
              "      <td>1</td>\n",
              "      <td>1</td>\n",
              "      <td>28.710479</td>\n",
              "      <td>50</td>\n",
              "    </tr>\n",
              "    <tr>\n",
              "      <th>5</th>\n",
              "      <td>60</td>\n",
              "      <td>1</td>\n",
              "      <td>151</td>\n",
              "      <td>67.0</td>\n",
              "      <td>120</td>\n",
              "      <td>80</td>\n",
              "      <td>2</td>\n",
              "      <td>2</td>\n",
              "      <td>0</td>\n",
              "      <td>0</td>\n",
              "      <td>0</td>\n",
              "      <td>0</td>\n",
              "      <td>29.384676</td>\n",
              "      <td>40</td>\n",
              "    </tr>\n",
              "  </tbody>\n",
              "</table>\n",
              "</div>"
            ],
            "text/plain": [
              "   Age  Sex  Height  Weight  ...  ActiveSport  Target        BMI  Pulse\n",
              "0   50    2     168    62.0  ...            1       0  21.967120     30\n",
              "1   55    1     156    85.0  ...            1       1  34.927679     50\n",
              "2   51    1     165    64.0  ...            0       1  23.507805     60\n",
              "3   48    2     169    82.0  ...            1       1  28.710479     50\n",
              "5   60    1     151    67.0  ...            0       0  29.384676     40\n",
              "\n",
              "[5 rows x 14 columns]"
            ]
          },
          "metadata": {
            "tags": []
          },
          "execution_count": 39
        }
      ]
    },
    {
      "cell_type": "markdown",
      "metadata": {
        "colab_type": "text",
        "id": "aPg0m--SJpvE"
      },
      "source": [
        "# Feature Selection"
      ]
    },
    {
      "cell_type": "code",
      "metadata": {
        "colab_type": "code",
        "id": "EmDFiPiVqZsk",
        "colab": {
          "base_uri": "https://localhost:8080/",
          "height": 345
        },
        "outputId": "24e06a3e-8220-467c-cb09-3317e49fc7ef"
      },
      "source": [
        "sns.heatmap(df_stroke.corr(), cmap='inferno', center=0,vmin=-1, vmax=1);"
      ],
      "execution_count": null,
      "outputs": [
        {
          "output_type": "display_data",
          "data": {
            "image/png": "[encoded data removed]",
            "text/plain": [
              "<Figure size 432x288 with 2 Axes>"
            ]
          },
          "metadata": {
            "tags": [],
            "needs_background": "light"
          }
        }
      ]
    },
    {
      "cell_type": "markdown",
      "metadata": {
        "colab_type": "text",
        "id": "-5IeV-9Eq58P"
      },
      "source": [
        "From the correlation matrix, we can see that the target is more correlated to Cholesterol, Systolic and diastolic pressures and Age. However, the new feature created BMI does not seem to add any relevant information.\n",
        "\n",
        "Having irrelevant features in data can decrease the accuracy of the models and make the model learn based on irrelevant features. High correlation within independent features means that they represent the same thing and when you drop one of them, you do not lose much quality data.\n",
        "\n",
        "I will do feature selection before storing the cleaned dataset.\n",
        "\n",
        "Again, the goal is to have features with good correlation with the target and low correlation with any independent feature. Attending to this explanation and the above correlation matrix I will discard 'BMI', 'Weight', 'Diabetes', 'Sex', 'Height', 'Smoker', 'Alcoholic', 'ActiveSport'"
      ]
    },
    {
      "cell_type": "code",
      "metadata": {
        "colab_type": "code",
        "id": "-VuPjlz4t-1A",
        "colab": {}
      },
      "source": [
        "df_stroke = df_stroke.drop(['Sex', 'Height', 'Weight', 'Diabetes', 'Smoker', 'Alcoholic',\n",
        "       'ActiveSport', 'BMI'], axis=1)"
      ],
      "execution_count": null,
      "outputs": []
    },
    {
      "cell_type": "code",
      "metadata": {
        "colab_type": "code",
        "id": "-ZutqunmEffK",
        "colab": {}
      },
      "source": [
        "# After cleaning, exploring and analyzing the dataset, I save if for modeling the stroke classifier\n",
        "df_stroke.to_csv('../data/stroke_data_for_modeling.csv', sep=';', index=False)"
      ],
      "execution_count": null,
      "outputs": []
    },
    {
      "cell_type": "code",
      "metadata": {
        "id": "yncsPW2Ofwbk",
        "colab_type": "code",
        "colab": {}
      },
      "source": [
        ""
      ],
      "execution_count": null,
      "outputs": []
    }
  ]
}