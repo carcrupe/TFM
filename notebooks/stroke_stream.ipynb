{
 "cells": [
  {
   "cell_type": "markdown",
   "metadata": {
    "colab_type": "text",
    "id": "u06l3RwF3Avp"
   },
   "source": [
    "# Model in action with Streamlit"
   ]
  },
  {
   "cell_type": "code",
   "execution_count": null,
   "metadata": {
    "colab": {
     "base_uri": "https://localhost:8080/",
     "height": 228
    },
    "colab_type": "code",
    "id": "81RK5Q5S94Hn",
    "outputId": "51c2dd39-bc11-4958-e860-6ef6861d24af"
   },
   "outputs": [
    {
     "name": "stdout",
     "output_type": "stream",
     "text": [
      "--2020-08-02 16:36:09--  https://raw.githubusercontent.com/carcrupe/TFM/master/requirements_stroke_stream.txt\n",
      "Resolving raw.githubusercontent.com (raw.githubusercontent.com)... 151.101.0.133, 151.101.64.133, 151.101.128.133, ...\n",
      "Connecting to raw.githubusercontent.com (raw.githubusercontent.com)|151.101.0.133|:443... connected.\n",
      "HTTP request sent, awaiting response... 200 OK\n",
      "Length: 19 [text/plain]\n",
      "Saving to: ‘requirements_stroke_stream.txt’\n",
      "\n",
      "\r",
      "          requireme   0%[                    ]       0  --.-KB/s               \r",
      "requirements_stroke 100%[===================>]      19  --.-KB/s    in 0s      \n",
      "\n",
      "2020-08-02 16:36:09 (922 KB/s) - ‘requirements_stroke_stream.txt’ saved [19/19]\n",
      "\n"
     ]
    }
   ],
   "source": [
    "# Get requirement libraries and install them, just in case some of them are missing\n",
    "!wget https://raw.githubusercontent.com/carcrupe/TFM/master/requirements/requirements_stroke_stream.txt"
   ]
  },
  {
   "cell_type": "code",
   "execution_count": null,
   "metadata": {
    "colab": {},
    "colab_type": "code",
    "id": "6HqapNulB0vu"
   },
   "outputs": [],
   "source": [
    "!pip install -r requirements_stroke_stream.txt"
   ]
  },
  {
   "cell_type": "code",
   "execution_count": 1,
   "metadata": {
    "colab": {
     "base_uri": "https://localhost:8080/",
     "height": 419
    },
    "colab_type": "code",
    "id": "2ZQ6vzddtfym",
    "outputId": "aa11eeb9-c87b-4de8-d7fa-e87f64b6b8cc"
   },
   "outputs": [
    {
     "name": "stdout",
     "output_type": "stream",
     "text": [
      "--2020-08-02 19:28:26--  https://raw.githubusercontent.com/carcrupe/TFM/master/stroke_visualization.py\n",
      "Resolviendo raw.githubusercontent.com (raw.githubusercontent.com)... 151.101.132.133\n",
      "Conectando con raw.githubusercontent.com (raw.githubusercontent.com)[151.101.132.133]:443... conectado.\n",
      "Petición HTTP enviada, esperando respuesta... 200 OK\n",
      "Longitud: 1260 (1,2K) [text/plain]\n",
      "Guardando como: “stroke_visualization.py”\n",
      "\n",
      "stroke_visualizatio 100%[===================>]   1,23K  --.-KB/s    en 0s      \n",
      "\n",
      "2020-08-02 19:28:26 (19,6 MB/s) - “stroke_visualization.py” guardado [1260/1260]\n",
      "\n",
      "--2020-08-02 19:28:26--  https://raw.githubusercontent.com/carcrupe/TFM/master/notebooks_models/best.model\n",
      "Resolviendo raw.githubusercontent.com (raw.githubusercontent.com)... 151.101.132.133\n",
      "Conectando con raw.githubusercontent.com (raw.githubusercontent.com)[151.101.132.133]:443... conectado.\n",
      "Petición HTTP enviada, esperando respuesta... 200 OK\n",
      "Longitud: 930435 (909K) [application/octet-stream]\n",
      "Guardando como: “best.model.1”\n",
      "\n",
      "best.model.1        100%[===================>] 908,63K  5,40MB/s    en 0,2s    \n",
      "\n",
      "2020-08-02 19:28:27 (5,40 MB/s) - “best.model.1” guardado [930435/930435]\n",
      "\n"
     ]
    }
   ],
   "source": [
    "!wget https://raw.githubusercontent.com/carcrupe/TFM/master/stroke_visualization.py\n",
    "!wget https://raw.githubusercontent.com/carcrupe/TFM/master/notebooks_models/best.model"
   ]
  },
  {
   "cell_type": "code",
   "execution_count": null,
   "metadata": {
    "colab": {
     "base_uri": "https://localhost:8080/",
     "height": 208
    },
    "colab_type": "code",
    "id": "E9q5-ZI7vNJI",
    "outputId": "10bc61ee-c15f-4c72-8017-31453c8e6c01"
   },
   "outputs": [
    {
     "name": "stdout",
     "output_type": "stream",
     "text": [
      "--2020-08-02 16:19:37--  https://bin.equinox.io/c/4VmDzA7iaHb/ngrok-stable-linux-amd64.zip\n",
      "Resolving bin.equinox.io (bin.equinox.io)... 3.229.211.71, 3.223.118.45, 54.236.74.205, ...\n",
      "Connecting to bin.equinox.io (bin.equinox.io)|3.229.211.71|:443... connected.\n",
      "HTTP request sent, awaiting response... 200 OK\n",
      "Length: 13773305 (13M) [application/octet-stream]\n",
      "Saving to: ‘ngrok-stable-linux-amd64.zip’\n",
      "\n",
      "\r",
      "          ngrok-sta   0%[                    ]       0  --.-KB/s               \r",
      "ngrok-stable-linux- 100%[===================>]  13.13M  74.8MB/s    in 0.2s    \n",
      "\n",
      "2020-08-02 16:19:38 (74.8 MB/s) - ‘ngrok-stable-linux-amd64.zip’ saved [13773305/13773305]\n",
      "\n"
     ]
    }
   ],
   "source": [
    "!wget https://bin.equinox.io/c/4VmDzA7iaHb/ngrok-stable-linux-amd64.zip\n",
    "!unzip -qq ngrok-stable-linux-amd64.zip"
   ]
  },
  {
   "cell_type": "code",
   "execution_count": null,
   "metadata": {
    "colab": {
     "base_uri": "https://localhost:8080/",
     "height": 156
    },
    "colab_type": "code",
    "id": "uuEVLgPVWaDv",
    "outputId": "8a22fe55-dcb5-46c9-a475-3f24fb6341e2"
   },
   "outputs": [
    {
     "name": "stdout",
     "output_type": "stream",
     "text": [
      "https://454f79d9c56d.ngrok.io\n",
      "\u001b[0m\n",
      "\u001b[34m\u001b[1m  You can now view your Streamlit app in your browser.\u001b[0m\n",
      "\u001b[0m\n",
      "\u001b[34m  Network URL: \u001b[0m\u001b[1mhttp://172.28.0.2:8501\u001b[0m\n",
      "\u001b[34m  External URL: \u001b[0m\u001b[1mhttp://35.243.141.138:8501\u001b[0m\n",
      "\u001b[0m\n",
      "\u001b[34m  Stopping...\u001b[0m\n"
     ]
    }
   ],
   "source": [
    "#Run this cell to start the server with the classifier. Click on the first link xxx.ngrok.io\n",
    "\n",
    "get_ipython().system_raw('./ngrok http 8501 &')\n",
    "! curl -s http://localhost:4040/api/tunnels | python3 -c \\\n",
    "    \"import sys, json; print(json.load(sys.stdin)['tunnels'][0]['public_url'])\"\n",
    "\n",
    "!streamlit run stroke_visualization.py"
   ]
  },
  {
   "cell_type": "code",
   "execution_count": null,
   "metadata": {
    "colab": {},
    "colab_type": "code",
    "id": "bwctkYcY-N82"
   },
   "outputs": [],
   "source": []
  }
 ],
 "metadata": {
  "colab": {
   "name": "stroke_stream.ipynb",
   "provenance": [],
   "toc_visible": true
  },
  "kernelspec": {
   "display_name": "Python 3",
   "language": "python",
   "name": "python3"
  },
  "language_info": {
   "codemirror_mode": {
    "name": "ipython",
    "version": 3
   },
   "file_extension": ".py",
   "mimetype": "text/x-python",
   "name": "python",
   "nbconvert_exporter": "python",
   "pygments_lexer": "ipython3",
   "version": "3.7.7"
  }
 },
 "nbformat": 4,
 "nbformat_minor": 1
}
