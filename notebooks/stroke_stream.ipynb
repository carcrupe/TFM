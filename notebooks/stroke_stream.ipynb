{
 "cells": [
  {
   "cell_type": "markdown",
   "metadata": {
    "colab_type": "text",
    "id": "u06l3RwF3Avp"
   },
   "source": [
    "# Model in action with Streamlit"
   ]
  },
  {
   "cell_type": "code",
   "execution_count": 1,
   "metadata": {
    "colab": {
     "base_uri": "https://localhost:8080/",
     "height": 228
    },
    "colab_type": "code",
    "id": "81RK5Q5S94Hn",
    "outputId": "51c2dd39-bc11-4958-e860-6ef6861d24af"
   },
   "outputs": [
    {
     "name": "stdout",
     "output_type": "stream",
     "text": [
      "Will not apply HSTS. The HSTS database must be a regular and non-world-writable file.\n",
      "ERROR: could not open HSTS store at '/home/carcrupe/.wget-hsts'. HSTS will be disabled.\n",
      "--2020-08-11 11:26:55--  https://raw.githubusercontent.com/carcrupe/TFM/master/requirements/requirements_stroke_stream.txt\n",
      "Resolving raw.githubusercontent.com (raw.githubusercontent.com)... 151.101.132.133\n",
      "Connecting to raw.githubusercontent.com (raw.githubusercontent.com)|151.101.132.133|:443... connected.\n",
      "HTTP request sent, awaiting response... 200 OK\n",
      "Length: 19 [text/plain]\n",
      "Saving to: ‘../requirements/requirements_stroke_stream.txt’\n",
      "\n",
      "requirements_stroke 100%[===================>]      19  --.-KB/s    in 0s      \n",
      "\n",
      "Last-modified header missing -- time-stamps turned off.\n",
      "2020-08-11 11:26:55 (176 KB/s) - ‘../requirements/requirements_stroke_stream.txt’ saved [19/19]\n",
      "\n"
     ]
    }
   ],
   "source": [
    "# Get requirement libraries and install them, just in case some of them are missing\n",
    "!wget -N https://raw.githubusercontent.com/carcrupe/TFM/master/requirements/requirements_stroke_stream.txt -P ../requirements"
   ]
  },
  {
   "cell_type": "code",
   "execution_count": 2,
   "metadata": {
    "colab": {},
    "colab_type": "code",
    "id": "6HqapNulB0vu"
   },
   "outputs": [
    {
     "name": "stdout",
     "output_type": "stream",
     "text": [
      "Requirement already satisfied: streamlit==0.61.0 in /home/carcrupe/anaconda3/lib/python3.7/site-packages (from -r ../requirements/requirements_stroke_stream.txt (line 1)) (0.61.0)\n",
      "Requirement already satisfied: watchdog in /home/carcrupe/anaconda3/lib/python3.7/site-packages (from streamlit==0.61.0->-r ../requirements/requirements_stroke_stream.txt (line 1)) (0.10.2)\n",
      "Requirement already satisfied: blinker in /home/carcrupe/anaconda3/lib/python3.7/site-packages (from streamlit==0.61.0->-r ../requirements/requirements_stroke_stream.txt (line 1)) (1.4)\n",
      "Requirement already satisfied: python-dateutil in /home/carcrupe/anaconda3/lib/python3.7/site-packages (from streamlit==0.61.0->-r ../requirements/requirements_stroke_stream.txt (line 1)) (2.8.0)\n",
      "Requirement already satisfied: tornado<6.0,>=5.0 in /home/carcrupe/anaconda3/lib/python3.7/site-packages (from streamlit==0.61.0->-r ../requirements/requirements_stroke_stream.txt (line 1)) (5.1.1)\n",
      "Requirement already satisfied: enum-compat in /home/carcrupe/anaconda3/lib/python3.7/site-packages (from streamlit==0.61.0->-r ../requirements/requirements_stroke_stream.txt (line 1)) (0.0.3)\n",
      "Requirement already satisfied: botocore>=1.13.44 in /home/carcrupe/anaconda3/lib/python3.7/site-packages (from streamlit==0.61.0->-r ../requirements/requirements_stroke_stream.txt (line 1)) (1.15.9)\n",
      "Requirement already satisfied: pandas>=0.21.0 in /home/carcrupe/anaconda3/lib/python3.7/site-packages (from streamlit==0.61.0->-r ../requirements/requirements_stroke_stream.txt (line 1)) (1.0.3)\n",
      "Requirement already satisfied: toml in /home/carcrupe/anaconda3/lib/python3.7/site-packages (from streamlit==0.61.0->-r ../requirements/requirements_stroke_stream.txt (line 1)) (0.10.0)\n",
      "Requirement already satisfied: pillow>=6.2.0 in /home/carcrupe/anaconda3/lib/python3.7/site-packages (from streamlit==0.61.0->-r ../requirements/requirements_stroke_stream.txt (line 1)) (6.2.0)\n",
      "Requirement already satisfied: validators in /home/carcrupe/anaconda3/lib/python3.7/site-packages (from streamlit==0.61.0->-r ../requirements/requirements_stroke_stream.txt (line 1)) (0.14.2)\n",
      "Requirement already satisfied: pydeck>=0.1.dev5 in /home/carcrupe/anaconda3/lib/python3.7/site-packages (from streamlit==0.61.0->-r ../requirements/requirements_stroke_stream.txt (line 1)) (0.3.0b2)\n",
      "Requirement already satisfied: altair>=3.2.0 in /home/carcrupe/anaconda3/lib/python3.7/site-packages (from streamlit==0.61.0->-r ../requirements/requirements_stroke_stream.txt (line 1)) (4.0.1)\n",
      "Requirement already satisfied: packaging in /home/carcrupe/anaconda3/lib/python3.7/site-packages (from streamlit==0.61.0->-r ../requirements/requirements_stroke_stream.txt (line 1)) (19.2)\n",
      "Requirement already satisfied: cachetools>=4.0 in /home/carcrupe/anaconda3/lib/python3.7/site-packages (from streamlit==0.61.0->-r ../requirements/requirements_stroke_stream.txt (line 1)) (4.1.0)\n",
      "Requirement already satisfied: numpy in /home/carcrupe/anaconda3/lib/python3.7/site-packages (from streamlit==0.61.0->-r ../requirements/requirements_stroke_stream.txt (line 1)) (1.18.5)\n",
      "Requirement already satisfied: requests in /home/carcrupe/anaconda3/lib/python3.7/site-packages (from streamlit==0.61.0->-r ../requirements/requirements_stroke_stream.txt (line 1)) (2.22.0)\n",
      "Requirement already satisfied: tzlocal in /home/carcrupe/anaconda3/lib/python3.7/site-packages (from streamlit==0.61.0->-r ../requirements/requirements_stroke_stream.txt (line 1)) (2.0.0)\n",
      "Requirement already satisfied: click>=7.0 in /home/carcrupe/anaconda3/lib/python3.7/site-packages (from streamlit==0.61.0->-r ../requirements/requirements_stroke_stream.txt (line 1)) (7.0)\n",
      "Requirement already satisfied: boto3 in /home/carcrupe/anaconda3/lib/python3.7/site-packages (from streamlit==0.61.0->-r ../requirements/requirements_stroke_stream.txt (line 1)) (1.12.9)\n",
      "Requirement already satisfied: astor in /home/carcrupe/anaconda3/lib/python3.7/site-packages (from streamlit==0.61.0->-r ../requirements/requirements_stroke_stream.txt (line 1)) (0.8.1)\n",
      "Requirement already satisfied: protobuf>=3.6.0 in /home/carcrupe/anaconda3/lib/python3.7/site-packages (from streamlit==0.61.0->-r ../requirements/requirements_stroke_stream.txt (line 1)) (3.11.3)\n",
      "Requirement already satisfied: base58 in /home/carcrupe/anaconda3/lib/python3.7/site-packages (from streamlit==0.61.0->-r ../requirements/requirements_stroke_stream.txt (line 1)) (2.0.0)\n",
      "Requirement already satisfied: pathtools>=0.1.1 in /home/carcrupe/anaconda3/lib/python3.7/site-packages (from watchdog->streamlit==0.61.0->-r ../requirements/requirements_stroke_stream.txt (line 1)) (0.1.2)\n",
      "Requirement already satisfied: six>=1.5 in /home/carcrupe/anaconda3/lib/python3.7/site-packages (from python-dateutil->streamlit==0.61.0->-r ../requirements/requirements_stroke_stream.txt (line 1)) (1.12.0)\n",
      "Requirement already satisfied: docutils<0.16,>=0.10 in /home/carcrupe/anaconda3/lib/python3.7/site-packages (from botocore>=1.13.44->streamlit==0.61.0->-r ../requirements/requirements_stroke_stream.txt (line 1)) (0.15.2)\n",
      "Requirement already satisfied: urllib3<1.26,>=1.20; python_version != \"3.4\" in /home/carcrupe/anaconda3/lib/python3.7/site-packages (from botocore>=1.13.44->streamlit==0.61.0->-r ../requirements/requirements_stroke_stream.txt (line 1)) (1.24.2)\n",
      "Requirement already satisfied: jmespath<1.0.0,>=0.7.1 in /home/carcrupe/anaconda3/lib/python3.7/site-packages (from botocore>=1.13.44->streamlit==0.61.0->-r ../requirements/requirements_stroke_stream.txt (line 1)) (0.9.5)\n",
      "Requirement already satisfied: pytz>=2017.2 in /home/carcrupe/anaconda3/lib/python3.7/site-packages (from pandas>=0.21.0->streamlit==0.61.0->-r ../requirements/requirements_stroke_stream.txt (line 1)) (2019.3)\n",
      "Requirement already satisfied: decorator>=3.4.0 in /home/carcrupe/anaconda3/lib/python3.7/site-packages (from validators->streamlit==0.61.0->-r ../requirements/requirements_stroke_stream.txt (line 1)) (4.4.0)\n",
      "Requirement already satisfied: ipywidgets>=7.0.0 in /home/carcrupe/anaconda3/lib/python3.7/site-packages (from pydeck>=0.1.dev5->streamlit==0.61.0->-r ../requirements/requirements_stroke_stream.txt (line 1)) (7.5.1)\n",
      "Requirement already satisfied: jinja2>=2.10.1 in /home/carcrupe/anaconda3/lib/python3.7/site-packages (from pydeck>=0.1.dev5->streamlit==0.61.0->-r ../requirements/requirements_stroke_stream.txt (line 1)) (2.10.3)\n",
      "Requirement already satisfied: ipykernel>=5.1.2; python_version >= \"3.4\" in /home/carcrupe/anaconda3/lib/python3.7/site-packages (from pydeck>=0.1.dev5->streamlit==0.61.0->-r ../requirements/requirements_stroke_stream.txt (line 1)) (5.1.2)\n",
      "Requirement already satisfied: traitlets>=4.3.2 in /home/carcrupe/anaconda3/lib/python3.7/site-packages (from pydeck>=0.1.dev5->streamlit==0.61.0->-r ../requirements/requirements_stroke_stream.txt (line 1)) (4.3.3)\n",
      "Requirement already satisfied: jsonschema in /home/carcrupe/anaconda3/lib/python3.7/site-packages (from altair>=3.2.0->streamlit==0.61.0->-r ../requirements/requirements_stroke_stream.txt (line 1)) (3.0.2)\n",
      "Requirement already satisfied: entrypoints in /home/carcrupe/anaconda3/lib/python3.7/site-packages (from altair>=3.2.0->streamlit==0.61.0->-r ../requirements/requirements_stroke_stream.txt (line 1)) (0.3)\n",
      "Requirement already satisfied: toolz in /home/carcrupe/anaconda3/lib/python3.7/site-packages (from altair>=3.2.0->streamlit==0.61.0->-r ../requirements/requirements_stroke_stream.txt (line 1)) (0.10.0)\n",
      "Requirement already satisfied: pyparsing>=2.0.2 in /home/carcrupe/anaconda3/lib/python3.7/site-packages (from packaging->streamlit==0.61.0->-r ../requirements/requirements_stroke_stream.txt (line 1)) (2.4.2)\n",
      "Requirement already satisfied: idna<2.9,>=2.5 in /home/carcrupe/anaconda3/lib/python3.7/site-packages (from requests->streamlit==0.61.0->-r ../requirements/requirements_stroke_stream.txt (line 1)) (2.8)\n",
      "Requirement already satisfied: certifi>=2017.4.17 in /home/carcrupe/anaconda3/lib/python3.7/site-packages (from requests->streamlit==0.61.0->-r ../requirements/requirements_stroke_stream.txt (line 1)) (2019.9.11)\n",
      "Requirement already satisfied: chardet<3.1.0,>=3.0.2 in /home/carcrupe/anaconda3/lib/python3.7/site-packages (from requests->streamlit==0.61.0->-r ../requirements/requirements_stroke_stream.txt (line 1)) (3.0.4)\n",
      "Requirement already satisfied: s3transfer<0.4.0,>=0.3.0 in /home/carcrupe/anaconda3/lib/python3.7/site-packages (from boto3->streamlit==0.61.0->-r ../requirements/requirements_stroke_stream.txt (line 1)) (0.3.3)\n",
      "Requirement already satisfied: setuptools in /home/carcrupe/anaconda3/lib/python3.7/site-packages (from protobuf>=3.6.0->streamlit==0.61.0->-r ../requirements/requirements_stroke_stream.txt (line 1)) (41.4.0)\n"
     ]
    },
    {
     "name": "stdout",
     "output_type": "stream",
     "text": [
      "Requirement already satisfied: ipython>=4.0.0; python_version >= \"3.3\" in /home/carcrupe/anaconda3/lib/python3.7/site-packages (from ipywidgets>=7.0.0->pydeck>=0.1.dev5->streamlit==0.61.0->-r ../requirements/requirements_stroke_stream.txt (line 1)) (7.8.0)\n",
      "Requirement already satisfied: widgetsnbextension~=3.5.0 in /home/carcrupe/anaconda3/lib/python3.7/site-packages (from ipywidgets>=7.0.0->pydeck>=0.1.dev5->streamlit==0.61.0->-r ../requirements/requirements_stroke_stream.txt (line 1)) (3.5.1)\n",
      "Requirement already satisfied: nbformat>=4.2.0 in /home/carcrupe/anaconda3/lib/python3.7/site-packages (from ipywidgets>=7.0.0->pydeck>=0.1.dev5->streamlit==0.61.0->-r ../requirements/requirements_stroke_stream.txt (line 1)) (4.4.0)\n",
      "Requirement already satisfied: MarkupSafe>=0.23 in /home/carcrupe/anaconda3/lib/python3.7/site-packages (from jinja2>=2.10.1->pydeck>=0.1.dev5->streamlit==0.61.0->-r ../requirements/requirements_stroke_stream.txt (line 1)) (1.1.1)\n",
      "Requirement already satisfied: jupyter-client in /home/carcrupe/anaconda3/lib/python3.7/site-packages (from ipykernel>=5.1.2; python_version >= \"3.4\"->pydeck>=0.1.dev5->streamlit==0.61.0->-r ../requirements/requirements_stroke_stream.txt (line 1)) (5.3.3)\n",
      "Requirement already satisfied: ipython-genutils in /home/carcrupe/anaconda3/lib/python3.7/site-packages (from traitlets>=4.3.2->pydeck>=0.1.dev5->streamlit==0.61.0->-r ../requirements/requirements_stroke_stream.txt (line 1)) (0.2.0)\n",
      "Requirement already satisfied: pyrsistent>=0.14.0 in /home/carcrupe/anaconda3/lib/python3.7/site-packages (from jsonschema->altair>=3.2.0->streamlit==0.61.0->-r ../requirements/requirements_stroke_stream.txt (line 1)) (0.15.4)\n",
      "Requirement already satisfied: attrs>=17.4.0 in /home/carcrupe/anaconda3/lib/python3.7/site-packages (from jsonschema->altair>=3.2.0->streamlit==0.61.0->-r ../requirements/requirements_stroke_stream.txt (line 1)) (19.2.0)\n",
      "Requirement already satisfied: pygments in /home/carcrupe/anaconda3/lib/python3.7/site-packages (from ipython>=4.0.0; python_version >= \"3.3\"->ipywidgets>=7.0.0->pydeck>=0.1.dev5->streamlit==0.61.0->-r ../requirements/requirements_stroke_stream.txt (line 1)) (2.4.2)\n",
      "Requirement already satisfied: jedi>=0.10 in /home/carcrupe/anaconda3/lib/python3.7/site-packages (from ipython>=4.0.0; python_version >= \"3.3\"->ipywidgets>=7.0.0->pydeck>=0.1.dev5->streamlit==0.61.0->-r ../requirements/requirements_stroke_stream.txt (line 1)) (0.15.1)\n",
      "Requirement already satisfied: pexpect; sys_platform != \"win32\" in /home/carcrupe/anaconda3/lib/python3.7/site-packages (from ipython>=4.0.0; python_version >= \"3.3\"->ipywidgets>=7.0.0->pydeck>=0.1.dev5->streamlit==0.61.0->-r ../requirements/requirements_stroke_stream.txt (line 1)) (4.7.0)\n",
      "Requirement already satisfied: pickleshare in /home/carcrupe/anaconda3/lib/python3.7/site-packages (from ipython>=4.0.0; python_version >= \"3.3\"->ipywidgets>=7.0.0->pydeck>=0.1.dev5->streamlit==0.61.0->-r ../requirements/requirements_stroke_stream.txt (line 1)) (0.7.5)\n",
      "Requirement already satisfied: prompt-toolkit<2.1.0,>=2.0.0 in /home/carcrupe/anaconda3/lib/python3.7/site-packages (from ipython>=4.0.0; python_version >= \"3.3\"->ipywidgets>=7.0.0->pydeck>=0.1.dev5->streamlit==0.61.0->-r ../requirements/requirements_stroke_stream.txt (line 1)) (2.0.10)\n",
      "Requirement already satisfied: backcall in /home/carcrupe/anaconda3/lib/python3.7/site-packages (from ipython>=4.0.0; python_version >= \"3.3\"->ipywidgets>=7.0.0->pydeck>=0.1.dev5->streamlit==0.61.0->-r ../requirements/requirements_stroke_stream.txt (line 1)) (0.1.0)\n",
      "Requirement already satisfied: notebook>=4.4.1 in /home/carcrupe/anaconda3/lib/python3.7/site-packages (from widgetsnbextension~=3.5.0->ipywidgets>=7.0.0->pydeck>=0.1.dev5->streamlit==0.61.0->-r ../requirements/requirements_stroke_stream.txt (line 1)) (6.0.1)\n",
      "Requirement already satisfied: jupyter-core in /home/carcrupe/anaconda3/lib/python3.7/site-packages (from nbformat>=4.2.0->ipywidgets>=7.0.0->pydeck>=0.1.dev5->streamlit==0.61.0->-r ../requirements/requirements_stroke_stream.txt (line 1)) (4.5.0)\n",
      "Requirement already satisfied: pyzmq>=13 in /home/carcrupe/anaconda3/lib/python3.7/site-packages (from jupyter-client->ipykernel>=5.1.2; python_version >= \"3.4\"->pydeck>=0.1.dev5->streamlit==0.61.0->-r ../requirements/requirements_stroke_stream.txt (line 1)) (18.1.0)\n",
      "Requirement already satisfied: parso>=0.5.0 in /home/carcrupe/anaconda3/lib/python3.7/site-packages (from jedi>=0.10->ipython>=4.0.0; python_version >= \"3.3\"->ipywidgets>=7.0.0->pydeck>=0.1.dev5->streamlit==0.61.0->-r ../requirements/requirements_stroke_stream.txt (line 1)) (0.5.1)\n",
      "Requirement already satisfied: ptyprocess>=0.5 in /home/carcrupe/anaconda3/lib/python3.7/site-packages (from pexpect; sys_platform != \"win32\"->ipython>=4.0.0; python_version >= \"3.3\"->ipywidgets>=7.0.0->pydeck>=0.1.dev5->streamlit==0.61.0->-r ../requirements/requirements_stroke_stream.txt (line 1)) (0.6.0)\n",
      "Requirement already satisfied: wcwidth in /home/carcrupe/anaconda3/lib/python3.7/site-packages (from prompt-toolkit<2.1.0,>=2.0.0->ipython>=4.0.0; python_version >= \"3.3\"->ipywidgets>=7.0.0->pydeck>=0.1.dev5->streamlit==0.61.0->-r ../requirements/requirements_stroke_stream.txt (line 1)) (0.1.7)\n",
      "Requirement already satisfied: prometheus-client in /home/carcrupe/anaconda3/lib/python3.7/site-packages (from notebook>=4.4.1->widgetsnbextension~=3.5.0->ipywidgets>=7.0.0->pydeck>=0.1.dev5->streamlit==0.61.0->-r ../requirements/requirements_stroke_stream.txt (line 1)) (0.7.1)\n",
      "Requirement already satisfied: terminado>=0.8.1 in /home/carcrupe/anaconda3/lib/python3.7/site-packages (from notebook>=4.4.1->widgetsnbextension~=3.5.0->ipywidgets>=7.0.0->pydeck>=0.1.dev5->streamlit==0.61.0->-r ../requirements/requirements_stroke_stream.txt (line 1)) (0.8.2)\n",
      "Requirement already satisfied: nbconvert in /home/carcrupe/anaconda3/lib/python3.7/site-packages (from notebook>=4.4.1->widgetsnbextension~=3.5.0->ipywidgets>=7.0.0->pydeck>=0.1.dev5->streamlit==0.61.0->-r ../requirements/requirements_stroke_stream.txt (line 1)) (5.6.0)\n",
      "Requirement already satisfied: Send2Trash in /home/carcrupe/anaconda3/lib/python3.7/site-packages (from notebook>=4.4.1->widgetsnbextension~=3.5.0->ipywidgets>=7.0.0->pydeck>=0.1.dev5->streamlit==0.61.0->-r ../requirements/requirements_stroke_stream.txt (line 1)) (1.5.0)\n",
      "Requirement already satisfied: defusedxml in /home/carcrupe/anaconda3/lib/python3.7/site-packages (from nbconvert->notebook>=4.4.1->widgetsnbextension~=3.5.0->ipywidgets>=7.0.0->pydeck>=0.1.dev5->streamlit==0.61.0->-r ../requirements/requirements_stroke_stream.txt (line 1)) (0.6.0)\n",
      "Requirement already satisfied: pandocfilters>=1.4.1 in /home/carcrupe/anaconda3/lib/python3.7/site-packages (from nbconvert->notebook>=4.4.1->widgetsnbextension~=3.5.0->ipywidgets>=7.0.0->pydeck>=0.1.dev5->streamlit==0.61.0->-r ../requirements/requirements_stroke_stream.txt (line 1)) (1.4.2)\n",
      "Requirement already satisfied: testpath in /home/carcrupe/anaconda3/lib/python3.7/site-packages (from nbconvert->notebook>=4.4.1->widgetsnbextension~=3.5.0->ipywidgets>=7.0.0->pydeck>=0.1.dev5->streamlit==0.61.0->-r ../requirements/requirements_stroke_stream.txt (line 1)) (0.4.2)\n",
      "Requirement already satisfied: bleach in /home/carcrupe/anaconda3/lib/python3.7/site-packages (from nbconvert->notebook>=4.4.1->widgetsnbextension~=3.5.0->ipywidgets>=7.0.0->pydeck>=0.1.dev5->streamlit==0.61.0->-r ../requirements/requirements_stroke_stream.txt (line 1)) (3.1.0)\n",
      "Requirement already satisfied: mistune<2,>=0.8.1 in /home/carcrupe/anaconda3/lib/python3.7/site-packages (from nbconvert->notebook>=4.4.1->widgetsnbextension~=3.5.0->ipywidgets>=7.0.0->pydeck>=0.1.dev5->streamlit==0.61.0->-r ../requirements/requirements_stroke_stream.txt (line 1)) (0.8.4)\n",
      "Requirement already satisfied: webencodings in /home/carcrupe/anaconda3/lib/python3.7/site-packages (from bleach->nbconvert->notebook>=4.4.1->widgetsnbextension~=3.5.0->ipywidgets>=7.0.0->pydeck>=0.1.dev5->streamlit==0.61.0->-r ../requirements/requirements_stroke_stream.txt (line 1)) (0.5.1)\n"
     ]
    }
   ],
   "source": [
    "!pip install -r ../requirements/requirements_stroke_stream.txt"
   ]
  },
  {
   "cell_type": "code",
   "execution_count": 3,
   "metadata": {
    "colab": {
     "base_uri": "https://localhost:8080/",
     "height": 419
    },
    "colab_type": "code",
    "id": "2ZQ6vzddtfym",
    "outputId": "aa11eeb9-c87b-4de8-d7fa-e87f64b6b8cc"
   },
   "outputs": [
    {
     "name": "stdout",
     "output_type": "stream",
     "text": [
      "Will not apply HSTS. The HSTS database must be a regular and non-world-writable file.\n",
      "ERROR: could not open HSTS store at '/home/carcrupe/.wget-hsts'. HSTS will be disabled.\n",
      "--2020-08-11 11:27:19--  https://raw.githubusercontent.com/carcrupe/TFM/master/stroke_visualization.py\n",
      "Resolving raw.githubusercontent.com (raw.githubusercontent.com)... 151.101.132.133\n",
      "Connecting to raw.githubusercontent.com (raw.githubusercontent.com)|151.101.132.133|:443... connected.\n",
      "HTTP request sent, awaiting response... 200 OK\n",
      "Length: 1260 (1.2K) [text/plain]\n",
      "Saving to: ‘../stroke_visualization.py’\n",
      "\n",
      "stroke_visualizatio 100%[===================>]   1.23K  --.-KB/s    in 0s      \n",
      "\n",
      "Last-modified header missing -- time-stamps turned off.\n",
      "2020-08-11 11:27:20 (9.61 MB/s) - ‘../stroke_visualization.py’ saved [1260/1260]\n",
      "\n",
      "Will not apply HSTS. The HSTS database must be a regular and non-world-writable file.\n",
      "ERROR: could not open HSTS store at '/home/carcrupe/.wget-hsts'. HSTS will be disabled.\n",
      "--2020-08-11 11:27:20--  https://raw.githubusercontent.com/carcrupe/TFM/master/notebooks/best.model\n",
      "Resolving raw.githubusercontent.com (raw.githubusercontent.com)... 151.101.132.133\n",
      "Connecting to raw.githubusercontent.com (raw.githubusercontent.com)|151.101.132.133|:443... connected.\n",
      "HTTP request sent, awaiting response... 200 OK\n",
      "Length: 930435 (909K) [application/octet-stream]\n",
      "Saving to: ‘best.model’\n",
      "\n",
      "best.model          100%[===================>] 908.63K  --.-KB/s    in 0.09s   \n",
      "\n",
      "Last-modified header missing -- time-stamps turned off.\n",
      "2020-08-11 11:27:20 (10.0 MB/s) - ‘best.model’ saved [930435/930435]\n",
      "\n"
     ]
    }
   ],
   "source": [
    "!wget -N https://raw.githubusercontent.com/carcrupe/TFM/master/stroke_visualization.py -P ../\n",
    "!wget -N https://raw.githubusercontent.com/carcrupe/TFM/master/notebooks/best.model "
   ]
  },
  {
   "cell_type": "code",
   "execution_count": 6,
   "metadata": {
    "colab": {
     "base_uri": "https://localhost:8080/",
     "height": 208
    },
    "colab_type": "code",
    "id": "E9q5-ZI7vNJI",
    "outputId": "10bc61ee-c15f-4c72-8017-31453c8e6c01"
   },
   "outputs": [
    {
     "name": "stdout",
     "output_type": "stream",
     "text": [
      "Will not apply HSTS. The HSTS database must be a regular and non-world-writable file.\n",
      "ERROR: could not open HSTS store at '/home/carcrupe/.wget-hsts'. HSTS will be disabled.\n",
      "--2020-08-11 11:33:03--  https://bin.equinox.io/c/4VmDzA7iaHb/ngrok-stable-linux-amd64.zip\n",
      "Resolving bin.equinox.io (bin.equinox.io)... 54.84.116.182, 18.214.66.67, 52.200.34.95, ...\n",
      "Connecting to bin.equinox.io (bin.equinox.io)|54.84.116.182|:443... connected.\n",
      "HTTP request sent, awaiting response... 200 OK\n",
      "Length: 13773305 (13M) [application/octet-stream]\n",
      "Saving to: ‘ngrok-stable-linux-amd64.zip’\n",
      "\n",
      "ngrok-stable-linux- 100%[===================>]  13.13M   568KB/s    in 24s     \n",
      "\n",
      "Last-modified header missing -- time-stamps turned off.\n",
      "2020-08-11 11:33:28 (558 KB/s) - ‘ngrok-stable-linux-amd64.zip’ saved [13773305/13773305]\n",
      "\n"
     ]
    }
   ],
   "source": [
    "!wget -N https://bin.equinox.io/c/4VmDzA7iaHb/ngrok-stable-linux-amd64.zip\n",
    "!unzip -qq ngrok-stable-linux-amd64.zip"
   ]
  },
  {
   "cell_type": "code",
   "execution_count": 7,
   "metadata": {
    "colab": {
     "base_uri": "https://localhost:8080/",
     "height": 156
    },
    "colab_type": "code",
    "id": "uuEVLgPVWaDv",
    "outputId": "8a22fe55-dcb5-46c9-a475-3f24fb6341e2"
   },
   "outputs": [
    {
     "name": "stdout",
     "output_type": "stream",
     "text": [
      "Traceback (most recent call last):\n",
      "  File \"<string>\", line 1, in <module>\n",
      "IndexError: list index out of range\n",
      "\u001b[0m\n",
      "\u001b[34m\u001b[1m  You can now view your Streamlit app in your browser.\u001b[0m\n",
      "\u001b[0m\n",
      "\u001b[34m  Network URL: \u001b[0m\u001b[1mhttp://192.168.1.140:8501\u001b[0m\n",
      "\u001b[34m  External URL: \u001b[0m\u001b[1mhttp://139.47.66.82:8501\u001b[0m\n",
      "\u001b[0m\n",
      "^C\n",
      "\u001b[34m  Stopping...\u001b[0m\n"
     ]
    }
   ],
   "source": [
    "#Run this cell to start the server with the classifier. Click on the first link xxx.ngrok.io\n",
    "get_ipython().system_raw('./ngrok http 8501 &')\n",
    "! curl -s http://localhost:4040/api/tunnels | python3 -c \\\n",
    "    \"import sys, json; print(json.load(sys.stdin)['tunnels'][0]['public_url'])\"\n",
    "\n",
    "!streamlit run ../stroke_visualization.py"
   ]
  },
  {
   "cell_type": "code",
   "execution_count": null,
   "metadata": {
    "colab": {},
    "colab_type": "code",
    "id": "bwctkYcY-N82"
   },
   "outputs": [],
   "source": []
  }
 ],
 "metadata": {
  "colab": {
   "name": "stroke_stream.ipynb",
   "provenance": [],
   "toc_visible": true
  },
  "kernelspec": {
   "display_name": "Python 3",
   "language": "python",
   "name": "python3"
  },
  "language_info": {
   "codemirror_mode": {
    "name": "ipython",
    "version": 3
   },
   "file_extension": ".py",
   "mimetype": "text/x-python",
   "name": "python",
   "nbconvert_exporter": "python",
   "pygments_lexer": "ipython3",
   "version": "3.7.4"
  }
 },
 "nbformat": 4,
 "nbformat_minor": 1
}
