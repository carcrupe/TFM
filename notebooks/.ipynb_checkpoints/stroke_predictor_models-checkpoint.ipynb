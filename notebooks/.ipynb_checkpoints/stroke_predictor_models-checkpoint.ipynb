{
 "cells": [
  {
   "cell_type": "markdown",
   "metadata": {
    "colab_type": "text",
    "id": "bQBqzXWsWZ_-"
   },
   "source": [
    "### Project - Predict heart attack based on phisiological and physical parameters of the patient"
   ]
  },
  {
   "cell_type": "markdown",
   "metadata": {
    "colab_type": "text",
    "id": "7Tt52uF2WaAA"
   },
   "source": [
    "https://www.kaggle.com/sulianova/cardiovascular-disease-dataset"
   ]
  },
  {
   "cell_type": "code",
   "execution_count": 1,
   "metadata": {
    "colab": {
     "base_uri": "https://localhost:8080/",
     "height": 228
    },
    "colab_type": "code",
    "id": "wxPMzxHFpgi2",
    "outputId": "d17aa2fb-44f7-419e-a325-f86db0c8cc70"
   },
   "outputs": [
    {
     "name": "stdout",
     "output_type": "stream",
     "text": [
      "--2020-08-11 12:53:57--  https://raw.githubusercontent.com/carcrupe/TFM/master/data/stroke_data_for_modeling.csv\n",
      "Resolviendo raw.githubusercontent.com (raw.githubusercontent.com)... 151.101.132.133\n",
      "Conectando con raw.githubusercontent.com (raw.githubusercontent.com)[151.101.132.133]:443... conectado.\n",
      "Petición HTTP enviada, esperando respuesta... 200 OK\n",
      "Longitud: 1019525 (996K) [text/plain]\n",
      "Guardando como: “../data/stroke_data_for_modeling.csv”\n",
      "\n",
      "stroke_data_for_mod 100%[===================>] 995,63K  --.-KB/s    en 0,06s   \n",
      "\n",
      "Falta la cabecera de fecha de la última modificación -- marcas de tiempo desactivadas.\n",
      "2020-08-11 12:53:58 (15,3 MB/s) - “../data/stroke_data_for_modeling.csv” guardado [1019525/1019525]\n",
      "\n"
     ]
    }
   ],
   "source": [
    "# Get cleaned data from repository\n",
    "!wget -N https://raw.githubusercontent.com/carcrupe/TFM/master/data/stroke_data_for_modeling.csv -P ../data"
   ]
  },
  {
   "cell_type": "code",
   "execution_count": 2,
   "metadata": {
    "colab": {
     "base_uri": "https://localhost:8080/",
     "height": 768
    },
    "colab_type": "code",
    "id": "KeDRCHbpRnC5",
    "outputId": "94ff92d1-3922-40f8-e615-9b5435b53b60"
   },
   "outputs": [
    {
     "name": "stdout",
     "output_type": "stream",
     "text": [
      "--2020-08-11 12:54:06--  https://raw.githubusercontent.com/carcrupe/TFM/master/requirements/requirements_modeling.txt\n",
      "Resolviendo raw.githubusercontent.com (raw.githubusercontent.com)... 151.101.132.133\n",
      "Conectando con raw.githubusercontent.com (raw.githubusercontent.com)[151.101.132.133]:443... conectado.\n",
      "Petición HTTP enviada, esperando respuesta... 200 OK\n",
      "Longitud: 83 [text/plain]\n",
      "Guardando como: “../requirements/requirements_modeling.txt”\n",
      "\n",
      "requirements_modeli 100%[===================>]      83  --.-KB/s    en 0s      \n",
      "\n",
      "Falta la cabecera de fecha de la última modificación -- marcas de tiempo desactivadas.\n",
      "2020-08-11 12:54:06 (1,50 MB/s) - “../requirements/requirements_modeling.txt” guardado [83/83]\n",
      "\n"
     ]
    }
   ],
   "source": [
    "# Get libraries and install them, just in case some of them are missing\n",
    "!wget -N https://raw.githubusercontent.com/carcrupe/TFM/master/requirements/requirements_modeling.txt -P ../requirements"
   ]
  },
  {
   "cell_type": "code",
   "execution_count": 3,
   "metadata": {
    "collapsed": true
   },
   "outputs": [
    {
     "name": "stdout",
     "output_type": "stream",
     "text": [
      "Requirement already satisfied: streamlit==0.61.0 in /home/carlos/anaconda3/lib/python3.7/site-packages (from -r ../requirements/requirements_modeling.txt (line 1)) (0.61.0)\n",
      "Requirement already satisfied: numpy==1.18.5 in /home/carlos/anaconda3/lib/python3.7/site-packages (from -r ../requirements/requirements_modeling.txt (line 2)) (1.18.5)\n",
      "Requirement already satisfied: pandas==1.0.3 in /home/carlos/anaconda3/lib/python3.7/site-packages (from -r ../requirements/requirements_modeling.txt (line 3)) (1.0.3)\n",
      "Collecting scikit-learn==0.23.2\n",
      "  Downloading scikit_learn-0.23.2-cp37-cp37m-manylinux1_x86_64.whl (6.8 MB)\n",
      "\u001b[K     |████████████████████████████████| 6.8 MB 5.8 MB/s eta 0:00:01\n",
      "\u001b[?25hRequirement already satisfied: xgboost==1.1.0 in /home/carlos/anaconda3/lib/python3.7/site-packages (from -r ../requirements/requirements_modeling.txt (line 5)) (1.1.0)\n",
      "Requirement already satisfied: cachetools>=4.0 in /home/carlos/anaconda3/lib/python3.7/site-packages (from streamlit==0.61.0->-r ../requirements/requirements_modeling.txt (line 1)) (4.1.0)\n",
      "Requirement already satisfied: base58 in /home/carlos/anaconda3/lib/python3.7/site-packages (from streamlit==0.61.0->-r ../requirements/requirements_modeling.txt (line 1)) (2.0.0)\n",
      "Requirement already satisfied: pillow>=6.2.0 in /home/carlos/anaconda3/lib/python3.7/site-packages (from streamlit==0.61.0->-r ../requirements/requirements_modeling.txt (line 1)) (7.1.2)\n",
      "Requirement already satisfied: packaging in /home/carlos/anaconda3/lib/python3.7/site-packages (from streamlit==0.61.0->-r ../requirements/requirements_modeling.txt (line 1)) (20.3)\n",
      "Requirement already satisfied: boto3 in /home/carlos/anaconda3/lib/python3.7/site-packages (from streamlit==0.61.0->-r ../requirements/requirements_modeling.txt (line 1)) (1.13.19)\n",
      "Requirement already satisfied: pydeck>=0.1.dev5 in /home/carlos/anaconda3/lib/python3.7/site-packages (from streamlit==0.61.0->-r ../requirements/requirements_modeling.txt (line 1)) (0.3.1)\n",
      "Requirement already satisfied: watchdog in /home/carlos/anaconda3/lib/python3.7/site-packages (from streamlit==0.61.0->-r ../requirements/requirements_modeling.txt (line 1)) (0.10.2)\n",
      "Requirement already satisfied: click>=7.0 in /home/carlos/anaconda3/lib/python3.7/site-packages (from streamlit==0.61.0->-r ../requirements/requirements_modeling.txt (line 1)) (7.1.2)\n",
      "Requirement already satisfied: toml in /home/carlos/anaconda3/lib/python3.7/site-packages (from streamlit==0.61.0->-r ../requirements/requirements_modeling.txt (line 1)) (0.10.1)\n",
      "Requirement already satisfied: tzlocal in /home/carlos/anaconda3/lib/python3.7/site-packages (from streamlit==0.61.0->-r ../requirements/requirements_modeling.txt (line 1)) (2.1)\n",
      "Requirement already satisfied: tornado<6.0,>=5.0 in /home/carlos/anaconda3/lib/python3.7/site-packages (from streamlit==0.61.0->-r ../requirements/requirements_modeling.txt (line 1)) (5.1.1)\n",
      "Requirement already satisfied: enum-compat in /home/carlos/anaconda3/lib/python3.7/site-packages (from streamlit==0.61.0->-r ../requirements/requirements_modeling.txt (line 1)) (0.0.3)\n",
      "Requirement already satisfied: astor in /home/carlos/anaconda3/lib/python3.7/site-packages (from streamlit==0.61.0->-r ../requirements/requirements_modeling.txt (line 1)) (0.8.1)\n",
      "Requirement already satisfied: protobuf>=3.6.0 in /home/carlos/anaconda3/lib/python3.7/site-packages (from streamlit==0.61.0->-r ../requirements/requirements_modeling.txt (line 1)) (3.12.2)\n",
      "Requirement already satisfied: altair>=3.2.0 in /home/carlos/anaconda3/lib/python3.7/site-packages (from streamlit==0.61.0->-r ../requirements/requirements_modeling.txt (line 1)) (4.1.0)\n",
      "Requirement already satisfied: python-dateutil in /home/carlos/anaconda3/lib/python3.7/site-packages (from streamlit==0.61.0->-r ../requirements/requirements_modeling.txt (line 1)) (2.8.1)\n",
      "Requirement already satisfied: requests in /home/carlos/anaconda3/lib/python3.7/site-packages (from streamlit==0.61.0->-r ../requirements/requirements_modeling.txt (line 1)) (2.23.0)\n",
      "Requirement already satisfied: validators in /home/carlos/anaconda3/lib/python3.7/site-packages (from streamlit==0.61.0->-r ../requirements/requirements_modeling.txt (line 1)) (0.15.0)\n",
      "Requirement already satisfied: blinker in /home/carlos/anaconda3/lib/python3.7/site-packages (from streamlit==0.61.0->-r ../requirements/requirements_modeling.txt (line 1)) (1.4)\n",
      "Requirement already satisfied: botocore>=1.13.44 in /home/carlos/anaconda3/lib/python3.7/site-packages (from streamlit==0.61.0->-r ../requirements/requirements_modeling.txt (line 1)) (1.16.19)\n",
      "Requirement already satisfied: pytz>=2017.2 in /home/carlos/anaconda3/lib/python3.7/site-packages (from pandas==1.0.3->-r ../requirements/requirements_modeling.txt (line 3)) (2020.1)\n",
      "Requirement already satisfied: joblib>=0.11 in /home/carlos/anaconda3/lib/python3.7/site-packages (from scikit-learn==0.23.2->-r ../requirements/requirements_modeling.txt (line 4)) (0.15.1)\n",
      "Collecting threadpoolctl>=2.0.0\n",
      "  Downloading threadpoolctl-2.1.0-py3-none-any.whl (12 kB)\n",
      "Requirement already satisfied: scipy>=0.19.1 in /home/carlos/anaconda3/lib/python3.7/site-packages (from scikit-learn==0.23.2->-r ../requirements/requirements_modeling.txt (line 4)) (1.4.1)\n",
      "Requirement already satisfied: six in /home/carlos/anaconda3/lib/python3.7/site-packages (from packaging->streamlit==0.61.0->-r ../requirements/requirements_modeling.txt (line 1)) (1.15.0)\n",
      "Requirement already satisfied: pyparsing>=2.0.2 in /home/carlos/anaconda3/lib/python3.7/site-packages (from packaging->streamlit==0.61.0->-r ../requirements/requirements_modeling.txt (line 1)) (2.4.7)\n",
      "Requirement already satisfied: s3transfer<0.4.0,>=0.3.0 in /home/carlos/anaconda3/lib/python3.7/site-packages (from boto3->streamlit==0.61.0->-r ../requirements/requirements_modeling.txt (line 1)) (0.3.3)\n",
      "Requirement already satisfied: jmespath<1.0.0,>=0.7.1 in /home/carlos/anaconda3/lib/python3.7/site-packages (from boto3->streamlit==0.61.0->-r ../requirements/requirements_modeling.txt (line 1)) (0.10.0)\n",
      "Requirement already satisfied: jinja2>=2.10.1 in /home/carlos/anaconda3/lib/python3.7/site-packages (from pydeck>=0.1.dev5->streamlit==0.61.0->-r ../requirements/requirements_modeling.txt (line 1)) (2.11.2)\n",
      "Requirement already satisfied: traitlets>=4.3.2 in /home/carlos/anaconda3/lib/python3.7/site-packages (from pydeck>=0.1.dev5->streamlit==0.61.0->-r ../requirements/requirements_modeling.txt (line 1)) (4.3.3)\n",
      "Requirement already satisfied: ipykernel>=5.1.2; python_version >= \"3.4\" in /home/carlos/anaconda3/lib/python3.7/site-packages (from pydeck>=0.1.dev5->streamlit==0.61.0->-r ../requirements/requirements_modeling.txt (line 1)) (5.1.4)\n",
      "Requirement already satisfied: ipywidgets>=7.0.0 in /home/carlos/anaconda3/lib/python3.7/site-packages (from pydeck>=0.1.dev5->streamlit==0.61.0->-r ../requirements/requirements_modeling.txt (line 1)) (7.5.1)\n",
      "Requirement already satisfied: pathtools>=0.1.1 in /home/carlos/anaconda3/lib/python3.7/site-packages (from watchdog->streamlit==0.61.0->-r ../requirements/requirements_modeling.txt (line 1)) (0.1.2)\n",
      "Requirement already satisfied: setuptools in /home/carlos/anaconda3/lib/python3.7/site-packages (from protobuf>=3.6.0->streamlit==0.61.0->-r ../requirements/requirements_modeling.txt (line 1)) (49.2.0)\n",
      "Requirement already satisfied: jsonschema in /home/carlos/anaconda3/lib/python3.7/site-packages (from altair>=3.2.0->streamlit==0.61.0->-r ../requirements/requirements_modeling.txt (line 1)) (3.2.0)\n",
      "Requirement already satisfied: toolz in /home/carlos/anaconda3/lib/python3.7/site-packages (from altair>=3.2.0->streamlit==0.61.0->-r ../requirements/requirements_modeling.txt (line 1)) (0.10.0)\n",
      "Requirement already satisfied: entrypoints in /home/carlos/anaconda3/lib/python3.7/site-packages (from altair>=3.2.0->streamlit==0.61.0->-r ../requirements/requirements_modeling.txt (line 1)) (0.3)\n",
      "Requirement already satisfied: idna<3,>=2.5 in /home/carlos/anaconda3/lib/python3.7/site-packages (from requests->streamlit==0.61.0->-r ../requirements/requirements_modeling.txt (line 1)) (2.9)\n",
      "Requirement already satisfied: urllib3!=1.25.0,!=1.25.1,<1.26,>=1.21.1 in /home/carlos/anaconda3/lib/python3.7/site-packages (from requests->streamlit==0.61.0->-r ../requirements/requirements_modeling.txt (line 1)) (1.25.8)\n",
      "Requirement already satisfied: certifi>=2017.4.17 in /home/carlos/anaconda3/lib/python3.7/site-packages (from requests->streamlit==0.61.0->-r ../requirements/requirements_modeling.txt (line 1)) (2020.4.5.1)\n",
      "Requirement already satisfied: chardet<4,>=3.0.2 in /home/carlos/anaconda3/lib/python3.7/site-packages (from requests->streamlit==0.61.0->-r ../requirements/requirements_modeling.txt (line 1)) (3.0.4)\n",
      "Requirement already satisfied: decorator>=3.4.0 in /home/carlos/anaconda3/lib/python3.7/site-packages (from validators->streamlit==0.61.0->-r ../requirements/requirements_modeling.txt (line 1)) (4.4.2)\n",
      "Requirement already satisfied: docutils<0.16,>=0.10 in /home/carlos/anaconda3/lib/python3.7/site-packages (from botocore>=1.13.44->streamlit==0.61.0->-r ../requirements/requirements_modeling.txt (line 1)) (0.15.2)\n",
      "Requirement already satisfied: MarkupSafe>=0.23 in /home/carlos/anaconda3/lib/python3.7/site-packages (from jinja2>=2.10.1->pydeck>=0.1.dev5->streamlit==0.61.0->-r ../requirements/requirements_modeling.txt (line 1)) (1.1.1)\n",
      "Requirement already satisfied: ipython-genutils in /home/carlos/anaconda3/lib/python3.7/site-packages (from traitlets>=4.3.2->pydeck>=0.1.dev5->streamlit==0.61.0->-r ../requirements/requirements_modeling.txt (line 1)) (0.2.0)\n",
      "Requirement already satisfied: ipython>=5.0.0 in /home/carlos/anaconda3/lib/python3.7/site-packages (from ipykernel>=5.1.2; python_version >= \"3.4\"->pydeck>=0.1.dev5->streamlit==0.61.0->-r ../requirements/requirements_modeling.txt (line 1)) (7.13.0)\n"
     ]
    },
    {
     "name": "stdout",
     "output_type": "stream",
     "text": [
      "Requirement already satisfied: jupyter-client in /home/carlos/anaconda3/lib/python3.7/site-packages (from ipykernel>=5.1.2; python_version >= \"3.4\"->pydeck>=0.1.dev5->streamlit==0.61.0->-r ../requirements/requirements_modeling.txt (line 1)) (6.1.3)\n",
      "Requirement already satisfied: widgetsnbextension~=3.5.0 in /home/carlos/anaconda3/lib/python3.7/site-packages (from ipywidgets>=7.0.0->pydeck>=0.1.dev5->streamlit==0.61.0->-r ../requirements/requirements_modeling.txt (line 1)) (3.5.1)\n",
      "Requirement already satisfied: nbformat>=4.2.0 in /home/carlos/anaconda3/lib/python3.7/site-packages (from ipywidgets>=7.0.0->pydeck>=0.1.dev5->streamlit==0.61.0->-r ../requirements/requirements_modeling.txt (line 1)) (5.0.6)\n",
      "Requirement already satisfied: attrs>=17.4.0 in /home/carlos/anaconda3/lib/python3.7/site-packages (from jsonschema->altair>=3.2.0->streamlit==0.61.0->-r ../requirements/requirements_modeling.txt (line 1)) (19.3.0)\n",
      "Requirement already satisfied: importlib-metadata; python_version < \"3.8\" in /home/carlos/anaconda3/lib/python3.7/site-packages (from jsonschema->altair>=3.2.0->streamlit==0.61.0->-r ../requirements/requirements_modeling.txt (line 1)) (1.6.0)\n",
      "Requirement already satisfied: pyrsistent>=0.14.0 in /home/carlos/anaconda3/lib/python3.7/site-packages (from jsonschema->altair>=3.2.0->streamlit==0.61.0->-r ../requirements/requirements_modeling.txt (line 1)) (0.16.0)\n",
      "Requirement already satisfied: backcall in /home/carlos/anaconda3/lib/python3.7/site-packages (from ipython>=5.0.0->ipykernel>=5.1.2; python_version >= \"3.4\"->pydeck>=0.1.dev5->streamlit==0.61.0->-r ../requirements/requirements_modeling.txt (line 1)) (0.1.0)\n",
      "Requirement already satisfied: jedi>=0.10 in /home/carlos/anaconda3/lib/python3.7/site-packages (from ipython>=5.0.0->ipykernel>=5.1.2; python_version >= \"3.4\"->pydeck>=0.1.dev5->streamlit==0.61.0->-r ../requirements/requirements_modeling.txt (line 1)) (0.15.2)\n",
      "Requirement already satisfied: prompt-toolkit!=3.0.0,!=3.0.1,<3.1.0,>=2.0.0 in /home/carlos/anaconda3/lib/python3.7/site-packages (from ipython>=5.0.0->ipykernel>=5.1.2; python_version >= \"3.4\"->pydeck>=0.1.dev5->streamlit==0.61.0->-r ../requirements/requirements_modeling.txt (line 1)) (3.0.5)\n",
      "Requirement already satisfied: pygments in /home/carlos/anaconda3/lib/python3.7/site-packages (from ipython>=5.0.0->ipykernel>=5.1.2; python_version >= \"3.4\"->pydeck>=0.1.dev5->streamlit==0.61.0->-r ../requirements/requirements_modeling.txt (line 1)) (2.6.1)\n",
      "Requirement already satisfied: pickleshare in /home/carlos/anaconda3/lib/python3.7/site-packages (from ipython>=5.0.0->ipykernel>=5.1.2; python_version >= \"3.4\"->pydeck>=0.1.dev5->streamlit==0.61.0->-r ../requirements/requirements_modeling.txt (line 1)) (0.7.5)\n",
      "Requirement already satisfied: pexpect; sys_platform != \"win32\" in /home/carlos/anaconda3/lib/python3.7/site-packages (from ipython>=5.0.0->ipykernel>=5.1.2; python_version >= \"3.4\"->pydeck>=0.1.dev5->streamlit==0.61.0->-r ../requirements/requirements_modeling.txt (line 1)) (4.8.0)\n",
      "Requirement already satisfied: pyzmq>=13 in /home/carlos/anaconda3/lib/python3.7/site-packages (from jupyter-client->ipykernel>=5.1.2; python_version >= \"3.4\"->pydeck>=0.1.dev5->streamlit==0.61.0->-r ../requirements/requirements_modeling.txt (line 1)) (18.1.1)\n",
      "Requirement already satisfied: jupyter-core>=4.6.0 in /home/carlos/anaconda3/lib/python3.7/site-packages (from jupyter-client->ipykernel>=5.1.2; python_version >= \"3.4\"->pydeck>=0.1.dev5->streamlit==0.61.0->-r ../requirements/requirements_modeling.txt (line 1)) (4.6.3)\n",
      "Requirement already satisfied: notebook>=4.4.1 in /home/carlos/anaconda3/lib/python3.7/site-packages (from widgetsnbextension~=3.5.0->ipywidgets>=7.0.0->pydeck>=0.1.dev5->streamlit==0.61.0->-r ../requirements/requirements_modeling.txt (line 1)) (6.0.3)\n",
      "Requirement already satisfied: zipp>=0.5 in /home/carlos/anaconda3/lib/python3.7/site-packages (from importlib-metadata; python_version < \"3.8\"->jsonschema->altair>=3.2.0->streamlit==0.61.0->-r ../requirements/requirements_modeling.txt (line 1)) (3.1.0)\n",
      "Requirement already satisfied: parso>=0.5.2 in /home/carlos/anaconda3/lib/python3.7/site-packages (from jedi>=0.10->ipython>=5.0.0->ipykernel>=5.1.2; python_version >= \"3.4\"->pydeck>=0.1.dev5->streamlit==0.61.0->-r ../requirements/requirements_modeling.txt (line 1)) (0.5.2)\n",
      "Requirement already satisfied: wcwidth in /home/carlos/anaconda3/lib/python3.7/site-packages (from prompt-toolkit!=3.0.0,!=3.0.1,<3.1.0,>=2.0.0->ipython>=5.0.0->ipykernel>=5.1.2; python_version >= \"3.4\"->pydeck>=0.1.dev5->streamlit==0.61.0->-r ../requirements/requirements_modeling.txt (line 1)) (0.1.9)\n",
      "Requirement already satisfied: ptyprocess>=0.5 in /home/carlos/anaconda3/lib/python3.7/site-packages (from pexpect; sys_platform != \"win32\"->ipython>=5.0.0->ipykernel>=5.1.2; python_version >= \"3.4\"->pydeck>=0.1.dev5->streamlit==0.61.0->-r ../requirements/requirements_modeling.txt (line 1)) (0.6.0)\n",
      "Requirement already satisfied: nbconvert in /home/carlos/anaconda3/lib/python3.7/site-packages (from notebook>=4.4.1->widgetsnbextension~=3.5.0->ipywidgets>=7.0.0->pydeck>=0.1.dev5->streamlit==0.61.0->-r ../requirements/requirements_modeling.txt (line 1)) (5.6.1)\n",
      "Requirement already satisfied: Send2Trash in /home/carlos/anaconda3/lib/python3.7/site-packages (from notebook>=4.4.1->widgetsnbextension~=3.5.0->ipywidgets>=7.0.0->pydeck>=0.1.dev5->streamlit==0.61.0->-r ../requirements/requirements_modeling.txt (line 1)) (1.5.0)\n",
      "Requirement already satisfied: prometheus-client in /home/carlos/anaconda3/lib/python3.7/site-packages (from notebook>=4.4.1->widgetsnbextension~=3.5.0->ipywidgets>=7.0.0->pydeck>=0.1.dev5->streamlit==0.61.0->-r ../requirements/requirements_modeling.txt (line 1)) (0.7.1)\n",
      "Requirement already satisfied: terminado>=0.8.1 in /home/carlos/anaconda3/lib/python3.7/site-packages (from notebook>=4.4.1->widgetsnbextension~=3.5.0->ipywidgets>=7.0.0->pydeck>=0.1.dev5->streamlit==0.61.0->-r ../requirements/requirements_modeling.txt (line 1)) (0.8.3)\n",
      "Requirement already satisfied: pandocfilters>=1.4.1 in /home/carlos/anaconda3/lib/python3.7/site-packages (from nbconvert->notebook>=4.4.1->widgetsnbextension~=3.5.0->ipywidgets>=7.0.0->pydeck>=0.1.dev5->streamlit==0.61.0->-r ../requirements/requirements_modeling.txt (line 1)) (1.4.2)\n",
      "Requirement already satisfied: bleach in /home/carlos/anaconda3/lib/python3.7/site-packages (from nbconvert->notebook>=4.4.1->widgetsnbextension~=3.5.0->ipywidgets>=7.0.0->pydeck>=0.1.dev5->streamlit==0.61.0->-r ../requirements/requirements_modeling.txt (line 1)) (3.1.4)\n",
      "Requirement already satisfied: testpath in /home/carlos/anaconda3/lib/python3.7/site-packages (from nbconvert->notebook>=4.4.1->widgetsnbextension~=3.5.0->ipywidgets>=7.0.0->pydeck>=0.1.dev5->streamlit==0.61.0->-r ../requirements/requirements_modeling.txt (line 1)) (0.4.4)\n",
      "Requirement already satisfied: mistune<2,>=0.8.1 in /home/carlos/anaconda3/lib/python3.7/site-packages (from nbconvert->notebook>=4.4.1->widgetsnbextension~=3.5.0->ipywidgets>=7.0.0->pydeck>=0.1.dev5->streamlit==0.61.0->-r ../requirements/requirements_modeling.txt (line 1)) (0.8.4)\n",
      "Requirement already satisfied: defusedxml in /home/carlos/anaconda3/lib/python3.7/site-packages (from nbconvert->notebook>=4.4.1->widgetsnbextension~=3.5.0->ipywidgets>=7.0.0->pydeck>=0.1.dev5->streamlit==0.61.0->-r ../requirements/requirements_modeling.txt (line 1)) (0.6.0)\n",
      "Requirement already satisfied: webencodings in /home/carlos/anaconda3/lib/python3.7/site-packages (from bleach->nbconvert->notebook>=4.4.1->widgetsnbextension~=3.5.0->ipywidgets>=7.0.0->pydeck>=0.1.dev5->streamlit==0.61.0->-r ../requirements/requirements_modeling.txt (line 1)) (0.5.1)\n",
      "Installing collected packages: threadpoolctl, scikit-learn\n",
      "  Attempting uninstall: scikit-learn\n",
      "    Found existing installation: scikit-learn 0.22.1\n",
      "    Uninstalling scikit-learn-0.22.1:\n",
      "      Successfully uninstalled scikit-learn-0.22.1\n",
      "Successfully installed scikit-learn-0.23.2 threadpoolctl-2.1.0\n"
     ]
    }
   ],
   "source": [
    "!pip install -r ../requirements/requirements_modeling.txt"
   ]
  },
  {
   "cell_type": "code",
   "execution_count": 7,
   "metadata": {
    "colab": {
     "base_uri": "https://localhost:8080/",
     "height": 72
    },
    "colab_type": "code",
    "id": "o-5qZe2sWaAC",
    "outputId": "7a7aacad-81b6-4ecc-8fb1-4bd74447dcc4"
   },
   "outputs": [],
   "source": [
    "import pandas as pd\n",
    "import numpy as np\n",
    "\n",
    "import matplotlib.pyplot as plt\n",
    "import seaborn as sns\n",
    "from mpl_toolkits import mplot3d\n",
    "\n",
    "from scipy.stats import randint\n",
    "\n",
    "from sklearn.metrics import classification_report,plot_confusion_matrix\n",
    "from sklearn.model_selection import cross_val_score,RandomizedSearchCV, GridSearchCV\n",
    "\n",
    "%matplotlib inline"
   ]
  },
  {
   "cell_type": "code",
   "execution_count": 8,
   "metadata": {
    "colab": {},
    "colab_type": "code",
    "id": "R20yospqWaAN"
   },
   "outputs": [],
   "source": [
    "import warnings\n",
    "warnings.filterwarnings('ignore')"
   ]
  },
  {
   "cell_type": "code",
   "execution_count": 9,
   "metadata": {
    "colab": {
     "base_uri": "https://localhost:8080/",
     "height": 206
    },
    "colab_type": "code",
    "id": "X-IJuDEcWaAU",
    "outputId": "a6ea8b4a-8a8a-4e30-d5b9-9f5038a072c0"
   },
   "outputs": [
    {
     "data": {
      "text/html": [
       "<div>\n",
       "<style scoped>\n",
       "    .dataframe tbody tr th:only-of-type {\n",
       "        vertical-align: middle;\n",
       "    }\n",
       "\n",
       "    .dataframe tbody tr th {\n",
       "        vertical-align: top;\n",
       "    }\n",
       "\n",
       "    .dataframe thead th {\n",
       "        text-align: right;\n",
       "    }\n",
       "</style>\n",
       "<table border=\"1\" class=\"dataframe\">\n",
       "  <thead>\n",
       "    <tr style=\"text-align: right;\">\n",
       "      <th></th>\n",
       "      <th>Age</th>\n",
       "      <th>SystolicPressure</th>\n",
       "      <th>DiastolicPressure</th>\n",
       "      <th>Cholesterol</th>\n",
       "      <th>Target</th>\n",
       "      <th>Pulse</th>\n",
       "    </tr>\n",
       "  </thead>\n",
       "  <tbody>\n",
       "    <tr>\n",
       "      <th>0</th>\n",
       "      <td>50</td>\n",
       "      <td>110</td>\n",
       "      <td>80</td>\n",
       "      <td>1</td>\n",
       "      <td>0</td>\n",
       "      <td>30</td>\n",
       "    </tr>\n",
       "    <tr>\n",
       "      <th>1</th>\n",
       "      <td>55</td>\n",
       "      <td>140</td>\n",
       "      <td>90</td>\n",
       "      <td>3</td>\n",
       "      <td>1</td>\n",
       "      <td>50</td>\n",
       "    </tr>\n",
       "    <tr>\n",
       "      <th>2</th>\n",
       "      <td>51</td>\n",
       "      <td>130</td>\n",
       "      <td>70</td>\n",
       "      <td>3</td>\n",
       "      <td>1</td>\n",
       "      <td>60</td>\n",
       "    </tr>\n",
       "    <tr>\n",
       "      <th>3</th>\n",
       "      <td>48</td>\n",
       "      <td>150</td>\n",
       "      <td>100</td>\n",
       "      <td>1</td>\n",
       "      <td>1</td>\n",
       "      <td>50</td>\n",
       "    </tr>\n",
       "    <tr>\n",
       "      <th>4</th>\n",
       "      <td>60</td>\n",
       "      <td>120</td>\n",
       "      <td>80</td>\n",
       "      <td>2</td>\n",
       "      <td>0</td>\n",
       "      <td>40</td>\n",
       "    </tr>\n",
       "  </tbody>\n",
       "</table>\n",
       "</div>"
      ],
      "text/plain": [
       "   Age  SystolicPressure  DiastolicPressure  Cholesterol  Target  Pulse\n",
       "0   50               110                 80            1       0     30\n",
       "1   55               140                 90            3       1     50\n",
       "2   51               130                 70            3       1     60\n",
       "3   48               150                100            1       1     50\n",
       "4   60               120                 80            2       0     40"
      ]
     },
     "execution_count": 9,
     "metadata": {},
     "output_type": "execute_result"
    }
   ],
   "source": [
    "df_stroke = pd.read_csv('../data/stroke_data_for_modeling.csv', sep=';')\n",
    "df_stroke.head() "
   ]
  },
  {
   "cell_type": "markdown",
   "metadata": {
    "colab_type": "text",
    "id": "63mtfKvLWaAa"
   },
   "source": [
    "### Machine learning modeling - action plan\n",
    "\n",
    "1. Train data for each model. This is a classification problem and we are interested in maximizing the recall, ideally, we want to diagnose as many patients as possible.\n",
    "\n",
    "2. To measure and evaluate I will decide base on:\n",
    "  1. Confusion matrix and classification report\n",
    "  2. RandomizedSearchCV - tune hyperparameters to optimize recall\n",
    "  3. Cross validation score\n",
    "   \n",
    "6. Set a data frame with all optimized models information \n",
    "7. Select the model with best performance and save it\n"
   ]
  },
  {
   "cell_type": "code",
   "execution_count": 11,
   "metadata": {
    "colab": {},
    "colab_type": "code",
    "id": "SkMFfGMuWaAb"
   },
   "outputs": [],
   "source": [
    "from sklearn.metrics import recall_score\n",
    "from sklearn.model_selection import train_test_split\n",
    "\n",
    "# Create target object and call it y\n",
    "y = df_stroke['Target']\n",
    "# Create X\n",
    "X = df_stroke.loc[:, df_stroke.columns != 'Target']\n",
    "\n",
    "# Split into validation and training data\n",
    "train_X, test_X, train_y, test_y = train_test_split(X, y, test_size=0.2, random_state=1)\n",
    "\n",
    "#Create a data frame which will store all the model scores\n",
    "model_score = pd.DataFrame(index = ['Model Score','Model'])"
   ]
  },
  {
   "cell_type": "markdown",
   "metadata": {
    "colab_type": "text",
    "id": "YMD9Uv4JWaAh"
   },
   "source": [
    "**Decision Tree Classifier**"
   ]
  },
  {
   "cell_type": "code",
   "execution_count": 16,
   "metadata": {
    "colab": {
     "base_uri": "https://localhost:8080/",
     "height": 34
    },
    "colab_type": "code",
    "id": "pwHdMCRFWaAh",
    "outputId": "cb676eda-9746-42da-c1ac-e574b7ba2077"
   },
   "outputs": [
    {
     "name": "stdout",
     "output_type": "stream",
     "text": [
      "Recall: 0.748\n"
     ]
    }
   ],
   "source": [
    "from sklearn.tree import DecisionTreeClassifier\n",
    "\n",
    "# Specify Model\n",
    "tree_model = DecisionTreeClassifier(random_state=1)\n",
    "# Fit Model\n",
    "tree_model.fit(train_X, train_y)\n",
    "\n",
    "# Make validation predictions and calculate recall\n",
    "val_predictions = tree_model.predict(test_X)\n",
    "val_recall = recall_score(val_predictions, test_y)\n",
    "print(\"Recall: {:,.3f}\".format(val_recall))\n"
   ]
  },
  {
   "cell_type": "code",
   "execution_count": 17,
   "metadata": {
    "colab": {},
    "colab_type": "code",
    "id": "g01-8vjNWaAo"
   },
   "outputs": [],
   "source": [
    "#We define a function that returns recall metric for a given max_leaf_node\n",
    "def get_recall_tree(max_leaf_nodes, train_X, test_X, train_y, test_y):\n",
    "    model = DecisionTreeClassifier(max_leaf_nodes=max_leaf_nodes, random_state=0)\n",
    "    model.fit(train_X, train_y)\n",
    "    preds_val = model.predict(test_X)\n",
    "    rec = recall_score(test_y, preds_val)\n",
    "    return(rec)"
   ]
  },
  {
   "cell_type": "code",
   "execution_count": 18,
   "metadata": {
    "colab": {
     "base_uri": "https://localhost:8080/",
     "height": 296
    },
    "colab_type": "code",
    "id": "U5yZ5v7GWaAt",
    "outputId": "41fef339-8f79-483f-e717-e04b41878f67",
    "scrolled": true
   },
   "outputs": [
    {
     "data": {
      "text/plain": [
       "Text(0.5, 0, 'Max leaf nodes')"
      ]
     },
     "execution_count": 18,
     "metadata": {},
     "output_type": "execute_result"
    },
    {
     "data": {
      "image/png": "[encoded data removed]",
      "text/plain": [
       "<Figure size 432x288 with 1 Axes>"
      ]
     },
     "metadata": {
      "needs_background": "light"
     },
     "output_type": "display_data"
    }
   ],
   "source": [
    "# Let us iterate to find the optimal tree parameters\n",
    "\n",
    "candidate_max_leaf_nodes = np.arange(5, 300,30)\n",
    "# Write loop to find the ideal tree size from candidate_max_leaf_nodes\n",
    "rec=[]\n",
    "for x in candidate_max_leaf_nodes:\n",
    "    rec.append(get_recall_tree(x,train_X, test_X, train_y, test_y))\n",
    "\n",
    "# Store the best value of max_leaf_nodes \n",
    "best_tree_size = candidate_max_leaf_nodes[rec.index(max(rec))]\n",
    "\n",
    "#Show the minimum accuracy highlighted in red\n",
    "maxRec = np.max(rec)\n",
    "mask = np.array(rec) == maxRec\n",
    "color = np.where(mask, 'red', 'blue')\n",
    "plt.scatter(candidate_max_leaf_nodes,rec, color=color);\n",
    "plt.ylabel('Recall')\n",
    "plt.xlabel('Max leaf nodes')\n"
   ]
  },
  {
   "cell_type": "code",
   "execution_count": 19,
   "metadata": {
    "colab": {
     "base_uri": "https://localhost:8080/",
     "height": 34
    },
    "colab_type": "code",
    "id": "hhj9lDoXWaAy",
    "outputId": "7052fb58-e41a-42d8-8256-e86ca8521067"
   },
   "outputs": [
    {
     "name": "stdout",
     "output_type": "stream",
     "text": [
      "Recall: 0.74748 - Best tree size: 95\n"
     ]
    }
   ],
   "source": [
    "#Create tree model with the best max_leaf_nodes\n",
    "improved_tree_model = DecisionTreeClassifier(max_leaf_nodes=best_tree_size, random_state=1)\n",
    "\n",
    "# fit the data with the improved model and calculate recall\n",
    "improved_tree_model.fit(train_X, train_y)\n",
    "val_predictions = improved_tree_model.predict(test_X)\n",
    "val_rec = recall_score(val_predictions, test_y)\n",
    "print(\"Recall: {:,.5f} - Best tree size: {:,.0f}\".format(val_rec,best_tree_size))"
   ]
  },
  {
   "cell_type": "code",
   "execution_count": 20,
   "metadata": {
    "colab": {
     "base_uri": "https://localhost:8080/",
     "height": 72
    },
    "colab_type": "code",
    "id": "OCK6uIKJWaA8",
    "outputId": "3ec1b107-1375-42b9-c025-6bc5e7ae50d1"
   },
   "outputs": [
    {
     "name": "stdout",
     "output_type": "stream",
     "text": [
      "Tuned Decision Tree Parameters: {'criterion': 'gini', 'max_depth': 3, 'max_features': 5, 'max_leaf_nodes': 100, 'min_samples_leaf': 2}\n",
      "Best score is 0.6742306235094714\n"
     ]
    }
   ],
   "source": [
    "# However, there are still some hyperparameters that can be tuned\n",
    "# Let us use Randomized Grid search to optimize the model\n",
    "\n",
    "# Setup the parameters and distributions to sample from: param_dist\n",
    "param_dist = {\"max_leaf_nodes\" : np.arange(10,200,10),\n",
    "              \"max_depth\": np.arange(1, 10),\n",
    "              \"max_features\": randint(1, 9),\n",
    "              \"min_samples_leaf\": randint(1, 9),\n",
    "              \"criterion\": [\"gini\", \"entropy\"]}\n",
    "\n",
    "# Instantiate the RandomizedSearchCV object: tree_cv\n",
    "tree_cv = RandomizedSearchCV(tree_model, param_dist, cv=5, random_state=1, scoring='recall')\n",
    "\n",
    "# Fit it to the data\n",
    "tree_cv.fit(train_X,train_y)\n",
    "\n",
    "# Print the tuned parameters and score\n",
    "print(\"Tuned Decision Tree Parameters: {}\".format(tree_cv.best_params_))\n",
    "print(\"Best score is {}\".format(tree_cv.best_score_))\n"
   ]
  },
  {
   "cell_type": "code",
   "execution_count": 21,
   "metadata": {
    "colab": {
     "base_uri": "https://localhost:8080/",
     "height": 34
    },
    "colab_type": "code",
    "id": "zqZGY_irWaBG",
    "outputId": "8db2b199-771e-402e-8661-b8b662c69399"
   },
   "outputs": [
    {
     "name": "stdout",
     "output_type": "stream",
     "text": [
      "Recall: 0.74571\n"
     ]
    }
   ],
   "source": [
    "#Fit tree model with the best hyperparameters\n",
    "best_tree_model = tree_cv.best_estimator_.fit(train_X,train_y)\n",
    "\n",
    "# Predict with the final model and calculate recall\n",
    "val_predictions = best_tree_model.predict(test_X)\n",
    "val_rec = recall_score(val_predictions, test_y)\n",
    "print(\"Recall: {:,.5f}\".format(val_rec))"
   ]
  },
  {
   "cell_type": "code",
   "execution_count": 22,
   "metadata": {
    "colab": {
     "base_uri": "https://localhost:8080/",
     "height": 435
    },
    "colab_type": "code",
    "id": "pdUxzEZsb1uQ",
    "outputId": "f2f46b23-050f-4646-993f-b575813c6809"
   },
   "outputs": [
    {
     "name": "stdout",
     "output_type": "stream",
     "text": [
      "              precision    recall  f1-score   support\n",
      "\n",
      "           0       0.69      0.76      0.72      5854\n",
      "           1       0.75      0.68      0.71      6101\n",
      "\n",
      "    accuracy                           0.72     11955\n",
      "   macro avg       0.72      0.72      0.72     11955\n",
      "weighted avg       0.72      0.72      0.72     11955\n",
      "\n"
     ]
    },
    {
     "data": {
      "image/png": "[encoded data removed]",
      "text/plain": [
       "<Figure size 432x288 with 2 Axes>"
      ]
     },
     "metadata": {
      "needs_background": "light"
     },
     "output_type": "display_data"
    }
   ],
   "source": [
    "plot_confusion_matrix(best_tree_model, test_X, test_y)\n",
    "print(classification_report(test_y,val_predictions))"
   ]
  },
  {
   "cell_type": "code",
   "execution_count": 23,
   "metadata": {
    "colab": {
     "base_uri": "https://localhost:8080/",
     "height": 34
    },
    "colab_type": "code",
    "id": "ByYyKjYYWaBM",
    "outputId": "fc477ae1-1fd2-4ede-97b4-2466764f7948"
   },
   "outputs": [
    {
     "data": {
      "text/plain": [
       "0.6746433082674843"
      ]
     },
     "execution_count": 23,
     "metadata": {},
     "output_type": "execute_result"
    }
   ],
   "source": [
    "#Also check the model with cross validation and store the mean of the recall validation as the score of the model\n",
    "best_recall_cv=cross_val_score(best_tree_model, X, y, cv=10, scoring='recall').mean()\n",
    "best_recall_cv"
   ]
  },
  {
   "cell_type": "code",
   "execution_count": 24,
   "metadata": {
    "colab": {},
    "colab_type": "code",
    "id": "RIIafhzZWaBQ"
   },
   "outputs": [],
   "source": [
    "model_score['DecisionTree'] =  [best_recall_cv, best_tree_model]"
   ]
  },
  {
   "cell_type": "code",
   "execution_count": 25,
   "metadata": {
    "colab": {
     "base_uri": "https://localhost:8080/",
     "height": 112
    },
    "colab_type": "code",
    "id": "JQDlnLWmWaBY",
    "outputId": "a3dac70b-b8fc-4559-9098-d819fe74ba33"
   },
   "outputs": [
    {
     "data": {
      "text/html": [
       "<div>\n",
       "<style scoped>\n",
       "    .dataframe tbody tr th:only-of-type {\n",
       "        vertical-align: middle;\n",
       "    }\n",
       "\n",
       "    .dataframe tbody tr th {\n",
       "        vertical-align: top;\n",
       "    }\n",
       "\n",
       "    .dataframe thead th {\n",
       "        text-align: right;\n",
       "    }\n",
       "</style>\n",
       "<table border=\"1\" class=\"dataframe\">\n",
       "  <thead>\n",
       "    <tr style=\"text-align: right;\">\n",
       "      <th></th>\n",
       "      <th>DecisionTree</th>\n",
       "    </tr>\n",
       "  </thead>\n",
       "  <tbody>\n",
       "    <tr>\n",
       "      <th>Model Score</th>\n",
       "      <td>0.674643</td>\n",
       "    </tr>\n",
       "    <tr>\n",
       "      <th>Model</th>\n",
       "      <td>DecisionTreeClassifier(ccp_alpha=0.0, class_we...</td>\n",
       "    </tr>\n",
       "  </tbody>\n",
       "</table>\n",
       "</div>"
      ],
      "text/plain": [
       "                                                  DecisionTree\n",
       "Model Score                                           0.674643\n",
       "Model        DecisionTreeClassifier(ccp_alpha=0.0, class_we..."
      ]
     },
     "execution_count": 25,
     "metadata": {},
     "output_type": "execute_result"
    }
   ],
   "source": [
    "model_score"
   ]
  },
  {
   "cell_type": "markdown",
   "metadata": {
    "colab_type": "text",
    "id": "UtKVGdh0WaBc"
   },
   "source": [
    "**Random Forest**"
   ]
  },
  {
   "cell_type": "code",
   "execution_count": 12,
   "metadata": {
    "colab": {
     "base_uri": "https://localhost:8080/",
     "height": 34
    },
    "colab_type": "code",
    "id": "Y84infQ4WaBd",
    "outputId": "0d00bdc0-9be4-47e8-8bb4-f9ec0ed57d7a"
   },
   "outputs": [
    {
     "name": "stdout",
     "output_type": "stream",
     "text": [
      "Recall for Random Forest Model: 0.6805441730863793\n"
     ]
    }
   ],
   "source": [
    "from sklearn.ensemble import RandomForestClassifier\n",
    "\n",
    "# Define the model. Set random_state to 1\n",
    "rf_model = RandomForestClassifier(random_state=1)\n",
    "\n",
    "# fit the model\n",
    "rf_model.fit(train_X,train_y)\n",
    "\n",
    "# Calculate the mean squared error of your Random Forest model on the validation data\n",
    "predict_y=rf_model.predict(test_X)\n",
    "rec_score = recall_score(test_y,predict_y)\n",
    "\n",
    "print(\"Recall for Random Forest Model: {}\".format(rec_score))\n"
   ]
  },
  {
   "cell_type": "code",
   "execution_count": 15,
   "metadata": {
    "colab": {},
    "colab_type": "code",
    "id": "M8Eb0RIaWaBh"
   },
   "outputs": [],
   "source": [
    "#We define a function that returns the Mean squared error of the Random Forest. We will check for this purpose\n",
    "# two parameters of the Random Forest regressor, the depth and the leaf nodes\n",
    "def get_recall_forest(max_depth, max_leaf_nodes, train_X, test_X, train_y, test_y):\n",
    "    model = RandomForestClassifier(max_depth=max_depth, max_leaf_nodes=max_leaf_nodes)\n",
    "    model.fit(train_X, train_y)\n",
    "    preds_val = model.predict(test_X)\n",
    "    rec = recall_score(test_y, preds_val)\n",
    "    return(rec)"
   ]
  },
  {
   "cell_type": "code",
   "execution_count": 16,
   "metadata": {
    "colab": {
     "base_uri": "https://localhost:8080/",
     "height": 248
    },
    "colab_type": "code",
    "id": "G7XRh5-XWaBk",
    "outputId": "9f99afb1-41e5-4ae7-916d-77a0206a5d97"
   },
   "outputs": [
    {
     "data": {
      "image/png": "[encoded data removed]",
      "text/plain": [
       "<Figure size 432x288 with 1 Axes>"
      ]
     },
     "metadata": {
      "needs_background": "light"
     },
     "output_type": "display_data"
    }
   ],
   "source": [
    "#Let us iterate to find the optimal forest parameters\n",
    "\n",
    "step_leaf_nodes = 80\n",
    "step_depth = 5\n",
    "candidate_max_leaf_nodes = np.arange(10,(step_leaf_nodes*7)+10,step_leaf_nodes)\n",
    "candidate_max_depth = np.arange(10,(step_depth*7)+10,step_depth)\n",
    "\n",
    "# Write loop to find the ideal forest size from candidate_max_leaf_nodes and max_depth. \n",
    "# I did this before learning about hyperparameter tuning :)\n",
    "rec=[]\n",
    "depth_points=[]\n",
    "leaf_points=[]\n",
    "max_rec=0\n",
    "for i, x_i  in enumerate(candidate_max_depth):\n",
    "    for j, y_i  in enumerate(candidate_max_leaf_nodes):\n",
    "        depth_points.append(candidate_max_depth[i])\n",
    "        leaf_points.append(candidate_max_leaf_nodes[j])\n",
    "        rec.append(get_recall_forest(x_i, y_i, train_X, test_X, train_y, test_y))\n",
    "        if max(rec) > max_rec:\n",
    "            max_rec = max(rec)\n",
    "            # Store the best value of max_leaf_nodes and tree size\n",
    "            best_depth = candidate_max_depth[i]\n",
    "            best_forest_size = candidate_max_leaf_nodes[j]\n",
    "\n",
    "#Show the maximum Recall highlighted in red and\n",
    "# plot in 3D the recall corresponding to the leaf nodes and depths for the Random Forest\n",
    "mask = np.array(rec) == max_rec\n",
    "color = np.where(mask, 'red', 'blue')\n",
    "fig = plt.figure()\n",
    "ax = plt.axes(projection='3d')\n",
    "ax.scatter3D(depth_points,leaf_points ,rec, color=color);\n",
    "ax.set_title('Recall for RandomForest');\n",
    "ax.set_xlabel('Forest depth');\n",
    "ax.set_ylabel('Leaf nodes');"
   ]
  },
  {
   "cell_type": "code",
   "execution_count": 17,
   "metadata": {
    "colab": {
     "base_uri": "https://localhost:8080/",
     "height": 34
    },
    "colab_type": "code",
    "id": "-EnCMtieWaBp",
    "outputId": "d3a6c858-a55b-46a1-ae8c-57f99c30c2c5"
   },
   "outputs": [
    {
     "name": "stdout",
     "output_type": "stream",
     "text": [
      "Recall: 0.75076 - Best depth: 15 - Best forest size: 170\n"
     ]
    }
   ],
   "source": [
    "#Create improved random forest model\n",
    "improved_forest_model = RandomForestClassifier(max_depth=best_depth, max_leaf_nodes=best_forest_size, random_state=0)\n",
    "\n",
    "# fit the final model with the whole dataset and calculate error\n",
    "improved_forest_model.fit(train_X, train_y)\n",
    "val_predictions = improved_forest_model.predict(test_X)\n",
    "val_rec = recall_score(val_predictions, test_y)\n",
    "print(\"Recall: {:,.5f} - Best depth: {:,.0f} - Best forest size: {:,.0f}\".format(val_rec, best_depth,best_forest_size))"
   ]
  },
  {
   "cell_type": "code",
   "execution_count": 18,
   "metadata": {
    "colab": {
     "base_uri": "https://localhost:8080/",
     "height": 72
    },
    "colab_type": "code",
    "id": "IcYVRCOEWaBu",
    "outputId": "f0d780f4-696d-43b6-d0d0-f841a25fb735"
   },
   "outputs": [
    {
     "name": "stdout",
     "output_type": "stream",
     "text": [
      "Tuned Forest Parameters: {'criterion': 'gini', 'max_depth': 33, 'max_features': 5, 'max_leaf_nodes': 62, 'min_samples_leaf': 5}\n",
      "Best score is 0.6889335489225795\n"
     ]
    }
   ],
   "source": [
    "#Let us use Randomized Grid search to optimize several hyperparameters\n",
    "\n",
    "# Setup the parameters and distributions \n",
    "param_dist = {\"max_leaf_nodes\" : np.arange(2,300,30),\n",
    "              \"max_depth\": np.arange(3, 40,10),\n",
    "              \"max_features\": randint(1, 9),\n",
    "              \"min_samples_leaf\": randint(1, 9),\n",
    "              \"criterion\": [\"gini\", \"entropy\"]}\n",
    "\n",
    "# Create the RandomizedSearchCV object, scoring the recall\n",
    "forest_cv = RandomizedSearchCV(improved_forest_model, param_dist, cv=5, random_state=1, scoring='recall')\n",
    "\n",
    "# Fit it to the data\n",
    "forest_cv.fit(train_X,train_y)\n",
    "\n",
    "# Print the tuned parameters and score\n",
    "print(\"Tuned Forest Parameters: {}\".format(forest_cv.best_params_))\n",
    "print(\"Best score is {}\".format(forest_cv.best_score_))"
   ]
  },
  {
   "cell_type": "code",
   "execution_count": 19,
   "metadata": {
    "colab": {
     "base_uri": "https://localhost:8080/",
     "height": 34
    },
    "colab_type": "code",
    "id": "Q6t2mblRWaB1",
    "outputId": "95c7cd5a-336e-4612-da65-e09e8e3ceb8e"
   },
   "outputs": [
    {
     "name": "stdout",
     "output_type": "stream",
     "text": [
      "Recall: 0.75013\n"
     ]
    }
   ],
   "source": [
    "#Fit forest model with the best hyperparameters\n",
    "best_forest_model = forest_cv.best_estimator_.fit(train_X,train_y)\n",
    "\n",
    "# Predict the test set with the final model and calculate recall\n",
    "val_predictions = best_forest_model.predict(test_X)\n",
    "val_rec = recall_score(val_predictions, test_y)\n",
    "print(\"Recall: {:,.5f}\".format(val_rec))"
   ]
  },
  {
   "cell_type": "code",
   "execution_count": 20,
   "metadata": {
    "colab": {
     "base_uri": "https://localhost:8080/",
     "height": 435
    },
    "colab_type": "code",
    "id": "Kex2TIQaf6Ji",
    "outputId": "1534041f-9e41-463c-c3ec-ff11132ac50f"
   },
   "outputs": [
    {
     "name": "stdout",
     "output_type": "stream",
     "text": [
      "              precision    recall  f1-score   support\n",
      "\n",
      "           0       0.70      0.76      0.73      5854\n",
      "           1       0.75      0.69      0.72      6101\n",
      "\n",
      "    accuracy                           0.72     11955\n",
      "   macro avg       0.73      0.73      0.72     11955\n",
      "weighted avg       0.73      0.72      0.72     11955\n",
      "\n"
     ]
    },
    {
     "data": {
      "image/png": "[encoded data removed]",
      "text/plain": [
       "<Figure size 432x288 with 2 Axes>"
      ]
     },
     "metadata": {
      "needs_background": "light"
     },
     "output_type": "display_data"
    }
   ],
   "source": [
    "plot_confusion_matrix(best_forest_model, test_X, test_y)\n",
    "print(classification_report(test_y,val_predictions))"
   ]
  },
  {
   "cell_type": "code",
   "execution_count": 33,
   "metadata": {
    "colab": {
     "base_uri": "https://localhost:8080/",
     "height": 34
    },
    "colab_type": "code",
    "id": "JsszG5dbWaB5",
    "outputId": "1e9d74f3-14c9-4e68-9701-51d3cfde443d"
   },
   "outputs": [
    {
     "data": {
      "text/plain": [
       "0.6844510155657649"
      ]
     },
     "execution_count": 33,
     "metadata": {},
     "output_type": "execute_result"
    }
   ],
   "source": [
    "#Finally check the recall of the model with cross validation\n",
    "best_forest_recall_cv= cross_val_score(best_forest_model, X, y, cv=5, scoring='recall').mean()\n",
    "best_forest_recall_cv"
   ]
  },
  {
   "cell_type": "code",
   "execution_count": 34,
   "metadata": {
    "colab": {},
    "colab_type": "code",
    "id": "Ap79p8SHWaB9"
   },
   "outputs": [],
   "source": [
    "#Save in a data frame the best achieved performance of the RandomForest model after cross validation\n",
    "model_score['RandomForest'] =  [best_forest_recall_cv, best_forest_model]"
   ]
  },
  {
   "cell_type": "code",
   "execution_count": 35,
   "metadata": {
    "colab": {
     "base_uri": "https://localhost:8080/",
     "height": 112
    },
    "colab_type": "code",
    "id": "dzTwIPMPWaCA",
    "outputId": "da1c227c-b103-4e65-9aa5-528193bb587b"
   },
   "outputs": [
    {
     "data": {
      "text/html": [
       "<div>\n",
       "<style scoped>\n",
       "    .dataframe tbody tr th:only-of-type {\n",
       "        vertical-align: middle;\n",
       "    }\n",
       "\n",
       "    .dataframe tbody tr th {\n",
       "        vertical-align: top;\n",
       "    }\n",
       "\n",
       "    .dataframe thead th {\n",
       "        text-align: right;\n",
       "    }\n",
       "</style>\n",
       "<table border=\"1\" class=\"dataframe\">\n",
       "  <thead>\n",
       "    <tr style=\"text-align: right;\">\n",
       "      <th></th>\n",
       "      <th>DecisionTree</th>\n",
       "      <th>RandomForest</th>\n",
       "    </tr>\n",
       "  </thead>\n",
       "  <tbody>\n",
       "    <tr>\n",
       "      <th>Model Score</th>\n",
       "      <td>0.674643</td>\n",
       "      <td>0.684451</td>\n",
       "    </tr>\n",
       "    <tr>\n",
       "      <th>Model</th>\n",
       "      <td>DecisionTreeClassifier(ccp_alpha=0.0, class_we...</td>\n",
       "      <td>(DecisionTreeClassifier(ccp_alpha=0.0, class_w...</td>\n",
       "    </tr>\n",
       "  </tbody>\n",
       "</table>\n",
       "</div>"
      ],
      "text/plain": [
       "                                                  DecisionTree  \\\n",
       "Model Score                                           0.674643   \n",
       "Model        DecisionTreeClassifier(ccp_alpha=0.0, class_we...   \n",
       "\n",
       "                                                  RandomForest  \n",
       "Model Score                                           0.684451  \n",
       "Model        (DecisionTreeClassifier(ccp_alpha=0.0, class_w...  "
      ]
     },
     "execution_count": 35,
     "metadata": {},
     "output_type": "execute_result"
    }
   ],
   "source": [
    "model_score"
   ]
  },
  {
   "cell_type": "markdown",
   "metadata": {
    "colab_type": "text",
    "id": "Co20CsfsWaCE"
   },
   "source": [
    "### Logistic regression"
   ]
  },
  {
   "cell_type": "code",
   "execution_count": 36,
   "metadata": {
    "colab": {
     "base_uri": "https://localhost:8080/",
     "height": 34
    },
    "colab_type": "code",
    "id": "MhVfMil_WaCE",
    "outputId": "d157ef4d-73a8-4e17-b89c-cf3a0ba0e368"
   },
   "outputs": [
    {
     "name": "stdout",
     "output_type": "stream",
     "text": [
      "Recall: 0.74968\n"
     ]
    }
   ],
   "source": [
    "from sklearn.linear_model import LogisticRegression\n",
    "log = LogisticRegression()\n",
    "log.fit(train_X, train_y)\n",
    "\n",
    "# Predicting the Test set results\n",
    "val_predictions = log.predict(test_X)\n",
    "\n",
    "val_rec = recall_score(val_predictions, test_y)\n",
    "print(\"Recall: {:,.5f}\".format(val_rec))"
   ]
  },
  {
   "cell_type": "code",
   "execution_count": 37,
   "metadata": {
    "colab": {
     "base_uri": "https://localhost:8080/",
     "height": 312
    },
    "colab_type": "code",
    "id": "6R58TqDAWaCH",
    "outputId": "9fd5ff60-470c-4f4a-fccd-3ad4593a8ad1"
   },
   "outputs": [
    {
     "data": {
      "text/plain": [
       "Text(0.5, 1.0, 'ROC Curve')"
      ]
     },
     "execution_count": 37,
     "metadata": {},
     "output_type": "execute_result"
    },
    {
     "data": {
      "image/png": "[encoded data removed]",
      "text/plain": [
       "<Figure size 432x288 with 1 Axes>"
      ]
     },
     "metadata": {
      "needs_background": "light"
     },
     "output_type": "display_data"
    }
   ],
   "source": [
    "# For the logistic regression I also compute the ROC score\n",
    "\n",
    "from sklearn.metrics import roc_curve\n",
    "from sklearn.metrics import roc_auc_score\n",
    "\n",
    "# Compute predicted probabilities\n",
    "y_pred_prob = log.predict_proba(test_X)[:,1]\n",
    "\n",
    "# Generate ROC curve values: fpr, tpr, thresholds\n",
    "fpr, tpr, thresholds = roc_curve(test_y, y_pred_prob)\n",
    "\n",
    "# Plot ROC curve\n",
    "plt.plot([0, 1], [0, 1], 'k--')\n",
    "plt.plot(fpr, tpr)\n",
    "plt.xlabel('False Positive Rate')\n",
    "plt.ylabel('True Positive Rate')\n",
    "plt.title('ROC Curve')"
   ]
  },
  {
   "cell_type": "code",
   "execution_count": 38,
   "metadata": {
    "colab": {
     "base_uri": "https://localhost:8080/",
     "height": 34
    },
    "colab_type": "code",
    "id": "bSnxXmQ-WaCL",
    "outputId": "b3248183-f7c0-4f30-f7ea-863129c5c610"
   },
   "outputs": [
    {
     "data": {
      "text/plain": [
       "0.781846098588575"
      ]
     },
     "execution_count": 38,
     "metadata": {},
     "output_type": "execute_result"
    }
   ],
   "source": [
    "#We compute the area under the ROC\n",
    "roc_auc_score(test_y, y_pred_prob)"
   ]
  },
  {
   "cell_type": "code",
   "execution_count": 39,
   "metadata": {
    "colab": {
     "base_uri": "https://localhost:8080/",
     "height": 52
    },
    "colab_type": "code",
    "id": "lwUadmgTWaCN",
    "outputId": "15667de1-80c2-4bd5-ae5b-0304c13b3b70"
   },
   "outputs": [
    {
     "name": "stdout",
     "output_type": "stream",
     "text": [
      "Tuned Logistic Regression Parameters: {'C': 0.006105402296585327}\n",
      "Best score is 0.6653346415896622\n"
     ]
    }
   ],
   "source": [
    "# Since there ir only one hyperparameter to tune, let us check the best performance using a grid search\n",
    "# Setup the hyperparameter grid\n",
    "c_space = np.logspace(-5, 8, 15)\n",
    "param_grid = {'C': c_space}\n",
    "\n",
    "# Instantiate the GridSearchCV object: logreg_cv\n",
    "logreg_cv = GridSearchCV(log, param_grid, cv=5, scoring='recall')\n",
    "\n",
    "# Fit it to the data\n",
    "logreg_cv.fit(train_X,train_y)\n",
    "\n",
    "# Print the tuned parameters and score\n",
    "print(\"Tuned Logistic Regression Parameters: {}\".format(logreg_cv.best_params_)) \n",
    "print(\"Best score is {}\".format(logreg_cv.best_score_))\n"
   ]
  },
  {
   "cell_type": "code",
   "execution_count": 40,
   "metadata": {
    "colab": {
     "base_uri": "https://localhost:8080/",
     "height": 34
    },
    "colab_type": "code",
    "id": "7SAGHV4KWaCY",
    "outputId": "c3c85864-769b-44f8-e5e2-f495601e1f9b"
   },
   "outputs": [
    {
     "name": "stdout",
     "output_type": "stream",
     "text": [
      "Recall: 0.74963\n"
     ]
    }
   ],
   "source": [
    "#Fit logistic regression model with the best hyperparameters\n",
    "best_logistic_model = logreg_cv.best_estimator_.fit(train_X,train_y)\n",
    "\n",
    "# fit the final model with the whole dataset and calculate error\n",
    "val_predictions = best_logistic_model.predict(test_X)\n",
    "val_rec = recall_score(val_predictions, test_y)\n",
    "print(\"Recall: {:,.5f}\".format(val_rec))"
   ]
  },
  {
   "cell_type": "code",
   "execution_count": 41,
   "metadata": {
    "colab": {
     "base_uri": "https://localhost:8080/",
     "height": 435
    },
    "colab_type": "code",
    "id": "fVQs-lWxh0MT",
    "outputId": "52a1f988-5480-4b08-e194-a3c20044fd79"
   },
   "outputs": [
    {
     "name": "stdout",
     "output_type": "stream",
     "text": [
      "              precision    recall  f1-score   support\n",
      "\n",
      "           0       0.69      0.77      0.73      5854\n",
      "           1       0.75      0.67      0.71      6101\n",
      "\n",
      "    accuracy                           0.72     11955\n",
      "   macro avg       0.72      0.72      0.72     11955\n",
      "weighted avg       0.72      0.72      0.72     11955\n",
      "\n"
     ]
    },
    {
     "data": {
      "image/png": "[encoded data removed]",
      "text/plain": [
       "<Figure size 432x288 with 2 Axes>"
      ]
     },
     "metadata": {
      "needs_background": "light"
     },
     "output_type": "display_data"
    }
   ],
   "source": [
    "plot_confusion_matrix(best_logistic_model, test_X, test_y)\n",
    "print(classification_report(test_y,val_predictions))"
   ]
  },
  {
   "cell_type": "code",
   "execution_count": 42,
   "metadata": {
    "colab": {
     "base_uri": "https://localhost:8080/",
     "height": 34
    },
    "colab_type": "code",
    "id": "-y7CuxecWaCa",
    "outputId": "768cf8a1-746e-4ad0-a298-307f26b25544"
   },
   "outputs": [
    {
     "data": {
      "text/plain": [
       "0.6668755090882718"
      ]
     },
     "execution_count": 42,
     "metadata": {},
     "output_type": "execute_result"
    }
   ],
   "source": [
    "#Also check the model with cross validation for the best logistic model\n",
    "best_log_recall = cross_val_score(best_logistic_model, X, y, cv=5, scoring='recall').mean()\n",
    "best_log_recall"
   ]
  },
  {
   "cell_type": "code",
   "execution_count": 43,
   "metadata": {
    "colab": {},
    "colab_type": "code",
    "id": "I58scBXUWaCd"
   },
   "outputs": [],
   "source": [
    "model_score['LogisticRegression'] =  [best_log_recall, best_logistic_model]"
   ]
  },
  {
   "cell_type": "code",
   "execution_count": 44,
   "metadata": {
    "colab": {
     "base_uri": "https://localhost:8080/",
     "height": 167
    },
    "colab_type": "code",
    "id": "3KM0KYVeWaCg",
    "outputId": "e4c6e153-a00a-46a2-c183-02e09ad91fc1"
   },
   "outputs": [
    {
     "data": {
      "text/html": [
       "<div>\n",
       "<style scoped>\n",
       "    .dataframe tbody tr th:only-of-type {\n",
       "        vertical-align: middle;\n",
       "    }\n",
       "\n",
       "    .dataframe tbody tr th {\n",
       "        vertical-align: top;\n",
       "    }\n",
       "\n",
       "    .dataframe thead th {\n",
       "        text-align: right;\n",
       "    }\n",
       "</style>\n",
       "<table border=\"1\" class=\"dataframe\">\n",
       "  <thead>\n",
       "    <tr style=\"text-align: right;\">\n",
       "      <th></th>\n",
       "      <th>DecisionTree</th>\n",
       "      <th>RandomForest</th>\n",
       "      <th>LogisticRegression</th>\n",
       "    </tr>\n",
       "  </thead>\n",
       "  <tbody>\n",
       "    <tr>\n",
       "      <th>Model Score</th>\n",
       "      <td>0.674643</td>\n",
       "      <td>0.684451</td>\n",
       "      <td>0.666876</td>\n",
       "    </tr>\n",
       "    <tr>\n",
       "      <th>Model</th>\n",
       "      <td>DecisionTreeClassifier(ccp_alpha=0.0, class_we...</td>\n",
       "      <td>(DecisionTreeClassifier(ccp_alpha=0.0, class_w...</td>\n",
       "      <td>LogisticRegression(C=0.006105402296585327, cla...</td>\n",
       "    </tr>\n",
       "  </tbody>\n",
       "</table>\n",
       "</div>"
      ],
      "text/plain": [
       "                                                  DecisionTree  \\\n",
       "Model Score                                           0.674643   \n",
       "Model        DecisionTreeClassifier(ccp_alpha=0.0, class_we...   \n",
       "\n",
       "                                                  RandomForest  \\\n",
       "Model Score                                           0.684451   \n",
       "Model        (DecisionTreeClassifier(ccp_alpha=0.0, class_w...   \n",
       "\n",
       "                                            LogisticRegression  \n",
       "Model Score                                           0.666876  \n",
       "Model        LogisticRegression(C=0.006105402296585327, cla...  "
      ]
     },
     "execution_count": 44,
     "metadata": {},
     "output_type": "execute_result"
    }
   ],
   "source": [
    " model_score"
   ]
  },
  {
   "cell_type": "markdown",
   "metadata": {
    "colab_type": "text",
    "id": "uccsgHgzWaCl"
   },
   "source": [
    "### K-Neighbors"
   ]
  },
  {
   "cell_type": "code",
   "execution_count": 45,
   "metadata": {
    "colab": {
     "base_uri": "https://localhost:8080/",
     "height": 34
    },
    "colab_type": "code",
    "id": "Omo_KYKxWaCl",
    "outputId": "c94ed18e-c5d5-431c-9c87-0b87157a0cee"
   },
   "outputs": [
    {
     "name": "stdout",
     "output_type": "stream",
     "text": [
      "Validation recall: 0.66047\n"
     ]
    }
   ],
   "source": [
    "from sklearn.neighbors import KNeighborsClassifier\n",
    "from sklearn.preprocessing import StandardScaler\n",
    "from sklearn.pipeline import Pipeline\n",
    "\n",
    "#For this model we are scaling, since for the neighbor model having comparable values should be more accurate\n",
    "\n",
    "# Setup the pipeline steps: steps\n",
    "steps = [('scaler', StandardScaler()),\n",
    "        ('knn', KNeighborsClassifier(n_neighbors=3))]\n",
    "        \n",
    "# Create the pipeline: pipeline\n",
    "pipeline = Pipeline(steps)\n",
    "\n",
    "# Fit the pipeline to the training set\n",
    "knn_scaled = pipeline.fit(train_X,train_y)\n",
    "\n",
    "# Predicting the Test set results\n",
    "val_predictions = knn_scaled.predict(test_X)\n",
    "\n",
    "# Measure recall of the model\n",
    "val_rec = recall_score(val_predictions, test_y)\n",
    "print(\"Validation recall: {:,.5f}\".format(val_rec))"
   ]
  },
  {
   "cell_type": "code",
   "execution_count": 46,
   "metadata": {
    "colab": {
     "base_uri": "https://localhost:8080/",
     "height": 295
    },
    "colab_type": "code",
    "id": "bliZTH_dWaCo",
    "outputId": "794b84b3-2a9d-41f2-dc32-663b81e3cd04"
   },
   "outputs": [
    {
     "data": {
      "image/png": "[encoded data removed]",
      "text/plain": [
       "<Figure size 432x288 with 1 Axes>"
      ]
     },
     "metadata": {
      "needs_background": "light"
     },
     "output_type": "display_data"
    }
   ],
   "source": [
    "scaler = StandardScaler()\n",
    "\n",
    "# Create X scaled\n",
    "X_scaled = scaler.fit_transform(X)\n",
    "train_X_scaled, test_X_scaled, train_y, test_y = train_test_split(X_scaled, y, test_size=0.2, random_state=1)\n",
    "\n",
    "# Instead of using Randomized search or Grid seach, I am going to do the optimization manually.\n",
    "# Let us iterate to find the best number of neighbors for the model and check performance for both training and test sets\n",
    "\n",
    "neighbors = np.arange(2, 20)\n",
    "train_recall = []\n",
    "test_recall = []\n",
    "\n",
    "# Loop over different values of k\n",
    "for i, k in enumerate(neighbors):\n",
    "    knn = KNeighborsClassifier(n_neighbors=k)\n",
    "    # Fit the classifier to the training data\n",
    "    knn.fit(train_X_scaled,train_y)    \n",
    "    #Compute recall on the training set\n",
    "    train_recall.append(recall_score(knn.predict(train_X_scaled), train_y))\n",
    "    #Compute recall on the test set\n",
    "    test_recall.append(recall_score(knn.predict(test_X_scaled), test_y))\n",
    "\n",
    "# Generate plot\n",
    "plt.title('k-NN: Varying Number of Neighbors');\n",
    "plt.plot(neighbors, test_recall, label = 'Test recall');\n",
    "plt.plot(neighbors, train_recall, label = 'Training recall');\n",
    "plt.legend()\n",
    "plt.xlabel('Number of Neighbors');\n",
    "plt.ylabel('Recall');\n"
   ]
  },
  {
   "cell_type": "markdown",
   "metadata": {
    "colab_type": "text",
    "id": "XFtGpaMfk5Eh"
   },
   "source": [
    "We have an interesting result when optimizing the number of neighbors. It seems the recall is better for an even number of neighbors. This might happen just because the quality of the data and the features we have are not ideal."
   ]
  },
  {
   "cell_type": "code",
   "execution_count": 47,
   "metadata": {
    "colab": {
     "base_uri": "https://localhost:8080/",
     "height": 34
    },
    "colab_type": "code",
    "id": "ckHyEA8YWaCt",
    "outputId": "dd454785-ad26-426a-d98f-3908b5b3d68a"
   },
   "outputs": [
    {
     "name": "stdout",
     "output_type": "stream",
     "text": [
      "Recall: 0.73803 - Best number of neighbors: 6\n"
     ]
    }
   ],
   "source": [
    "#We take the best number of neighbors based on the previous graph. We select a trade off between training and test accuracy\n",
    "best_neighbors = 6\n",
    "\n",
    "#Create optimal random forest model\n",
    "best_neighbor_model = KNeighborsClassifier(n_neighbors=best_neighbors)\n",
    "\n",
    "# fit the final model with the train dataset and calculate recall\n",
    "best_neighbor_model.fit(train_X_scaled, train_y)\n",
    "val_predictions = best_neighbor_model.predict(test_X_scaled)\n",
    "val_rec = recall_score(val_predictions, test_y)\n",
    "print(\"Recall: {:,.5f} - Best number of neighbors: {:,.0f}\".format(val_rec, best_neighbors))"
   ]
  },
  {
   "cell_type": "code",
   "execution_count": 48,
   "metadata": {
    "colab": {
     "base_uri": "https://localhost:8080/",
     "height": 439
    },
    "colab_type": "code",
    "id": "0R90qCrgktYg",
    "outputId": "bbd866d6-294c-41df-fae3-d1b2a0859a05"
   },
   "outputs": [
    {
     "name": "stdout",
     "output_type": "stream",
     "text": [
      "              precision    recall  f1-score   support\n",
      "\n",
      "           0       0.66      0.77      0.71      5854\n",
      "           1       0.74      0.62      0.68      6101\n",
      "\n",
      "    accuracy                           0.70     11955\n",
      "   macro avg       0.70      0.70      0.69     11955\n",
      "weighted avg       0.70      0.70      0.69     11955\n",
      "\n"
     ]
    },
    {
     "data": {
      "image/png": "[encoded data removed]",
      "text/plain": [
       "<Figure size 432x288 with 2 Axes>"
      ]
     },
     "metadata": {
      "needs_background": "light"
     },
     "output_type": "display_data"
    }
   ],
   "source": [
    "plot_confusion_matrix(best_neighbor_model, test_X_scaled, test_y)\n",
    "print(classification_report(test_y,val_predictions))"
   ]
  },
  {
   "cell_type": "code",
   "execution_count": 49,
   "metadata": {
    "colab": {
     "base_uri": "https://localhost:8080/",
     "height": 34
    },
    "colab_type": "code",
    "id": "uO7bGlLOWaCv",
    "outputId": "e949c500-dab7-461c-aeeb-58b29ec175a2"
   },
   "outputs": [
    {
     "data": {
      "text/plain": [
       "0.6100657753692654"
      ]
     },
     "execution_count": 49,
     "metadata": {},
     "output_type": "execute_result"
    }
   ],
   "source": [
    "#Also check the model with cross validation\n",
    "best_recall_KNeighbors = cross_val_score(best_neighbor_model, X_scaled, y, cv=5, scoring='recall').mean()\n",
    "best_recall_KNeighbors"
   ]
  },
  {
   "cell_type": "code",
   "execution_count": 50,
   "metadata": {
    "colab": {},
    "colab_type": "code",
    "id": "DFqCD93BWaDA"
   },
   "outputs": [],
   "source": [
    "model_score['K-Neighbors'] =  [best_recall_KNeighbors,best_neighbor_model]"
   ]
  },
  {
   "cell_type": "code",
   "execution_count": 51,
   "metadata": {
    "colab": {
     "base_uri": "https://localhost:8080/",
     "height": 167
    },
    "colab_type": "code",
    "id": "1I1fumCqWaDD",
    "outputId": "8522ab33-65e8-4781-e6ef-d12dca9ea591"
   },
   "outputs": [
    {
     "data": {
      "text/html": [
       "<div>\n",
       "<style scoped>\n",
       "    .dataframe tbody tr th:only-of-type {\n",
       "        vertical-align: middle;\n",
       "    }\n",
       "\n",
       "    .dataframe tbody tr th {\n",
       "        vertical-align: top;\n",
       "    }\n",
       "\n",
       "    .dataframe thead th {\n",
       "        text-align: right;\n",
       "    }\n",
       "</style>\n",
       "<table border=\"1\" class=\"dataframe\">\n",
       "  <thead>\n",
       "    <tr style=\"text-align: right;\">\n",
       "      <th></th>\n",
       "      <th>DecisionTree</th>\n",
       "      <th>RandomForest</th>\n",
       "      <th>LogisticRegression</th>\n",
       "      <th>K-Neighbors</th>\n",
       "    </tr>\n",
       "  </thead>\n",
       "  <tbody>\n",
       "    <tr>\n",
       "      <th>Model Score</th>\n",
       "      <td>0.674643</td>\n",
       "      <td>0.684451</td>\n",
       "      <td>0.666876</td>\n",
       "      <td>0.610066</td>\n",
       "    </tr>\n",
       "    <tr>\n",
       "      <th>Model</th>\n",
       "      <td>DecisionTreeClassifier(ccp_alpha=0.0, class_we...</td>\n",
       "      <td>(DecisionTreeClassifier(ccp_alpha=0.0, class_w...</td>\n",
       "      <td>LogisticRegression(C=0.006105402296585327, cla...</td>\n",
       "      <td>KNeighborsClassifier(algorithm='auto', leaf_si...</td>\n",
       "    </tr>\n",
       "  </tbody>\n",
       "</table>\n",
       "</div>"
      ],
      "text/plain": [
       "                                                  DecisionTree  \\\n",
       "Model Score                                           0.674643   \n",
       "Model        DecisionTreeClassifier(ccp_alpha=0.0, class_we...   \n",
       "\n",
       "                                                  RandomForest  \\\n",
       "Model Score                                           0.684451   \n",
       "Model        (DecisionTreeClassifier(ccp_alpha=0.0, class_w...   \n",
       "\n",
       "                                            LogisticRegression  \\\n",
       "Model Score                                           0.666876   \n",
       "Model        LogisticRegression(C=0.006105402296585327, cla...   \n",
       "\n",
       "                                                   K-Neighbors  \n",
       "Model Score                                           0.610066  \n",
       "Model        KNeighborsClassifier(algorithm='auto', leaf_si...  "
      ]
     },
     "execution_count": 51,
     "metadata": {},
     "output_type": "execute_result"
    }
   ],
   "source": [
    "model_score"
   ]
  },
  {
   "cell_type": "markdown",
   "metadata": {
    "colab_type": "text",
    "id": "baGVJLcgWaDG"
   },
   "source": [
    "### Support Vector Machine (SVC)"
   ]
  },
  {
   "cell_type": "code",
   "execution_count": 52,
   "metadata": {
    "colab": {
     "base_uri": "https://localhost:8080/",
     "height": 34
    },
    "colab_type": "code",
    "id": "mjU1caWtWaDH",
    "outputId": "2b696ebe-2406-405c-81bc-25a79b619047"
   },
   "outputs": [
    {
     "name": "stdout",
     "output_type": "stream",
     "text": [
      "Recall: 0.767\n"
     ]
    }
   ],
   "source": [
    "# This model takes a really long time to run. I will not work on optimizing it since the recall does not improve much.\n",
    "\n",
    "from sklearn.svm import SVC\n",
    "svc = SVC(kernel = 'rbf')\n",
    "svc.fit(train_X, train_y)\n",
    "\n",
    "# Predicting the Test set results\n",
    "val_predictions = svc.predict(test_X)\n",
    "\n",
    "val_rec= recall_score(val_predictions, test_y)\n",
    "print(\"Recall: {:,.3f}\".format(val_rec))"
   ]
  },
  {
   "cell_type": "code",
   "execution_count": 53,
   "metadata": {
    "colab": {
     "base_uri": "https://localhost:8080/",
     "height": 34
    },
    "colab_type": "code",
    "id": "EmMiOnImn3x7",
    "outputId": "d7010ae3-83bf-4681-d899-81f03e223836"
   },
   "outputs": [
    {
     "data": {
      "text/plain": [
       "0.6253372681687176"
      ]
     },
     "execution_count": 53,
     "metadata": {},
     "output_type": "execute_result"
    }
   ],
   "source": [
    "#Also check the model with cross validation\n",
    "best_recall_svm = cross_val_score(svc, X, y, cv=3, scoring='recall').mean()\n",
    "best_recall_svm"
   ]
  },
  {
   "cell_type": "code",
   "execution_count": 54,
   "metadata": {
    "colab": {
     "base_uri": "https://localhost:8080/",
     "height": 202
    },
    "colab_type": "code",
    "id": "oSr0bF2vWaDK",
    "outputId": "59b63f99-bb2c-4a57-f869-8b223613378a"
   },
   "outputs": [
    {
     "data": {
      "text/html": [
       "<div>\n",
       "<style scoped>\n",
       "    .dataframe tbody tr th:only-of-type {\n",
       "        vertical-align: middle;\n",
       "    }\n",
       "\n",
       "    .dataframe tbody tr th {\n",
       "        vertical-align: top;\n",
       "    }\n",
       "\n",
       "    .dataframe thead th {\n",
       "        text-align: right;\n",
       "    }\n",
       "</style>\n",
       "<table border=\"1\" class=\"dataframe\">\n",
       "  <thead>\n",
       "    <tr style=\"text-align: right;\">\n",
       "      <th></th>\n",
       "      <th>DecisionTree</th>\n",
       "      <th>RandomForest</th>\n",
       "      <th>LogisticRegression</th>\n",
       "      <th>K-Neighbors</th>\n",
       "      <th>SVM</th>\n",
       "    </tr>\n",
       "  </thead>\n",
       "  <tbody>\n",
       "    <tr>\n",
       "      <th>Model Score</th>\n",
       "      <td>0.674643</td>\n",
       "      <td>0.684451</td>\n",
       "      <td>0.666876</td>\n",
       "      <td>0.610066</td>\n",
       "      <td>0.625337</td>\n",
       "    </tr>\n",
       "    <tr>\n",
       "      <th>Model</th>\n",
       "      <td>DecisionTreeClassifier(ccp_alpha=0.0, class_we...</td>\n",
       "      <td>(DecisionTreeClassifier(ccp_alpha=0.0, class_w...</td>\n",
       "      <td>LogisticRegression(C=0.006105402296585327, cla...</td>\n",
       "      <td>KNeighborsClassifier(algorithm='auto', leaf_si...</td>\n",
       "      <td>SVC(C=1.0, break_ties=False, cache_size=200, c...</td>\n",
       "    </tr>\n",
       "  </tbody>\n",
       "</table>\n",
       "</div>"
      ],
      "text/plain": [
       "                                                  DecisionTree  \\\n",
       "Model Score                                           0.674643   \n",
       "Model        DecisionTreeClassifier(ccp_alpha=0.0, class_we...   \n",
       "\n",
       "                                                  RandomForest  \\\n",
       "Model Score                                           0.684451   \n",
       "Model        (DecisionTreeClassifier(ccp_alpha=0.0, class_w...   \n",
       "\n",
       "                                            LogisticRegression  \\\n",
       "Model Score                                           0.666876   \n",
       "Model        LogisticRegression(C=0.006105402296585327, cla...   \n",
       "\n",
       "                                                   K-Neighbors  \\\n",
       "Model Score                                           0.610066   \n",
       "Model        KNeighborsClassifier(algorithm='auto', leaf_si...   \n",
       "\n",
       "                                                           SVM  \n",
       "Model Score                                           0.625337  \n",
       "Model        SVC(C=1.0, break_ties=False, cache_size=200, c...  "
      ]
     },
     "execution_count": 54,
     "metadata": {},
     "output_type": "execute_result"
    }
   ],
   "source": [
    "model_score['SVM'] =  [best_recall_svm,svc]\n",
    "model_score"
   ]
  },
  {
   "cell_type": "markdown",
   "metadata": {
    "colab_type": "text",
    "id": "GwLj2JNkWaDO"
   },
   "source": [
    "### Voting ensemble\n",
    "We  combine the models to see if we can obtain a more accurate classifier"
   ]
  },
  {
   "cell_type": "code",
   "execution_count": 55,
   "metadata": {
    "colab": {
     "base_uri": "https://localhost:8080/",
     "height": 202
    },
    "colab_type": "code",
    "id": "jXWkcmAMWaDO",
    "outputId": "649f7254-d06d-4e20-f27d-108bff97434b"
   },
   "outputs": [
    {
     "data": {
      "text/html": [
       "<div>\n",
       "<style scoped>\n",
       "    .dataframe tbody tr th:only-of-type {\n",
       "        vertical-align: middle;\n",
       "    }\n",
       "\n",
       "    .dataframe tbody tr th {\n",
       "        vertical-align: top;\n",
       "    }\n",
       "\n",
       "    .dataframe thead th {\n",
       "        text-align: right;\n",
       "    }\n",
       "</style>\n",
       "<table border=\"1\" class=\"dataframe\">\n",
       "  <thead>\n",
       "    <tr style=\"text-align: right;\">\n",
       "      <th></th>\n",
       "      <th>DecisionTree</th>\n",
       "      <th>RandomForest</th>\n",
       "      <th>LogisticRegression</th>\n",
       "      <th>K-Neighbors</th>\n",
       "      <th>SVM</th>\n",
       "      <th>EnsembledModels</th>\n",
       "    </tr>\n",
       "  </thead>\n",
       "  <tbody>\n",
       "    <tr>\n",
       "      <th>Model Score</th>\n",
       "      <td>0.674643</td>\n",
       "      <td>0.684451</td>\n",
       "      <td>0.666876</td>\n",
       "      <td>0.610066</td>\n",
       "      <td>0.625337</td>\n",
       "      <td>0.676618</td>\n",
       "    </tr>\n",
       "    <tr>\n",
       "      <th>Model</th>\n",
       "      <td>DecisionTreeClassifier(ccp_alpha=0.0, class_we...</td>\n",
       "      <td>(DecisionTreeClassifier(ccp_alpha=0.0, class_w...</td>\n",
       "      <td>LogisticRegression(C=0.006105402296585327, cla...</td>\n",
       "      <td>KNeighborsClassifier(algorithm='auto', leaf_si...</td>\n",
       "      <td>SVC(C=1.0, break_ties=False, cache_size=200, c...</td>\n",
       "      <td>VotingClassifier(estimators=[('DecisionTree',\\...</td>\n",
       "    </tr>\n",
       "  </tbody>\n",
       "</table>\n",
       "</div>"
      ],
      "text/plain": [
       "                                                  DecisionTree  \\\n",
       "Model Score                                           0.674643   \n",
       "Model        DecisionTreeClassifier(ccp_alpha=0.0, class_we...   \n",
       "\n",
       "                                                  RandomForest  \\\n",
       "Model Score                                           0.684451   \n",
       "Model        (DecisionTreeClassifier(ccp_alpha=0.0, class_w...   \n",
       "\n",
       "                                            LogisticRegression  \\\n",
       "Model Score                                           0.666876   \n",
       "Model        LogisticRegression(C=0.006105402296585327, cla...   \n",
       "\n",
       "                                                   K-Neighbors  \\\n",
       "Model Score                                           0.610066   \n",
       "Model        KNeighborsClassifier(algorithm='auto', leaf_si...   \n",
       "\n",
       "                                                           SVM  \\\n",
       "Model Score                                           0.625337   \n",
       "Model        SVC(C=1.0, break_ties=False, cache_size=200, c...   \n",
       "\n",
       "                                               EnsembledModels  \n",
       "Model Score                                           0.676618  \n",
       "Model        VotingClassifier(estimators=[('DecisionTree',\\...  "
      ]
     },
     "execution_count": 55,
     "metadata": {},
     "output_type": "execute_result"
    }
   ],
   "source": [
    "from sklearn.ensemble import VotingClassifier\n",
    "\n",
    "# create the sub models, we select the three that perform better\n",
    "estimators = []\n",
    "estimators.append(('DecisionTree', best_tree_model))\n",
    "estimators.append(('RandomForest', best_forest_model))\n",
    "estimators.append(('LogisticRegression', best_logistic_model))\n",
    "\n",
    "# create the ensemble model\n",
    "ensemble = VotingClassifier(estimators)\n",
    "\n",
    "# Cross validation with the ensembled model\n",
    "recall_ensembled_scores = cross_val_score(ensemble, X,y, cv=5, scoring='recall').mean()\n",
    "\n",
    "model_score['EnsembledModels'] =  [recall_ensembled_scores, ensemble]\n",
    "model_score"
   ]
  },
  {
   "cell_type": "markdown",
   "metadata": {
    "colab_type": "text",
    "id": "1mbU8himWaDR"
   },
   "source": [
    "### XGBoost model"
   ]
  },
  {
   "cell_type": "code",
   "execution_count": 21,
   "metadata": {
    "colab": {
     "base_uri": "https://localhost:8080/",
     "height": 173
    },
    "colab_type": "code",
    "id": "Zsh3PBNlWaDR",
    "outputId": "b71e900d-3d6c-4af8-ba5d-f51322aff56d"
   },
   "outputs": [
    {
     "data": {
      "text/plain": [
       "XGBClassifier(base_score=0.5, booster='gbtree', colsample_bylevel=1,\n",
       "              colsample_bynode=1, colsample_bytree=1, gamma=0, gpu_id=-1,\n",
       "              importance_type='gain', interaction_constraints='',\n",
       "              learning_rate=0.300000012, max_delta_step=0, max_depth=6,\n",
       "              min_child_weight=1, missing=nan, monotone_constraints='()',\n",
       "              n_estimators=100, n_jobs=0, num_parallel_tree=1, random_state=0,\n",
       "              reg_alpha=0, reg_lambda=1, scale_pos_weight=1, subsample=1,\n",
       "              tree_method='exact', validate_parameters=1, verbosity=None)"
      ]
     },
     "execution_count": 21,
     "metadata": {},
     "output_type": "execute_result"
    }
   ],
   "source": [
    "import xgboost as xgb\n",
    "from xgboost import XGBClassifier\n",
    "\n",
    "xgbModel = XGBClassifier()\n",
    "xgbModel.fit(train_X,train_y)"
   ]
  },
  {
   "cell_type": "code",
   "execution_count": 22,
   "metadata": {
    "colab": {
     "base_uri": "https://localhost:8080/",
     "height": 34
    },
    "colab_type": "code",
    "id": "PM49AQmMWaDT",
    "outputId": "66699e73-c1c4-4fc6-eaa7-392f486259d1"
   },
   "outputs": [
    {
     "name": "stdout",
     "output_type": "stream",
     "text": [
      "Recall: 0.747\n"
     ]
    }
   ],
   "source": [
    "#We do a simple precition before tuning the model to see the recall\n",
    "val_predictions = xgbModel.predict(test_X)\n",
    "val_rec = recall_score(val_predictions, test_y)\n",
    "print(\"Recall: {:,.3f}\".format(val_rec))"
   ]
  },
  {
   "cell_type": "code",
   "execution_count": 30,
   "metadata": {
    "colab": {
     "base_uri": "https://localhost:8080/",
     "height": 376
    },
    "colab_type": "code",
    "id": "6XlGTTLqWaDa",
    "outputId": "80bc7a67-61f6-421c-e518-c9fa60fd12b4",
    "scrolled": true
   },
   "outputs": [
    {
     "data": {
      "image/png": "[encoded data removed]",
      "text/plain": [
       "<Figure size 7200x2160 with 1 Axes>"
      ]
     },
     "metadata": {
      "needs_background": "light"
     },
     "output_type": "display_data"
    }
   ],
   "source": [
    "# Plot one of the decision trees as an example\n",
    "tree = xgb.plot_tree(xgbModel, num_trees=0)\n",
    "fig = plt.gcf()\n",
    "fig.set_size_inches(100, 30)"
   ]
  },
  {
   "cell_type": "code",
   "execution_count": 59,
   "metadata": {
    "colab": {
     "base_uri": "https://localhost:8080/",
     "height": 501
    },
    "colab_type": "code",
    "id": "9jbxNp6fWaDc",
    "outputId": "f2a98afe-f223-47f4-cd2c-8915345f8f1e"
   },
   "outputs": [
    {
     "name": "stdout",
     "output_type": "stream",
     "text": [
      "Test-accuracy-mean: 0.721\n"
     ]
    },
    {
     "data": {
      "image/png": "[encoded data removed]",
      "text/plain": [
       "<Figure size 432x288 with 1 Axes>"
      ]
     },
     "metadata": {
      "needs_background": "light"
     },
     "output_type": "display_data"
    }
   ],
   "source": [
    "# Let us evaluate the importance of each feature in the model. \n",
    "\n",
    "stroke_train_DMatrix = xgb.DMatrix(data= train_X,label =train_y)\n",
    "stroke_test_DMatrix = xgb.DMatrix(data= test_X,label =test_y)\n",
    "\n",
    "# Create a parameter dictionary\n",
    "params = {'objective':'binary:logistic', 'max_depth':4}\n",
    "\n",
    "\n",
    "# Perform cross-validation\n",
    "cv_results = xgb.cv(dtrain=stroke_train_DMatrix, params=params, \n",
    "                  nfold=3, num_boost_round=5, \n",
    "                  metrics=\"error\",  seed=1, as_pandas=True)\n",
    "\n",
    "# Print the accuracy taking the value of the mean in the test error of the last cross valudation fold\n",
    "print(\"Test-accuracy-mean: {:,.3f}\".format(((1-cv_results[\"test-error-mean\"]).iloc[-1])))\n",
    "\n",
    "# Train the model \n",
    "xg_clf = xgb.train(dtrain=stroke_train_DMatrix, params=params, num_boost_round=20)\n",
    "\n",
    "# Plot the feature importances\n",
    "xgb.plot_importance(xg_clf, ylabel=[train_X.columns]);"
   ]
  },
  {
   "cell_type": "markdown",
   "metadata": {
    "colab_type": "text",
    "id": "6oiHxli9WaDf"
   },
   "source": [
    "It seems quite intuitive that features like age or systolic pressure are the main contributors for a heart stroke."
   ]
  },
  {
   "cell_type": "code",
   "execution_count": 60,
   "metadata": {
    "colab": {
     "base_uri": "https://localhost:8080/",
     "height": 104
    },
    "colab_type": "code",
    "id": "rxegMxS2WaDf",
    "outputId": "1029b774-04ac-4106-9e24-5216e8f9195c"
   },
   "outputs": [
    {
     "name": "stdout",
     "output_type": "stream",
     "text": [
      "Fitting 3 folds for each of 5 candidates, totalling 15 fits\n"
     ]
    },
    {
     "name": "stderr",
     "output_type": "stream",
     "text": [
      "[Parallel(n_jobs=-1)]: Using backend LokyBackend with 8 concurrent workers.\n",
      "[Parallel(n_jobs=-1)]: Done  15 out of  15 | elapsed:   15.0s finished\n"
     ]
    },
    {
     "name": "stdout",
     "output_type": "stream",
     "text": [
      "Best parameters found:  {'n_estimators': 610, 'max_depth': 3, 'learning_rate': 0.4}\n",
      "Highest recall:  0.6889335075415864\n"
     ]
    }
   ],
   "source": [
    "#We have explored the data and got the test prediction error. Let us now tune the model to improve the performance\n",
    "#tuning the hyperparameters and optimize for recall\n",
    "\n",
    "gbm_param_grid = {\n",
    "    'n_estimators': np.arange(10,1000,200),\n",
    "    'max_depth': range(2, 12),\n",
    "    'learning_rate': np.arange(0.1,0.5,0.1)\n",
    "}\n",
    "\n",
    "# Perform random search of hyperparameteres\n",
    "r_xgb = RandomizedSearchCV(estimator=xgbModel, param_distributions=gbm_param_grid, cv=3, \n",
    "                                    n_iter=5, verbose=1, random_state=42, scoring='recall', n_jobs=-1)\n",
    "\n",
    "# Fit best_xgb to the data\n",
    "r_xgb.fit(train_X,train_y)\n",
    "\n",
    "# Print the best parameters and highest score\n",
    "print(\"Best parameters found: \", r_xgb.best_params_)\n",
    "print(\"Highest recall: \", r_xgb.best_score_)"
   ]
  },
  {
   "cell_type": "code",
   "execution_count": 61,
   "metadata": {
    "colab": {
     "base_uri": "https://localhost:8080/",
     "height": 34
    },
    "colab_type": "code",
    "id": "3eo1_GNkWaDi",
    "outputId": "2a2d41de-c036-46ab-f80d-4b6e47d80e86"
   },
   "outputs": [
    {
     "name": "stdout",
     "output_type": "stream",
     "text": [
      "Recall: 0.749\n"
     ]
    }
   ],
   "source": [
    "# Using the optimized model I will measure recall\n",
    "best_xgb = r_xgb.best_estimator_.fit(train_X,train_y)\n",
    "val_predictions = best_xgb.predict(test_X)\n",
    "val_rec = recall_score(val_predictions, test_y)\n",
    "print(\"Recall: {:,.3f}\".format(val_rec))"
   ]
  },
  {
   "cell_type": "code",
   "execution_count": 62,
   "metadata": {},
   "outputs": [
    {
     "name": "stdout",
     "output_type": "stream",
     "text": [
      "              precision    recall  f1-score   support\n",
      "\n",
      "           0       0.70      0.76      0.73      5854\n",
      "           1       0.75      0.69      0.72      6101\n",
      "\n",
      "    accuracy                           0.72     11955\n",
      "   macro avg       0.72      0.72      0.72     11955\n",
      "weighted avg       0.73      0.72      0.72     11955\n",
      "\n"
     ]
    },
    {
     "data": {
      "image/png": "[encoded data removed]",
      "text/plain": [
       "<Figure size 432x288 with 2 Axes>"
      ]
     },
     "metadata": {
      "needs_background": "light"
     },
     "output_type": "display_data"
    }
   ],
   "source": [
    "plot_confusion_matrix(best_xgb, test_X, test_y)\n",
    "print(classification_report(test_y,val_predictions))"
   ]
  },
  {
   "cell_type": "code",
   "execution_count": 63,
   "metadata": {
    "colab": {
     "base_uri": "https://localhost:8080/",
     "height": 34
    },
    "colab_type": "code",
    "id": "PfcElljlr2Bn",
    "outputId": "766acc89-6a37-4afe-c2b5-0c4631cb6b89"
   },
   "outputs": [
    {
     "data": {
      "text/plain": [
       "0.6868868093745504"
      ]
     },
     "execution_count": 63,
     "metadata": {},
     "output_type": "execute_result"
    }
   ],
   "source": [
    "#Finally evaluate the model with cross validation\n",
    "best_recall_xgb = cross_val_score(best_xgb, X, y, cv=3, scoring='recall').mean()\n",
    "best_recall_xgb"
   ]
  },
  {
   "cell_type": "code",
   "execution_count": 64,
   "metadata": {
    "colab": {},
    "colab_type": "code",
    "id": "xBowMOVwWaDk"
   },
   "outputs": [],
   "source": [
    "model_score['XGBBoost'] =  [best_recall_xgb, best_xgb]"
   ]
  },
  {
   "cell_type": "markdown",
   "metadata": {
    "colab_type": "text",
    "id": "18X3RyljWtDZ"
   },
   "source": [
    "## Save final model"
   ]
  },
  {
   "cell_type": "code",
   "execution_count": 65,
   "metadata": {
    "colab": {
     "base_uri": "https://localhost:8080/",
     "height": 202
    },
    "colab_type": "code",
    "id": "nL887H6ZWaDn",
    "outputId": "11e2433c-bae0-4435-b731-8fdbf72f0f8c"
   },
   "outputs": [
    {
     "data": {
      "text/html": [
       "<div>\n",
       "<style scoped>\n",
       "    .dataframe tbody tr th:only-of-type {\n",
       "        vertical-align: middle;\n",
       "    }\n",
       "\n",
       "    .dataframe tbody tr th {\n",
       "        vertical-align: top;\n",
       "    }\n",
       "\n",
       "    .dataframe thead th {\n",
       "        text-align: right;\n",
       "    }\n",
       "</style>\n",
       "<table border=\"1\" class=\"dataframe\">\n",
       "  <thead>\n",
       "    <tr style=\"text-align: right;\">\n",
       "      <th></th>\n",
       "      <th>DecisionTree</th>\n",
       "      <th>RandomForest</th>\n",
       "      <th>LogisticRegression</th>\n",
       "      <th>K-Neighbors</th>\n",
       "      <th>SVM</th>\n",
       "      <th>EnsembledModels</th>\n",
       "      <th>XGBBoost</th>\n",
       "    </tr>\n",
       "  </thead>\n",
       "  <tbody>\n",
       "    <tr>\n",
       "      <th>Model Score</th>\n",
       "      <td>0.674643</td>\n",
       "      <td>0.684451</td>\n",
       "      <td>0.666876</td>\n",
       "      <td>0.610066</td>\n",
       "      <td>0.625337</td>\n",
       "      <td>0.676618</td>\n",
       "      <td>0.686887</td>\n",
       "    </tr>\n",
       "    <tr>\n",
       "      <th>Model</th>\n",
       "      <td>DecisionTreeClassifier(ccp_alpha=0.0, class_we...</td>\n",
       "      <td>(DecisionTreeClassifier(ccp_alpha=0.0, class_w...</td>\n",
       "      <td>LogisticRegression(C=0.006105402296585327, cla...</td>\n",
       "      <td>KNeighborsClassifier(algorithm='auto', leaf_si...</td>\n",
       "      <td>SVC(C=1.0, break_ties=False, cache_size=200, c...</td>\n",
       "      <td>VotingClassifier(estimators=[('DecisionTree',\\...</td>\n",
       "      <td>XGBClassifier(base_score=0.5, booster='gbtree'...</td>\n",
       "    </tr>\n",
       "  </tbody>\n",
       "</table>\n",
       "</div>"
      ],
      "text/plain": [
       "                                                  DecisionTree  \\\n",
       "Model Score                                           0.674643   \n",
       "Model        DecisionTreeClassifier(ccp_alpha=0.0, class_we...   \n",
       "\n",
       "                                                  RandomForest  \\\n",
       "Model Score                                           0.684451   \n",
       "Model        (DecisionTreeClassifier(ccp_alpha=0.0, class_w...   \n",
       "\n",
       "                                            LogisticRegression  \\\n",
       "Model Score                                           0.666876   \n",
       "Model        LogisticRegression(C=0.006105402296585327, cla...   \n",
       "\n",
       "                                                   K-Neighbors  \\\n",
       "Model Score                                           0.610066   \n",
       "Model        KNeighborsClassifier(algorithm='auto', leaf_si...   \n",
       "\n",
       "                                                           SVM  \\\n",
       "Model Score                                           0.625337   \n",
       "Model        SVC(C=1.0, break_ties=False, cache_size=200, c...   \n",
       "\n",
       "                                               EnsembledModels  \\\n",
       "Model Score                                           0.676618   \n",
       "Model        VotingClassifier(estimators=[('DecisionTree',\\...   \n",
       "\n",
       "                                                      XGBBoost  \n",
       "Model Score                                           0.686887  \n",
       "Model        XGBClassifier(base_score=0.5, booster='gbtree'...  "
      ]
     },
     "execution_count": 65,
     "metadata": {},
     "output_type": "execute_result"
    }
   ],
   "source": [
    "model_score"
   ]
  },
  {
   "cell_type": "code",
   "execution_count": 66,
   "metadata": {
    "colab": {},
    "colab_type": "code",
    "id": "vCiPGfPoWaDq"
   },
   "outputs": [],
   "source": [
    "final_scores = pd.DataFrame(model_score).transpose()"
   ]
  },
  {
   "cell_type": "code",
   "execution_count": 67,
   "metadata": {
    "colab": {
     "base_uri": "https://localhost:8080/",
     "height": 269
    },
    "colab_type": "code",
    "id": "vIzQ8YIKWaDs",
    "outputId": "dec289d0-b6ab-41d1-d1ff-5e91ced3fb35"
   },
   "outputs": [
    {
     "data": {
      "text/html": [
       "<div>\n",
       "<style scoped>\n",
       "    .dataframe tbody tr th:only-of-type {\n",
       "        vertical-align: middle;\n",
       "    }\n",
       "\n",
       "    .dataframe tbody tr th {\n",
       "        vertical-align: top;\n",
       "    }\n",
       "\n",
       "    .dataframe thead th {\n",
       "        text-align: right;\n",
       "    }\n",
       "</style>\n",
       "<table border=\"1\" class=\"dataframe\">\n",
       "  <thead>\n",
       "    <tr style=\"text-align: right;\">\n",
       "      <th></th>\n",
       "      <th>Model Score</th>\n",
       "      <th>Model</th>\n",
       "    </tr>\n",
       "  </thead>\n",
       "  <tbody>\n",
       "    <tr>\n",
       "      <th>XGBBoost</th>\n",
       "      <td>0.686887</td>\n",
       "      <td>XGBClassifier(base_score=0.5, booster='gbtree'...</td>\n",
       "    </tr>\n",
       "    <tr>\n",
       "      <th>RandomForest</th>\n",
       "      <td>0.684451</td>\n",
       "      <td>(DecisionTreeClassifier(ccp_alpha=0.0, class_w...</td>\n",
       "    </tr>\n",
       "    <tr>\n",
       "      <th>EnsembledModels</th>\n",
       "      <td>0.676618</td>\n",
       "      <td>VotingClassifier(estimators=[('DecisionTree',\\...</td>\n",
       "    </tr>\n",
       "    <tr>\n",
       "      <th>DecisionTree</th>\n",
       "      <td>0.674643</td>\n",
       "      <td>DecisionTreeClassifier(ccp_alpha=0.0, class_we...</td>\n",
       "    </tr>\n",
       "    <tr>\n",
       "      <th>LogisticRegression</th>\n",
       "      <td>0.666876</td>\n",
       "      <td>LogisticRegression(C=0.006105402296585327, cla...</td>\n",
       "    </tr>\n",
       "    <tr>\n",
       "      <th>SVM</th>\n",
       "      <td>0.625337</td>\n",
       "      <td>SVC(C=1.0, break_ties=False, cache_size=200, c...</td>\n",
       "    </tr>\n",
       "    <tr>\n",
       "      <th>K-Neighbors</th>\n",
       "      <td>0.610066</td>\n",
       "      <td>KNeighborsClassifier(algorithm='auto', leaf_si...</td>\n",
       "    </tr>\n",
       "  </tbody>\n",
       "</table>\n",
       "</div>"
      ],
      "text/plain": [
       "                   Model Score  \\\n",
       "XGBBoost              0.686887   \n",
       "RandomForest          0.684451   \n",
       "EnsembledModels       0.676618   \n",
       "DecisionTree          0.674643   \n",
       "LogisticRegression    0.666876   \n",
       "SVM                   0.625337   \n",
       "K-Neighbors           0.610066   \n",
       "\n",
       "                                                                Model  \n",
       "XGBBoost            XGBClassifier(base_score=0.5, booster='gbtree'...  \n",
       "RandomForest        (DecisionTreeClassifier(ccp_alpha=0.0, class_w...  \n",
       "EnsembledModels     VotingClassifier(estimators=[('DecisionTree',\\...  \n",
       "DecisionTree        DecisionTreeClassifier(ccp_alpha=0.0, class_we...  \n",
       "LogisticRegression  LogisticRegression(C=0.006105402296585327, cla...  \n",
       "SVM                 SVC(C=1.0, break_ties=False, cache_size=200, c...  \n",
       "K-Neighbors         KNeighborsClassifier(algorithm='auto', leaf_si...  "
      ]
     },
     "execution_count": 67,
     "metadata": {},
     "output_type": "execute_result"
    }
   ],
   "source": [
    "final_scores.sort_values(by='Model Score' ,ascending=False, inplace=True)\n",
    "final_scores"
   ]
  },
  {
   "cell_type": "markdown",
   "metadata": {
    "colab_type": "text",
    "id": "5BEjzTgAsZRH"
   },
   "source": [
    "As we can see, we have very similar recall for the first two models. For simplicity I will select the Random Forest as the best model."
   ]
  },
  {
   "cell_type": "code",
   "execution_count": 67,
   "metadata": {
    "colab": {},
    "colab_type": "code",
    "id": "hescWvAxWaDt"
   },
   "outputs": [],
   "source": [
    "import pickle\n",
    "best_model = final_scores['Model']['RandomForest']\n",
    "pickle.dump(best_model,open(\"best.model\",\"wb\"))\n"
   ]
  }
 ],
 "metadata": {
  "accelerator": "GPU",
  "colab": {
   "collapsed_sections": [],
   "name": "stroke_predictor_models.ipynb",
   "provenance": []
  },
  "kernelspec": {
   "display_name": "Python 3",
   "language": "python",
   "name": "python3"
  },
  "language_info": {
   "codemirror_mode": {
    "name": "ipython",
    "version": 3
   },
   "file_extension": ".py",
   "mimetype": "text/x-python",
   "name": "python",
   "nbconvert_exporter": "python",
   "pygments_lexer": "ipython3",
   "version": "3.7.7"
  }
 },
 "nbformat": 4,
 "nbformat_minor": 1
}
