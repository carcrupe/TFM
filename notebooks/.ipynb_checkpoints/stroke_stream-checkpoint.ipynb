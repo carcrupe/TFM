{
 "cells": [
  {
   "cell_type": "markdown",
   "metadata": {
    "colab_type": "text",
    "id": "u06l3RwF3Avp"
   },
   "source": [
    "# Model in action with Streamlit"
   ]
  },
  {
   "cell_type": "code",
   "execution_count": 15,
   "metadata": {
    "colab": {
     "base_uri": "https://localhost:8080/",
     "height": 228
    },
    "colab_type": "code",
    "id": "81RK5Q5S94Hn",
    "outputId": "51c2dd39-bc11-4958-e860-6ef6861d24af"
   },
   "outputs": [
    {
     "name": "stdout",
     "output_type": "stream",
     "text": [
      "--2020-08-11 13:21:16--  https://raw.githubusercontent.com/carcrupe/TFM/master/requirements/requirements_stroke_stream.txt\r\n",
      "Resolviendo raw.githubusercontent.com (raw.githubusercontent.com)... 151.101.132.133\r\n",
      "Conectando con raw.githubusercontent.com (raw.githubusercontent.com)[151.101.132.133]:443... conectado.\r\n",
      "Petición HTTP enviada, esperando respuesta... 200 OK\r\n",
      "Longitud: 19 [text/plain]\r\n",
      "Guardando como: “../requirements/requirements_stroke_stream.txt”\r\n",
      "\r\n",
      "\r",
      "          requireme   0%[                    ]       0  --.-KB/s               \r",
      "requirements_stroke 100%[===================>]      19  --.-KB/s    en 0s      \r\n",
      "\r\n",
      "Falta la cabecera de fecha de la última modificación -- marcas de tiempo desactivadas.\r\n",
      "2020-08-11 13:21:16 (1,32 MB/s) - “../requirements/requirements_stroke_stream.txt” guardado [19/19]\r\n",
      "\r\n"
     ]
    }
   ],
   "source": [
    "# Get requirement libraries and install them, just in case some of them are missing\n",
    "!wget -N https://raw.githubusercontent.com/carcrupe/TFM/master/requirements/requirements_stroke_stream.txt -P ../requirements"
   ]
  },
  {
   "cell_type": "code",
   "execution_count": 16,
   "metadata": {
    "colab": {},
    "colab_type": "code",
    "id": "6HqapNulB0vu"
   },
   "outputs": [
    {
     "name": "stdout",
     "output_type": "stream",
     "text": [
      "Requirement already satisfied: streamlit==0.61.0 in /home/carlos/anaconda3/lib/python3.7/site-packages (from -r ../requirements/requirements_stroke_stream.txt (line 1)) (0.61.0)\n",
      "Requirement already satisfied: cachetools>=4.0 in /home/carlos/anaconda3/lib/python3.7/site-packages (from streamlit==0.61.0->-r ../requirements/requirements_stroke_stream.txt (line 1)) (4.1.0)\n",
      "Requirement already satisfied: toml in /home/carlos/anaconda3/lib/python3.7/site-packages (from streamlit==0.61.0->-r ../requirements/requirements_stroke_stream.txt (line 1)) (0.10.1)\n",
      "Requirement already satisfied: numpy in /home/carlos/anaconda3/lib/python3.7/site-packages (from streamlit==0.61.0->-r ../requirements/requirements_stroke_stream.txt (line 1)) (1.18.5)\n",
      "Requirement already satisfied: blinker in /home/carlos/anaconda3/lib/python3.7/site-packages (from streamlit==0.61.0->-r ../requirements/requirements_stroke_stream.txt (line 1)) (1.4)\n",
      "Requirement already satisfied: python-dateutil in /home/carlos/anaconda3/lib/python3.7/site-packages (from streamlit==0.61.0->-r ../requirements/requirements_stroke_stream.txt (line 1)) (2.8.1)\n",
      "Requirement already satisfied: altair>=3.2.0 in /home/carlos/anaconda3/lib/python3.7/site-packages (from streamlit==0.61.0->-r ../requirements/requirements_stroke_stream.txt (line 1)) (4.1.0)\n",
      "Requirement already satisfied: pydeck>=0.1.dev5 in /home/carlos/anaconda3/lib/python3.7/site-packages (from streamlit==0.61.0->-r ../requirements/requirements_stroke_stream.txt (line 1)) (0.3.1)\n",
      "Requirement already satisfied: tzlocal in /home/carlos/anaconda3/lib/python3.7/site-packages (from streamlit==0.61.0->-r ../requirements/requirements_stroke_stream.txt (line 1)) (2.1)\n",
      "Requirement already satisfied: validators in /home/carlos/anaconda3/lib/python3.7/site-packages (from streamlit==0.61.0->-r ../requirements/requirements_stroke_stream.txt (line 1)) (0.15.0)\n",
      "Requirement already satisfied: boto3 in /home/carlos/anaconda3/lib/python3.7/site-packages (from streamlit==0.61.0->-r ../requirements/requirements_stroke_stream.txt (line 1)) (1.13.19)\n",
      "Requirement already satisfied: botocore>=1.13.44 in /home/carlos/anaconda3/lib/python3.7/site-packages (from streamlit==0.61.0->-r ../requirements/requirements_stroke_stream.txt (line 1)) (1.16.19)\n",
      "Requirement already satisfied: click>=7.0 in /home/carlos/anaconda3/lib/python3.7/site-packages (from streamlit==0.61.0->-r ../requirements/requirements_stroke_stream.txt (line 1)) (7.1.2)\n",
      "Requirement already satisfied: astor in /home/carlos/anaconda3/lib/python3.7/site-packages (from streamlit==0.61.0->-r ../requirements/requirements_stroke_stream.txt (line 1)) (0.8.1)\n",
      "Requirement already satisfied: protobuf>=3.6.0 in /home/carlos/anaconda3/lib/python3.7/site-packages (from streamlit==0.61.0->-r ../requirements/requirements_stroke_stream.txt (line 1)) (3.12.2)\n",
      "Requirement already satisfied: tornado<6.0,>=5.0 in /home/carlos/anaconda3/lib/python3.7/site-packages (from streamlit==0.61.0->-r ../requirements/requirements_stroke_stream.txt (line 1)) (5.1.1)\n",
      "Requirement already satisfied: watchdog in /home/carlos/anaconda3/lib/python3.7/site-packages (from streamlit==0.61.0->-r ../requirements/requirements_stroke_stream.txt (line 1)) (0.10.2)\n",
      "Requirement already satisfied: packaging in /home/carlos/anaconda3/lib/python3.7/site-packages (from streamlit==0.61.0->-r ../requirements/requirements_stroke_stream.txt (line 1)) (20.3)\n",
      "Requirement already satisfied: pandas>=0.21.0 in /home/carlos/anaconda3/lib/python3.7/site-packages (from streamlit==0.61.0->-r ../requirements/requirements_stroke_stream.txt (line 1)) (1.0.3)\n",
      "Requirement already satisfied: base58 in /home/carlos/anaconda3/lib/python3.7/site-packages (from streamlit==0.61.0->-r ../requirements/requirements_stroke_stream.txt (line 1)) (2.0.0)\n",
      "Requirement already satisfied: enum-compat in /home/carlos/anaconda3/lib/python3.7/site-packages (from streamlit==0.61.0->-r ../requirements/requirements_stroke_stream.txt (line 1)) (0.0.3)\n",
      "Requirement already satisfied: requests in /home/carlos/anaconda3/lib/python3.7/site-packages (from streamlit==0.61.0->-r ../requirements/requirements_stroke_stream.txt (line 1)) (2.23.0)\n",
      "Requirement already satisfied: pillow>=6.2.0 in /home/carlos/anaconda3/lib/python3.7/site-packages (from streamlit==0.61.0->-r ../requirements/requirements_stroke_stream.txt (line 1)) (7.1.2)\n",
      "Requirement already satisfied: six>=1.5 in /home/carlos/anaconda3/lib/python3.7/site-packages (from python-dateutil->streamlit==0.61.0->-r ../requirements/requirements_stroke_stream.txt (line 1)) (1.15.0)\n",
      "Requirement already satisfied: jinja2 in /home/carlos/anaconda3/lib/python3.7/site-packages (from altair>=3.2.0->streamlit==0.61.0->-r ../requirements/requirements_stroke_stream.txt (line 1)) (2.11.2)\n",
      "Requirement already satisfied: toolz in /home/carlos/anaconda3/lib/python3.7/site-packages (from altair>=3.2.0->streamlit==0.61.0->-r ../requirements/requirements_stroke_stream.txt (line 1)) (0.10.0)\n",
      "Requirement already satisfied: entrypoints in /home/carlos/anaconda3/lib/python3.7/site-packages (from altair>=3.2.0->streamlit==0.61.0->-r ../requirements/requirements_stroke_stream.txt (line 1)) (0.3)\n",
      "Requirement already satisfied: jsonschema in /home/carlos/anaconda3/lib/python3.7/site-packages (from altair>=3.2.0->streamlit==0.61.0->-r ../requirements/requirements_stroke_stream.txt (line 1)) (3.2.0)\n",
      "Requirement already satisfied: ipywidgets>=7.0.0 in /home/carlos/anaconda3/lib/python3.7/site-packages (from pydeck>=0.1.dev5->streamlit==0.61.0->-r ../requirements/requirements_stroke_stream.txt (line 1)) (7.5.1)\n",
      "Requirement already satisfied: ipykernel>=5.1.2; python_version >= \"3.4\" in /home/carlos/anaconda3/lib/python3.7/site-packages (from pydeck>=0.1.dev5->streamlit==0.61.0->-r ../requirements/requirements_stroke_stream.txt (line 1)) (5.1.4)\n",
      "Requirement already satisfied: traitlets>=4.3.2 in /home/carlos/anaconda3/lib/python3.7/site-packages (from pydeck>=0.1.dev5->streamlit==0.61.0->-r ../requirements/requirements_stroke_stream.txt (line 1)) (4.3.3)\n",
      "Requirement already satisfied: pytz in /home/carlos/anaconda3/lib/python3.7/site-packages (from tzlocal->streamlit==0.61.0->-r ../requirements/requirements_stroke_stream.txt (line 1)) (2020.1)\n",
      "Requirement already satisfied: decorator>=3.4.0 in /home/carlos/anaconda3/lib/python3.7/site-packages (from validators->streamlit==0.61.0->-r ../requirements/requirements_stroke_stream.txt (line 1)) (4.4.2)\n",
      "Requirement already satisfied: jmespath<1.0.0,>=0.7.1 in /home/carlos/anaconda3/lib/python3.7/site-packages (from boto3->streamlit==0.61.0->-r ../requirements/requirements_stroke_stream.txt (line 1)) (0.10.0)\n",
      "Requirement already satisfied: s3transfer<0.4.0,>=0.3.0 in /home/carlos/anaconda3/lib/python3.7/site-packages (from boto3->streamlit==0.61.0->-r ../requirements/requirements_stroke_stream.txt (line 1)) (0.3.3)\n",
      "Requirement already satisfied: docutils<0.16,>=0.10 in /home/carlos/anaconda3/lib/python3.7/site-packages (from botocore>=1.13.44->streamlit==0.61.0->-r ../requirements/requirements_stroke_stream.txt (line 1)) (0.15.2)\n",
      "Requirement already satisfied: urllib3<1.26,>=1.20; python_version != \"3.4\" in /home/carlos/anaconda3/lib/python3.7/site-packages (from botocore>=1.13.44->streamlit==0.61.0->-r ../requirements/requirements_stroke_stream.txt (line 1)) (1.25.8)\n",
      "Requirement already satisfied: setuptools in /home/carlos/anaconda3/lib/python3.7/site-packages (from protobuf>=3.6.0->streamlit==0.61.0->-r ../requirements/requirements_stroke_stream.txt (line 1)) (49.2.0)\n",
      "Requirement already satisfied: pathtools>=0.1.1 in /home/carlos/anaconda3/lib/python3.7/site-packages (from watchdog->streamlit==0.61.0->-r ../requirements/requirements_stroke_stream.txt (line 1)) (0.1.2)\n",
      "Requirement already satisfied: pyparsing>=2.0.2 in /home/carlos/anaconda3/lib/python3.7/site-packages (from packaging->streamlit==0.61.0->-r ../requirements/requirements_stroke_stream.txt (line 1)) (2.4.7)\n",
      "Requirement already satisfied: idna<3,>=2.5 in /home/carlos/anaconda3/lib/python3.7/site-packages (from requests->streamlit==0.61.0->-r ../requirements/requirements_stroke_stream.txt (line 1)) (2.9)\n",
      "Requirement already satisfied: chardet<4,>=3.0.2 in /home/carlos/anaconda3/lib/python3.7/site-packages (from requests->streamlit==0.61.0->-r ../requirements/requirements_stroke_stream.txt (line 1)) (3.0.4)\n",
      "Requirement already satisfied: certifi>=2017.4.17 in /home/carlos/anaconda3/lib/python3.7/site-packages (from requests->streamlit==0.61.0->-r ../requirements/requirements_stroke_stream.txt (line 1)) (2020.4.5.1)\n",
      "Requirement already satisfied: MarkupSafe>=0.23 in /home/carlos/anaconda3/lib/python3.7/site-packages (from jinja2->altair>=3.2.0->streamlit==0.61.0->-r ../requirements/requirements_stroke_stream.txt (line 1)) (1.1.1)\n",
      "Requirement already satisfied: importlib-metadata; python_version < \"3.8\" in /home/carlos/anaconda3/lib/python3.7/site-packages (from jsonschema->altair>=3.2.0->streamlit==0.61.0->-r ../requirements/requirements_stroke_stream.txt (line 1)) (1.6.0)\n",
      "Requirement already satisfied: pyrsistent>=0.14.0 in /home/carlos/anaconda3/lib/python3.7/site-packages (from jsonschema->altair>=3.2.0->streamlit==0.61.0->-r ../requirements/requirements_stroke_stream.txt (line 1)) (0.16.0)\n",
      "Requirement already satisfied: attrs>=17.4.0 in /home/carlos/anaconda3/lib/python3.7/site-packages (from jsonschema->altair>=3.2.0->streamlit==0.61.0->-r ../requirements/requirements_stroke_stream.txt (line 1)) (19.3.0)\n",
      "Requirement already satisfied: nbformat>=4.2.0 in /home/carlos/anaconda3/lib/python3.7/site-packages (from ipywidgets>=7.0.0->pydeck>=0.1.dev5->streamlit==0.61.0->-r ../requirements/requirements_stroke_stream.txt (line 1)) (5.0.6)\n",
      "Requirement already satisfied: widgetsnbextension~=3.5.0 in /home/carlos/anaconda3/lib/python3.7/site-packages (from ipywidgets>=7.0.0->pydeck>=0.1.dev5->streamlit==0.61.0->-r ../requirements/requirements_stroke_stream.txt (line 1)) (3.5.1)\n"
     ]
    },
    {
     "name": "stdout",
     "output_type": "stream",
     "text": [
      "Requirement already satisfied: ipython>=4.0.0; python_version >= \"3.3\" in /home/carlos/anaconda3/lib/python3.7/site-packages (from ipywidgets>=7.0.0->pydeck>=0.1.dev5->streamlit==0.61.0->-r ../requirements/requirements_stroke_stream.txt (line 1)) (7.13.0)\n",
      "Requirement already satisfied: jupyter-client in /home/carlos/anaconda3/lib/python3.7/site-packages (from ipykernel>=5.1.2; python_version >= \"3.4\"->pydeck>=0.1.dev5->streamlit==0.61.0->-r ../requirements/requirements_stroke_stream.txt (line 1)) (6.1.3)\n",
      "Requirement already satisfied: ipython-genutils in /home/carlos/anaconda3/lib/python3.7/site-packages (from traitlets>=4.3.2->pydeck>=0.1.dev5->streamlit==0.61.0->-r ../requirements/requirements_stroke_stream.txt (line 1)) (0.2.0)\n",
      "Requirement already satisfied: zipp>=0.5 in /home/carlos/anaconda3/lib/python3.7/site-packages (from importlib-metadata; python_version < \"3.8\"->jsonschema->altair>=3.2.0->streamlit==0.61.0->-r ../requirements/requirements_stroke_stream.txt (line 1)) (3.1.0)\n",
      "Requirement already satisfied: jupyter-core in /home/carlos/anaconda3/lib/python3.7/site-packages (from nbformat>=4.2.0->ipywidgets>=7.0.0->pydeck>=0.1.dev5->streamlit==0.61.0->-r ../requirements/requirements_stroke_stream.txt (line 1)) (4.6.3)\n",
      "Requirement already satisfied: notebook>=4.4.1 in /home/carlos/anaconda3/lib/python3.7/site-packages (from widgetsnbextension~=3.5.0->ipywidgets>=7.0.0->pydeck>=0.1.dev5->streamlit==0.61.0->-r ../requirements/requirements_stroke_stream.txt (line 1)) (6.0.3)\n",
      "Requirement already satisfied: pickleshare in /home/carlos/anaconda3/lib/python3.7/site-packages (from ipython>=4.0.0; python_version >= \"3.3\"->ipywidgets>=7.0.0->pydeck>=0.1.dev5->streamlit==0.61.0->-r ../requirements/requirements_stroke_stream.txt (line 1)) (0.7.5)\n",
      "Requirement already satisfied: jedi>=0.10 in /home/carlos/anaconda3/lib/python3.7/site-packages (from ipython>=4.0.0; python_version >= \"3.3\"->ipywidgets>=7.0.0->pydeck>=0.1.dev5->streamlit==0.61.0->-r ../requirements/requirements_stroke_stream.txt (line 1)) (0.15.2)\n",
      "Requirement already satisfied: backcall in /home/carlos/anaconda3/lib/python3.7/site-packages (from ipython>=4.0.0; python_version >= \"3.3\"->ipywidgets>=7.0.0->pydeck>=0.1.dev5->streamlit==0.61.0->-r ../requirements/requirements_stroke_stream.txt (line 1)) (0.1.0)\n",
      "Requirement already satisfied: pygments in /home/carlos/anaconda3/lib/python3.7/site-packages (from ipython>=4.0.0; python_version >= \"3.3\"->ipywidgets>=7.0.0->pydeck>=0.1.dev5->streamlit==0.61.0->-r ../requirements/requirements_stroke_stream.txt (line 1)) (2.6.1)\n",
      "Requirement already satisfied: prompt-toolkit!=3.0.0,!=3.0.1,<3.1.0,>=2.0.0 in /home/carlos/anaconda3/lib/python3.7/site-packages (from ipython>=4.0.0; python_version >= \"3.3\"->ipywidgets>=7.0.0->pydeck>=0.1.dev5->streamlit==0.61.0->-r ../requirements/requirements_stroke_stream.txt (line 1)) (3.0.5)\n",
      "Requirement already satisfied: pexpect; sys_platform != \"win32\" in /home/carlos/anaconda3/lib/python3.7/site-packages (from ipython>=4.0.0; python_version >= \"3.3\"->ipywidgets>=7.0.0->pydeck>=0.1.dev5->streamlit==0.61.0->-r ../requirements/requirements_stroke_stream.txt (line 1)) (4.8.0)\n",
      "Requirement already satisfied: pyzmq>=13 in /home/carlos/anaconda3/lib/python3.7/site-packages (from jupyter-client->ipykernel>=5.1.2; python_version >= \"3.4\"->pydeck>=0.1.dev5->streamlit==0.61.0->-r ../requirements/requirements_stroke_stream.txt (line 1)) (18.1.1)\n",
      "Requirement already satisfied: terminado>=0.8.1 in /home/carlos/anaconda3/lib/python3.7/site-packages (from notebook>=4.4.1->widgetsnbextension~=3.5.0->ipywidgets>=7.0.0->pydeck>=0.1.dev5->streamlit==0.61.0->-r ../requirements/requirements_stroke_stream.txt (line 1)) (0.8.3)\n",
      "Requirement already satisfied: prometheus-client in /home/carlos/anaconda3/lib/python3.7/site-packages (from notebook>=4.4.1->widgetsnbextension~=3.5.0->ipywidgets>=7.0.0->pydeck>=0.1.dev5->streamlit==0.61.0->-r ../requirements/requirements_stroke_stream.txt (line 1)) (0.7.1)\n",
      "Requirement already satisfied: Send2Trash in /home/carlos/anaconda3/lib/python3.7/site-packages (from notebook>=4.4.1->widgetsnbextension~=3.5.0->ipywidgets>=7.0.0->pydeck>=0.1.dev5->streamlit==0.61.0->-r ../requirements/requirements_stroke_stream.txt (line 1)) (1.5.0)\n",
      "Requirement already satisfied: nbconvert in /home/carlos/anaconda3/lib/python3.7/site-packages (from notebook>=4.4.1->widgetsnbextension~=3.5.0->ipywidgets>=7.0.0->pydeck>=0.1.dev5->streamlit==0.61.0->-r ../requirements/requirements_stroke_stream.txt (line 1)) (5.6.1)\n",
      "Requirement already satisfied: parso>=0.5.2 in /home/carlos/anaconda3/lib/python3.7/site-packages (from jedi>=0.10->ipython>=4.0.0; python_version >= \"3.3\"->ipywidgets>=7.0.0->pydeck>=0.1.dev5->streamlit==0.61.0->-r ../requirements/requirements_stroke_stream.txt (line 1)) (0.5.2)\n",
      "Requirement already satisfied: wcwidth in /home/carlos/anaconda3/lib/python3.7/site-packages (from prompt-toolkit!=3.0.0,!=3.0.1,<3.1.0,>=2.0.0->ipython>=4.0.0; python_version >= \"3.3\"->ipywidgets>=7.0.0->pydeck>=0.1.dev5->streamlit==0.61.0->-r ../requirements/requirements_stroke_stream.txt (line 1)) (0.1.9)\n",
      "Requirement already satisfied: ptyprocess>=0.5 in /home/carlos/anaconda3/lib/python3.7/site-packages (from pexpect; sys_platform != \"win32\"->ipython>=4.0.0; python_version >= \"3.3\"->ipywidgets>=7.0.0->pydeck>=0.1.dev5->streamlit==0.61.0->-r ../requirements/requirements_stroke_stream.txt (line 1)) (0.6.0)\n",
      "Requirement already satisfied: bleach in /home/carlos/anaconda3/lib/python3.7/site-packages (from nbconvert->notebook>=4.4.1->widgetsnbextension~=3.5.0->ipywidgets>=7.0.0->pydeck>=0.1.dev5->streamlit==0.61.0->-r ../requirements/requirements_stroke_stream.txt (line 1)) (3.1.4)\n",
      "Requirement already satisfied: testpath in /home/carlos/anaconda3/lib/python3.7/site-packages (from nbconvert->notebook>=4.4.1->widgetsnbextension~=3.5.0->ipywidgets>=7.0.0->pydeck>=0.1.dev5->streamlit==0.61.0->-r ../requirements/requirements_stroke_stream.txt (line 1)) (0.4.4)\n",
      "Requirement already satisfied: pandocfilters>=1.4.1 in /home/carlos/anaconda3/lib/python3.7/site-packages (from nbconvert->notebook>=4.4.1->widgetsnbextension~=3.5.0->ipywidgets>=7.0.0->pydeck>=0.1.dev5->streamlit==0.61.0->-r ../requirements/requirements_stroke_stream.txt (line 1)) (1.4.2)\n",
      "Requirement already satisfied: mistune<2,>=0.8.1 in /home/carlos/anaconda3/lib/python3.7/site-packages (from nbconvert->notebook>=4.4.1->widgetsnbextension~=3.5.0->ipywidgets>=7.0.0->pydeck>=0.1.dev5->streamlit==0.61.0->-r ../requirements/requirements_stroke_stream.txt (line 1)) (0.8.4)\n",
      "Requirement already satisfied: defusedxml in /home/carlos/anaconda3/lib/python3.7/site-packages (from nbconvert->notebook>=4.4.1->widgetsnbextension~=3.5.0->ipywidgets>=7.0.0->pydeck>=0.1.dev5->streamlit==0.61.0->-r ../requirements/requirements_stroke_stream.txt (line 1)) (0.6.0)\n",
      "Requirement already satisfied: webencodings in /home/carlos/anaconda3/lib/python3.7/site-packages (from bleach->nbconvert->notebook>=4.4.1->widgetsnbextension~=3.5.0->ipywidgets>=7.0.0->pydeck>=0.1.dev5->streamlit==0.61.0->-r ../requirements/requirements_stroke_stream.txt (line 1)) (0.5.1)\n"
     ]
    }
   ],
   "source": [
    "!pip install -r ../requirements/requirements_stroke_stream.txt"
   ]
  },
  {
   "cell_type": "code",
   "execution_count": 17,
   "metadata": {
    "colab": {
     "base_uri": "https://localhost:8080/",
     "height": 419
    },
    "colab_type": "code",
    "id": "2ZQ6vzddtfym",
    "outputId": "aa11eeb9-c87b-4de8-d7fa-e87f64b6b8cc"
   },
   "outputs": [
    {
     "name": "stdout",
     "output_type": "stream",
     "text": [
      "--2020-08-11 13:21:39--  https://raw.githubusercontent.com/carcrupe/TFM/master/stroke_visualization.py\n",
      "Resolviendo raw.githubusercontent.com (raw.githubusercontent.com)... 151.101.132.133\n",
      "Conectando con raw.githubusercontent.com (raw.githubusercontent.com)[151.101.132.133]:443... conectado.\n",
      "Petición HTTP enviada, esperando respuesta... 200 OK\n",
      "Longitud: 1277 (1,2K) [text/plain]\n",
      "Guardando como: “../stroke_visualization.py”\n",
      "\n",
      "stroke_visualizatio 100%[===================>]   1,25K  --.-KB/s    en 0s      \n",
      "\n",
      "Falta la cabecera de fecha de la última modificación -- marcas de tiempo desactivadas.\n",
      "2020-08-11 13:21:39 (37,2 MB/s) - “../stroke_visualization.py” guardado [1277/1277]\n",
      "\n",
      "--2020-08-11 13:21:39--  https://raw.githubusercontent.com/carcrupe/TFM/master/notebooks/best.model\n",
      "Resolviendo raw.githubusercontent.com (raw.githubusercontent.com)... 151.101.132.133\n",
      "Conectando con raw.githubusercontent.com (raw.githubusercontent.com)[151.101.132.133]:443... conectado.\n",
      "Petición HTTP enviada, esperando respuesta... 200 OK\n",
      "Longitud: 930435 (909K) [application/octet-stream]\n",
      "Guardando como: “best.model”\n",
      "\n",
      "best.model          100%[===================>] 908,63K  --.-KB/s    en 0,09s   \n",
      "\n",
      "Falta la cabecera de fecha de la última modificación -- marcas de tiempo desactivadas.\n",
      "2020-08-11 13:21:40 (9,73 MB/s) - “best.model” guardado [930435/930435]\n",
      "\n"
     ]
    }
   ],
   "source": [
    "!wget -N https://raw.githubusercontent.com/carcrupe/TFM/master/stroke_visualization.py -P ../\n",
    "!wget -N https://raw.githubusercontent.com/carcrupe/TFM/master/notebooks/best.model "
   ]
  },
  {
   "cell_type": "code",
   "execution_count": 18,
   "metadata": {
    "colab": {
     "base_uri": "https://localhost:8080/",
     "height": 208
    },
    "colab_type": "code",
    "id": "E9q5-ZI7vNJI",
    "outputId": "10bc61ee-c15f-4c72-8017-31453c8e6c01"
   },
   "outputs": [
    {
     "name": "stdout",
     "output_type": "stream",
     "text": [
      "--2020-08-11 13:21:43--  https://bin.equinox.io/c/4VmDzA7iaHb/ngrok-stable-linux-amd64.zip\n",
      "Resolviendo bin.equinox.io (bin.equinox.io)... 34.233.175.36, 54.164.74.108, 34.197.140.245, ...\n",
      "Conectando con bin.equinox.io (bin.equinox.io)[34.233.175.36]:443... conectado.\n",
      "Petición HTTP enviada, esperando respuesta... 200 OK\n",
      "Longitud: 13773305 (13M) [application/octet-stream]\n",
      "Guardando como: “ngrok-stable-linux-amd64.zip”\n",
      "\n",
      "ngrok-stable-linux- 100%[===================>]  13,13M  2,31MB/s    en 7,4s    \n",
      "\n",
      "Falta la cabecera de fecha de la última modificación -- marcas de tiempo desactivadas.\n",
      "2020-08-11 13:21:51 (1,79 MB/s) - “ngrok-stable-linux-amd64.zip” guardado [13773305/13773305]\n",
      "\n"
     ]
    }
   ],
   "source": [
    "!wget -N https://bin.equinox.io/c/4VmDzA7iaHb/ngrok-stable-linux-amd64.zip\n",
    "!unzip -qq ngrok-stable-linux-amd64.zip"
   ]
  },
  {
   "cell_type": "code",
   "execution_count": null,
   "metadata": {
    "colab": {
     "base_uri": "https://localhost:8080/",
     "height": 156
    },
    "colab_type": "code",
    "id": "uuEVLgPVWaDv",
    "outputId": "8a22fe55-dcb5-46c9-a475-3f24fb6341e2"
   },
   "outputs": [
    {
     "name": "stdout",
     "output_type": "stream",
     "text": [
      "Traceback (most recent call last):\n",
      "  File \"<string>\", line 1, in <module>\n",
      "IndexError: list index out of range\n",
      "\u001b[0m\n",
      "\u001b[34m\u001b[1m  You can now view your Streamlit app in your browser.\u001b[0m\n",
      "\u001b[0m\n",
      "\u001b[34m  Local URL: \u001b[0m\u001b[1mhttp://localhost:8501\u001b[0m\n",
      "\u001b[34m  Network URL: \u001b[0m\u001b[1mhttp://192.168.1.140:8501\u001b[0m\n",
      "\u001b[0m\n",
      "/home/carlos/anaconda3/lib/python3.7/site-packages/sklearn/base.py:334: UserWarning: Trying to unpickle estimator DecisionTreeClassifier from version 0.22.1 when using version 0.23.2. This might lead to breaking code or invalid results. Use at your own risk.\n",
      "  UserWarning)\n",
      "/home/carlos/anaconda3/lib/python3.7/site-packages/sklearn/base.py:334: UserWarning: Trying to unpickle estimator RandomForestClassifier from version 0.22.1 when using version 0.23.2. This might lead to breaking code or invalid results. Use at your own risk.\n",
      "  UserWarning)\n"
     ]
    }
   ],
   "source": [
    "#Run this cell to start the server with the classifier. Click on the first link xxx.ngrok.io\n",
    "\n",
    "get_ipython().system_raw('./ngrok http 8501 &')\n",
    "! curl -s http://localhost:4040/api/tunnels | python3 -c \\\n",
    "    \"import sys, json; print(json.load(sys.stdin)['tunnels'][0]['public_url'])\"\n",
    "\n",
    "!streamlit run ../stroke_visualization.py"
   ]
  },
  {
   "cell_type": "code",
   "execution_count": null,
   "metadata": {
    "colab": {},
    "colab_type": "code",
    "id": "bwctkYcY-N82"
   },
   "outputs": [],
   "source": []
  }
 ],
 "metadata": {
  "colab": {
   "name": "stroke_stream.ipynb",
   "provenance": [],
   "toc_visible": true
  },
  "kernelspec": {
   "display_name": "Python 3",
   "language": "python",
   "name": "python3"
  },
  "language_info": {
   "codemirror_mode": {
    "name": "ipython",
    "version": 3
   },
   "file_extension": ".py",
   "mimetype": "text/x-python",
   "name": "python",
   "nbconvert_exporter": "python",
   "pygments_lexer": "ipython3",
   "version": "3.7.7"
  }
 },
 "nbformat": 4,
 "nbformat_minor": 1
}
