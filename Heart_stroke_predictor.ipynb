{
 "cells": [
  {
   "cell_type": "markdown",
   "metadata": {},
   "source": [
    "### Project - Predict heart attack based on phisiological and physical parameters of the patient"
   ]
  },
  {
   "cell_type": "markdown",
   "metadata": {},
   "source": [
    "### Action plan"
   ]
  },
  {
   "cell_type": "markdown",
   "metadata": {},
   "source": [
    "1. Read, explore and clean all the data sets\n",
    "2. See what all datasets have in common and how to relate them. \n",
    "3. Combine or merge relevant columns from datasets 1 and 3, to create a richer dataset. \n",
    "4. Plot main relations between variables to better understand the behaviour of the data.\n",
    "5. Run Machine learning algorithms to train and test. The target is 0 or 1, depending on having or not a stroke.\n",
    "6. Test all ML models and measure the error. Loop for different model parameters to get the optimal ones.\n",
    "7. Get best model and run with data set stroke_predictorSet2.csv\n",
    "8. Measure error. If not high enough, retrain ML models changing parameters.\n",
    "9. Return best possible ML model to predict stroke with this data."
   ]
  },
  {
   "cell_type": "code",
   "execution_count": 153,
   "metadata": {},
   "outputs": [],
   "source": [
    "import pandas as pd\n",
    "import numpy as np\n",
    "import matplotlib.pyplot as plt\n",
    "import seaborn as sns\n",
    "from mpl_toolkits import mplot3d\n",
    "\n",
    "%matplotlib inline"
   ]
  },
  {
   "cell_type": "code",
   "execution_count": 154,
   "metadata": {},
   "outputs": [],
   "source": [
    "import warnings\n",
    "warnings.filterwarnings('ignore')"
   ]
  },
  {
   "cell_type": "markdown",
   "metadata": {},
   "source": [
    "### First data set analysis and cleaning\n",
    "\n",
    "1. age\n",
    "2. sex 1=male, 0=female\n",
    "3. chest pain type (4 values)\n",
    "4. resting blood pressure\n",
    "5. serum cholestoral in mg/dl (100-130 normal, 130-160 above normal, more than 160 well above normal)\n",
    "6. fasting blood sugar > 120 mg/dl\n",
    "7. resting electrocardiographic results (values 0,1,2)\n",
    "8. maximum heart rate achieved\n",
    "9. exercise induced angina\n",
    "10. oldpeak = ST depression induced by exercise relative to rest\n",
    "11. the slope of the peak exercise ST segment\n",
    "12. number of major vessels (0-3) colored by flourosopy\n",
    "13. thal: 3 = normal; 6 = fixed defect; 7 = reversable defect"
   ]
  },
  {
   "cell_type": "code",
   "execution_count": 155,
   "metadata": {},
   "outputs": [
    {
     "name": "stdout",
     "output_type": "stream",
     "text": [
      "Number of lost samples after cleaning stroke_predictorSet.csv: 40%\n"
     ]
    },
    {
     "data": {
      "text/html": [
       "<div>\n",
       "<style scoped>\n",
       "    .dataframe tbody tr th:only-of-type {\n",
       "        vertical-align: middle;\n",
       "    }\n",
       "\n",
       "    .dataframe tbody tr th {\n",
       "        vertical-align: top;\n",
       "    }\n",
       "\n",
       "    .dataframe thead th {\n",
       "        text-align: right;\n",
       "    }\n",
       "</style>\n",
       "<table border=\"1\" class=\"dataframe\">\n",
       "  <thead>\n",
       "    <tr style=\"text-align: right;\">\n",
       "      <th></th>\n",
       "      <th>Age</th>\n",
       "      <th>Sex</th>\n",
       "      <th>SystolicPressure</th>\n",
       "      <th>Cholesterol</th>\n",
       "      <th>Diabetes</th>\n",
       "      <th>Target</th>\n",
       "    </tr>\n",
       "  </thead>\n",
       "  <tbody>\n",
       "    <tr>\n",
       "      <td>275</td>\n",
       "      <td>52</td>\n",
       "      <td>1</td>\n",
       "      <td>125</td>\n",
       "      <td>3</td>\n",
       "      <td>0</td>\n",
       "      <td>0</td>\n",
       "    </tr>\n",
       "    <tr>\n",
       "      <td>46</td>\n",
       "      <td>44</td>\n",
       "      <td>1</td>\n",
       "      <td>140</td>\n",
       "      <td>3</td>\n",
       "      <td>0</td>\n",
       "      <td>1</td>\n",
       "    </tr>\n",
       "    <tr>\n",
       "      <td>227</td>\n",
       "      <td>35</td>\n",
       "      <td>1</td>\n",
       "      <td>120</td>\n",
       "      <td>3</td>\n",
       "      <td>0</td>\n",
       "      <td>0</td>\n",
       "    </tr>\n",
       "    <tr>\n",
       "      <td>61</td>\n",
       "      <td>54</td>\n",
       "      <td>1</td>\n",
       "      <td>108</td>\n",
       "      <td>3</td>\n",
       "      <td>0</td>\n",
       "      <td>1</td>\n",
       "    </tr>\n",
       "    <tr>\n",
       "      <td>86</td>\n",
       "      <td>68</td>\n",
       "      <td>1</td>\n",
       "      <td>118</td>\n",
       "      <td>3</td>\n",
       "      <td>0</td>\n",
       "      <td>1</td>\n",
       "    </tr>\n",
       "  </tbody>\n",
       "</table>\n",
       "</div>"
      ],
      "text/plain": [
       "     Age  Sex  SystolicPressure Cholesterol  Diabetes  Target\n",
       "275   52    1               125           3         0       0\n",
       "46    44    1               140           3         0       1\n",
       "227   35    1               120           3         0       0\n",
       "61    54    1               108           3         0       1\n",
       "86    68    1               118           3         0       1"
      ]
     },
     "execution_count": 155,
     "metadata": {},
     "output_type": "execute_result"
    }
   ],
   "source": [
    "df_stroke = pd.read_csv('stroke_predictorSet.csv') \n",
    "df_stroke.dropna(inplace=True) #Remove Nan values\n",
    "original_size = df_stroke.size\n",
    "\n",
    "df_stroke[df_stroke.duplicated() == True] #Check for duplicates\n",
    "\n",
    "df_stroke.drop_duplicates(inplace=True) #Remove duplicates and check size of the data frame\n",
    "\n",
    "#Set appropriate names for the columns\n",
    "columns = ['Age', 'Sex', 'ChestPain', 'SystolicPressure', 'Cholesterol', 'Diabetes', 'ecgStatus', 'MaxHeartBeat', 'InducedAngina',\n",
    "           'STdepression','STslope', 'fluorVessels', 'Thalassemia', 'Target']\n",
    "df_stroke.columns=columns\n",
    "\n",
    "#Let´s select the columns common to the other datasets in order to compare them\n",
    "df_stroke.drop(axis=1, columns=['ChestPain', 'ecgStatus', 'MaxHeartBeat', 'InducedAngina', 'STdepression', 'STslope', 'fluorVessels', 'Thalassemia'], inplace=True)\n",
    "\n",
    "#Clasify Cholesterol column in three categories. (100-130 normal, 130-160 above normal, more than 160 well above normal)\n",
    "df_stroke['Cholesterol']=pd.cut(df_stroke['Cholesterol'], bins=[0,130,160,1000],right=False, labels=[1,2,3])\n",
    "\n",
    "#Duplicates were created after segmenting the columns\n",
    "df_stroke[df_stroke.duplicated()==True].size \n",
    "#Remove duplicates\n",
    "df_stroke.drop_duplicates(inplace=True) \n",
    "cleaned_size = df_stroke.size\n",
    "\n",
    "print('Number of lost samples after cleaning stroke_predictorSet.csv: {:,.0f}%'.format(cleaned_size/original_size*100))\n",
    "df_stroke.sample(5) #df_stroke clean and features ready for modeling\n"
   ]
  },
  {
   "cell_type": "markdown",
   "metadata": {},
   "source": [
    "### Second data set analysis and cleaning\n",
    "1. Age | Objective Feature | age | int (days)\n",
    "2. Height | Objective Feature | height | int (cm) |\n",
    "3. Weight | Objective Feature | weight | float (kg) |\n",
    "4. Gender | Objective Feature | gender | categorical code | 1 woman, 2 man\n",
    "5. Systolic blood pressure | Examination Feature | ap_hi | int |\n",
    "6. Diastolic blood pressure | Examination Feature | ap_lo | int |\n",
    "7. Cholesterol | Examination Feature | cholesterol | 1: normal, 2: above normal, 3: well above normal |\n",
    "8. Glucose | Examination Feature | gluc | 1: normal, 2: above normal, 3: well above normal |\n",
    "9. Smoking | Subjective Feature | smoke | binary |\n",
    "10. Alcohol intake | Subjective Feature | alco | binary |\n",
    "11. Physical activity | Subjective Feature | active | binary |\n",
    "12. Presence or absence of cardiovascular disease | Target Variable | cardio | binary |"
   ]
  },
  {
   "cell_type": "code",
   "execution_count": 156,
   "metadata": {},
   "outputs": [
    {
     "name": "stdout",
     "output_type": "stream",
     "text": [
      "Number of lost samples after cleaning stroke_predictorSet2.csv: 4%\n"
     ]
    },
    {
     "data": {
      "text/html": [
       "<div>\n",
       "<style scoped>\n",
       "    .dataframe tbody tr th:only-of-type {\n",
       "        vertical-align: middle;\n",
       "    }\n",
       "\n",
       "    .dataframe tbody tr th {\n",
       "        vertical-align: top;\n",
       "    }\n",
       "\n",
       "    .dataframe thead th {\n",
       "        text-align: right;\n",
       "    }\n",
       "</style>\n",
       "<table border=\"1\" class=\"dataframe\">\n",
       "  <thead>\n",
       "    <tr style=\"text-align: right;\">\n",
       "      <th></th>\n",
       "      <th>Age</th>\n",
       "      <th>Sex</th>\n",
       "      <th>SystolicPressure</th>\n",
       "      <th>Cholesterol</th>\n",
       "      <th>Diabetes</th>\n",
       "      <th>Target</th>\n",
       "    </tr>\n",
       "  </thead>\n",
       "  <tbody>\n",
       "    <tr>\n",
       "      <td>0</td>\n",
       "      <td>50</td>\n",
       "      <td>1</td>\n",
       "      <td>110</td>\n",
       "      <td>1</td>\n",
       "      <td>0</td>\n",
       "      <td>0</td>\n",
       "    </tr>\n",
       "    <tr>\n",
       "      <td>1</td>\n",
       "      <td>55</td>\n",
       "      <td>0</td>\n",
       "      <td>140</td>\n",
       "      <td>3</td>\n",
       "      <td>0</td>\n",
       "      <td>1</td>\n",
       "    </tr>\n",
       "    <tr>\n",
       "      <td>2</td>\n",
       "      <td>51</td>\n",
       "      <td>0</td>\n",
       "      <td>130</td>\n",
       "      <td>3</td>\n",
       "      <td>0</td>\n",
       "      <td>1</td>\n",
       "    </tr>\n",
       "    <tr>\n",
       "      <td>3</td>\n",
       "      <td>48</td>\n",
       "      <td>1</td>\n",
       "      <td>150</td>\n",
       "      <td>1</td>\n",
       "      <td>0</td>\n",
       "      <td>1</td>\n",
       "    </tr>\n",
       "    <tr>\n",
       "      <td>4</td>\n",
       "      <td>47</td>\n",
       "      <td>0</td>\n",
       "      <td>100</td>\n",
       "      <td>1</td>\n",
       "      <td>0</td>\n",
       "      <td>0</td>\n",
       "    </tr>\n",
       "  </tbody>\n",
       "</table>\n",
       "</div>"
      ],
      "text/plain": [
       "   Age  Sex  SystolicPressure  Cholesterol Diabetes  Target\n",
       "0   50    1               110            1        0       0\n",
       "1   55    0               140            3        0       1\n",
       "2   51    0               130            3        0       1\n",
       "3   48    1               150            1        0       1\n",
       "4   47    0               100            1        0       0"
      ]
     },
     "execution_count": 156,
     "metadata": {},
     "output_type": "execute_result"
    }
   ],
   "source": [
    "df_stroke2 = pd.read_csv('stroke_predictorSet2.csv', sep=';')\n",
    "df_stroke2.dropna(inplace=True)\n",
    "original_size2 = df_stroke2.size\n",
    "\n",
    "df_stroke2[df_stroke2.duplicated() == True] #Check for duplicates. There are no duplicates in this case\n",
    "\n",
    "#Set appropiate column names for second dataset, according to the data in df_stroke\n",
    "columns2 = ['Id','Age', 'Sex', 'Height', 'Weight','SystolicPressure', 'DiastolicPressure', 'Cholesterol', 'Diabetes', 'Smoker', 'Alcoholic',\n",
    "           'ActiveSport','Target']\n",
    "df_stroke2.columns=columns2\n",
    "\n",
    "#Age was given in days, transform to years and round to closest integer\n",
    "df_stroke2['Age']=(df_stroke2['Age']/365).astype(int) \n",
    "\n",
    "#Set female to value 0 like in the other datasets\n",
    "df_stroke2.Sex[df_stroke2['Sex'] == 1] = 0\n",
    "#set male to 1 like in the other datasets\n",
    "df_stroke2.Sex[df_stroke2['Sex'] == 2] = 1 \n",
    "\n",
    "#Let´s select the columns common to the other datasets in order to compare them\n",
    "df_stroke2.drop(axis=1, columns=['Id', 'Height','Weight', 'DiastolicPressure', 'Smoker', 'Alcoholic', 'ActiveSport'], inplace=True)\n",
    "\n",
    "#Caterogize diabetes column in only two catergories, 0 means normal and 1 means above normal or patient with diabetes (>100mg/dl blood sugar)\n",
    "df_stroke2['Diabetes'] = pd.cut(df_stroke2['Diabetes'], bins=[1,2,4],labels=[0,1], right=False)\n",
    "\n",
    "#Duplicates were created after column segmentation\n",
    "df_stroke2[df_stroke2.duplicated()==True].size\n",
    "#Remove duplicates\n",
    "df_stroke2.drop_duplicates(inplace=True) \n",
    "cleaned_size2 = df_stroke2.size\n",
    "\n",
    "print('Number of lost samples after cleaning stroke_predictorSet2.csv: {:,.0f}%'.format(cleaned_size2/original_size2*100))\n",
    "df_stroke2.head(5)"
   ]
  },
  {
   "cell_type": "markdown",
   "metadata": {},
   "source": [
    "### Third data set analysis and cleaning\n"
   ]
  },
  {
   "cell_type": "code",
   "execution_count": 157,
   "metadata": {},
   "outputs": [
    {
     "name": "stdout",
     "output_type": "stream",
     "text": [
      "Number of lost samples after cleaning stroke_predictoSet3.csv: 23%\n"
     ]
    },
    {
     "data": {
      "text/html": [
       "<div>\n",
       "<style scoped>\n",
       "    .dataframe tbody tr th:only-of-type {\n",
       "        vertical-align: middle;\n",
       "    }\n",
       "\n",
       "    .dataframe tbody tr th {\n",
       "        vertical-align: top;\n",
       "    }\n",
       "\n",
       "    .dataframe thead th {\n",
       "        text-align: right;\n",
       "    }\n",
       "</style>\n",
       "<table border=\"1\" class=\"dataframe\">\n",
       "  <thead>\n",
       "    <tr style=\"text-align: right;\">\n",
       "      <th></th>\n",
       "      <th>Sex</th>\n",
       "      <th>Age</th>\n",
       "      <th>Diabetes</th>\n",
       "      <th>Cholesterol</th>\n",
       "      <th>SystolicPressure</th>\n",
       "    </tr>\n",
       "  </thead>\n",
       "  <tbody>\n",
       "    <tr>\n",
       "      <td>3496</td>\n",
       "      <td>1</td>\n",
       "      <td>53</td>\n",
       "      <td>0</td>\n",
       "      <td>3</td>\n",
       "      <td>172.5</td>\n",
       "    </tr>\n",
       "    <tr>\n",
       "      <td>2461</td>\n",
       "      <td>1</td>\n",
       "      <td>65</td>\n",
       "      <td>0</td>\n",
       "      <td>3</td>\n",
       "      <td>140.0</td>\n",
       "    </tr>\n",
       "    <tr>\n",
       "      <td>264</td>\n",
       "      <td>1</td>\n",
       "      <td>57</td>\n",
       "      <td>0</td>\n",
       "      <td>3</td>\n",
       "      <td>134.0</td>\n",
       "    </tr>\n",
       "    <tr>\n",
       "      <td>4219</td>\n",
       "      <td>1</td>\n",
       "      <td>48</td>\n",
       "      <td>0</td>\n",
       "      <td>3</td>\n",
       "      <td>125.0</td>\n",
       "    </tr>\n",
       "    <tr>\n",
       "      <td>235</td>\n",
       "      <td>0</td>\n",
       "      <td>36</td>\n",
       "      <td>0</td>\n",
       "      <td>2</td>\n",
       "      <td>108.0</td>\n",
       "    </tr>\n",
       "  </tbody>\n",
       "</table>\n",
       "</div>"
      ],
      "text/plain": [
       "      Sex  Age  Diabetes Cholesterol  SystolicPressure\n",
       "3496    1   53         0           3             172.5\n",
       "2461    1   65         0           3             140.0\n",
       "264     1   57         0           3             134.0\n",
       "4219    1   48         0           3             125.0\n",
       "235     0   36         0           2             108.0"
      ]
     },
     "execution_count": 157,
     "metadata": {},
     "output_type": "execute_result"
    }
   ],
   "source": [
    "df_stroke3 = pd.read_csv('stroke_predictoSet3.csv')\n",
    "df_stroke3.dropna(inplace=True)\n",
    "original_size3 = df_stroke3.size\n",
    "\n",
    "#Check for duplicates. There are no duplicates in this case\n",
    "df_stroke3[df_stroke3.duplicated() == True] \n",
    "\n",
    "columns3 = ['Sex', 'Age', 'Education', 'Smoker','CigarretesPerDay', 'BloodPressureMedicines', 'PreviousStroke', 'HyperSentitive', 'Diabetes', 'Cholesterol',\n",
    "           'SystolicPressure','DiastolicPressure','BodyMassIndex','HeartRate','FastingBloodSugar', 'MoreThanTenYearDisease']\n",
    "df_stroke3.columns=columns3\n",
    "\n",
    "df_stroke3.drop(axis=1, columns= ['Education', 'Smoker','CigarretesPerDay', 'BloodPressureMedicines', 'PreviousStroke', 'HyperSentitive','DiastolicPressure','BodyMassIndex','HeartRate', 'FastingBloodSugar', 'MoreThanTenYearDisease'], inplace=True)\n",
    "\n",
    "#Clasify Cholesterol column in three categories. (100-130 normal, 130-160 above normal, more than 160 well above normal)\n",
    "df_stroke3['Cholesterol']=pd.cut(df_stroke3['Cholesterol'], bins=[0,130,160,1000],right=False, labels=[1,2,3])\n",
    "\n",
    "#After removing columns, new duplicates were created. Remove them.\n",
    "df_stroke3[df_stroke3.duplicated() == True].size\n",
    "df_stroke3.drop_duplicates(inplace=True) \n",
    "cleaned_size3 = df_stroke3.size\n",
    "\n",
    "print('Number of lost samples after cleaning stroke_predictoSet3.csv: {:,.0f}%'.format(cleaned_size3/original_size3*100))\n",
    "df_stroke3.sample(5)\n"
   ]
  },
  {
   "cell_type": "markdown",
   "metadata": {},
   "source": [
    "### Machine learning models\n",
    "\n",
    "1. Since df_stroke2 is the largest dataset, we will train models with it. \n",
    "2. Select the best model \n",
    "3. Apply and predict stroke for df_stroke"
   ]
  },
  {
   "cell_type": "code",
   "execution_count": 171,
   "metadata": {},
   "outputs": [],
   "source": [
    "from sklearn.metrics import mean_absolute_error\n",
    "from sklearn.model_selection import train_test_split\n",
    "from sklearn.tree import DecisionTreeRegressor\n",
    "\n",
    "\n",
    "# Create target object and call it y\n",
    "y = df_stroke2['Target']\n",
    "# Create X\n",
    "features = ['Age', 'Sex', 'SystolicPressure', 'Cholesterol', 'Diabetes']\n",
    "X = df_stroke2[features]\n",
    "\n",
    "# Split into validation and training data\n",
    "train_X, val_X, train_y, val_y = train_test_split(X, y, random_state=1)"
   ]
  },
  {
   "cell_type": "markdown",
   "metadata": {},
   "source": [
    "**Decision Tree Regressor**"
   ]
  },
  {
   "cell_type": "code",
   "execution_count": 172,
   "metadata": {},
   "outputs": [
    {
     "name": "stdout",
     "output_type": "stream",
     "text": [
      "Validation MAE: 0.672\n"
     ]
    }
   ],
   "source": [
    "# Specify Model\n",
    "stroke_model = DecisionTreeRegressor(random_state=1)\n",
    "# Fit Model\n",
    "stroke_model.fit(train_X, train_y)\n",
    "\n",
    "# Make validation predictions and calculate mean absolute error\n",
    "val_predictions = stroke_model.predict(val_X)\n",
    "val_mae = mean_absolute_error(val_predictions, val_y)\n",
    "print(\"Validation MAE: {:,.3f}\".format(val_mae))\n"
   ]
  },
  {
   "cell_type": "code",
   "execution_count": 173,
   "metadata": {},
   "outputs": [],
   "source": [
    "#We define a function that returns the Mean Absolute error of the decision tree\n",
    "def get_mae_tree(max_leaf_nodes, train_X, val_X, train_y, val_y):\n",
    "    model = DecisionTreeRegressor(max_leaf_nodes=max_leaf_nodes, random_state=0)\n",
    "    model.fit(train_X, train_y)\n",
    "    preds_val = model.predict(val_X)\n",
    "    mae = mean_absolute_error(val_y, preds_val)\n",
    "    return(mae)"
   ]
  },
  {
   "cell_type": "code",
   "execution_count": 174,
   "metadata": {
    "scrolled": true
   },
   "outputs": [
    {
     "data": {
      "text/plain": [
       "<matplotlib.collections.PathCollection at 0x7f6dd6eaff50>"
      ]
     },
     "execution_count": 174,
     "metadata": {},
     "output_type": "execute_result"
    },
    {
     "data": {
      "image/png": "[encoded data removed]",
      "text/plain": [
       "<Figure size 432x288 with 1 Axes>"
      ]
     },
     "metadata": {
      "needs_background": "light"
     },
     "output_type": "display_data"
    }
   ],
   "source": [
    "#The error in the first approach is quite high. Let us iterate to find the optimal tree parameters\n",
    "\n",
    "candidate_max_leaf_nodes = [5, 25, 50, 100, 250, 500,1000]\n",
    "# Write loop to find the ideal tree size from candidate_max_leaf_nodes\n",
    "mae=[]\n",
    "for x in candidate_max_leaf_nodes:\n",
    "    mae.append(get_mae_tree(x,train_X, val_X, train_y, val_y))\n",
    "\n",
    "# Store the best value of max_leaf_nodes \n",
    "best_tree_size = candidate_max_leaf_nodes[mae.index(min(mae))]\n",
    "\n",
    "#Show the minimum MAE highlighted in red\n",
    "minMae = np.min(mae)\n",
    "mask = np.array(mae) == minMae\n",
    "color = np.where(mask, 'red', 'blue')\n",
    "plt.scatter(candidate_max_leaf_nodes,mae, color=color)\n"
   ]
  },
  {
   "cell_type": "code",
   "execution_count": 175,
   "metadata": {},
   "outputs": [
    {
     "name": "stdout",
     "output_type": "stream",
     "text": [
      "Validation MAE: 0.423\n"
     ]
    }
   ],
   "source": [
    "#Create optimal tree model\n",
    "final_tree_model = DecisionTreeRegressor(max_leaf_nodes=best_tree_size, random_state=0)\n",
    "\n",
    "# fit the final model with the whole dataset and calculate error\n",
    "final_tree_model.fit(X, y)\n",
    "val_predictions = final_tree_model.predict(val_X)\n",
    "val_mae = mean_absolute_error(val_predictions, val_y)\n",
    "print(\"Validation MAE: {:,.3f}\".format(val_mae))"
   ]
  },
  {
   "cell_type": "markdown",
   "metadata": {},
   "source": [
    "**Random Forest**"
   ]
  },
  {
   "cell_type": "code",
   "execution_count": 176,
   "metadata": {},
   "outputs": [
    {
     "name": "stdout",
     "output_type": "stream",
     "text": [
      "Validation MAE for Random Forest Model: 0.5924872501927296\n"
     ]
    }
   ],
   "source": [
    "from sklearn.ensemble import RandomForestRegressor\n",
    "\n",
    "# Define the model. Set random_state to 1\n",
    "rf_model = RandomForestRegressor(random_state=1)\n",
    "\n",
    "# fit the model\n",
    "rf_model.fit(train_X,train_y)\n",
    "\n",
    "# Calculate the mean absolute error of your Random Forest model on the validation data\n",
    "predict_y=rf_model.predict(val_X)\n",
    "rf_val_mae = mean_absolute_error(val_y,predict_y)\n",
    "\n",
    "print(\"Validation MAE for Random Forest Model: {}\".format(rf_val_mae))\n"
   ]
  },
  {
   "cell_type": "code",
   "execution_count": 177,
   "metadata": {},
   "outputs": [],
   "source": [
    "#We define a function that returns the Mean Absolute error of the Random Forest. We will check for this purpose\n",
    "# two parameters of the Random Forest regressor, the depth and the leaf nodes\n",
    "def get_mae_forest(max_depth, max_leaf_nodes, train_X, val_X, train_y, val_y):\n",
    "    model = RandomForestRegressor(max_depth=max_depth, max_leaf_nodes=max_leaf_nodes, random_state=0)\n",
    "    model.fit(train_X, train_y)\n",
    "    preds_val = model.predict(val_X)\n",
    "    mae = mean_absolute_error(val_y, preds_val)\n",
    "    return(mae)"
   ]
  },
  {
   "cell_type": "code",
   "execution_count": 178,
   "metadata": {},
   "outputs": [
    {
     "data": {
      "image/png": "[encoded data removed]",
      "text/plain": [
       "<Figure size 432x288 with 1 Axes>"
      ]
     },
     "metadata": {
      "needs_background": "light"
     },
     "output_type": "display_data"
    }
   ],
   "source": [
    "#The error in the first approach is quite high. Let us iterate to find the optimal tree parameters\n",
    "\n",
    "candidate_max_leaf_nodes = [5, 10,50,100,200,500]\n",
    "candidate_max_depth = [5, 10,50,100,200,500]\n",
    "\n",
    "# Write loop to find the ideal tree size from candidate_max_leaf_nodes\n",
    "mae=[]\n",
    "for i, x  in enumerate(candidate_max_depth):\n",
    "    mae.append(get_mae_forest(x, candidate_max_leaf_nodes[i], train_X, val_X, train_y, val_y))\n",
    "\n",
    "# Store the best value of max_leaf_nodes \n",
    "best_tree_size = candidate_max_leaf_nodes[mae.index(min(mae))]\n",
    "best_depth = candidate_max_depth[mae.index(min(mae))]\n",
    "\n",
    "#Show the minimum MAE highlighted in red and plot in 3D the MAE corresponding to the leaf nodes and depth fo the Random Forest\n",
    "minMae = np.min(mae)\n",
    "mask = np.array(mae) == minMae\n",
    "color = np.where(mask, 'red', 'blue')\n",
    "fig = plt.figure()\n",
    "ax = plt.axes(projection='3d')\n",
    "ax.scatter3D(candidate_max_depth,candidate_max_leaf_nodes ,mae, color=color);\n",
    "ax.set_title('Mae for RandomForest');\n",
    "ax.set_xlabel('Forest depth');\n",
    "ax.set_ylabel('Leaf nodes');"
   ]
  },
  {
   "cell_type": "code",
   "execution_count": 179,
   "metadata": {},
   "outputs": [
    {
     "name": "stdout",
     "output_type": "stream",
     "text": [
      "Validation MAE: 0.423\n"
     ]
    }
   ],
   "source": [
    "#Create optimal random forest model\n",
    "final_forest_model = RandomForestRegressor(max_depth=best_depth, max_leaf_nodes=best_tree_size, random_state=0)\n",
    "\n",
    "# fit the final model with the whole dataset and calculate error\n",
    "final_forest_model.fit(X, y)\n",
    "val_predictions = final_tree_model.predict(val_X)\n",
    "val_mae = mean_absolute_error(val_predictions, val_y)\n",
    "print(\"Validation MAE: {:,.3f}\".format(val_mae))"
   ]
  },
  {
   "cell_type": "markdown",
   "metadata": {},
   "source": [
    "Conclusions so far:\n",
    "- We see that the random forest and the decision tree equally perform when they are optimized with the number of leaf nodes."
   ]
  },
  {
   "cell_type": "code",
   "execution_count": null,
   "metadata": {},
   "outputs": [],
   "source": []
  }
 ],
 "metadata": {
  "kernelspec": {
   "display_name": "Python 3",
   "language": "python",
   "name": "python3"
  },
  "language_info": {
   "codemirror_mode": {
    "name": "ipython",
    "version": 3
   },
   "file_extension": ".py",
   "mimetype": "text/x-python",
   "name": "python",
   "nbconvert_exporter": "python",
   "pygments_lexer": "ipython3",
   "version": "3.7.4"
  }
 },
 "nbformat": 4,
 "nbformat_minor": 2
}
