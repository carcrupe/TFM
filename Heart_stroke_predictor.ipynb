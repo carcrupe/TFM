{
 "cells": [
  {
   "cell_type": "markdown",
   "metadata": {},
   "source": [
    "### Project - Predict heart attack based on phisiological and physical parameters of the patient"
   ]
  },
  {
   "cell_type": "markdown",
   "metadata": {},
   "source": [
    "### Action plan"
   ]
  },
  {
   "cell_type": "markdown",
   "metadata": {},
   "source": [
    "1. Read, explore and clean all the data sets\n",
    "2. See what all datasets have in common and how to relate them. \n",
    "3. Combine or merge relevant columns from datasets 1 and 3, to create a richer dataset. \n",
    "4. Plot main relations between variables to better understand the behaviour of the data.\n",
    "5. Run Machine learning algorithms to train and test. The target is 0 or 1, depending on having or not a stroke.\n",
    "6. Test all ML models and measure the error. Loop for different model parameters to get the optimal ones.\n",
    "7. Get best model and run with data set stroke_predictorSet2.csv\n",
    "8. Measure error. If not high enough, retrain ML models changing parameters.\n",
    "9. Return best possible ML model to predict stroke with this data."
   ]
  },
  {
   "cell_type": "code",
   "execution_count": 15,
   "metadata": {},
   "outputs": [],
   "source": [
    "import pandas as pd\n",
    "import numpy as np\n",
    "import matplotlib.pyplot as plt\n",
    "import seaborn as sns\n",
    "from mpl_toolkits import mplot3d\n",
    "from sklearn.metrics import classification_report\n",
    "from sklearn.metrics import confusion_matrix\n",
    "from sklearn.model_selection import cross_val_score\n",
    "\n",
    "%matplotlib inline"
   ]
  },
  {
   "cell_type": "code",
   "execution_count": 2,
   "metadata": {},
   "outputs": [],
   "source": [
    "import warnings\n",
    "warnings.filterwarnings('ignore')"
   ]
  },
  {
   "cell_type": "markdown",
   "metadata": {},
   "source": [
    "### First data set analysis and cleaning\n",
    "\n",
    "1. age\n",
    "2. sex 1=male, 0=female\n",
    "3. chest pain type (4 values)\n",
    "4. resting blood pressure\n",
    "5. serum cholestoral in mg/dl (100-130 normal, 130-160 above normal, more than 160 well above normal)\n",
    "6. fasting blood sugar > 120 mg/dl\n",
    "7. resting electrocardiographic results (values 0,1,2)\n",
    "8. maximum heart rate achieved\n",
    "9. exercise induced angina\n",
    "10. oldpeak = ST depression induced by exercise relative to rest\n",
    "11. the slope of the peak exercise ST segment\n",
    "12. number of major vessels (0-3) colored by flourosopy\n",
    "13. thal: 3 = normal; 6 = fixed defect; 7 = reversable defect"
   ]
  },
  {
   "cell_type": "code",
   "execution_count": 155,
   "metadata": {},
   "outputs": [
    {
     "name": "stdout",
     "output_type": "stream",
     "text": [
      "Number of lost samples after cleaning stroke_predictorSet.csv: 40%\n"
     ]
    },
    {
     "data": {
      "text/html": [
       "<div>\n",
       "<style scoped>\n",
       "    .dataframe tbody tr th:only-of-type {\n",
       "        vertical-align: middle;\n",
       "    }\n",
       "\n",
       "    .dataframe tbody tr th {\n",
       "        vertical-align: top;\n",
       "    }\n",
       "\n",
       "    .dataframe thead th {\n",
       "        text-align: right;\n",
       "    }\n",
       "</style>\n",
       "<table border=\"1\" class=\"dataframe\">\n",
       "  <thead>\n",
       "    <tr style=\"text-align: right;\">\n",
       "      <th></th>\n",
       "      <th>Age</th>\n",
       "      <th>Sex</th>\n",
       "      <th>SystolicPressure</th>\n",
       "      <th>Cholesterol</th>\n",
       "      <th>Diabetes</th>\n",
       "      <th>Target</th>\n",
       "    </tr>\n",
       "  </thead>\n",
       "  <tbody>\n",
       "    <tr>\n",
       "      <td>275</td>\n",
       "      <td>52</td>\n",
       "      <td>1</td>\n",
       "      <td>125</td>\n",
       "      <td>3</td>\n",
       "      <td>0</td>\n",
       "      <td>0</td>\n",
       "    </tr>\n",
       "    <tr>\n",
       "      <td>46</td>\n",
       "      <td>44</td>\n",
       "      <td>1</td>\n",
       "      <td>140</td>\n",
       "      <td>3</td>\n",
       "      <td>0</td>\n",
       "      <td>1</td>\n",
       "    </tr>\n",
       "    <tr>\n",
       "      <td>227</td>\n",
       "      <td>35</td>\n",
       "      <td>1</td>\n",
       "      <td>120</td>\n",
       "      <td>3</td>\n",
       "      <td>0</td>\n",
       "      <td>0</td>\n",
       "    </tr>\n",
       "    <tr>\n",
       "      <td>61</td>\n",
       "      <td>54</td>\n",
       "      <td>1</td>\n",
       "      <td>108</td>\n",
       "      <td>3</td>\n",
       "      <td>0</td>\n",
       "      <td>1</td>\n",
       "    </tr>\n",
       "    <tr>\n",
       "      <td>86</td>\n",
       "      <td>68</td>\n",
       "      <td>1</td>\n",
       "      <td>118</td>\n",
       "      <td>3</td>\n",
       "      <td>0</td>\n",
       "      <td>1</td>\n",
       "    </tr>\n",
       "  </tbody>\n",
       "</table>\n",
       "</div>"
      ],
      "text/plain": [
       "     Age  Sex  SystolicPressure Cholesterol  Diabetes  Target\n",
       "275   52    1               125           3         0       0\n",
       "46    44    1               140           3         0       1\n",
       "227   35    1               120           3         0       0\n",
       "61    54    1               108           3         0       1\n",
       "86    68    1               118           3         0       1"
      ]
     },
     "execution_count": 155,
     "metadata": {},
     "output_type": "execute_result"
    }
   ],
   "source": [
    "df_stroke = pd.read_csv('stroke_predictorSet.csv') \n",
    "df_stroke.dropna(inplace=True) #Remove Nan values\n",
    "original_size = df_stroke.size\n",
    "\n",
    "df_stroke[df_stroke.duplicated() == True] #Check for duplicates\n",
    "\n",
    "df_stroke.drop_duplicates(inplace=True) #Remove duplicates and check size of the data frame\n",
    "\n",
    "#Set appropriate names for the columns\n",
    "columns = ['Age', 'Sex', 'ChestPain', 'SystolicPressure', 'Cholesterol', 'Diabetes', 'ecgStatus', 'MaxHeartBeat', 'InducedAngina',\n",
    "           'STdepression','STslope', 'fluorVessels', 'Thalassemia', 'Target']\n",
    "df_stroke.columns=columns\n",
    "\n",
    "#Let´s select the columns common to the other datasets in order to compare them\n",
    "df_stroke.drop(axis=1, columns=['ChestPain', 'ecgStatus', 'MaxHeartBeat', 'InducedAngina', 'STdepression', 'STslope', 'fluorVessels', 'Thalassemia'], inplace=True)\n",
    "\n",
    "#Clasify Cholesterol column in three categories. (100-130 normal, 130-160 above normal, more than 160 well above normal)\n",
    "df_stroke['Cholesterol']=pd.cut(df_stroke['Cholesterol'], bins=[0,130,160,1000],right=False, labels=[1,2,3])\n",
    "\n",
    "#Duplicates were created after segmenting the columns\n",
    "df_stroke[df_stroke.duplicated()==True].size \n",
    "#Remove duplicates\n",
    "df_stroke.drop_duplicates(inplace=True) \n",
    "cleaned_size = df_stroke.size\n",
    "\n",
    "print('Number of lost samples after cleaning stroke_predictorSet.csv: {:,.0f}%'.format(cleaned_size/original_size*100))\n",
    "df_stroke.sample(5) #df_stroke clean and features ready for modeling\n"
   ]
  },
  {
   "cell_type": "markdown",
   "metadata": {},
   "source": [
    "### Second data set analysis and cleaning\n",
    "1. Age | Objective Feature | age | int (days)\n",
    "2. Height | Objective Feature | height | int (cm) |\n",
    "3. Weight | Objective Feature | weight | float (kg) |\n",
    "4. Gender | Objective Feature | gender | categorical code | 1 woman, 2 man\n",
    "5. Systolic blood pressure | Examination Feature | ap_hi | int |\n",
    "6. Diastolic blood pressure | Examination Feature | ap_lo | int |\n",
    "7. Cholesterol | Examination Feature | cholesterol | 1: normal, 2: above normal, 3: well above normal |\n",
    "8. Glucose | Examination Feature | gluc | 1: normal, 2: above normal, 3: well above normal |\n",
    "9. Smoking | Subjective Feature | smoke | binary |\n",
    "10. Alcohol intake | Subjective Feature | alco | binary |\n",
    "11. Physical activity | Subjective Feature | active | binary |\n",
    "12. Presence or absence of cardiovascular disease | Target Variable | cardio | binary |"
   ]
  },
  {
   "cell_type": "code",
   "execution_count": 3,
   "metadata": {},
   "outputs": [
    {
     "name": "stdout",
     "output_type": "stream",
     "text": [
      "Number of lost samples after cleaning stroke_predictorSet2.csv: 100%\n"
     ]
    },
    {
     "data": {
      "text/html": [
       "<div>\n",
       "<style scoped>\n",
       "    .dataframe tbody tr th:only-of-type {\n",
       "        vertical-align: middle;\n",
       "    }\n",
       "\n",
       "    .dataframe tbody tr th {\n",
       "        vertical-align: top;\n",
       "    }\n",
       "\n",
       "    .dataframe thead th {\n",
       "        text-align: right;\n",
       "    }\n",
       "</style>\n",
       "<table border=\"1\" class=\"dataframe\">\n",
       "  <thead>\n",
       "    <tr style=\"text-align: right;\">\n",
       "      <th></th>\n",
       "      <th>Id</th>\n",
       "      <th>Age</th>\n",
       "      <th>Sex</th>\n",
       "      <th>Height</th>\n",
       "      <th>Weight</th>\n",
       "      <th>SystolicPressure</th>\n",
       "      <th>DiastolicPressure</th>\n",
       "      <th>Cholesterol</th>\n",
       "      <th>Diabetes</th>\n",
       "      <th>Smoker</th>\n",
       "      <th>Alcoholic</th>\n",
       "      <th>ActiveSport</th>\n",
       "      <th>Target</th>\n",
       "    </tr>\n",
       "  </thead>\n",
       "  <tbody>\n",
       "    <tr>\n",
       "      <td>0</td>\n",
       "      <td>0</td>\n",
       "      <td>50</td>\n",
       "      <td>1</td>\n",
       "      <td>168</td>\n",
       "      <td>62.0</td>\n",
       "      <td>110</td>\n",
       "      <td>80</td>\n",
       "      <td>1</td>\n",
       "      <td>0</td>\n",
       "      <td>0</td>\n",
       "      <td>0</td>\n",
       "      <td>1</td>\n",
       "      <td>0</td>\n",
       "    </tr>\n",
       "    <tr>\n",
       "      <td>1</td>\n",
       "      <td>1</td>\n",
       "      <td>55</td>\n",
       "      <td>0</td>\n",
       "      <td>156</td>\n",
       "      <td>85.0</td>\n",
       "      <td>140</td>\n",
       "      <td>90</td>\n",
       "      <td>3</td>\n",
       "      <td>0</td>\n",
       "      <td>0</td>\n",
       "      <td>0</td>\n",
       "      <td>1</td>\n",
       "      <td>1</td>\n",
       "    </tr>\n",
       "    <tr>\n",
       "      <td>2</td>\n",
       "      <td>2</td>\n",
       "      <td>51</td>\n",
       "      <td>0</td>\n",
       "      <td>165</td>\n",
       "      <td>64.0</td>\n",
       "      <td>130</td>\n",
       "      <td>70</td>\n",
       "      <td>3</td>\n",
       "      <td>0</td>\n",
       "      <td>0</td>\n",
       "      <td>0</td>\n",
       "      <td>0</td>\n",
       "      <td>1</td>\n",
       "    </tr>\n",
       "    <tr>\n",
       "      <td>3</td>\n",
       "      <td>3</td>\n",
       "      <td>48</td>\n",
       "      <td>1</td>\n",
       "      <td>169</td>\n",
       "      <td>82.0</td>\n",
       "      <td>150</td>\n",
       "      <td>100</td>\n",
       "      <td>1</td>\n",
       "      <td>0</td>\n",
       "      <td>0</td>\n",
       "      <td>0</td>\n",
       "      <td>1</td>\n",
       "      <td>1</td>\n",
       "    </tr>\n",
       "    <tr>\n",
       "      <td>4</td>\n",
       "      <td>4</td>\n",
       "      <td>47</td>\n",
       "      <td>0</td>\n",
       "      <td>156</td>\n",
       "      <td>56.0</td>\n",
       "      <td>100</td>\n",
       "      <td>60</td>\n",
       "      <td>1</td>\n",
       "      <td>0</td>\n",
       "      <td>0</td>\n",
       "      <td>0</td>\n",
       "      <td>0</td>\n",
       "      <td>0</td>\n",
       "    </tr>\n",
       "  </tbody>\n",
       "</table>\n",
       "</div>"
      ],
      "text/plain": [
       "   Id  Age  Sex  Height  Weight  SystolicPressure  DiastolicPressure  \\\n",
       "0   0   50    1     168    62.0               110                 80   \n",
       "1   1   55    0     156    85.0               140                 90   \n",
       "2   2   51    0     165    64.0               130                 70   \n",
       "3   3   48    1     169    82.0               150                100   \n",
       "4   4   47    0     156    56.0               100                 60   \n",
       "\n",
       "   Cholesterol Diabetes  Smoker  Alcoholic  ActiveSport  Target  \n",
       "0            1        0       0          0            1       0  \n",
       "1            3        0       0          0            1       1  \n",
       "2            3        0       0          0            0       1  \n",
       "3            1        0       0          0            1       1  \n",
       "4            1        0       0          0            0       0  "
      ]
     },
     "execution_count": 3,
     "metadata": {},
     "output_type": "execute_result"
    }
   ],
   "source": [
    "df_stroke2 = pd.read_csv('stroke_predictorSet2.csv', sep=';')\n",
    "df_stroke2.dropna(inplace=True)\n",
    "original_size2 = df_stroke2.size\n",
    "\n",
    "df_stroke2[df_stroke2.duplicated() == True] #Check for duplicates. There are no duplicates in this case\n",
    "\n",
    "#Set appropiate column names for second dataset, according to the data in df_stroke\n",
    "columns2 = ['Id','Age', 'Sex', 'Height', 'Weight','SystolicPressure', 'DiastolicPressure', 'Cholesterol', 'Diabetes', 'Smoker', 'Alcoholic',\n",
    "           'ActiveSport','Target']\n",
    "df_stroke2.columns=columns2\n",
    "\n",
    "#Age was given in days, transform to years and round to closest integer\n",
    "df_stroke2['Age']=(df_stroke2['Age']/365).astype(int) \n",
    "\n",
    "#Set female to value 0 like in the other datasets\n",
    "df_stroke2.Sex[df_stroke2['Sex'] == 1] = 0\n",
    "#set male to 1 like in the other datasets\n",
    "df_stroke2.Sex[df_stroke2['Sex'] == 2] = 1 \n",
    "\n",
    "#Let´s select the columns common to the other datasets in order to compare them\n",
    "#df_stroke2.drop(axis=1, columns=['Id', 'Height','Weight', 'DiastolicPressure', 'Smoker', 'Alcoholic', 'ActiveSport'], inplace=True)\n",
    "\n",
    "#Caterogize diabetes column in only two catergories, 0 means normal and 1 means above normal or patient with diabetes (>100mg/dl blood sugar)\n",
    "df_stroke2['Diabetes'] = pd.cut(df_stroke2['Diabetes'], bins=[1,2,4],labels=[0,1], right=False)\n",
    "df_stroke2['Diabetes'].astype(int)\n",
    "#Duplicates were created after column segmentation\n",
    "df_stroke2[df_stroke2.duplicated()==True].size\n",
    "#Remove duplicates\n",
    "df_stroke2.drop_duplicates(inplace=True) \n",
    "cleaned_size2 = df_stroke2.size\n",
    "\n",
    "print('Number of lost samples after cleaning stroke_predictorSet2.csv: {:,.0f}%'.format(cleaned_size2/original_size2*100))\n",
    "df_stroke2.head(5)\n",
    "\n"
   ]
  },
  {
   "cell_type": "code",
   "execution_count": 5,
   "metadata": {},
   "outputs": [
    {
     "data": {
      "image/png": "[encoded data removed]",
      "text/plain": [
       "<Figure size 397.305x360 with 1 Axes>"
      ]
     },
     "metadata": {
      "needs_background": "light"
     },
     "output_type": "display_data"
    }
   ],
   "source": [
    "# Plot the target depending on the Age\n",
    "sns.set_context(context = \"paper\") \n",
    "sns.catplot(kind = 'count', data = df_stroke2, x = 'Age', hue = 'Target', order = df_stroke2['Age'].sort_values().unique());\n",
    "plt.title('Variation of Age for each Target');\n",
    "\n",
    "#This behavior makes sense, the older the higher the number of strokes."
   ]
  },
  {
   "cell_type": "markdown",
   "metadata": {},
   "source": [
    "### Third data set analysis and cleaning\n"
   ]
  },
  {
   "cell_type": "code",
   "execution_count": 157,
   "metadata": {},
   "outputs": [
    {
     "name": "stdout",
     "output_type": "stream",
     "text": [
      "Number of lost samples after cleaning stroke_predictoSet3.csv: 23%\n"
     ]
    },
    {
     "data": {
      "text/html": [
       "<div>\n",
       "<style scoped>\n",
       "    .dataframe tbody tr th:only-of-type {\n",
       "        vertical-align: middle;\n",
       "    }\n",
       "\n",
       "    .dataframe tbody tr th {\n",
       "        vertical-align: top;\n",
       "    }\n",
       "\n",
       "    .dataframe thead th {\n",
       "        text-align: right;\n",
       "    }\n",
       "</style>\n",
       "<table border=\"1\" class=\"dataframe\">\n",
       "  <thead>\n",
       "    <tr style=\"text-align: right;\">\n",
       "      <th></th>\n",
       "      <th>Sex</th>\n",
       "      <th>Age</th>\n",
       "      <th>Diabetes</th>\n",
       "      <th>Cholesterol</th>\n",
       "      <th>SystolicPressure</th>\n",
       "    </tr>\n",
       "  </thead>\n",
       "  <tbody>\n",
       "    <tr>\n",
       "      <td>3496</td>\n",
       "      <td>1</td>\n",
       "      <td>53</td>\n",
       "      <td>0</td>\n",
       "      <td>3</td>\n",
       "      <td>172.5</td>\n",
       "    </tr>\n",
       "    <tr>\n",
       "      <td>2461</td>\n",
       "      <td>1</td>\n",
       "      <td>65</td>\n",
       "      <td>0</td>\n",
       "      <td>3</td>\n",
       "      <td>140.0</td>\n",
       "    </tr>\n",
       "    <tr>\n",
       "      <td>264</td>\n",
       "      <td>1</td>\n",
       "      <td>57</td>\n",
       "      <td>0</td>\n",
       "      <td>3</td>\n",
       "      <td>134.0</td>\n",
       "    </tr>\n",
       "    <tr>\n",
       "      <td>4219</td>\n",
       "      <td>1</td>\n",
       "      <td>48</td>\n",
       "      <td>0</td>\n",
       "      <td>3</td>\n",
       "      <td>125.0</td>\n",
       "    </tr>\n",
       "    <tr>\n",
       "      <td>235</td>\n",
       "      <td>0</td>\n",
       "      <td>36</td>\n",
       "      <td>0</td>\n",
       "      <td>2</td>\n",
       "      <td>108.0</td>\n",
       "    </tr>\n",
       "  </tbody>\n",
       "</table>\n",
       "</div>"
      ],
      "text/plain": [
       "      Sex  Age  Diabetes Cholesterol  SystolicPressure\n",
       "3496    1   53         0           3             172.5\n",
       "2461    1   65         0           3             140.0\n",
       "264     1   57         0           3             134.0\n",
       "4219    1   48         0           3             125.0\n",
       "235     0   36         0           2             108.0"
      ]
     },
     "execution_count": 157,
     "metadata": {},
     "output_type": "execute_result"
    }
   ],
   "source": [
    "df_stroke3 = pd.read_csv('stroke_predictoSet3.csv')\n",
    "df_stroke3.dropna(inplace=True)\n",
    "original_size3 = df_stroke3.size\n",
    "\n",
    "#Check for duplicates. There are no duplicates in this case\n",
    "df_stroke3[df_stroke3.duplicated() == True] \n",
    "\n",
    "columns3 = ['Sex', 'Age', 'Education', 'Smoker','CigarretesPerDay', 'BloodPressureMedicines', 'PreviousStroke', 'HyperSentitive', 'Diabetes', 'Cholesterol',\n",
    "           'SystolicPressure','DiastolicPressure','BodyMassIndex','HeartRate','FastingBloodSugar', 'MoreThanTenYearDisease']\n",
    "df_stroke3.columns=columns3\n",
    "\n",
    "df_stroke3.drop(axis=1, columns= ['Education', 'Smoker','CigarretesPerDay', 'BloodPressureMedicines', 'PreviousStroke', 'HyperSentitive','DiastolicPressure','BodyMassIndex','HeartRate', 'FastingBloodSugar', 'MoreThanTenYearDisease'], inplace=True)\n",
    "\n",
    "#Clasify Cholesterol column in three categories. (100-130 normal, 130-160 above normal, more than 160 well above normal)\n",
    "df_stroke3['Cholesterol']=pd.cut(df_stroke3['Cholesterol'], bins=[0,130,160,1000],right=False, labels=[1,2,3])\n",
    "\n",
    "#After removing columns, new duplicates were created. Remove them.\n",
    "df_stroke3[df_stroke3.duplicated() == True].size\n",
    "df_stroke3.drop_duplicates(inplace=True) \n",
    "cleaned_size3 = df_stroke3.size\n",
    "\n",
    "print('Number of lost samples after cleaning stroke_predictoSet3.csv: {:,.0f}%'.format(cleaned_size3/original_size3*100))\n",
    "df_stroke3.sample(5)\n"
   ]
  },
  {
   "cell_type": "markdown",
   "metadata": {},
   "source": [
    "### Machine learning models\n",
    "\n",
    "1. Since df_stroke2 is the largest dataset, we will train models with it. \n",
    "2. Select the best model "
   ]
  },
  {
   "cell_type": "code",
   "execution_count": 19,
   "metadata": {},
   "outputs": [],
   "source": [
    "from sklearn.metrics import mean_absolute_error\n",
    "from sklearn.model_selection import train_test_split\n",
    "\n",
    "# Create target object and call it y\n",
    "y = df_stroke2['Target']\n",
    "# Create X\n",
    "#features = ['Age', 'Sex', 'SystolicPressure', 'Cholesterol', 'Diabetes']\n",
    "features = ['Id','Age', 'Sex', 'Height', 'Weight','SystolicPressure', 'DiastolicPressure', 'Cholesterol', 'Diabetes', 'Smoker', 'Alcoholic',\n",
    "           'ActiveSport']\n",
    "X = df_stroke2[features]\n",
    "\n",
    "# Split into validation and training data\n",
    "train_X, val_X, train_y, val_y = train_test_split(X, y, test_size=0.4, random_state=1)"
   ]
  },
  {
   "cell_type": "markdown",
   "metadata": {},
   "source": [
    "**Decision Tree Regressor**"
   ]
  },
  {
   "cell_type": "code",
   "execution_count": 28,
   "metadata": {},
   "outputs": [
    {
     "name": "stdout",
     "output_type": "stream",
     "text": [
      "Validation MAE: 0.374\n"
     ]
    }
   ],
   "source": [
    "from sklearn.tree import DecisionTreeClassifier\n",
    "\n",
    "# Specify Model\n",
    "stroke_model = DecisionTreeClassifier(random_state=1)\n",
    "# Fit Model\n",
    "stroke_model.fit(train_X, train_y)\n",
    "\n",
    "# Make validation predictions and calculate mean absolute error\n",
    "val_predictions = stroke_model.predict(val_X)\n",
    "val_mae = mean_absolute_error(val_predictions, val_y)\n",
    "print(\"Validation MAE: {:,.3f}\".format(val_mae))\n"
   ]
  },
  {
   "cell_type": "code",
   "execution_count": 29,
   "metadata": {},
   "outputs": [],
   "source": [
    "#We define a function that returns the Mean Absolute error of the decision tree\n",
    "def get_mae_tree(max_leaf_nodes, train_X, val_X, train_y, val_y):\n",
    "    model = DecisionTreeClassifier(max_leaf_nodes=max_leaf_nodes, random_state=0)\n",
    "    model.fit(train_X, train_y)\n",
    "    preds_val = model.predict(val_X)\n",
    "    mae = mean_absolute_error(val_y, preds_val)\n",
    "    return(mae)"
   ]
  },
  {
   "cell_type": "code",
   "execution_count": 30,
   "metadata": {
    "scrolled": true
   },
   "outputs": [
    {
     "data": {
      "text/plain": [
       "<matplotlib.collections.PathCollection at 0x7f4538f322d0>"
      ]
     },
     "execution_count": 30,
     "metadata": {},
     "output_type": "execute_result"
    },
    {
     "data": {
      "image/png": "[encoded data removed]",
      "text/plain": [
       "<Figure size 432x288 with 1 Axes>"
      ]
     },
     "metadata": {
      "needs_background": "light"
     },
     "output_type": "display_data"
    }
   ],
   "source": [
    "#The error in the first approach is quite high. Let us iterate to find the optimal tree parameters\n",
    "\n",
    "candidate_max_leaf_nodes = [5, 25, 50, 100, 250, 500,1000]\n",
    "# Write loop to find the ideal tree size from candidate_max_leaf_nodes\n",
    "mae=[]\n",
    "for x in candidate_max_leaf_nodes:\n",
    "    mae.append(get_mae_tree(x,train_X, val_X, train_y, val_y))\n",
    "\n",
    "# Store the best value of max_leaf_nodes \n",
    "best_tree_size = candidate_max_leaf_nodes[mae.index(min(mae))]\n",
    "\n",
    "#Show the minimum MAE highlighted in red\n",
    "minMae = np.min(mae)\n",
    "mask = np.array(mae) == minMae\n",
    "color = np.where(mask, 'red', 'blue')\n",
    "plt.scatter(candidate_max_leaf_nodes,mae, color=color)\n"
   ]
  },
  {
   "cell_type": "code",
   "execution_count": 34,
   "metadata": {},
   "outputs": [
    {
     "name": "stdout",
     "output_type": "stream",
     "text": [
      "Validation MAE: 0.269 - Best tree size: 100\n"
     ]
    }
   ],
   "source": [
    "#Create optimal tree model\n",
    "final_tree_model = DecisionTreeClassifier(max_leaf_nodes=best_tree_size, random_state=0)\n",
    "\n",
    "# fit the final model with the whole dataset and calculate error\n",
    "final_tree_model.fit(train_X, train_y)\n",
    "val_predictions = final_tree_model.predict(val_X)\n",
    "val_mae = mean_absolute_error(val_predictions, val_y)\n",
    "print(\"Validation MAE: {:,.3f} - Best tree size: {:,.0f}\".format(val_mae,best_tree_size))"
   ]
  },
  {
   "cell_type": "code",
   "execution_count": 35,
   "metadata": {},
   "outputs": [
    {
     "data": {
      "text/plain": [
       "0.7307142857142858"
      ]
     },
     "execution_count": 35,
     "metadata": {},
     "output_type": "execute_result"
    }
   ],
   "source": [
    "final_tree_model.score(val_X,val_y)"
   ]
  },
  {
   "cell_type": "code",
   "execution_count": 36,
   "metadata": {},
   "outputs": [
    {
     "name": "stdout",
     "output_type": "stream",
     "text": [
      "[[10420  3379]\n",
      " [ 4161 10040]]\n",
      "              precision    recall  f1-score   support\n",
      "\n",
      "           0       0.71      0.76      0.73     13799\n",
      "           1       0.75      0.71      0.73     14201\n",
      "\n",
      "    accuracy                           0.73     28000\n",
      "   macro avg       0.73      0.73      0.73     28000\n",
      "weighted avg       0.73      0.73      0.73     28000\n",
      "\n"
     ]
    }
   ],
   "source": [
    "print(confusion_matrix(val_y,val_predictions))\n",
    "print(classification_report(val_y,val_predictions))"
   ]
  },
  {
   "cell_type": "code",
   "execution_count": 37,
   "metadata": {},
   "outputs": [
    {
     "data": {
      "text/plain": [
       "array([0.73265087, 0.72991311, 0.73297619, 0.73103941, 0.72901536])"
      ]
     },
     "execution_count": 37,
     "metadata": {},
     "output_type": "execute_result"
    }
   ],
   "source": [
    "#Also check the model with cross validation\n",
    "cross_val_score(final_tree_model, train_X, train_y, cv=5)"
   ]
  },
  {
   "cell_type": "markdown",
   "metadata": {},
   "source": [
    "**Random Forest**"
   ]
  },
  {
   "cell_type": "code",
   "execution_count": 20,
   "metadata": {},
   "outputs": [
    {
     "name": "stdout",
     "output_type": "stream",
     "text": [
      "Validation MAE for Random Forest Model: 0.29828571428571427\n"
     ]
    }
   ],
   "source": [
    "from sklearn.ensemble import RandomForestClassifier\n",
    "\n",
    "# Define the model. Set random_state to 1\n",
    "rf_model = RandomForestClassifier(random_state=1)\n",
    "\n",
    "# fit the model\n",
    "rf_model.fit(train_X,train_y)\n",
    "\n",
    "# Calculate the mean absolute error of your Random Forest model on the validation data\n",
    "predict_y=rf_model.predict(val_X)\n",
    "rf_val_mae = mean_absolute_error(val_y,predict_y)\n",
    "\n",
    "print(\"Validation MAE for Random Forest Model: {}\".format(rf_val_mae))\n"
   ]
  },
  {
   "cell_type": "code",
   "execution_count": 21,
   "metadata": {},
   "outputs": [],
   "source": [
    "#We define a function that returns the Mean Absolute error of the Random Forest. We will check for this purpose\n",
    "# two parameters of the Random Forest regressor, the depth and the leaf nodes\n",
    "def get_mae_forest(max_depth, max_leaf_nodes, train_X, val_X, train_y, val_y):\n",
    "    model = RandomForestClassifier(max_depth=max_depth, max_leaf_nodes=max_leaf_nodes, random_state=0)\n",
    "    model.fit(train_X, train_y)\n",
    "    preds_val = model.predict(val_X)\n",
    "    mae = mean_absolute_error(val_y, preds_val)\n",
    "    return(mae)"
   ]
  },
  {
   "cell_type": "code",
   "execution_count": 22,
   "metadata": {},
   "outputs": [
    {
     "data": {
      "image/png": "[encoded data removed]",
      "text/plain": [
       "<Figure size 432x288 with 1 Axes>"
      ]
     },
     "metadata": {
      "needs_background": "light"
     },
     "output_type": "display_data"
    }
   ],
   "source": [
    "#The error in the first approach is quite high. Let us iterate to find the optimal tree parameters\n",
    "\n",
    "step_leaf_nodes = 50\n",
    "step_depth = 5\n",
    "candidate_max_leaf_nodes = np.arange(10,(step_leaf_nodes*7)+10,step_leaf_nodes)\n",
    "candidate_max_depth = np.arange(10,(step_depth*7)+10,step_depth)\n",
    "\n",
    "# Write loop to find the ideal tree size from candidate_max_leaf_nodes and max_depth\n",
    "mae=[]\n",
    "depth_points=[]\n",
    "leaf_points=[]\n",
    "min_mae=1\n",
    "for i, x  in enumerate(candidate_max_depth):\n",
    "    for j, y  in enumerate(candidate_max_leaf_nodes):\n",
    "        depth_points.append(candidate_max_depth[i])\n",
    "        leaf_points.append(candidate_max_leaf_nodes[j])\n",
    "        mae.append(get_mae_forest(x, y, train_X, val_X, train_y, val_y))\n",
    "        if min(mae) < min_mae:\n",
    "            min_mae = min(mae)\n",
    "            # Store the best value of max_leaf_nodes and tree size\n",
    "            best_depth = candidate_max_depth[i]\n",
    "            best_tree_size = candidate_max_leaf_nodes[j]\n",
    "\n",
    "#Show the minimum MAE highlighted in red and plot in 3D the MAE corresponding to the leaf nodes and depth fo the Random Forest\n",
    "minMae = np.min(mae)\n",
    "mask = np.array(mae) == minMae\n",
    "color = np.where(mask, 'red', 'blue')\n",
    "fig = plt.figure()\n",
    "ax = plt.axes(projection='3d')\n",
    "ax.scatter3D(depth_points,leaf_points ,mae, color=color);\n",
    "ax.set_title('Mae for RandomForest');\n",
    "ax.set_xlabel('Forest depth');\n",
    "ax.set_ylabel('Leaf nodes');\n",
    "#ax.set_zlim(zmin= 0.2, zmax=0.5)"
   ]
  },
  {
   "cell_type": "code",
   "execution_count": 23,
   "metadata": {},
   "outputs": [
    {
     "name": "stdout",
     "output_type": "stream",
     "text": [
      "Validation MAE: 0.26679 - Best depth: 15 - Best tree size: 110\n"
     ]
    }
   ],
   "source": [
    "#Create optimal random forest model\n",
    "final_forest_model = RandomForestClassifier(max_depth=best_depth, max_leaf_nodes=best_tree_size, random_state=0)\n",
    "\n",
    "# fit the final model with the whole dataset and calculate error\n",
    "final_forest_model.fit(train_X, train_y)\n",
    "val_predictions = final_forest_model.predict(val_X)\n",
    "val_mae = mean_absolute_error(val_predictions, val_y)\n",
    "print(\"Validation MAE: {:,.5f} - Best depth: {:,.0f} - Best tree size: {:,.0f}\".format(val_mae, best_depth,best_tree_size))"
   ]
  },
  {
   "cell_type": "code",
   "execution_count": 24,
   "metadata": {},
   "outputs": [
    {
     "name": "stdout",
     "output_type": "stream",
     "text": [
      "[[10974  2825]\n",
      " [ 4645  9556]]\n",
      "              precision    recall  f1-score   support\n",
      "\n",
      "           0       0.70      0.80      0.75     13799\n",
      "           1       0.77      0.67      0.72     14201\n",
      "\n",
      "    accuracy                           0.73     28000\n",
      "   macro avg       0.74      0.73      0.73     28000\n",
      "weighted avg       0.74      0.73      0.73     28000\n",
      "\n"
     ]
    }
   ],
   "source": [
    "print(confusion_matrix(val_y,val_predictions))\n",
    "print(classification_report(val_y,val_predictions))"
   ]
  },
  {
   "cell_type": "code",
   "execution_count": 27,
   "metadata": {},
   "outputs": [
    {
     "data": {
      "text/plain": [
       "array([0.73657898, 0.73455541, 0.73369048, 0.73282534, 0.73223003])"
      ]
     },
     "execution_count": 27,
     "metadata": {},
     "output_type": "execute_result"
    }
   ],
   "source": [
    "#Also check the model with cross validation\n",
    "cross_val_score(final_forest_model, train_X, train_y, cv=5)"
   ]
  },
  {
   "cell_type": "markdown",
   "metadata": {},
   "source": [
    "### Logistic regression"
   ]
  },
  {
   "cell_type": "code",
   "execution_count": 5,
   "metadata": {},
   "outputs": [
    {
     "name": "stdout",
     "output_type": "stream",
     "text": [
      "Validation MAE: 0.291\n"
     ]
    }
   ],
   "source": [
    "from sklearn.linear_model import LogisticRegression\n",
    "log = LogisticRegression()\n",
    "log.fit(train_X, train_y)\n",
    "\n",
    "# Predicting the Test set results\n",
    "val_predictions = log.predict(val_X)\n",
    "\n",
    "val_mae = mean_absolute_error(val_predictions, val_y)\n",
    "print(\"Validation MAE: {:,.3f}\".format(val_mae))"
   ]
  },
  {
   "cell_type": "code",
   "execution_count": 7,
   "metadata": {},
   "outputs": [
    {
     "data": {
      "text/plain": [
       "Text(0.5, 1.0, 'ROC Curve')"
      ]
     },
     "execution_count": 7,
     "metadata": {},
     "output_type": "execute_result"
    },
    {
     "data": {
      "image/png": "[encoded data removed]",
      "text/plain": [
       "<Figure size 432x288 with 1 Axes>"
      ]
     },
     "metadata": {
      "needs_background": "light"
     },
     "output_type": "display_data"
    }
   ],
   "source": [
    "from sklearn.metrics import roc_curve\n",
    "from sklearn.metrics import roc_auc_score\n",
    "\n",
    "# Compute predicted probabilities: y_pred_prob\n",
    "y_pred_prob = log.predict_proba(val_X)[:,1]\n",
    "\n",
    "# Generate ROC curve values: fpr, tpr, thresholds\n",
    "fpr, tpr, thresholds = roc_curve(val_y, y_pred_prob)\n",
    "\n",
    "# Plot ROC curve\n",
    "plt.plot([0, 1], [0, 1], 'k--')\n",
    "plt.plot(fpr, tpr)\n",
    "plt.xlabel('False Positive Rate')\n",
    "plt.ylabel('True Positive Rate')\n",
    "plt.title('ROC Curve')"
   ]
  },
  {
   "cell_type": "code",
   "execution_count": 8,
   "metadata": {},
   "outputs": [
    {
     "data": {
      "text/plain": [
       "0.7720670422478257"
      ]
     },
     "execution_count": 8,
     "metadata": {},
     "output_type": "execute_result"
    }
   ],
   "source": [
    "#We compute the area under the ROC\n",
    "roc_auc_score(val_y, y_pred_prob)"
   ]
  },
  {
   "cell_type": "code",
   "execution_count": 9,
   "metadata": {},
   "outputs": [
    {
     "data": {
      "text/plain": [
       "array([0.77755714, 0.78756848, 0.78412183, 0.79119275, 0.77978314])"
      ]
     },
     "execution_count": 9,
     "metadata": {},
     "output_type": "execute_result"
    }
   ],
   "source": [
    "#Also check the model with cross validation\n",
    "cross_val_score(log, X, y, cv=5, scoring='roc_auc')"
   ]
  },
  {
   "cell_type": "markdown",
   "metadata": {},
   "source": [
    "### K-Neighbors"
   ]
  },
  {
   "cell_type": "code",
   "execution_count": 56,
   "metadata": {},
   "outputs": [
    {
     "name": "stdout",
     "output_type": "stream",
     "text": [
      "Validation MAE: 0.376\n"
     ]
    }
   ],
   "source": [
    "from sklearn.neighbors import KNeighborsClassifier\n",
    "knn = KNeighborsClassifier(n_neighbors=3)\n",
    "\n",
    "knn.fit(train_X,train_y)\n",
    "\n",
    "# Predicting the Test set results\n",
    "val_predictions = knn.predict(val_X)\n",
    "\n",
    "val_mae = mean_absolute_error(val_predictions, val_y)\n",
    "print(\"Validation MAE: {:,.3f}\".format(val_mae))"
   ]
  },
  {
   "cell_type": "code",
   "execution_count": 62,
   "metadata": {},
   "outputs": [
    {
     "data": {
      "image/png": "[encoded data removed]",
      "text/plain": [
       "<Figure size 432x288 with 1 Axes>"
      ]
     },
     "metadata": {
      "needs_background": "light"
     },
     "output_type": "display_data"
    }
   ],
   "source": [
    "neighbors = np.arange(2, 10)\n",
    "train_accuracy = []\n",
    "test_accuracy = []\n",
    "\n",
    "# Loop over different values of k\n",
    "for i, k in enumerate(neighbors):\n",
    "    # Setup a k-NN Classifier with k neighbors\n",
    "    knn = KNeighborsClassifier(n_neighbors=k)\n",
    "    # Fit the classifier to the training data\n",
    "    knn.fit(train_X,train_y)    \n",
    "    #Compute accuracy on the training set\n",
    "    train_accuracy.append(knn.score(train_X, train_y))\n",
    "    #Compute accuracy on the testing set\n",
    "    test_accuracy.append(knn.score(val_X, val_y))\n",
    "    \n",
    "\n",
    "#Store the best number of neighbors\n",
    "best_neighbors = neighbors[train_accuracy.index(max(train_accuracy))]\n",
    "\n",
    "# Generate plot\n",
    "plt.title('k-NN: Varying Number of Neighbors');\n",
    "plt.plot(neighbors, test_accuracy, label = 'Testing Accuracy');\n",
    "plt.plot(neighbors, train_accuracy, label = 'Training Accuracy');\n",
    "plt.legend()\n",
    "plt.xlabel('Number of Neighbors');\n",
    "plt.ylabel('Accuracy');"
   ]
  },
  {
   "cell_type": "code",
   "execution_count": 63,
   "metadata": {},
   "outputs": [
    {
     "name": "stdout",
     "output_type": "stream",
     "text": [
      "Validation MAE: 0.37575 - Best number of neighbors: 3\n"
     ]
    }
   ],
   "source": [
    "#Create optimal random forest model\n",
    "final_neighbor_model = KNeighborsClassifier(n_neighbors=best_neighbors)\n",
    "\n",
    "# fit the final model with the whole dataset and calculate error\n",
    "final_neighbor_model.fit(train_X, train_y)\n",
    "val_predictions = final_neighbor_model.predict(val_X)\n",
    "val_mae = mean_absolute_error(val_predictions, val_y)\n",
    "print(\"Validation MAE: {:,.5f} - Best number of neighbors: {:,.0f}\".format(val_mae, best_neighbors))"
   ]
  },
  {
   "cell_type": "code",
   "execution_count": 65,
   "metadata": {},
   "outputs": [
    {
     "data": {
      "text/plain": [
       "array([0.61825973, 0.61397453, 0.61821429, 0.61971663, 0.62412192])"
      ]
     },
     "execution_count": 65,
     "metadata": {},
     "output_type": "execute_result"
    }
   ],
   "source": [
    "#Also check the model with cross validation\n",
    "cross_val_score(final_neighbor_model, train_X, train_y, cv=5)"
   ]
  },
  {
   "cell_type": "markdown",
   "metadata": {},
   "source": [
    "### Light GBM"
   ]
  },
  {
   "cell_type": "code",
   "execution_count": 108,
   "metadata": {},
   "outputs": [
    {
     "name": "stdout",
     "output_type": "stream",
     "text": [
      "Validation MAE: 0.359\n"
     ]
    }
   ],
   "source": [
    "import lightgbm as lgb\n",
    "\n",
    "d_train = lgb.Dataset(train_X, label = train_y)\n",
    "params = {}\n",
    "\n",
    "clf = lgb.train(params, d_train, 100)\n",
    "#Prediction\n",
    "val_predictions = clf.predict(val_X)\n",
    "\n",
    "val_mae = mean_absolute_error(val_predictions, val_y)\n",
    "print(\"Validation MAE: {:,.3f}\".format(val_mae))"
   ]
  },
  {
   "cell_type": "markdown",
   "metadata": {},
   "source": [
    "### Support Vector Machine (SVC)"
   ]
  },
  {
   "cell_type": "code",
   "execution_count": null,
   "metadata": {},
   "outputs": [],
   "source": [
    "\n",
    "'''from sklearn.preprocessing import StandardScaler as ss\n",
    "sc = ss()\n",
    "X_train = sc.fit_transform(train_X)\n",
    "X_test = sc.transform(val_X)'''\n",
    "\n",
    "from sklearn.svm import SVC\n",
    "classifier = SVC(kernel = 'rbf')\n",
    "classifier.fit(train_X, train_y)\n",
    "\n",
    "# Predicting the Test set results\n",
    "val_predictions = classifier.predict(val_X)\n",
    "\n",
    "val_mae = mean_absolute_error(val_predictions, val_y)\n",
    "print(\"Validation MAE: {:,.3f}\".format(val_mae))\n"
   ]
  },
  {
   "cell_type": "markdown",
   "metadata": {},
   "source": [
    "### Naive Bayes"
   ]
  },
  {
   "cell_type": "code",
   "execution_count": 12,
   "metadata": {},
   "outputs": [
    {
     "name": "stdout",
     "output_type": "stream",
     "text": [
      "Validation MAE: 0.463\n"
     ]
    }
   ],
   "source": [
    "\n",
    "from sklearn.naive_bayes import GaussianNB\n",
    "gaussModel = GaussianNB()\n",
    "gaussModel.fit(train_X, train_y)\n",
    "\n",
    "# Predicting the Test set results\n",
    "val_predictions = gaussModel.predict(val_X)\n",
    "\n",
    "val_mae = mean_absolute_error(val_predictions, val_y)\n",
    "print(\"Validation MAE: {:,.3f}\".format(val_mae))\n"
   ]
  },
  {
   "cell_type": "markdown",
   "metadata": {},
   "source": [
    "### XGBoost model"
   ]
  },
  {
   "cell_type": "code",
   "execution_count": 23,
   "metadata": {},
   "outputs": [],
   "source": [
    "import xgboost as xgb\n",
    "from xgboost import XGBRegressor\n",
    "\n",
    "features = ['Id','Age', 'Sex', 'Height', 'Weight','SystolicPressure', 'DiastolicPressure', 'Cholesterol', 'Smoker', 'Alcoholic',\n",
    "           'ActiveSport']\n",
    "X = df_stroke2[features]\n",
    "\n",
    "# Split into validation and training data\n",
    "train_X, val_X, train_y, val_y = train_test_split(X, y, random_state=1)"
   ]
  },
  {
   "cell_type": "code",
   "execution_count": 26,
   "metadata": {
    "scrolled": true
   },
   "outputs": [
    {
     "name": "stdout",
     "output_type": "stream",
     "text": [
      "[19:59:43] WARNING: src/objective/regression_obj.cu:152: reg:linear is now deprecated in favor of reg:squarederror.\n"
     ]
    },
    {
     "data": {
      "text/plain": [
       "XGBRegressor(base_score=0.5, booster='gbtree', colsample_bylevel=1,\n",
       "             colsample_bynode=1, colsample_bytree=1, gamma=0,\n",
       "             importance_type='gain', learning_rate=0.1, max_delta_step=0,\n",
       "             max_depth=3, min_child_weight=1, missing=None, n_estimators=1000,\n",
       "             n_jobs=1, nthread=None, objective='reg:linear', random_state=0,\n",
       "             reg_alpha=0, reg_lambda=1, scale_pos_weight=1, seed=None,\n",
       "             silent=None, subsample=1, verbosity=1)"
      ]
     },
     "execution_count": 26,
     "metadata": {},
     "output_type": "execute_result"
    }
   ],
   "source": [
    "xgbModel = XGBRegressor(random_state=0, n_estimators=1000, learning_rate=0.1)\n",
    "\n",
    "xgbModel.fit(train_X,train_y)"
   ]
  },
  {
   "cell_type": "code",
   "execution_count": 27,
   "metadata": {},
   "outputs": [
    {
     "name": "stdout",
     "output_type": "stream",
     "text": [
      "Validation MAE: 0.361\n"
     ]
    }
   ],
   "source": [
    "val_predictions = xgbModel.predict(val_X)\n",
    "val_mae = mean_absolute_error(val_predictions, val_y)\n",
    "print(\"Validation MAE: {:,.3f}\".format(val_mae))"
   ]
  },
  {
   "cell_type": "code",
   "execution_count": null,
   "metadata": {},
   "outputs": [],
   "source": []
  }
 ],
 "metadata": {
  "kernelspec": {
   "display_name": "Python 3",
   "language": "python",
   "name": "python3"
  },
  "language_info": {
   "codemirror_mode": {
    "name": "ipython",
    "version": 3
   },
   "file_extension": ".py",
   "mimetype": "text/x-python",
   "name": "python",
   "nbconvert_exporter": "python",
   "pygments_lexer": "ipython3",
   "version": "3.7.4"
  }
 },
 "nbformat": 4,
 "nbformat_minor": 2
}
