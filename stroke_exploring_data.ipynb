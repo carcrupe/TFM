{
 "cells": [
  {
   "cell_type": "markdown",
   "metadata": {},
   "source": [
    "### Project - Predict heart attack based on phisiological and physical parameters of the patient"
   ]
  },
  {
   "cell_type": "markdown",
   "metadata": {},
   "source": [
    "https://www.kaggle.com/sulianova/cardiovascular-disease-dataset"
   ]
  },
  {
   "cell_type": "markdown",
   "metadata": {},
   "source": [
    "### Action plan"
   ]
  },
  {
   "cell_type": "markdown",
   "metadata": {},
   "source": [
    "1. Read, explore and clean the dataset\n",
    "2. Plot main relations between variables to better understand the behaviour of the data.\n",
    "3. Save organized data for posterior machine learning modeling"
   ]
  },
  {
   "cell_type": "code",
   "execution_count": 1,
   "metadata": {},
   "outputs": [],
   "source": [
    "import pandas as pd\n",
    "import numpy as np\n",
    "import matplotlib.pyplot as plt\n",
    "import seaborn as sns\n",
    "%matplotlib inline"
   ]
  },
  {
   "cell_type": "code",
   "execution_count": 2,
   "metadata": {},
   "outputs": [],
   "source": [
    "import warnings\n",
    "warnings.filterwarnings('ignore')"
   ]
  },
  {
   "cell_type": "markdown",
   "metadata": {},
   "source": [
    "### Dataset analysis and cleaning\n",
    "1. Age | Objective Feature | age | int (days)\n",
    "2. Height | Objective Feature | height | int (cm) |\n",
    "3. Weight | Objective Feature | weight | float (kg) |\n",
    "4. Gender | Objective Feature | gender | categorical code | 1 woman, 2 man\n",
    "5. Systolic blood pressure | Examination Feature | ap_hi | int |\n",
    "6. Diastolic blood pressure | Examination Feature | ap_lo | int |\n",
    "7. Cholesterol | Examination Feature | cholesterol | 1: normal, 2: above normal, 3: well above normal |\n",
    "8. Glucose | Examination Feature | gluc | 1: normal, 2: above normal, 3: well above normal |\n",
    "9. Smoking | Subjective Feature | smoke | binary |\n",
    "10. Alcohol intake | Subjective Feature | alco | binary |\n",
    "11. Physical activity | Subjective Feature | active | binary |\n",
    "12. Presence or absence of cardiovascular disease | Target Variable | cardio | binary |"
   ]
  },
  {
   "cell_type": "code",
   "execution_count": 3,
   "metadata": {},
   "outputs": [
    {
     "data": {
      "text/plain": [
       "910000"
      ]
     },
     "execution_count": 3,
     "metadata": {},
     "output_type": "execute_result"
    }
   ],
   "source": [
    "df_stroke = pd.read_csv('heart_parameters_data.csv', sep=';')\n",
    "df_stroke.dropna(inplace=True)\n",
    "original_size = df_stroke.size\n",
    "original_size"
   ]
  },
  {
   "cell_type": "code",
   "execution_count": 4,
   "metadata": {},
   "outputs": [],
   "source": [
    "#Set appropiate column names for second dataset, according to the data in df_stroke\n",
    "columns = ['Id','Age', 'Sex', 'Height', 'Weight','SystolicPressure', 'DiastolicPressure', 'Cholesterol', 'Diabetes', 'Smoker', 'Alcoholic',\n",
    "           'ActiveSport','Target']\n",
    "df_stroke.columns=columns\n",
    "\n",
    "#Age was given in days, transform to years and round to closest integer\n",
    "df_stroke['Age']=(df_stroke['Age']/365).astype(int) \n",
    "\n",
    "df_stroke.drop(axis=1, columns=['Id'], inplace=True)"
   ]
  },
  {
   "cell_type": "code",
   "execution_count": 5,
   "metadata": {},
   "outputs": [
    {
     "data": {
      "text/plain": [
       "38496"
      ]
     },
     "execution_count": 5,
     "metadata": {},
     "output_type": "execute_result"
    }
   ],
   "source": [
    "df_stroke[df_stroke.duplicated()==True].size"
   ]
  },
  {
   "cell_type": "code",
   "execution_count": 6,
   "metadata": {},
   "outputs": [
    {
     "data": {
      "text/plain": [
       "801504"
      ]
     },
     "execution_count": 6,
     "metadata": {},
     "output_type": "execute_result"
    }
   ],
   "source": [
    "df_stroke.drop_duplicates(inplace=True) \n",
    "cleaned_size = df_stroke.size\n",
    "cleaned_size"
   ]
  },
  {
   "cell_type": "code",
   "execution_count": 14,
   "metadata": {},
   "outputs": [
    {
     "name": "stdout",
     "output_type": "stream",
     "text": [
      "Number of lost samples after cleaning stroke_predictorSet.csv: 12%\n"
     ]
    },
    {
     "data": {
      "text/html": [
       "<div>\n",
       "<style scoped>\n",
       "    .dataframe tbody tr th:only-of-type {\n",
       "        vertical-align: middle;\n",
       "    }\n",
       "\n",
       "    .dataframe tbody tr th {\n",
       "        vertical-align: top;\n",
       "    }\n",
       "\n",
       "    .dataframe thead th {\n",
       "        text-align: right;\n",
       "    }\n",
       "</style>\n",
       "<table border=\"1\" class=\"dataframe\">\n",
       "  <thead>\n",
       "    <tr style=\"text-align: right;\">\n",
       "      <th></th>\n",
       "      <th>Age</th>\n",
       "      <th>Sex</th>\n",
       "      <th>Height</th>\n",
       "      <th>Weight</th>\n",
       "      <th>SystolicPressure</th>\n",
       "      <th>DiastolicPressure</th>\n",
       "      <th>Cholesterol</th>\n",
       "      <th>Diabetes</th>\n",
       "      <th>Smoker</th>\n",
       "      <th>Alcoholic</th>\n",
       "      <th>ActiveSport</th>\n",
       "      <th>Target</th>\n",
       "    </tr>\n",
       "  </thead>\n",
       "  <tbody>\n",
       "    <tr>\n",
       "      <td>0</td>\n",
       "      <td>50</td>\n",
       "      <td>2</td>\n",
       "      <td>168</td>\n",
       "      <td>62.0</td>\n",
       "      <td>110</td>\n",
       "      <td>80</td>\n",
       "      <td>1</td>\n",
       "      <td>1</td>\n",
       "      <td>0</td>\n",
       "      <td>0</td>\n",
       "      <td>1</td>\n",
       "      <td>0</td>\n",
       "    </tr>\n",
       "    <tr>\n",
       "      <td>1</td>\n",
       "      <td>55</td>\n",
       "      <td>1</td>\n",
       "      <td>156</td>\n",
       "      <td>85.0</td>\n",
       "      <td>140</td>\n",
       "      <td>90</td>\n",
       "      <td>3</td>\n",
       "      <td>1</td>\n",
       "      <td>0</td>\n",
       "      <td>0</td>\n",
       "      <td>1</td>\n",
       "      <td>1</td>\n",
       "    </tr>\n",
       "    <tr>\n",
       "      <td>2</td>\n",
       "      <td>51</td>\n",
       "      <td>1</td>\n",
       "      <td>165</td>\n",
       "      <td>64.0</td>\n",
       "      <td>130</td>\n",
       "      <td>70</td>\n",
       "      <td>3</td>\n",
       "      <td>1</td>\n",
       "      <td>0</td>\n",
       "      <td>0</td>\n",
       "      <td>0</td>\n",
       "      <td>1</td>\n",
       "    </tr>\n",
       "    <tr>\n",
       "      <td>3</td>\n",
       "      <td>48</td>\n",
       "      <td>2</td>\n",
       "      <td>169</td>\n",
       "      <td>82.0</td>\n",
       "      <td>150</td>\n",
       "      <td>100</td>\n",
       "      <td>1</td>\n",
       "      <td>1</td>\n",
       "      <td>0</td>\n",
       "      <td>0</td>\n",
       "      <td>1</td>\n",
       "      <td>1</td>\n",
       "    </tr>\n",
       "    <tr>\n",
       "      <td>4</td>\n",
       "      <td>47</td>\n",
       "      <td>1</td>\n",
       "      <td>156</td>\n",
       "      <td>56.0</td>\n",
       "      <td>100</td>\n",
       "      <td>60</td>\n",
       "      <td>1</td>\n",
       "      <td>1</td>\n",
       "      <td>0</td>\n",
       "      <td>0</td>\n",
       "      <td>0</td>\n",
       "      <td>0</td>\n",
       "    </tr>\n",
       "  </tbody>\n",
       "</table>\n",
       "</div>"
      ],
      "text/plain": [
       "   Age  Sex  Height  Weight  SystolicPressure  DiastolicPressure  Cholesterol  \\\n",
       "0   50    2     168    62.0               110                 80            1   \n",
       "1   55    1     156    85.0               140                 90            3   \n",
       "2   51    1     165    64.0               130                 70            3   \n",
       "3   48    2     169    82.0               150                100            1   \n",
       "4   47    1     156    56.0               100                 60            1   \n",
       "\n",
       "   Diabetes  Smoker  Alcoholic  ActiveSport  Target  \n",
       "0         1       0          0            1       0  \n",
       "1         1       0          0            1       1  \n",
       "2         1       0          0            0       1  \n",
       "3         1       0          0            1       1  \n",
       "4         1       0          0            0       0  "
      ]
     },
     "execution_count": 14,
     "metadata": {},
     "output_type": "execute_result"
    }
   ],
   "source": [
    "\n",
    "#Caterogize diabetes column in only two catergories, 0 means normal and 1 means above normal or patient with diabetes (>100mg/dl blood sugar)\n",
    "#df_stroke['Diabetes'] = pd.cut(df_stroke['Diabetes'], bins=[1,2,4],labels=[0,1], right=False)\n",
    "#df_stroke['Diabetes'].astype(int)\n",
    "\n",
    "print('Number of lost samples after cleaning stroke_predictorSet.csv: {:,.0f}%'.format((1- cleaned_size/original_size)*100))\n",
    "df_stroke.head(5)\n"
   ]
  },
  {
   "cell_type": "code",
   "execution_count": 8,
   "metadata": {},
   "outputs": [],
   "source": [
    "target = df_stroke.groupby(['Target'])"
   ]
  },
  {
   "cell_type": "code",
   "execution_count": 9,
   "metadata": {},
   "outputs": [
    {
     "data": {
      "text/html": [
       "<div>\n",
       "<style scoped>\n",
       "    .dataframe tbody tr th:only-of-type {\n",
       "        vertical-align: middle;\n",
       "    }\n",
       "\n",
       "    .dataframe tbody tr th {\n",
       "        vertical-align: top;\n",
       "    }\n",
       "\n",
       "    .dataframe thead th {\n",
       "        text-align: right;\n",
       "    }\n",
       "</style>\n",
       "<table border=\"1\" class=\"dataframe\">\n",
       "  <thead>\n",
       "    <tr style=\"text-align: right;\">\n",
       "      <th></th>\n",
       "      <th>Age</th>\n",
       "      <th>Sex</th>\n",
       "      <th>Height</th>\n",
       "      <th>Weight</th>\n",
       "      <th>SystolicPressure</th>\n",
       "      <th>DiastolicPressure</th>\n",
       "      <th>Cholesterol</th>\n",
       "      <th>Diabetes</th>\n",
       "      <th>Smoker</th>\n",
       "      <th>Alcoholic</th>\n",
       "      <th>ActiveSport</th>\n",
       "    </tr>\n",
       "    <tr>\n",
       "      <th>Target</th>\n",
       "      <th></th>\n",
       "      <th></th>\n",
       "      <th></th>\n",
       "      <th></th>\n",
       "      <th></th>\n",
       "      <th></th>\n",
       "      <th></th>\n",
       "      <th></th>\n",
       "      <th></th>\n",
       "      <th></th>\n",
       "      <th></th>\n",
       "    </tr>\n",
       "  </thead>\n",
       "  <tbody>\n",
       "    <tr>\n",
       "      <td>0</td>\n",
       "      <td>51.220191</td>\n",
       "      <td>1.355471</td>\n",
       "      <td>164.424123</td>\n",
       "      <td>71.901184</td>\n",
       "      <td>120.528728</td>\n",
       "      <td>84.634743</td>\n",
       "      <td>1.231479</td>\n",
       "      <td>1.187429</td>\n",
       "      <td>0.098960</td>\n",
       "      <td>0.059419</td>\n",
       "      <td>0.810025</td>\n",
       "    </tr>\n",
       "    <tr>\n",
       "      <td>1</td>\n",
       "      <td>54.422835</td>\n",
       "      <td>1.356915</td>\n",
       "      <td>164.263212</td>\n",
       "      <td>77.018998</td>\n",
       "      <td>137.528734</td>\n",
       "      <td>109.660457</td>\n",
       "      <td>1.526921</td>\n",
       "      <td>1.282514</td>\n",
       "      <td>0.085632</td>\n",
       "      <td>0.053315</td>\n",
       "      <td>0.787588</td>\n",
       "    </tr>\n",
       "  </tbody>\n",
       "</table>\n",
       "</div>"
      ],
      "text/plain": [
       "              Age       Sex      Height     Weight  SystolicPressure  \\\n",
       "Target                                                                 \n",
       "0       51.220191  1.355471  164.424123  71.901184        120.528728   \n",
       "1       54.422835  1.356915  164.263212  77.018998        137.528734   \n",
       "\n",
       "        DiastolicPressure  Cholesterol  Diabetes    Smoker  Alcoholic  \\\n",
       "Target                                                                  \n",
       "0               84.634743     1.231479  1.187429  0.098960   0.059419   \n",
       "1              109.660457     1.526921  1.282514  0.085632   0.053315   \n",
       "\n",
       "        ActiveSport  \n",
       "Target               \n",
       "0          0.810025  \n",
       "1          0.787588  "
      ]
     },
     "execution_count": 9,
     "metadata": {},
     "output_type": "execute_result"
    }
   ],
   "source": [
    "#We see that there are three parameters which are quite higher when there is a stroke - SystolicPressure, DiastolicPressure \n",
    "# and Cholesterol\n",
    "target.mean()"
   ]
  },
  {
   "cell_type": "code",
   "execution_count": 10,
   "metadata": {
    "scrolled": true
   },
   "outputs": [
    {
     "data": {
      "text/plain": [
       "<matplotlib.axes._subplots.AxesSubplot at 0x7f4bfea2d050>"
      ]
     },
     "execution_count": 10,
     "metadata": {},
     "output_type": "execute_result"
    },
    {
     "data": {
      "image/png": "[encoded data removed]",
      "text/plain": [
       "<Figure size 432x288 with 2 Axes>"
      ]
     },
     "metadata": {
      "needs_background": "light"
     },
     "output_type": "display_data"
    }
   ],
   "source": [
    "sns.heatmap(df_stroke.corr(), cmap='coolwarm', center=0,vmin=-1, vmax=1)"
   ]
  },
  {
   "cell_type": "code",
   "execution_count": 11,
   "metadata": {},
   "outputs": [
    {
     "data": {
      "image/png": "[encoded data removed]",
      "text/plain": [
       "<Figure size 402.375x360 with 1 Axes>"
      ]
     },
     "metadata": {
      "needs_background": "light"
     },
     "output_type": "display_data"
    }
   ],
   "source": [
    "#We see that the target is mainly correlated to Cholesterol, Weigth and Age\n",
    "sns.catplot(kind = 'count', data = df_stroke, x = 'Cholesterol', hue = 'Target');"
   ]
  },
  {
   "cell_type": "code",
   "execution_count": 12,
   "metadata": {},
   "outputs": [
    {
     "data": {
      "text/plain": [
       "<matplotlib.axes._subplots.AxesSubplot at 0x7f4bfe86cad0>"
      ]
     },
     "execution_count": 12,
     "metadata": {},
     "output_type": "execute_result"
    },
    {
     "data": {
      "image/png": "[encoded data removed]",
      "text/plain": [
       "<Figure size 432x288 with 1 Axes>"
      ]
     },
     "metadata": {
      "needs_background": "light"
     },
     "output_type": "display_data"
    }
   ],
   "source": [
    "sns.boxplot(x='Target',y='Weight',data=df_stroke)"
   ]
  },
  {
   "cell_type": "code",
   "execution_count": 13,
   "metadata": {},
   "outputs": [
    {
     "data": {
      "image/png": "[encoded data removed]",
      "text/plain": [
       "<Figure size 402.375x360 with 1 Axes>"
      ]
     },
     "metadata": {
      "needs_background": "light"
     },
     "output_type": "display_data"
    }
   ],
   "source": [
    "# Plot the target depending on the Age\n",
    "sns.catplot(kind = 'count', data = df_stroke, x = 'Age', hue = 'Target', order = df_stroke['Age'].sort_values().unique());\n",
    "plt.title('Stroke distribution per Age');\n",
    "\n",
    "#The older, the higher the number of strokes."
   ]
  },
  {
   "cell_type": "code",
   "execution_count": 14,
   "metadata": {},
   "outputs": [],
   "source": [
    "df_stroke.to_csv('stroke_data_for_modeling.csv', sep=';')"
   ]
  }
 ],
 "metadata": {
  "kernelspec": {
   "display_name": "Python 3",
   "language": "python",
   "name": "python3"
  },
  "language_info": {
   "codemirror_mode": {
    "name": "ipython",
    "version": 3
   },
   "file_extension": ".py",
   "mimetype": "text/x-python",
   "name": "python",
   "nbconvert_exporter": "python",
   "pygments_lexer": "ipython3",
   "version": "3.7.4"
  }
 },
 "nbformat": 4,
 "nbformat_minor": 2
}
